{
 "cells": [
  {
   "cell_type": "markdown",
   "metadata": {},
   "source": [
    "# Network of Cross-overs between Fandoms"
   ]
  },
  {
   "cell_type": "code",
   "execution_count": 1,
   "metadata": {},
   "outputs": [],
   "source": [
    "import numpy as np\n",
    "import pandas as pd\n",
    "import networkx as nx\n",
    "import seaborn as sns\n",
    "import matplotlib.pyplot as plt\n",
    "from itertools import combinations\n",
    "import scipy\n",
    "from bokeh.io import show, output_notebook\n",
    "from bokeh.plotting import figure, from_networkx, output_file, save\n",
    "from bokeh.models import HoverTool, ColorBar, LinearColorMapper\n",
    "from bokeh.transform import linear_cmap\n",
    "from bokeh.layouts import column\n",
    "import matplotlib.colors as mcolors\n",
    "from bokeh.embed import file_html\n",
    "from bokeh.resources import CDN"
   ]
  },
  {
   "cell_type": "markdown",
   "metadata": {},
   "source": [
    "## Setting up"
   ]
  },
  {
   "cell_type": "code",
   "execution_count": 2,
   "metadata": {},
   "outputs": [],
   "source": [
    "tags = pd.read_csv(\"tags-20210226.csv\")\n",
    "works = pd.read_csv(\"works-20210226.csv\")"
   ]
  },
  {
   "cell_type": "code",
   "execution_count": 3,
   "metadata": {},
   "outputs": [],
   "source": [
    "# process tags\n",
    "works['tags'] = works['tags'].astype(str).apply(lambda tags: tags.split('+'))\n",
    "\n",
    "fandoms = tags[tags['type'] == \"Fandom\"]"
   ]
  },
  {
   "cell_type": "code",
   "execution_count": 4,
   "metadata": {},
   "outputs": [
    {
     "data": {
      "text/html": [
       "<div>\n",
       "<style scoped>\n",
       "    .dataframe tbody tr th:only-of-type {\n",
       "        vertical-align: middle;\n",
       "    }\n",
       "\n",
       "    .dataframe tbody tr th {\n",
       "        vertical-align: top;\n",
       "    }\n",
       "\n",
       "    .dataframe thead th {\n",
       "        text-align: right;\n",
       "    }\n",
       "</style>\n",
       "<table border=\"1\" class=\"dataframe\">\n",
       "  <thead>\n",
       "    <tr style=\"text-align: right;\">\n",
       "      <th></th>\n",
       "      <th>tags</th>\n",
       "      <th>word_count</th>\n",
       "    </tr>\n",
       "  </thead>\n",
       "  <tbody>\n",
       "    <tr>\n",
       "      <th>0</th>\n",
       "      <td>[10, 414093, 1001939, 4577144, 1499536, 110, 4...</td>\n",
       "      <td>388.0</td>\n",
       "    </tr>\n",
       "    <tr>\n",
       "      <th>1</th>\n",
       "      <td>[10, 20350917, 34816907, 23666027, 23269305, 2...</td>\n",
       "      <td>1638.0</td>\n",
       "    </tr>\n",
       "    <tr>\n",
       "      <th>2</th>\n",
       "      <td>[10, 10613413, 9780526, 3763877, 3741104, 7657...</td>\n",
       "      <td>1502.0</td>\n",
       "    </tr>\n",
       "    <tr>\n",
       "      <th>3</th>\n",
       "      <td>[10, 15322, 54862755, 20595867, 32994286, 663,...</td>\n",
       "      <td>100.0</td>\n",
       "    </tr>\n",
       "    <tr>\n",
       "      <th>4</th>\n",
       "      <td>[11, 721553, 54604, 1439500, 3938423, 53483274...</td>\n",
       "      <td>994.0</td>\n",
       "    </tr>\n",
       "    <tr>\n",
       "      <th>...</th>\n",
       "      <td>...</td>\n",
       "      <td>...</td>\n",
       "    </tr>\n",
       "    <tr>\n",
       "      <th>7269688</th>\n",
       "      <td>[78, 77, 84, 101, 104, 105, 106, 23, 13, 16, 7...</td>\n",
       "      <td>705.0</td>\n",
       "    </tr>\n",
       "    <tr>\n",
       "      <th>7269689</th>\n",
       "      <td>[78, 77, 84, 107, 23, 10, 16, 70, 933, 616]</td>\n",
       "      <td>1392.0</td>\n",
       "    </tr>\n",
       "    <tr>\n",
       "      <th>7269690</th>\n",
       "      <td>[77, 78, 69, 108, 109, 62, 110, 23, 9, 111, 16...</td>\n",
       "      <td>1755.0</td>\n",
       "    </tr>\n",
       "    <tr>\n",
       "      <th>7269691</th>\n",
       "      <td>[112, 113, 13, 114, 16, 115, 101, 117, 118, 11...</td>\n",
       "      <td>1338.0</td>\n",
       "    </tr>\n",
       "    <tr>\n",
       "      <th>7269692</th>\n",
       "      <td>[123, 124, 125, 127, 128, 13, 129, 14, 130, 13...</td>\n",
       "      <td>1836.0</td>\n",
       "    </tr>\n",
       "  </tbody>\n",
       "</table>\n",
       "<p>7269693 rows × 2 columns</p>\n",
       "</div>"
      ],
      "text/plain": [
       "                                                      tags  word_count\n",
       "0        [10, 414093, 1001939, 4577144, 1499536, 110, 4...       388.0\n",
       "1        [10, 20350917, 34816907, 23666027, 23269305, 2...      1638.0\n",
       "2        [10, 10613413, 9780526, 3763877, 3741104, 7657...      1502.0\n",
       "3        [10, 15322, 54862755, 20595867, 32994286, 663,...       100.0\n",
       "4        [11, 721553, 54604, 1439500, 3938423, 53483274...       994.0\n",
       "...                                                    ...         ...\n",
       "7269688  [78, 77, 84, 101, 104, 105, 106, 23, 13, 16, 7...       705.0\n",
       "7269689        [78, 77, 84, 107, 23, 10, 16, 70, 933, 616]      1392.0\n",
       "7269690  [77, 78, 69, 108, 109, 62, 110, 23, 9, 111, 16...      1755.0\n",
       "7269691  [112, 113, 13, 114, 16, 115, 101, 117, 118, 11...      1338.0\n",
       "7269692  [123, 124, 125, 127, 128, 13, 129, 14, 130, 13...      1836.0\n",
       "\n",
       "[7269693 rows x 2 columns]"
      ]
     },
     "execution_count": 4,
     "metadata": {},
     "output_type": "execute_result"
    }
   ],
   "source": [
    "# Filter to only columns that are needed - merge will need a lot of compute\n",
    "works_small = works[[\"tags\", \"word_count\"]]\n",
    "fandoms_small = fandoms[['id', 'name', 'cached_count']]\n",
    "works_small"
   ]
  },
  {
   "cell_type": "code",
   "execution_count": 5,
   "metadata": {},
   "outputs": [
    {
     "data": {
      "text/plain": [
       "['10', '414093', '1001939', '4577144', '1499536', '110', '4682892', '21', '16']"
      ]
     },
     "execution_count": 5,
     "metadata": {},
     "output_type": "execute_result"
    }
   ],
   "source": [
    "works_small['tags'][0]"
   ]
  },
  {
   "cell_type": "markdown",
   "metadata": {},
   "source": [
    "## Cleaning & reorg"
   ]
  },
  {
   "cell_type": "markdown",
   "metadata": {},
   "source": [
    "### 1. check if the numbers in each list of each row are in the \"id\" column of another df \"fandoms_small\""
   ]
  },
  {
   "cell_type": "code",
   "execution_count": 6,
   "metadata": {},
   "outputs": [
    {
     "name": "stderr",
     "output_type": "stream",
     "text": [
      "/var/folders/lk/jwtj64_565zdwjrcvb73p4dc0000gn/T/ipykernel_97242/239333842.py:2: SettingWithCopyWarning: \n",
      "A value is trying to be set on a copy of a slice from a DataFrame.\n",
      "Try using .loc[row_indexer,col_indexer] = value instead\n",
      "\n",
      "See the caveats in the documentation: https://pandas.pydata.org/pandas-docs/stable/user_guide/indexing.html#returning-a-view-versus-a-copy\n",
      "  works_small['tags'] = works_small['tags'].apply(\n"
     ]
    },
    {
     "data": {
      "text/plain": [
       "[10, 414093, 1001939, 4577144, 1499536, 110, 4682892, 21, 16]"
      ]
     },
     "execution_count": 6,
     "metadata": {},
     "output_type": "execute_result"
    }
   ],
   "source": [
    "# Convert strings to integers in the \"tags\" column, handling NaN values\n",
    "works_small['tags'] = works_small['tags'].apply(\n",
    "    lambda x: [int(tag) for tag in x if tag != 'nan']\n",
    ")\n",
    "\n",
    "works_small['tags'][0]"
   ]
  },
  {
   "cell_type": "code",
   "execution_count": 7,
   "metadata": {},
   "outputs": [],
   "source": [
    "# works_small.to_csv('works_small.csv', index=False)"
   ]
  },
  {
   "cell_type": "code",
   "execution_count": 8,
   "metadata": {},
   "outputs": [
    {
     "name": "stderr",
     "output_type": "stream",
     "text": [
      "/var/folders/lk/jwtj64_565zdwjrcvb73p4dc0000gn/T/ipykernel_97242/1935684754.py:5: SettingWithCopyWarning: \n",
      "A value is trying to be set on a copy of a slice from a DataFrame.\n",
      "Try using .loc[row_indexer,col_indexer] = value instead\n",
      "\n",
      "See the caveats in the documentation: https://pandas.pydata.org/pandas-docs/stable/user_guide/indexing.html#returning-a-view-versus-a-copy\n",
      "  works_small['filtered_tags'] = works_small['tags'].apply(lambda tags: [tag for tag in tags if tag in fandom_ids])\n"
     ]
    }
   ],
   "source": [
    "# Convert the \"id\" column in fandoms_small to a set for faster lookup\n",
    "fandom_ids = set(fandoms_small['id'].astype(int))\n",
    "\n",
    "# Filter tags in works_small to only include those present in fandoms_small\n",
    "works_small['filtered_tags'] = works_small['tags'].apply(lambda tags: [tag for tag in tags if tag in fandom_ids])\n"
   ]
  },
  {
   "cell_type": "markdown",
   "metadata": {},
   "source": [
    "### make edgelist\n",
    "2. of the numbers in that column, count how many times a pair of them appear, and return a new df with integer 1, integer 2, and the count of each pair's appearance"
   ]
  },
  {
   "cell_type": "code",
   "execution_count": 9,
   "metadata": {},
   "outputs": [],
   "source": [
    "from itertools import combinations\n",
    "from collections import Counter\n",
    "\n",
    "# Generate all possible unique pairs from each list in the filtered_tags column\n",
    "pairs = []\n",
    "\n",
    "for tags in works_small['filtered_tags']:\n",
    "    # Generate combinations (unique pairs) for each list\n",
    "    if len(tags) > 1:\n",
    "        pairs.extend(combinations(sorted(tags), 2))\n",
    "\n",
    "# Count the occurrences of each pair\n",
    "pair_counts = Counter(pairs)\n"
   ]
  },
  {
   "cell_type": "code",
   "execution_count": 10,
   "metadata": {},
   "outputs": [
    {
     "data": {
      "text/html": [
       "<div>\n",
       "<style scoped>\n",
       "    .dataframe tbody tr th:only-of-type {\n",
       "        vertical-align: middle;\n",
       "    }\n",
       "\n",
       "    .dataframe tbody tr th {\n",
       "        vertical-align: top;\n",
       "    }\n",
       "\n",
       "    .dataframe thead th {\n",
       "        text-align: right;\n",
       "    }\n",
       "</style>\n",
       "<table border=\"1\" class=\"dataframe\">\n",
       "  <thead>\n",
       "    <tr style=\"text-align: right;\">\n",
       "      <th></th>\n",
       "      <th>count</th>\n",
       "      <th>integer_1</th>\n",
       "      <th>integer_2</th>\n",
       "    </tr>\n",
       "  </thead>\n",
       "  <tbody>\n",
       "    <tr>\n",
       "      <th>0</th>\n",
       "      <td>83981</td>\n",
       "      <td>414093</td>\n",
       "      <td>1001939</td>\n",
       "    </tr>\n",
       "    <tr>\n",
       "      <th>1</th>\n",
       "      <td>128</td>\n",
       "      <td>3741104</td>\n",
       "      <td>3763877</td>\n",
       "    </tr>\n",
       "    <tr>\n",
       "      <th>2</th>\n",
       "      <td>249</td>\n",
       "      <td>3741104</td>\n",
       "      <td>9780526</td>\n",
       "    </tr>\n",
       "    <tr>\n",
       "      <th>3</th>\n",
       "      <td>109</td>\n",
       "      <td>3741104</td>\n",
       "      <td>10613413</td>\n",
       "    </tr>\n",
       "    <tr>\n",
       "      <th>4</th>\n",
       "      <td>177</td>\n",
       "      <td>3763877</td>\n",
       "      <td>9780526</td>\n",
       "    </tr>\n",
       "  </tbody>\n",
       "</table>\n",
       "</div>"
      ],
      "text/plain": [
       "   count  integer_1  integer_2\n",
       "0  83981     414093    1001939\n",
       "1    128    3741104    3763877\n",
       "2    249    3741104    9780526\n",
       "3    109    3741104   10613413\n",
       "4    177    3763877    9780526"
      ]
     },
     "execution_count": 10,
     "metadata": {},
     "output_type": "execute_result"
    }
   ],
   "source": [
    "# Convert the pair counts to a DataFrame\n",
    "pair_counts_df = pd.DataFrame(\n",
    "    pair_counts.items(), columns=['ids', 'count']\n",
    ")\n",
    "\n",
    "pair_counts_df[['integer_1', 'integer_2']] = pd.DataFrame(pair_counts_df['ids'].tolist(), index=pair_counts_df.index) \n",
    "pair_counts_df = pair_counts_df.drop(columns='ids')\n",
    "\n",
    "pair_counts_df.head()"
   ]
  },
  {
   "cell_type": "markdown",
   "metadata": {},
   "source": [
    "### Get edgelist with fandom names"
   ]
  },
  {
   "cell_type": "code",
   "execution_count": 11,
   "metadata": {},
   "outputs": [
    {
     "data": {
      "text/html": [
       "<div>\n",
       "<style scoped>\n",
       "    .dataframe tbody tr th:only-of-type {\n",
       "        vertical-align: middle;\n",
       "    }\n",
       "\n",
       "    .dataframe tbody tr th {\n",
       "        vertical-align: top;\n",
       "    }\n",
       "\n",
       "    .dataframe thead th {\n",
       "        text-align: right;\n",
       "    }\n",
       "</style>\n",
       "<table border=\"1\" class=\"dataframe\">\n",
       "  <thead>\n",
       "    <tr style=\"text-align: right;\">\n",
       "      <th></th>\n",
       "      <th>count</th>\n",
       "      <th>integer_1</th>\n",
       "      <th>integer_2</th>\n",
       "      <th>name_1</th>\n",
       "    </tr>\n",
       "  </thead>\n",
       "  <tbody>\n",
       "    <tr>\n",
       "      <th>0</th>\n",
       "      <td>83981</td>\n",
       "      <td>414093</td>\n",
       "      <td>1001939</td>\n",
       "      <td>Marvel Cinematic Universe</td>\n",
       "    </tr>\n",
       "    <tr>\n",
       "      <th>1</th>\n",
       "      <td>128</td>\n",
       "      <td>3741104</td>\n",
       "      <td>3763877</td>\n",
       "      <td>Boku no Hero Academia</td>\n",
       "    </tr>\n",
       "    <tr>\n",
       "      <th>2</th>\n",
       "      <td>249</td>\n",
       "      <td>3741104</td>\n",
       "      <td>9780526</td>\n",
       "      <td>Boku no Hero Academia</td>\n",
       "    </tr>\n",
       "    <tr>\n",
       "      <th>3</th>\n",
       "      <td>109</td>\n",
       "      <td>3741104</td>\n",
       "      <td>10613413</td>\n",
       "      <td>Boku no Hero Academia</td>\n",
       "    </tr>\n",
       "    <tr>\n",
       "      <th>4</th>\n",
       "      <td>177</td>\n",
       "      <td>3763877</td>\n",
       "      <td>9780526</td>\n",
       "      <td>BnHA</td>\n",
       "    </tr>\n",
       "  </tbody>\n",
       "</table>\n",
       "</div>"
      ],
      "text/plain": [
       "   count  integer_1  integer_2                     name_1\n",
       "0  83981     414093    1001939  Marvel Cinematic Universe\n",
       "1    128    3741104    3763877      Boku no Hero Academia\n",
       "2    249    3741104    9780526      Boku no Hero Academia\n",
       "3    109    3741104   10613413      Boku no Hero Academia\n",
       "4    177    3763877    9780526                       BnHA"
      ]
     },
     "execution_count": 11,
     "metadata": {},
     "output_type": "execute_result"
    }
   ],
   "source": [
    "# Merge to get the first name\n",
    "merged_df_1 = pair_counts_df.merge(fandoms_small[['id', 'name']], how='left', left_on='integer_1', right_on='id')\n",
    "\n",
    "# Rename the columns for clarity\n",
    "merged_df_1 = merged_df_1.rename(columns={'name': 'name_1'})\n",
    "merged_df_1 = merged_df_1.drop(columns=['id'])\n",
    "\n",
    "merged_df_1.head()\n"
   ]
  },
  {
   "cell_type": "code",
   "execution_count": 12,
   "metadata": {},
   "outputs": [
    {
     "data": {
      "text/html": [
       "<div>\n",
       "<style scoped>\n",
       "    .dataframe tbody tr th:only-of-type {\n",
       "        vertical-align: middle;\n",
       "    }\n",
       "\n",
       "    .dataframe tbody tr th {\n",
       "        vertical-align: top;\n",
       "    }\n",
       "\n",
       "    .dataframe thead th {\n",
       "        text-align: right;\n",
       "    }\n",
       "</style>\n",
       "<table border=\"1\" class=\"dataframe\">\n",
       "  <thead>\n",
       "    <tr style=\"text-align: right;\">\n",
       "      <th></th>\n",
       "      <th>count</th>\n",
       "      <th>integer_1</th>\n",
       "      <th>integer_2</th>\n",
       "      <th>name_1</th>\n",
       "      <th>name_2</th>\n",
       "    </tr>\n",
       "  </thead>\n",
       "  <tbody>\n",
       "    <tr>\n",
       "      <th>0</th>\n",
       "      <td>83981</td>\n",
       "      <td>414093</td>\n",
       "      <td>1001939</td>\n",
       "      <td>Marvel Cinematic Universe</td>\n",
       "      <td>The Avengers (Marvel Movies)</td>\n",
       "    </tr>\n",
       "    <tr>\n",
       "      <th>1</th>\n",
       "      <td>128</td>\n",
       "      <td>3741104</td>\n",
       "      <td>3763877</td>\n",
       "      <td>Boku no Hero Academia</td>\n",
       "      <td>BnHA</td>\n",
       "    </tr>\n",
       "    <tr>\n",
       "      <th>2</th>\n",
       "      <td>249</td>\n",
       "      <td>3741104</td>\n",
       "      <td>9780526</td>\n",
       "      <td>Boku no Hero Academia</td>\n",
       "      <td>My Hero Academia</td>\n",
       "    </tr>\n",
       "    <tr>\n",
       "      <th>3</th>\n",
       "      <td>109</td>\n",
       "      <td>3741104</td>\n",
       "      <td>10613413</td>\n",
       "      <td>Boku no Hero Academia</td>\n",
       "      <td>mha</td>\n",
       "    </tr>\n",
       "    <tr>\n",
       "      <th>4</th>\n",
       "      <td>177</td>\n",
       "      <td>3763877</td>\n",
       "      <td>9780526</td>\n",
       "      <td>BnHA</td>\n",
       "      <td>My Hero Academia</td>\n",
       "    </tr>\n",
       "  </tbody>\n",
       "</table>\n",
       "</div>"
      ],
      "text/plain": [
       "   count  integer_1  integer_2                     name_1  \\\n",
       "0  83981     414093    1001939  Marvel Cinematic Universe   \n",
       "1    128    3741104    3763877      Boku no Hero Academia   \n",
       "2    249    3741104    9780526      Boku no Hero Academia   \n",
       "3    109    3741104   10613413      Boku no Hero Academia   \n",
       "4    177    3763877    9780526                       BnHA   \n",
       "\n",
       "                         name_2  \n",
       "0  The Avengers (Marvel Movies)  \n",
       "1                          BnHA  \n",
       "2              My Hero Academia  \n",
       "3                           mha  \n",
       "4              My Hero Academia  "
      ]
     },
     "execution_count": 12,
     "metadata": {},
     "output_type": "execute_result"
    }
   ],
   "source": [
    "# Merge to get the first name\n",
    "merged_df_2 = merged_df_1.merge(fandoms_small[['id', 'name']], how='left', left_on='integer_2', right_on='id')\n",
    "\n",
    "# Rename the columns for clarity\n",
    "merged_df_2 = merged_df_2.rename(columns={'name': 'name_2'})\n",
    "merged_df_2 = merged_df_2.drop(columns=['id'])\n",
    "\n",
    "merged_df_2.head()\n"
   ]
  },
  {
   "cell_type": "code",
   "execution_count": 13,
   "metadata": {},
   "outputs": [],
   "source": [
    "edgelist_df = merged_df_2"
   ]
  },
  {
   "cell_type": "code",
   "execution_count": 14,
   "metadata": {},
   "outputs": [
    {
     "data": {
      "text/html": [
       "<div>\n",
       "<style scoped>\n",
       "    .dataframe tbody tr th:only-of-type {\n",
       "        vertical-align: middle;\n",
       "    }\n",
       "\n",
       "    .dataframe tbody tr th {\n",
       "        vertical-align: top;\n",
       "    }\n",
       "\n",
       "    .dataframe thead th {\n",
       "        text-align: right;\n",
       "    }\n",
       "</style>\n",
       "<table border=\"1\" class=\"dataframe\">\n",
       "  <thead>\n",
       "    <tr style=\"text-align: right;\">\n",
       "      <th></th>\n",
       "      <th>count</th>\n",
       "      <th>integer_1</th>\n",
       "      <th>integer_2</th>\n",
       "      <th>name_1</th>\n",
       "      <th>name_2</th>\n",
       "    </tr>\n",
       "  </thead>\n",
       "  <tbody>\n",
       "    <tr>\n",
       "      <th>0</th>\n",
       "      <td>83981</td>\n",
       "      <td>414093</td>\n",
       "      <td>1001939</td>\n",
       "      <td>Marvel Cinematic Universe</td>\n",
       "      <td>The Avengers (Marvel Movies)</td>\n",
       "    </tr>\n",
       "    <tr>\n",
       "      <th>1</th>\n",
       "      <td>128</td>\n",
       "      <td>3741104</td>\n",
       "      <td>3763877</td>\n",
       "      <td>Boku no Hero Academia</td>\n",
       "      <td>BnHA</td>\n",
       "    </tr>\n",
       "    <tr>\n",
       "      <th>2</th>\n",
       "      <td>249</td>\n",
       "      <td>3741104</td>\n",
       "      <td>9780526</td>\n",
       "      <td>Boku no Hero Academia</td>\n",
       "      <td>My Hero Academia</td>\n",
       "    </tr>\n",
       "    <tr>\n",
       "      <th>3</th>\n",
       "      <td>109</td>\n",
       "      <td>3741104</td>\n",
       "      <td>10613413</td>\n",
       "      <td>Boku no Hero Academia</td>\n",
       "      <td>mha</td>\n",
       "    </tr>\n",
       "    <tr>\n",
       "      <th>4</th>\n",
       "      <td>177</td>\n",
       "      <td>3763877</td>\n",
       "      <td>9780526</td>\n",
       "      <td>BnHA</td>\n",
       "      <td>My Hero Academia</td>\n",
       "    </tr>\n",
       "    <tr>\n",
       "      <th>5</th>\n",
       "      <td>280</td>\n",
       "      <td>3763877</td>\n",
       "      <td>10613413</td>\n",
       "      <td>BnHA</td>\n",
       "      <td>mha</td>\n",
       "    </tr>\n",
       "    <tr>\n",
       "      <th>6</th>\n",
       "      <td>138</td>\n",
       "      <td>9780526</td>\n",
       "      <td>10613413</td>\n",
       "      <td>My Hero Academia</td>\n",
       "      <td>mha</td>\n",
       "    </tr>\n",
       "    <tr>\n",
       "      <th>7</th>\n",
       "      <td>17742</td>\n",
       "      <td>11987966</td>\n",
       "      <td>33035890</td>\n",
       "      <td>魔道祖师 - 墨香铜臭 | Módào Zǔshī - Mòxiāng Tóngxiù</td>\n",
       "      <td>陈情令 | The Untamed (TV)</td>\n",
       "    </tr>\n",
       "    <tr>\n",
       "      <th>8</th>\n",
       "      <td>4</td>\n",
       "      <td>34431205</td>\n",
       "      <td>34782485</td>\n",
       "      <td>Redacted</td>\n",
       "      <td>Sands of Arawiya - Hafsah Faizal</td>\n",
       "    </tr>\n",
       "    <tr>\n",
       "      <th>9</th>\n",
       "      <td>4084</td>\n",
       "      <td>1633246</td>\n",
       "      <td>14988696</td>\n",
       "      <td>Dangan Ronpa - All Media Types</td>\n",
       "      <td>Dangan Ronpa: Trigger Happy Havoc</td>\n",
       "    </tr>\n",
       "    <tr>\n",
       "      <th>10</th>\n",
       "      <td>16448</td>\n",
       "      <td>218280</td>\n",
       "      <td>254648</td>\n",
       "      <td>Video Blogging RPF</td>\n",
       "      <td>Minecraft (Video Game)</td>\n",
       "    </tr>\n",
       "    <tr>\n",
       "      <th>11</th>\n",
       "      <td>140</td>\n",
       "      <td>51823</td>\n",
       "      <td>251062</td>\n",
       "      <td>Forgotten Realms</td>\n",
       "      <td>Dungeons &amp; Dragons (Roleplaying Game)</td>\n",
       "    </tr>\n",
       "    <tr>\n",
       "      <th>12</th>\n",
       "      <td>4437</td>\n",
       "      <td>1464</td>\n",
       "      <td>1801</td>\n",
       "      <td>Star Trek: The Original Series</td>\n",
       "      <td>Star Trek</td>\n",
       "    </tr>\n",
       "    <tr>\n",
       "      <th>13</th>\n",
       "      <td>3071</td>\n",
       "      <td>1464</td>\n",
       "      <td>601802</td>\n",
       "      <td>Star Trek: The Original Series</td>\n",
       "      <td>Star Trek: Alternate Original Series (Movies)</td>\n",
       "    </tr>\n",
       "    <tr>\n",
       "      <th>14</th>\n",
       "      <td>6753</td>\n",
       "      <td>1801</td>\n",
       "      <td>601802</td>\n",
       "      <td>Star Trek</td>\n",
       "      <td>Star Trek: Alternate Original Series (Movies)</td>\n",
       "    </tr>\n",
       "    <tr>\n",
       "      <th>15</th>\n",
       "      <td>242</td>\n",
       "      <td>3658</td>\n",
       "      <td>1281791</td>\n",
       "      <td>Tokyo Babylon</td>\n",
       "      <td>X -エックス- | X/1999</td>\n",
       "    </tr>\n",
       "    <tr>\n",
       "      <th>16</th>\n",
       "      <td>83</td>\n",
       "      <td>34606586</td>\n",
       "      <td>34674836</td>\n",
       "      <td>ケンガンアシュラ | Kengan Ashura (Manga)</td>\n",
       "      <td>ケンガンアシュラ | Kengan Ashura (Anime)</td>\n",
       "    </tr>\n",
       "    <tr>\n",
       "      <th>17</th>\n",
       "      <td>9</td>\n",
       "      <td>12845</td>\n",
       "      <td>250093</td>\n",
       "      <td>Hetalia: Axis Powers</td>\n",
       "      <td>X-Men - All Media Types</td>\n",
       "    </tr>\n",
       "    <tr>\n",
       "      <th>18</th>\n",
       "      <td>1</td>\n",
       "      <td>400843</td>\n",
       "      <td>1058325</td>\n",
       "      <td>anime - Fandom</td>\n",
       "      <td>animation - Fandom</td>\n",
       "    </tr>\n",
       "    <tr>\n",
       "      <th>19</th>\n",
       "      <td>3</td>\n",
       "      <td>400843</td>\n",
       "      <td>3763877</td>\n",
       "      <td>anime - Fandom</td>\n",
       "      <td>BnHA</td>\n",
       "    </tr>\n",
       "  </tbody>\n",
       "</table>\n",
       "</div>"
      ],
      "text/plain": [
       "    count  integer_1  integer_2                                       name_1  \\\n",
       "0   83981     414093    1001939                    Marvel Cinematic Universe   \n",
       "1     128    3741104    3763877                        Boku no Hero Academia   \n",
       "2     249    3741104    9780526                        Boku no Hero Academia   \n",
       "3     109    3741104   10613413                        Boku no Hero Academia   \n",
       "4     177    3763877    9780526                                         BnHA   \n",
       "5     280    3763877   10613413                                         BnHA   \n",
       "6     138    9780526   10613413                             My Hero Academia   \n",
       "7   17742   11987966   33035890  魔道祖师 - 墨香铜臭 | Módào Zǔshī - Mòxiāng Tóngxiù   \n",
       "8       4   34431205   34782485                                     Redacted   \n",
       "9    4084    1633246   14988696               Dangan Ronpa - All Media Types   \n",
       "10  16448     218280     254648                           Video Blogging RPF   \n",
       "11    140      51823     251062                             Forgotten Realms   \n",
       "12   4437       1464       1801               Star Trek: The Original Series   \n",
       "13   3071       1464     601802               Star Trek: The Original Series   \n",
       "14   6753       1801     601802                                    Star Trek   \n",
       "15    242       3658    1281791                                Tokyo Babylon   \n",
       "16     83   34606586   34674836             ケンガンアシュラ | Kengan Ashura (Manga)   \n",
       "17      9      12845     250093                         Hetalia: Axis Powers   \n",
       "18      1     400843    1058325                               anime - Fandom   \n",
       "19      3     400843    3763877                               anime - Fandom   \n",
       "\n",
       "                                           name_2  \n",
       "0                    The Avengers (Marvel Movies)  \n",
       "1                                            BnHA  \n",
       "2                                My Hero Academia  \n",
       "3                                             mha  \n",
       "4                                My Hero Academia  \n",
       "5                                             mha  \n",
       "6                                             mha  \n",
       "7                          陈情令 | The Untamed (TV)  \n",
       "8                Sands of Arawiya - Hafsah Faizal  \n",
       "9               Dangan Ronpa: Trigger Happy Havoc  \n",
       "10                         Minecraft (Video Game)  \n",
       "11          Dungeons & Dragons (Roleplaying Game)  \n",
       "12                                      Star Trek  \n",
       "13  Star Trek: Alternate Original Series (Movies)  \n",
       "14  Star Trek: Alternate Original Series (Movies)  \n",
       "15                              X -エックス- | X/1999  \n",
       "16               ケンガンアシュラ | Kengan Ashura (Anime)  \n",
       "17                        X-Men - All Media Types  \n",
       "18                             animation - Fandom  \n",
       "19                                           BnHA  "
      ]
     },
     "execution_count": 14,
     "metadata": {},
     "output_type": "execute_result"
    }
   ],
   "source": [
    "# Select and order the relevant columns\n",
    "# edgelist_df = merged_df_2[['name_1', 'name_2', 'count']]\n",
    "\n",
    "edgelist_df.head(20)"
   ]
  },
  {
   "cell_type": "markdown",
   "metadata": {},
   "source": [
    "### Clean up edgelist"
   ]
  },
  {
   "cell_type": "code",
   "execution_count": 15,
   "metadata": {},
   "outputs": [
    {
     "data": {
      "text/plain": [
       "1054762"
      ]
     },
     "execution_count": 15,
     "metadata": {},
     "output_type": "execute_result"
    }
   ],
   "source": [
    "len(edgelist_df)"
   ]
  },
  {
   "cell_type": "code",
   "execution_count": 16,
   "metadata": {},
   "outputs": [
    {
     "data": {
      "text/plain": [
       "757734"
      ]
     },
     "execution_count": 16,
     "metadata": {},
     "output_type": "execute_result"
    }
   ],
   "source": [
    "# remove redacted\n",
    "edgelist_df = edgelist_df.drop(edgelist_df[(edgelist_df.name_1 == \"Redacted\") | (edgelist_df.name_2 == \"Redacted\")].index)\n",
    "len(edgelist_df)"
   ]
  },
  {
   "cell_type": "code",
   "execution_count": 17,
   "metadata": {},
   "outputs": [
    {
     "data": {
      "text/plain": [
       "757239"
      ]
     },
     "execution_count": 17,
     "metadata": {},
     "output_type": "execute_result"
    }
   ],
   "source": [
    "# remove edges between fandoms and \"anime - fandom\" and other possibilities\n",
    "edgelist_df = edgelist_df.drop(edgelist_df[(edgelist_df.name_1 == \"anime - Fandom\") | (edgelist_df.name_2 == \"anime - Fandom\")].index)\n",
    "edgelist_df = edgelist_df.drop(edgelist_df[(edgelist_df.name_1 == \"animation - Fandom\") | (edgelist_df.name_2 == \"animation - Fandom\")].index)\n",
    "len(edgelist_df)"
   ]
  },
  {
   "cell_type": "code",
   "execution_count": 18,
   "metadata": {},
   "outputs": [
    {
     "data": {
      "text/plain": [
       "757233"
      ]
     },
     "execution_count": 18,
     "metadata": {},
     "output_type": "execute_result"
    }
   ],
   "source": [
    "# drop all combinations of bnha, boku no hero academia, mha, my hero academia etc\n",
    "edgelist_df = edgelist_df.drop(index=[1, 2, 3, 4, 5, 6])\n",
    "len(edgelist_df)\n",
    "\n",
    "# probably more cases like this - mha, bnha etc, but none with high counts as far as i can tell. also some are valid, like \"Star Wars - All Media Types\" connected to the Clone Wars etc"
   ]
  },
  {
   "cell_type": "code",
   "execution_count": 19,
   "metadata": {},
   "outputs": [
    {
     "data": {
      "text/plain": [
       "741606"
      ]
     },
     "execution_count": 19,
     "metadata": {},
     "output_type": "execute_result"
    }
   ],
   "source": [
    "# drop \"& Related Fandoms\"\n",
    "# Create a boolean mask to identify rows that contain \"& Related Fandoms\" in either 'name_1' or 'name_2'\n",
    "mask_related_fandoms = edgelist_df['name_1'].str.contains(\"& Related Fandoms\") | edgelist_df['name_2'].str.contains(\"& Related Fandoms\")\n",
    "\n",
    "# Use the mask to filter out the rows\n",
    "edgelist_df = edgelist_df[~mask_related_fandoms]\n",
    "\n",
    "len(edgelist_df)"
   ]
  },
  {
   "cell_type": "code",
   "execution_count": 20,
   "metadata": {},
   "outputs": [
    {
     "data": {
      "text/html": [
       "<div>\n",
       "<style scoped>\n",
       "    .dataframe tbody tr th:only-of-type {\n",
       "        vertical-align: middle;\n",
       "    }\n",
       "\n",
       "    .dataframe tbody tr th {\n",
       "        vertical-align: top;\n",
       "    }\n",
       "\n",
       "    .dataframe thead th {\n",
       "        text-align: right;\n",
       "    }\n",
       "</style>\n",
       "<table border=\"1\" class=\"dataframe\">\n",
       "  <thead>\n",
       "    <tr style=\"text-align: right;\">\n",
       "      <th></th>\n",
       "      <th>count</th>\n",
       "      <th>integer_1</th>\n",
       "      <th>integer_2</th>\n",
       "      <th>name_1</th>\n",
       "      <th>name_2</th>\n",
       "    </tr>\n",
       "  </thead>\n",
       "  <tbody>\n",
       "    <tr>\n",
       "      <th>0</th>\n",
       "      <td>83981</td>\n",
       "      <td>414093</td>\n",
       "      <td>1001939</td>\n",
       "      <td>Marvel Cinematic Universe</td>\n",
       "      <td>The Avengers (Marvel Movies)</td>\n",
       "    </tr>\n",
       "    <tr>\n",
       "      <th>7</th>\n",
       "      <td>17742</td>\n",
       "      <td>11987966</td>\n",
       "      <td>33035890</td>\n",
       "      <td>魔道祖师 - 墨香铜臭 | Módào Zǔshī - Mòxiāng Tóngxiù</td>\n",
       "      <td>陈情令 | The Untamed (TV)</td>\n",
       "    </tr>\n",
       "    <tr>\n",
       "      <th>9</th>\n",
       "      <td>4084</td>\n",
       "      <td>1633246</td>\n",
       "      <td>14988696</td>\n",
       "      <td>Dangan Ronpa - All Media Types</td>\n",
       "      <td>Dangan Ronpa: Trigger Happy Havoc</td>\n",
       "    </tr>\n",
       "    <tr>\n",
       "      <th>10</th>\n",
       "      <td>16448</td>\n",
       "      <td>218280</td>\n",
       "      <td>254648</td>\n",
       "      <td>Video Blogging RPF</td>\n",
       "      <td>Minecraft (Video Game)</td>\n",
       "    </tr>\n",
       "    <tr>\n",
       "      <th>11</th>\n",
       "      <td>140</td>\n",
       "      <td>51823</td>\n",
       "      <td>251062</td>\n",
       "      <td>Forgotten Realms</td>\n",
       "      <td>Dungeons &amp; Dragons (Roleplaying Game)</td>\n",
       "    </tr>\n",
       "    <tr>\n",
       "      <th>12</th>\n",
       "      <td>4437</td>\n",
       "      <td>1464</td>\n",
       "      <td>1801</td>\n",
       "      <td>Star Trek: The Original Series</td>\n",
       "      <td>Star Trek</td>\n",
       "    </tr>\n",
       "    <tr>\n",
       "      <th>13</th>\n",
       "      <td>3071</td>\n",
       "      <td>1464</td>\n",
       "      <td>601802</td>\n",
       "      <td>Star Trek: The Original Series</td>\n",
       "      <td>Star Trek: Alternate Original Series (Movies)</td>\n",
       "    </tr>\n",
       "    <tr>\n",
       "      <th>14</th>\n",
       "      <td>6753</td>\n",
       "      <td>1801</td>\n",
       "      <td>601802</td>\n",
       "      <td>Star Trek</td>\n",
       "      <td>Star Trek: Alternate Original Series (Movies)</td>\n",
       "    </tr>\n",
       "    <tr>\n",
       "      <th>15</th>\n",
       "      <td>242</td>\n",
       "      <td>3658</td>\n",
       "      <td>1281791</td>\n",
       "      <td>Tokyo Babylon</td>\n",
       "      <td>X -エックス- | X/1999</td>\n",
       "    </tr>\n",
       "    <tr>\n",
       "      <th>16</th>\n",
       "      <td>83</td>\n",
       "      <td>34606586</td>\n",
       "      <td>34674836</td>\n",
       "      <td>ケンガンアシュラ | Kengan Ashura (Manga)</td>\n",
       "      <td>ケンガンアシュラ | Kengan Ashura (Anime)</td>\n",
       "    </tr>\n",
       "    <tr>\n",
       "      <th>17</th>\n",
       "      <td>9</td>\n",
       "      <td>12845</td>\n",
       "      <td>250093</td>\n",
       "      <td>Hetalia: Axis Powers</td>\n",
       "      <td>X-Men - All Media Types</td>\n",
       "    </tr>\n",
       "    <tr>\n",
       "      <th>43</th>\n",
       "      <td>25135</td>\n",
       "      <td>7266</td>\n",
       "      <td>414093</td>\n",
       "      <td>Marvel</td>\n",
       "      <td>Marvel Cinematic Universe</td>\n",
       "    </tr>\n",
       "    <tr>\n",
       "      <th>44</th>\n",
       "      <td>5569</td>\n",
       "      <td>21872622</td>\n",
       "      <td>34135873</td>\n",
       "      <td>鬼滅の刃 | Kimetsu no Yaiba (Manga)</td>\n",
       "      <td>鬼滅の刃 | Demon Slayer: Kimetsu no Yaiba (Anime)</td>\n",
       "    </tr>\n",
       "    <tr>\n",
       "      <th>45</th>\n",
       "      <td>21</td>\n",
       "      <td>43220</td>\n",
       "      <td>1633246</td>\n",
       "      <td>Vocaloid</td>\n",
       "      <td>Dangan Ronpa - All Media Types</td>\n",
       "    </tr>\n",
       "    <tr>\n",
       "      <th>46</th>\n",
       "      <td>51455</td>\n",
       "      <td>414093</td>\n",
       "      <td>586439</td>\n",
       "      <td>Marvel Cinematic Universe</td>\n",
       "      <td>Captain America (Movies)</td>\n",
       "    </tr>\n",
       "    <tr>\n",
       "      <th>47</th>\n",
       "      <td>35409</td>\n",
       "      <td>586439</td>\n",
       "      <td>1001939</td>\n",
       "      <td>Captain America (Movies)</td>\n",
       "      <td>The Avengers (Marvel Movies)</td>\n",
       "    </tr>\n",
       "    <tr>\n",
       "      <th>48</th>\n",
       "      <td>14</td>\n",
       "      <td>18100257</td>\n",
       "      <td>18197556</td>\n",
       "      <td>イケメン戦国 時をかける恋 | Ikemen Sengoku: Toki o Kakeru ...</td>\n",
       "      <td>天下統一恋の乱 | Sakura Amidst Chaos | Samurai Love B...</td>\n",
       "    </tr>\n",
       "    <tr>\n",
       "      <th>49</th>\n",
       "      <td>401</td>\n",
       "      <td>114548</td>\n",
       "      <td>35398640</td>\n",
       "      <td>His Dark Materials - Philip Pullman</td>\n",
       "      <td>His Dark Materials (TV)</td>\n",
       "    </tr>\n",
       "    <tr>\n",
       "      <th>50</th>\n",
       "      <td>12260</td>\n",
       "      <td>101375</td>\n",
       "      <td>747342</td>\n",
       "      <td>Star Wars - All Media Types</td>\n",
       "      <td>Star Wars: The Clone Wars (2008) - All Media T...</td>\n",
       "    </tr>\n",
       "    <tr>\n",
       "      <th>51</th>\n",
       "      <td>250</td>\n",
       "      <td>244259</td>\n",
       "      <td>3828398</td>\n",
       "      <td>Katekyou Hitman Reborn!</td>\n",
       "      <td>僕のヒーローアカデミア | Boku no Hero Academia | My Hero ...</td>\n",
       "    </tr>\n",
       "  </tbody>\n",
       "</table>\n",
       "</div>"
      ],
      "text/plain": [
       "    count  integer_1  integer_2  \\\n",
       "0   83981     414093    1001939   \n",
       "7   17742   11987966   33035890   \n",
       "9    4084    1633246   14988696   \n",
       "10  16448     218280     254648   \n",
       "11    140      51823     251062   \n",
       "12   4437       1464       1801   \n",
       "13   3071       1464     601802   \n",
       "14   6753       1801     601802   \n",
       "15    242       3658    1281791   \n",
       "16     83   34606586   34674836   \n",
       "17      9      12845     250093   \n",
       "43  25135       7266     414093   \n",
       "44   5569   21872622   34135873   \n",
       "45     21      43220    1633246   \n",
       "46  51455     414093     586439   \n",
       "47  35409     586439    1001939   \n",
       "48     14   18100257   18197556   \n",
       "49    401     114548   35398640   \n",
       "50  12260     101375     747342   \n",
       "51    250     244259    3828398   \n",
       "\n",
       "                                               name_1  \\\n",
       "0                           Marvel Cinematic Universe   \n",
       "7         魔道祖师 - 墨香铜臭 | Módào Zǔshī - Mòxiāng Tóngxiù   \n",
       "9                      Dangan Ronpa - All Media Types   \n",
       "10                                 Video Blogging RPF   \n",
       "11                                   Forgotten Realms   \n",
       "12                     Star Trek: The Original Series   \n",
       "13                     Star Trek: The Original Series   \n",
       "14                                          Star Trek   \n",
       "15                                      Tokyo Babylon   \n",
       "16                   ケンガンアシュラ | Kengan Ashura (Manga)   \n",
       "17                               Hetalia: Axis Powers   \n",
       "43                                             Marvel   \n",
       "44                    鬼滅の刃 | Kimetsu no Yaiba (Manga)   \n",
       "45                                           Vocaloid   \n",
       "46                          Marvel Cinematic Universe   \n",
       "47                           Captain America (Movies)   \n",
       "48  イケメン戦国 時をかける恋 | Ikemen Sengoku: Toki o Kakeru ...   \n",
       "49                His Dark Materials - Philip Pullman   \n",
       "50                        Star Wars - All Media Types   \n",
       "51                            Katekyou Hitman Reborn!   \n",
       "\n",
       "                                               name_2  \n",
       "0                        The Avengers (Marvel Movies)  \n",
       "7                              陈情令 | The Untamed (TV)  \n",
       "9                   Dangan Ronpa: Trigger Happy Havoc  \n",
       "10                             Minecraft (Video Game)  \n",
       "11              Dungeons & Dragons (Roleplaying Game)  \n",
       "12                                          Star Trek  \n",
       "13      Star Trek: Alternate Original Series (Movies)  \n",
       "14      Star Trek: Alternate Original Series (Movies)  \n",
       "15                                  X -エックス- | X/1999  \n",
       "16                   ケンガンアシュラ | Kengan Ashura (Anime)  \n",
       "17                            X-Men - All Media Types  \n",
       "43                          Marvel Cinematic Universe  \n",
       "44      鬼滅の刃 | Demon Slayer: Kimetsu no Yaiba (Anime)  \n",
       "45                     Dangan Ronpa - All Media Types  \n",
       "46                           Captain America (Movies)  \n",
       "47                       The Avengers (Marvel Movies)  \n",
       "48  天下統一恋の乱 | Sakura Amidst Chaos | Samurai Love B...  \n",
       "49                            His Dark Materials (TV)  \n",
       "50  Star Wars: The Clone Wars (2008) - All Media T...  \n",
       "51  僕のヒーローアカデミア | Boku no Hero Academia | My Hero ...  "
      ]
     },
     "execution_count": 20,
     "metadata": {},
     "output_type": "execute_result"
    }
   ],
   "source": [
    "# check\n",
    "edgelist_df.head(20)"
   ]
  },
  {
   "cell_type": "markdown",
   "metadata": {},
   "source": [
    "## NetworkX"
   ]
  },
  {
   "cell_type": "code",
   "execution_count": 21,
   "metadata": {},
   "outputs": [
    {
     "data": {
      "text/html": [
       "    <style>\n",
       "        .bk-notebook-logo {\n",
       "            display: block;\n",
       "            width: 20px;\n",
       "            height: 20px;\n",
       "            background-image: url(data:image/png;base64,iVBORw0KGgoAAAANSUhEUgAAABQAAAAUCAYAAACNiR0NAAAABHNCSVQICAgIfAhkiAAAAAlwSFlzAAALEgAACxIB0t1+/AAAABx0RVh0U29mdHdhcmUAQWRvYmUgRmlyZXdvcmtzIENTNui8sowAAAOkSURBVDiNjZRtaJVlGMd/1/08zzln5zjP1LWcU9N0NkN8m2CYjpgQYQXqSs0I84OLIC0hkEKoPtiH3gmKoiJDU7QpLgoLjLIQCpEsNJ1vqUOdO7ppbuec5+V+rj4ctwzd8IIbbi6u+8f1539dt3A78eXC7QizUF7gyV1fD1Yqg4JWz84yffhm0qkFqBogB9rM8tZdtwVsPUhWhGcFJngGeWrPzHm5oaMmkfEg1usvLFyc8jLRqDOMru7AyC8saQr7GG7f5fvDeH7Ej8CM66nIF+8yngt6HWaKh7k49Soy9nXurCi1o3qUbS3zWfrYeQDTB/Qj6kX6Ybhw4B+bOYoLKCC9H3Nu/leUTZ1JdRWkkn2ldcCamzrcf47KKXdAJllSlxAOkRgyHsGC/zRday5Qld9DyoM4/q/rUoy/CXh3jzOu3bHUVZeU+DEn8FInkPBFlu3+nW3Nw0mk6vCDiWg8CeJaxEwuHS3+z5RgY+YBR6V1Z1nxSOfoaPa4LASWxxdNp+VWTk7+4vzaou8v8PN+xo+KY2xsw6une2frhw05CTYOmQvsEhjhWjn0bmXPjpE1+kplmmkP3suftwTubK9Vq22qKmrBhpY4jvd5afdRA3wGjFAgcnTK2s4hY0/GPNIb0nErGMCRxWOOX64Z8RAC4oCXdklmEvcL8o0BfkNK4lUg9HTl+oPlQxdNo3Mg4Nv175e/1LDGzZen30MEjRUtmXSfiTVu1kK8W4txyV6BMKlbgk3lMwYCiusNy9fVfvvwMxv8Ynl6vxoByANLTWplvuj/nF9m2+PDtt1eiHPBr1oIfhCChQMBw6Aw0UulqTKZdfVvfG7VcfIqLG9bcldL/+pdWTLxLUy8Qq38heUIjh4XlzZxzQm19lLFlr8vdQ97rjZVOLf8nclzckbcD4wxXMidpX30sFd37Fv/GtwwhzhxGVAprjbg0gCAEeIgwCZyTV2Z1REEW8O4py0wsjeloKoMr6iCY6dP92H6Vw/oTyICIthibxjm/DfN9lVz8IqtqKYLUXfoKVMVQVVJOElGjrnnUt9T9wbgp8AyYKaGlqingHZU/uG2NTZSVqwHQTWkx9hxjkpWDaCg6Ckj5qebgBVbT3V3NNXMSiWSDdGV3hrtzla7J+duwPOToIg42ChPQOQjspnSlp1V+Gjdged7+8UN5CRAV7a5EdFNwCjEaBR27b3W890TE7g24NAP/mMDXRWrGoFPQI9ls/MWO2dWFAar/xcOIImbbpA3zgAAAABJRU5ErkJggg==);\n",
       "        }\n",
       "    </style>\n",
       "    <div>\n",
       "        <a href=\"https://bokeh.org\" target=\"_blank\" class=\"bk-notebook-logo\"></a>\n",
       "        <span id=\"b8e0bd0f-d802-471d-a86b-bf3f356b5865\">Loading BokehJS ...</span>\n",
       "    </div>\n"
      ]
     },
     "metadata": {},
     "output_type": "display_data"
    },
    {
     "data": {
      "application/javascript": "'use strict';\n(function(root) {\n  function now() {\n    return new Date();\n  }\n\n  const force = true;\n\n  if (typeof root._bokeh_onload_callbacks === \"undefined\" || force === true) {\n    root._bokeh_onload_callbacks = [];\n    root._bokeh_is_loading = undefined;\n  }\n\nconst JS_MIME_TYPE = 'application/javascript';\n  const HTML_MIME_TYPE = 'text/html';\n  const EXEC_MIME_TYPE = 'application/vnd.bokehjs_exec.v0+json';\n  const CLASS_NAME = 'output_bokeh rendered_html';\n\n  /**\n   * Render data to the DOM node\n   */\n  function render(props, node) {\n    const script = document.createElement(\"script\");\n    node.appendChild(script);\n  }\n\n  /**\n   * Handle when an output is cleared or removed\n   */\n  function handleClearOutput(event, handle) {\n    function drop(id) {\n      const view = Bokeh.index.get_by_id(id)\n      if (view != null) {\n        view.model.document.clear()\n        Bokeh.index.delete(view)\n      }\n    }\n\n    const cell = handle.cell;\n\n    const id = cell.output_area._bokeh_element_id;\n    const server_id = cell.output_area._bokeh_server_id;\n\n    // Clean up Bokeh references\n    if (id != null) {\n      drop(id)\n    }\n\n    if (server_id !== undefined) {\n      // Clean up Bokeh references\n      const cmd_clean = \"from bokeh.io.state import curstate; print(curstate().uuid_to_server['\" + server_id + \"'].get_sessions()[0].document.roots[0]._id)\";\n      cell.notebook.kernel.execute(cmd_clean, {\n        iopub: {\n          output: function(msg) {\n            const id = msg.content.text.trim()\n            drop(id)\n          }\n        }\n      });\n      // Destroy server and session\n      const cmd_destroy = \"import bokeh.io.notebook as ion; ion.destroy_server('\" + server_id + \"')\";\n      cell.notebook.kernel.execute(cmd_destroy);\n    }\n  }\n\n  /**\n   * Handle when a new output is added\n   */\n  function handleAddOutput(event, handle) {\n    const output_area = handle.output_area;\n    const output = handle.output;\n\n    // limit handleAddOutput to display_data with EXEC_MIME_TYPE content only\n    if ((output.output_type != \"display_data\") || (!Object.prototype.hasOwnProperty.call(output.data, EXEC_MIME_TYPE))) {\n      return\n    }\n\n    const toinsert = output_area.element.find(\".\" + CLASS_NAME.split(' ')[0]);\n\n    if (output.metadata[EXEC_MIME_TYPE][\"id\"] !== undefined) {\n      toinsert[toinsert.length - 1].firstChild.textContent = output.data[JS_MIME_TYPE];\n      // store reference to embed id on output_area\n      output_area._bokeh_element_id = output.metadata[EXEC_MIME_TYPE][\"id\"];\n    }\n    if (output.metadata[EXEC_MIME_TYPE][\"server_id\"] !== undefined) {\n      const bk_div = document.createElement(\"div\");\n      bk_div.innerHTML = output.data[HTML_MIME_TYPE];\n      const script_attrs = bk_div.children[0].attributes;\n      for (let i = 0; i < script_attrs.length; i++) {\n        toinsert[toinsert.length - 1].firstChild.setAttribute(script_attrs[i].name, script_attrs[i].value);\n        toinsert[toinsert.length - 1].firstChild.textContent = bk_div.children[0].textContent\n      }\n      // store reference to server id on output_area\n      output_area._bokeh_server_id = output.metadata[EXEC_MIME_TYPE][\"server_id\"];\n    }\n  }\n\n  function register_renderer(events, OutputArea) {\n\n    function append_mime(data, metadata, element) {\n      // create a DOM node to render to\n      const toinsert = this.create_output_subarea(\n        metadata,\n        CLASS_NAME,\n        EXEC_MIME_TYPE\n      );\n      this.keyboard_manager.register_events(toinsert);\n      // Render to node\n      const props = {data: data, metadata: metadata[EXEC_MIME_TYPE]};\n      render(props, toinsert[toinsert.length - 1]);\n      element.append(toinsert);\n      return toinsert\n    }\n\n    /* Handle when an output is cleared or removed */\n    events.on('clear_output.CodeCell', handleClearOutput);\n    events.on('delete.Cell', handleClearOutput);\n\n    /* Handle when a new output is added */\n    events.on('output_added.OutputArea', handleAddOutput);\n\n    /**\n     * Register the mime type and append_mime function with output_area\n     */\n    OutputArea.prototype.register_mime_type(EXEC_MIME_TYPE, append_mime, {\n      /* Is output safe? */\n      safe: true,\n      /* Index of renderer in `output_area.display_order` */\n      index: 0\n    });\n  }\n\n  // register the mime type if in Jupyter Notebook environment and previously unregistered\n  if (root.Jupyter !== undefined) {\n    const events = require('base/js/events');\n    const OutputArea = require('notebook/js/outputarea').OutputArea;\n\n    if (OutputArea.prototype.mime_types().indexOf(EXEC_MIME_TYPE) == -1) {\n      register_renderer(events, OutputArea);\n    }\n  }\n  if (typeof (root._bokeh_timeout) === \"undefined\" || force === true) {\n    root._bokeh_timeout = Date.now() + 5000;\n    root._bokeh_failed_load = false;\n  }\n\n  const NB_LOAD_WARNING = {'data': {'text/html':\n     \"<div style='background-color: #fdd'>\\n\"+\n     \"<p>\\n\"+\n     \"BokehJS does not appear to have successfully loaded. If loading BokehJS from CDN, this \\n\"+\n     \"may be due to a slow or bad network connection. Possible fixes:\\n\"+\n     \"</p>\\n\"+\n     \"<ul>\\n\"+\n     \"<li>re-rerun `output_notebook()` to attempt to load from CDN again, or</li>\\n\"+\n     \"<li>use INLINE resources instead, as so:</li>\\n\"+\n     \"</ul>\\n\"+\n     \"<code>\\n\"+\n     \"from bokeh.resources import INLINE\\n\"+\n     \"output_notebook(resources=INLINE)\\n\"+\n     \"</code>\\n\"+\n     \"</div>\"}};\n\n  function display_loaded(error = null) {\n    const el = document.getElementById(\"b8e0bd0f-d802-471d-a86b-bf3f356b5865\");\n    if (el != null) {\n      const html = (() => {\n        if (typeof root.Bokeh === \"undefined\") {\n          if (error == null) {\n            return \"BokehJS is loading ...\";\n          } else {\n            return \"BokehJS failed to load.\";\n          }\n        } else {\n          const prefix = `BokehJS ${root.Bokeh.version}`;\n          if (error == null) {\n            return `${prefix} successfully loaded.`;\n          } else {\n            return `${prefix} <b>encountered errors</b> while loading and may not function as expected.`;\n          }\n        }\n      })();\n      el.innerHTML = html;\n\n      if (error != null) {\n        const wrapper = document.createElement(\"div\");\n        wrapper.style.overflow = \"auto\";\n        wrapper.style.height = \"5em\";\n        wrapper.style.resize = \"vertical\";\n        const content = document.createElement(\"div\");\n        content.style.fontFamily = \"monospace\";\n        content.style.whiteSpace = \"pre-wrap\";\n        content.style.backgroundColor = \"rgb(255, 221, 221)\";\n        content.textContent = error.stack ?? error.toString();\n        wrapper.append(content);\n        el.append(wrapper);\n      }\n    } else if (Date.now() < root._bokeh_timeout) {\n      setTimeout(() => display_loaded(error), 100);\n    }\n  }\n\n  function run_callbacks() {\n    try {\n      root._bokeh_onload_callbacks.forEach(function(callback) {\n        if (callback != null)\n          callback();\n      });\n    } finally {\n      delete root._bokeh_onload_callbacks\n    }\n    console.debug(\"Bokeh: all callbacks have finished\");\n  }\n\n  function load_libs(css_urls, js_urls, callback) {\n    if (css_urls == null) css_urls = [];\n    if (js_urls == null) js_urls = [];\n\n    root._bokeh_onload_callbacks.push(callback);\n    if (root._bokeh_is_loading > 0) {\n      console.debug(\"Bokeh: BokehJS is being loaded, scheduling callback at\", now());\n      return null;\n    }\n    if (js_urls == null || js_urls.length === 0) {\n      run_callbacks();\n      return null;\n    }\n    console.debug(\"Bokeh: BokehJS not loaded, scheduling load and callback at\", now());\n    root._bokeh_is_loading = css_urls.length + js_urls.length;\n\n    function on_load() {\n      root._bokeh_is_loading--;\n      if (root._bokeh_is_loading === 0) {\n        console.debug(\"Bokeh: all BokehJS libraries/stylesheets loaded\");\n        run_callbacks()\n      }\n    }\n\n    function on_error(url) {\n      console.error(\"failed to load \" + url);\n    }\n\n    for (let i = 0; i < css_urls.length; i++) {\n      const url = css_urls[i];\n      const element = document.createElement(\"link\");\n      element.onload = on_load;\n      element.onerror = on_error.bind(null, url);\n      element.rel = \"stylesheet\";\n      element.type = \"text/css\";\n      element.href = url;\n      console.debug(\"Bokeh: injecting link tag for BokehJS stylesheet: \", url);\n      document.body.appendChild(element);\n    }\n\n    for (let i = 0; i < js_urls.length; i++) {\n      const url = js_urls[i];\n      const element = document.createElement('script');\n      element.onload = on_load;\n      element.onerror = on_error.bind(null, url);\n      element.async = false;\n      element.src = url;\n      console.debug(\"Bokeh: injecting script tag for BokehJS library: \", url);\n      document.head.appendChild(element);\n    }\n  };\n\n  function inject_raw_css(css) {\n    const element = document.createElement(\"style\");\n    element.appendChild(document.createTextNode(css));\n    document.body.appendChild(element);\n  }\n\n  const js_urls = [\"https://cdn.bokeh.org/bokeh/release/bokeh-3.4.1.min.js\", \"https://cdn.bokeh.org/bokeh/release/bokeh-gl-3.4.1.min.js\", \"https://cdn.bokeh.org/bokeh/release/bokeh-widgets-3.4.1.min.js\", \"https://cdn.bokeh.org/bokeh/release/bokeh-tables-3.4.1.min.js\", \"https://cdn.bokeh.org/bokeh/release/bokeh-mathjax-3.4.1.min.js\"];\n  const css_urls = [];\n\n  const inline_js = [    function(Bokeh) {\n      Bokeh.set_log_level(\"info\");\n    },\nfunction(Bokeh) {\n    }\n  ];\n\n  function run_inline_js() {\n    if (root.Bokeh !== undefined || force === true) {\n      try {\n            for (let i = 0; i < inline_js.length; i++) {\n      inline_js[i].call(root, root.Bokeh);\n    }\n\n      } catch (error) {display_loaded(error);throw error;\n      }if (force === true) {\n        display_loaded();\n      }} else if (Date.now() < root._bokeh_timeout) {\n      setTimeout(run_inline_js, 100);\n    } else if (!root._bokeh_failed_load) {\n      console.log(\"Bokeh: BokehJS failed to load within specified timeout.\");\n      root._bokeh_failed_load = true;\n    } else if (force !== true) {\n      const cell = $(document.getElementById(\"b8e0bd0f-d802-471d-a86b-bf3f356b5865\")).parents('.cell').data().cell;\n      cell.output_area.append_execute_result(NB_LOAD_WARNING)\n    }\n  }\n\n  if (root._bokeh_is_loading === 0) {\n    console.debug(\"Bokeh: BokehJS loaded, going straight to plotting\");\n    run_inline_js();\n  } else {\n    load_libs(css_urls, js_urls, function() {\n      console.debug(\"Bokeh: BokehJS plotting callback run at\", now());\n      run_inline_js();\n    });\n  }\n}(window));",
      "application/vnd.bokehjs_load.v0+json": ""
     },
     "metadata": {},
     "output_type": "display_data"
    }
   ],
   "source": [
    "from bokeh.io import output_notebook, show, save\n",
    "from bokeh.models import Range1d, Circle, ColumnDataSource, MultiLine\n",
    "from bokeh.plotting import figure\n",
    "from bokeh.plotting import from_networkx\n",
    "from bokeh.palettes import Blues8, Reds8, Purples8, Oranges8, Viridis8, Spectral8\n",
    "from bokeh.transform import linear_cmap\n",
    "\n",
    "# np.random.seed(seed=42)\n",
    "\n",
    "output_notebook()"
   ]
  },
  {
   "cell_type": "code",
   "execution_count": 22,
   "metadata": {},
   "outputs": [],
   "source": [
    "# create dict mapping of ids to fandom names to secure node attributes\n",
    "id_fandom_mapping = dict(fandoms_small[['id', 'name']].values)"
   ]
  },
  {
   "cell_type": "code",
   "execution_count": 23,
   "metadata": {},
   "outputs": [],
   "source": [
    "# create dict mapping of id to fandom cached_count for nodes\n",
    "id_cached_count_mapping = dict(fandoms_small[['id', 'cached_count']].values)\n",
    "# id_cached_count"
   ]
  },
  {
   "cell_type": "code",
   "execution_count": 24,
   "metadata": {},
   "outputs": [],
   "source": [
    "# DOWNLOAD THINGS\n",
    "# edgelist_df.to_csv('crossover_network_edgelist.csv', index=False)\n",
    "# fandoms_small.to_csv('fandoms_small.csv', index=False)\n"
   ]
  },
  {
   "cell_type": "markdown",
   "metadata": {},
   "source": [
    "### Filter dataset"
   ]
  },
  {
   "cell_type": "code",
   "execution_count": 25,
   "metadata": {},
   "outputs": [],
   "source": [
    "# cant run below code, takes too long -- need to find way to reduce dataset. maybe 1 graph w random sample, another with just the top 100?\n",
    "\n",
    "# sns.histplot(data=edgelist_df, x=\"count\", kde=True)"
   ]
  },
  {
   "cell_type": "markdown",
   "metadata": {},
   "source": [
    "1. Random sample"
   ]
  },
  {
   "cell_type": "code",
   "execution_count": 26,
   "metadata": {},
   "outputs": [],
   "source": [
    "sample_size = 50\n",
    "min_count = 100\n",
    "\n",
    "sample_edgelist = edgelist_df[edgelist_df['count'] > min_count].sample(sample_size)"
   ]
  },
  {
   "cell_type": "markdown",
   "metadata": {},
   "source": [
    "2. Take top 50"
   ]
  },
  {
   "cell_type": "code",
   "execution_count": 27,
   "metadata": {},
   "outputs": [],
   "source": [
    "top_num = 50\n",
    "\n",
    "top_edgelist = edgelist_df.sort_values(by=\"count\", ascending=False).head(top_num)"
   ]
  },
  {
   "cell_type": "markdown",
   "metadata": {},
   "source": [
    "### Graph sample edgelist"
   ]
  },
  {
   "cell_type": "code",
   "execution_count": 28,
   "metadata": {},
   "outputs": [
    {
     "data": {
      "text/html": [
       "<div>\n",
       "<style scoped>\n",
       "    .dataframe tbody tr th:only-of-type {\n",
       "        vertical-align: middle;\n",
       "    }\n",
       "\n",
       "    .dataframe tbody tr th {\n",
       "        vertical-align: top;\n",
       "    }\n",
       "\n",
       "    .dataframe thead th {\n",
       "        text-align: right;\n",
       "    }\n",
       "</style>\n",
       "<table border=\"1\" class=\"dataframe\">\n",
       "  <thead>\n",
       "    <tr style=\"text-align: right;\">\n",
       "      <th></th>\n",
       "      <th>count</th>\n",
       "      <th>integer_1</th>\n",
       "      <th>integer_2</th>\n",
       "      <th>name_1</th>\n",
       "      <th>name_2</th>\n",
       "    </tr>\n",
       "  </thead>\n",
       "  <tbody>\n",
       "    <tr>\n",
       "      <th>44875</th>\n",
       "      <td>1455</td>\n",
       "      <td>152669</td>\n",
       "      <td>3810482</td>\n",
       "      <td>Emmerdale</td>\n",
       "      <td>robron</td>\n",
       "    </tr>\n",
       "    <tr>\n",
       "      <th>1645</th>\n",
       "      <td>105</td>\n",
       "      <td>851797</td>\n",
       "      <td>969647</td>\n",
       "      <td>Injustice: Gods Among Us</td>\n",
       "      <td>DCU (Comics)</td>\n",
       "    </tr>\n",
       "    <tr>\n",
       "      <th>12242</th>\n",
       "      <td>309</td>\n",
       "      <td>11987966</td>\n",
       "      <td>21693609</td>\n",
       "      <td>魔道祖师 - 墨香铜臭 | Módào Zǔshī - Mòxiāng Tóngxiù</td>\n",
       "      <td>The Grandmaster of Demonic Cultivation</td>\n",
       "    </tr>\n",
       "    <tr>\n",
       "      <th>700713</th>\n",
       "      <td>127</td>\n",
       "      <td>11146</td>\n",
       "      <td>739806</td>\n",
       "      <td>Iron Man (Comic)</td>\n",
       "      <td>Iron Man - All Media Types</td>\n",
       "    </tr>\n",
       "    <tr>\n",
       "      <th>38778</th>\n",
       "      <td>116</td>\n",
       "      <td>522032</td>\n",
       "      <td>1967132</td>\n",
       "      <td>Tom Hiddleston - Fandom</td>\n",
       "      <td>Marvel Cinematic Universe RPF</td>\n",
       "    </tr>\n",
       "  </tbody>\n",
       "</table>\n",
       "</div>"
      ],
      "text/plain": [
       "        count  integer_1  integer_2  \\\n",
       "44875    1455     152669    3810482   \n",
       "1645      105     851797     969647   \n",
       "12242     309   11987966   21693609   \n",
       "700713    127      11146     739806   \n",
       "38778     116     522032    1967132   \n",
       "\n",
       "                                             name_1  \\\n",
       "44875                                     Emmerdale   \n",
       "1645                       Injustice: Gods Among Us   \n",
       "12242   魔道祖师 - 墨香铜臭 | Módào Zǔshī - Mòxiāng Tóngxiù   \n",
       "700713                             Iron Man (Comic)   \n",
       "38778                       Tom Hiddleston - Fandom   \n",
       "\n",
       "                                        name_2  \n",
       "44875                                   robron  \n",
       "1645                              DCU (Comics)  \n",
       "12242   The Grandmaster of Demonic Cultivation  \n",
       "700713              Iron Man - All Media Types  \n",
       "38778            Marvel Cinematic Universe RPF  "
      ]
     },
     "execution_count": 28,
     "metadata": {},
     "output_type": "execute_result"
    }
   ],
   "source": [
    "sample_edgelist.head()"
   ]
  },
  {
   "cell_type": "code",
   "execution_count": 29,
   "metadata": {},
   "outputs": [
    {
     "data": {
      "text/plain": [
       "NodeDataView({152669: {}, 3810482: {}, 851797: {}, 969647: {}, 11987966: {}, 21693609: {}, 11146: {}, 739806: {}, 522032: {}, 1967132: {}, 10596: {}, 13855: {}, 414093: {}, 586437: {}, 114706: {}, 43249945: {}, 12310528: {}, 12312739: {}, 190901: {}, 728807: {}, 289604: {}, 32833447: {}, 13999: {}, 777705: {}, 2814336: {}, 15270224: {}, 34555820: {}, 245368: {}, 625992: {}, 13907: {}, 31108: {}, 27: {}, 379999: {}, 82576: {}, 2346771: {}, 2128865: {}, 25307253: {}, 226657: {}, 236208: {}, 17856255: {}, 37357117: {}, 1320148: {}, 16105794: {}, 9607162: {}, 18081549: {}, 117953: {}, 133185: {}, 1801: {}, 9630: {}, 730108: {}, 10223: {}, 145749: {}, 11923942: {}, 15303162: {}, 5946839: {}, 9505516: {}, 115613: {}, 5392312: {}, 70: {}, 146772: {}, 20027: {}, 727114: {}, 239605: {}, 13867325: {}, 4997791: {}, 19017606: {}, 235690: {}, 15133407: {}, 1001939: {}, 1928582: {}, 5466945: {}, 141299: {}, 41332: {}, 218342: {}, 735927: {}, 7857352: {}, 250093: {}, 2019008: {}, 105122: {}, 997960: {}, 10801369: {}, 253298: {}, 945109: {}, 17431: {}, 23198: {}})"
      ]
     },
     "execution_count": 29,
     "metadata": {},
     "output_type": "execute_result"
    }
   ],
   "source": [
    "# needs to be indices so that bokeh can work\n",
    "\n",
    "G_sample = nx.from_pandas_edgelist(sample_edgelist, source='integer_1', target='integer_2', edge_attr='count')\n",
    "G_sample.nodes(data=True)"
   ]
  },
  {
   "cell_type": "markdown",
   "metadata": {},
   "source": [
    "**Node attributes**"
   ]
  },
  {
   "cell_type": "code",
   "execution_count": 30,
   "metadata": {},
   "outputs": [],
   "source": [
    "# set node attribudes for fandom names\n",
    "nx.set_node_attributes(G_sample, name='fandom', values=id_fandom_mapping)\n",
    "\n",
    "# i want to color by cached_count of each fandom\n",
    "nx.set_node_attributes(G_sample, name='cached_count', values=id_cached_count_mapping)\n",
    "\n",
    "# need to adjust cached_count because too big distance between numbers\n",
    "adjusted_cached_count_mapping = {k: np.log1p(v) for k, v in id_cached_count_mapping.items()}\n",
    "nx.set_node_attributes(G_sample, name='adjusted_cached_count', values=adjusted_cached_count_mapping)"
   ]
  },
  {
   "cell_type": "code",
   "execution_count": 31,
   "metadata": {},
   "outputs": [],
   "source": [
    "# node attributes for degree \n",
    "degrees = dict(nx.degree(G_sample))\n",
    "nx.set_node_attributes(G_sample, name='degree', values=degrees)"
   ]
  },
  {
   "cell_type": "code",
   "execution_count": 32,
   "metadata": {},
   "outputs": [],
   "source": [
    "# Slightly adjust degree so that the nodes with very small degrees are still visible\n",
    "number_to_adjust_by = 10\n",
    "adjusted_node_size = dict([(node, degree/number_to_adjust_by) for node, degree in nx.degree(G_sample)])\n",
    "nx.set_node_attributes(G_sample, name='adjusted_node_size', values=adjusted_node_size)"
   ]
  },
  {
   "cell_type": "code",
   "execution_count": 33,
   "metadata": {},
   "outputs": [
    {
     "data": {
      "text/html": [
       "\n",
       "  <div id=\"fba44d03-b7f0-49e2-ac8e-c8904a5d70d4\" data-root-id=\"p1003\" style=\"display: contents;\"></div>\n"
      ]
     },
     "metadata": {},
     "output_type": "display_data"
    },
    {
     "data": {
      "application/javascript": "(function(root) {\n  function embed_document(root) {\n  const docs_json = {\"bd754cfb-46b1-402c-b7c7-6fb05e2be834\":{\"version\":\"3.4.1\",\"title\":\"Bokeh Application\",\"roots\":[{\"type\":\"object\",\"name\":\"Figure\",\"id\":\"p1003\",\"attributes\":{\"x_range\":{\"type\":\"object\",\"name\":\"Range1d\",\"id\":\"p1001\",\"attributes\":{\"start\":-1.5,\"end\":1.5}},\"y_range\":{\"type\":\"object\",\"name\":\"Range1d\",\"id\":\"p1002\",\"attributes\":{\"start\":-1.5,\"end\":1.5}},\"x_scale\":{\"type\":\"object\",\"name\":\"LinearScale\",\"id\":\"p1013\"},\"y_scale\":{\"type\":\"object\",\"name\":\"LinearScale\",\"id\":\"p1014\"},\"title\":{\"type\":\"object\",\"name\":\"Title\",\"id\":\"p1006\",\"attributes\":{\"text\":\"Fandom Network by Cross-overs, sample of 50 more than 100 fics\"}},\"renderers\":[{\"type\":\"object\",\"name\":\"GraphRenderer\",\"id\":\"p1030\",\"attributes\":{\"layout_provider\":{\"type\":\"object\",\"name\":\"StaticLayoutProvider\",\"id\":\"p1047\",\"attributes\":{\"graph_layout\":{\"type\":\"map\",\"entries\":[[152669,{\"type\":\"ndarray\",\"array\":{\"type\":\"bytes\",\"data\":\"qdeD/qOJ6j8EpvDQ9nrcvw==\"},\"shape\":[2],\"dtype\":\"float64\",\"order\":\"little\"}],[3810482,{\"type\":\"ndarray\",\"array\":{\"type\":\"bytes\",\"data\":\"mCCFuexo6j9vxAXMgnbcvw==\"},\"shape\":[2],\"dtype\":\"float64\",\"order\":\"little\"}],[851797,{\"type\":\"ndarray\",\"array\":{\"type\":\"bytes\",\"data\":\"S+O/S4pqgL87KmOtsiaTPw==\"},\"shape\":[2],\"dtype\":\"float64\",\"order\":\"little\"}],[969647,{\"type\":\"ndarray\",\"array\":{\"type\":\"bytes\",\"data\":\"h+oTwveRi7+DXdYEf8CUPw==\"},\"shape\":[2],\"dtype\":\"float64\",\"order\":\"little\"}],[11987966,{\"type\":\"ndarray\",\"array\":{\"type\":\"bytes\",\"data\":\"EErjGHxewb8Ipu007PPdvw==\"},\"shape\":[2],\"dtype\":\"float64\",\"order\":\"little\"}],[21693609,{\"type\":\"ndarray\",\"array\":{\"type\":\"bytes\",\"data\":\"1+HO8wp9wb+z9WzRETXevw==\"},\"shape\":[2],\"dtype\":\"float64\",\"order\":\"little\"}],[11146,{\"type\":\"ndarray\",\"array\":{\"type\":\"bytes\",\"data\":\"neIQw/rV2r9IwlR2z0PRvw==\"},\"shape\":[2],\"dtype\":\"float64\",\"order\":\"little\"}],[739806,{\"type\":\"ndarray\",\"array\":{\"type\":\"bytes\",\"data\":\"/O2zvs6f2r/eNh8sABzRvw==\"},\"shape\":[2],\"dtype\":\"float64\",\"order\":\"little\"}],[522032,{\"type\":\"ndarray\",\"array\":{\"type\":\"bytes\",\"data\":\"UbA/Q9Lw4L9UQxo1EGbqvw==\"},\"shape\":[2],\"dtype\":\"float64\",\"order\":\"little\"}],[1967132,{\"type\":\"ndarray\",\"array\":{\"type\":\"bytes\",\"data\":\"ivXXI0/d4L/AcNA5nEvqvw==\"},\"shape\":[2],\"dtype\":\"float64\",\"order\":\"little\"}],[10596,{\"type\":\"ndarray\",\"array\":{\"type\":\"bytes\",\"data\":\"vIVO5Bho2j9btAuc6ZXmPw==\"},\"shape\":[2],\"dtype\":\"float64\",\"order\":\"little\"}],[13855,{\"type\":\"ndarray\",\"array\":{\"type\":\"bytes\",\"data\":\"MTUkW9ee2j8V2bRG+afmPw==\"},\"shape\":[2],\"dtype\":\"float64\",\"order\":\"little\"}],[414093,{\"type\":\"ndarray\",\"array\":{\"type\":\"bytes\",\"data\":\"pXygqxfRlL+7XkNj9WeWPw==\"},\"shape\":[2],\"dtype\":\"float64\",\"order\":\"little\"}],[586437,{\"type\":\"ndarray\",\"array\":{\"type\":\"bytes\",\"data\":\"YA7euEAZmr9i4wD5AyGUPw==\"},\"shape\":[2],\"dtype\":\"float64\",\"order\":\"little\"}],[114706,{\"type\":\"ndarray\",\"array\":{\"type\":\"bytes\",\"data\":\"U7DCOMze2z9/Dxkncq7Xvw==\"},\"shape\":[2],\"dtype\":\"float64\",\"order\":\"little\"}],[43249945,{\"type\":\"ndarray\",\"array\":{\"type\":\"bytes\",\"data\":\"jeFZ/n4S3D8e7zb52tjXvw==\"},\"shape\":[2],\"dtype\":\"float64\",\"order\":\"little\"}],[12310528,{\"type\":\"ndarray\",\"array\":{\"type\":\"bytes\",\"data\":\"Gyw+rrCGr7/t+2bZhcTQvw==\"},\"shape\":[2],\"dtype\":\"float64\",\"order\":\"little\"}],[12312739,{\"type\":\"ndarray\",\"array\":{\"type\":\"bytes\",\"data\":\"IL3HmcW1r786Z6pnyYHQvw==\"},\"shape\":[2],\"dtype\":\"float64\",\"order\":\"little\"}],[190901,{\"type\":\"ndarray\",\"array\":{\"type\":\"bytes\",\"data\":\"hDOHsgh96r9Wq+OP0wHiPw==\"},\"shape\":[2],\"dtype\":\"float64\",\"order\":\"little\"}],[728807,{\"type\":\"ndarray\",\"array\":{\"type\":\"bytes\",\"data\":\"tYQVXmVc6r8p27ap+gTiPw==\"},\"shape\":[2],\"dtype\":\"float64\",\"order\":\"little\"}],[289604,{\"type\":\"ndarray\",\"array\":{\"type\":\"bytes\",\"data\":\"Oijo4Q2EzL/xk3Oj4XS5vw==\"},\"shape\":[2],\"dtype\":\"float64\",\"order\":\"little\"}],[32833447,{\"type\":\"ndarray\",\"array\":{\"type\":\"bytes\",\"data\":\"WtQ9/kDCzL/XCuIktSS4vw==\"},\"shape\":[2],\"dtype\":\"float64\",\"order\":\"little\"}],[13999,{\"type\":\"ndarray\",\"array\":{\"type\":\"bytes\",\"data\":\"JibPNIjllL8El818GZGQPw==\"},\"shape\":[2],\"dtype\":\"float64\",\"order\":\"little\"}],[777705,{\"type\":\"ndarray\",\"array\":{\"type\":\"bytes\",\"data\":\"IPvI1ALQl7/K7OnVTIedPw==\"},\"shape\":[2],\"dtype\":\"float64\",\"order\":\"little\"}],[2814336,{\"type\":\"ndarray\",\"array\":{\"type\":\"bytes\",\"data\":\"tlSUrqulmr/lgWQ8AeqhPw==\"},\"shape\":[2],\"dtype\":\"float64\",\"order\":\"little\"}],[15270224,{\"type\":\"ndarray\",\"array\":{\"type\":\"bytes\",\"data\":\"41gbuzhc0r9Bju8OHGnlPw==\"},\"shape\":[2],\"dtype\":\"float64\",\"order\":\"little\"}],[34555820,{\"type\":\"ndarray\",\"array\":{\"type\":\"bytes\",\"data\":\"gzIZr/RB0r91dZz+TkrlPw==\"},\"shape\":[2],\"dtype\":\"float64\",\"order\":\"little\"}],[245368,{\"type\":\"ndarray\",\"array\":{\"type\":\"bytes\",\"data\":\"Nelrybcb4r/O530a+Ce6vw==\"},\"shape\":[2],\"dtype\":\"float64\",\"order\":\"little\"}],[625992,{\"type\":\"ndarray\",\"array\":{\"type\":\"bytes\",\"data\":\"bKQ3reD24b8OL8wnRQ26vw==\"},\"shape\":[2],\"dtype\":\"float64\",\"order\":\"little\"}],[13907,{\"type\":\"ndarray\",\"array\":{\"type\":\"bytes\",\"data\":\"yXGSC9IQy79Jh8PMXGO7vw==\"},\"shape\":[2],\"dtype\":\"float64\",\"order\":\"little\"}],[31108,{\"type\":\"ndarray\",\"array\":{\"type\":\"bytes\",\"data\":\"uRFSRm3Ey7/iTf+mQGS6vw==\"},\"shape\":[2],\"dtype\":\"float64\",\"order\":\"little\"}],[27,{\"type\":\"ndarray\",\"array\":{\"type\":\"bytes\",\"data\":\"9oir9NH5tb9RQB/FrnPuvw==\"},\"shape\":[2],\"dtype\":\"float64\",\"order\":\"little\"}],[379999,{\"type\":\"ndarray\",\"array\":{\"type\":\"bytes\",\"data\":\"5XMfyJogtr+mWsYlfJ3uvw==\"},\"shape\":[2],\"dtype\":\"float64\",\"order\":\"little\"}],[82576,{\"type\":\"ndarray\",\"array\":{\"type\":\"bytes\",\"data\":\"V693rUfq7j/8jtJW7AqPvw==\"},\"shape\":[2],\"dtype\":\"float64\",\"order\":\"little\"}],[2346771,{\"type\":\"ndarray\",\"array\":{\"type\":\"bytes\",\"data\":\"cOQ7P1TM7j+cUKHtrzCRvw==\"},\"shape\":[2],\"dtype\":\"float64\",\"order\":\"little\"}],[2128865,{\"type\":\"ndarray\",\"array\":{\"type\":\"bytes\",\"data\":\"lCmLHuSgqT/TNG86Zp/VPw==\"},\"shape\":[2],\"dtype\":\"float64\",\"order\":\"little\"}],[25307253,{\"type\":\"ndarray\",\"array\":{\"type\":\"bytes\",\"data\":\"fAHahdXJqT8KzZWtMuLVPw==\"},\"shape\":[2],\"dtype\":\"float64\",\"order\":\"little\"}],[226657,{\"type\":\"ndarray\",\"array\":{\"type\":\"bytes\",\"data\":\"nVSc7q1xyr8mfQ24Z2e8vw==\"},\"shape\":[2],\"dtype\":\"float64\",\"order\":\"little\"}],[236208,{\"type\":\"ndarray\",\"array\":{\"type\":\"bytes\",\"data\":\"g3/o8gP3yb8e91KgNlm9vw==\"},\"shape\":[2],\"dtype\":\"float64\",\"order\":\"little\"}],[17856255,{\"type\":\"ndarray\",\"array\":{\"type\":\"bytes\",\"data\":\"SeH7cqJj2L9M4hhj4DXgPw==\"},\"shape\":[2],\"dtype\":\"float64\",\"order\":\"little\"}],[37357117,{\"type\":\"ndarray\",\"array\":{\"type\":\"bytes\",\"data\":\"14z0k+yS2L8h51CshE3gPw==\"},\"shape\":[2],\"dtype\":\"float64\",\"order\":\"little\"}],[1320148,{\"type\":\"ndarray\",\"array\":{\"type\":\"bytes\",\"data\":\"yVGRv5s2zz+a06JzN6/uPw==\"},\"shape\":[2],\"dtype\":\"float64\",\"order\":\"little\"}],[16105794,{\"type\":\"ndarray\",\"array\":{\"type\":\"bytes\",\"data\":\"x04vmF+Izz/87Z8b3MjuPw==\"},\"shape\":[2],\"dtype\":\"float64\",\"order\":\"little\"}],[9607162,{\"type\":\"ndarray\",\"array\":{\"type\":\"bytes\",\"data\":\"EgaNqtC2xL+KK+leRCfTPw==\"},\"shape\":[2],\"dtype\":\"float64\",\"order\":\"little\"}],[18081549,{\"type\":\"ndarray\",\"array\":{\"type\":\"bytes\",\"data\":\"lrV+lcrsxL82kxBqfWTTPw==\"},\"shape\":[2],\"dtype\":\"float64\",\"order\":\"little\"}],[117953,{\"type\":\"ndarray\",\"array\":{\"type\":\"bytes\",\"data\":\"32oGukWstb+gpbQzLh/uvw==\"},\"shape\":[2],\"dtype\":\"float64\",\"order\":\"little\"}],[133185,{\"type\":\"ndarray\",\"array\":{\"type\":\"bytes\",\"data\":\"VTh0ww3Stb/xNqX7MEjuvw==\"},\"shape\":[2],\"dtype\":\"float64\",\"order\":\"little\"}],[1801,{\"type\":\"ndarray\",\"array\":{\"type\":\"bytes\",\"data\":\"KnLVlfpt0z8avRha7Oqwvw==\"},\"shape\":[2],\"dtype\":\"float64\",\"order\":\"little\"}],[9630,{\"type\":\"ndarray\",\"array\":{\"type\":\"bytes\",\"data\":\"RQysrdEr0z89fzouUMKwvw==\"},\"shape\":[2],\"dtype\":\"float64\",\"order\":\"little\"}],[730108,{\"type\":\"ndarray\",\"array\":{\"type\":\"bytes\",\"data\":\"lID4nS/P4b8YSrh4GfO5vw==\"},\"shape\":[2],\"dtype\":\"float64\",\"order\":\"little\"}],[10223,{\"type\":\"ndarray\",\"array\":{\"type\":\"bytes\",\"data\":\"cJkA8qJC0z/cSuEbdIDNPw==\"},\"shape\":[2],\"dtype\":\"float64\",\"order\":\"little\"}],[145749,{\"type\":\"ndarray\",\"array\":{\"type\":\"bytes\",\"data\":\"/NmZph0F0z/Tbwfe5UrNPw==\"},\"shape\":[2],\"dtype\":\"float64\",\"order\":\"little\"}],[11923942,{\"type\":\"ndarray\",\"array\":{\"type\":\"bytes\",\"data\":\"0MppJDl44j8TW9NA5PbAvw==\"},\"shape\":[2],\"dtype\":\"float64\",\"order\":\"little\"}],[15303162,{\"type\":\"ndarray\",\"array\":{\"type\":\"bytes\",\"data\":\"LfKTLpJX4j9XNsIkJ9rAvw==\"},\"shape\":[2],\"dtype\":\"float64\",\"order\":\"little\"}],[5946839,{\"type\":\"ndarray\",\"array\":{\"type\":\"bytes\",\"data\":\"4PyFJYVuyL/AJmFDYirvPw==\"},\"shape\":[2],\"dtype\":\"float64\",\"order\":\"little\"}],[9505516,{\"type\":\"ndarray\",\"array\":{\"type\":\"bytes\",\"data\":\"+82uolW/yL+Yuv09N0TvPw==\"},\"shape\":[2],\"dtype\":\"float64\",\"order\":\"little\"}],[115613,{\"type\":\"ndarray\",\"array\":{\"type\":\"bytes\",\"data\":\"KJ1RoRjdnD9SFaNqoPPkPw==\"},\"shape\":[2],\"dtype\":\"float64\",\"order\":\"little\"}],[5392312,{\"type\":\"ndarray\",\"array\":{\"type\":\"bytes\",\"data\":\"umy3X+SSnD92BAQOQ9LkPw==\"},\"shape\":[2],\"dtype\":\"float64\",\"order\":\"little\"}],[70,{\"type\":\"ndarray\",\"array\":{\"type\":\"bytes\",\"data\":\"p6s32dCf7b/Zr0ukLGDTPw==\"},\"shape\":[2],\"dtype\":\"float64\",\"order\":\"little\"}],[146772,{\"type\":\"ndarray\",\"array\":{\"type\":\"bytes\",\"data\":\"qqqr94TA7b+UH/p7c1vTPw==\"},\"shape\":[2],\"dtype\":\"float64\",\"order\":\"little\"}],[20027,{\"type\":\"ndarray\",\"array\":{\"type\":\"bytes\",\"data\":\"3Uls4mvQyT9mu6igyg3Ivw==\"},\"shape\":[2],\"dtype\":\"float64\",\"order\":\"little\"}],[727114,{\"type\":\"ndarray\",\"array\":{\"type\":\"bytes\",\"data\":\"3yJVaFgqyj/MpOdjHHDIvw==\"},\"shape\":[2],\"dtype\":\"float64\",\"order\":\"little\"}],[239605,{\"type\":\"ndarray\",\"array\":{\"type\":\"bytes\",\"data\":\"ZabZkSr9yT9LbDAqLQXhvw==\"},\"shape\":[2],\"dtype\":\"float64\",\"order\":\"little\"}],[13867325,{\"type\":\"ndarray\",\"array\":{\"type\":\"bytes\",\"data\":\"qhGjLVsyyj+shdJLuyPhvw==\"},\"shape\":[2],\"dtype\":\"float64\",\"order\":\"little\"}],[4997791,{\"type\":\"ndarray\",\"array\":{\"type\":\"bytes\",\"data\":\"ytTYDl/n77+/lGgBLkSZPw==\"},\"shape\":[2],\"dtype\":\"float64\",\"order\":\"little\"}],[19017606,{\"type\":\"ndarray\",\"array\":{\"type\":\"bytes\",\"data\":\"////////779oIMEUZ4+WPw==\"},\"shape\":[2],\"dtype\":\"float64\",\"order\":\"little\"}],[235690,{\"type\":\"ndarray\",\"array\":{\"type\":\"bytes\",\"data\":\"Yed++2dg4z8vTBYuagrEPw==\"},\"shape\":[2],\"dtype\":\"float64\",\"order\":\"little\"}],[15133407,{\"type\":\"ndarray\",\"array\":{\"type\":\"bytes\",\"data\":\"tV7l/xJA4z8VTGQAUOjDPw==\"},\"shape\":[2],\"dtype\":\"float64\",\"order\":\"little\"}],[1001939,{\"type\":\"ndarray\",\"array\":{\"type\":\"bytes\",\"data\":\"Vw/CmsA36z8WwP9t2nnePw==\"},\"shape\":[2],\"dtype\":\"float64\",\"order\":\"little\"}],[1928582,{\"type\":\"ndarray\",\"array\":{\"type\":\"bytes\",\"data\":\"VNu1s1hM6z+vIfY5R7fePw==\"},\"shape\":[2],\"dtype\":\"float64\",\"order\":\"little\"}],[5466945,{\"type\":\"ndarray\",\"array\":{\"type\":\"bytes\",\"data\":\"/Eo//Ose6z89gHrooT/ePw==\"},\"shape\":[2],\"dtype\":\"float64\",\"order\":\"little\"}],[141299,{\"type\":\"ndarray\",\"array\":{\"type\":\"bytes\",\"data\":\"2K5bPeo4zb9HUJMLdb25vw==\"},\"shape\":[2],\"dtype\":\"float64\",\"order\":\"little\"}],[41332,{\"type\":\"ndarray\",\"array\":{\"type\":\"bytes\",\"data\":\"UU/Z43syxT+0DpxSa6vJPw==\"},\"shape\":[2],\"dtype\":\"float64\",\"order\":\"little\"}],[218342,{\"type\":\"ndarray\",\"array\":{\"type\":\"bytes\",\"data\":\"pfHhN77OxD/TsBvjglXJPw==\"},\"shape\":[2],\"dtype\":\"float64\",\"order\":\"little\"}],[735927,{\"type\":\"ndarray\",\"array\":{\"type\":\"bytes\",\"data\":\"wiJYFfBH0D+/5NEVrZrXPw==\"},\"shape\":[2],\"dtype\":\"float64\",\"order\":\"little\"}],[7857352,{\"type\":\"ndarray\",\"array\":{\"type\":\"bytes\",\"data\":\"fiuKsfBt0D9VIZXKKdLXPw==\"},\"shape\":[2],\"dtype\":\"float64\",\"order\":\"little\"}],[250093,{\"type\":\"ndarray\",\"array\":{\"type\":\"bytes\",\"data\":\"ljYgqpm2xz/GLaK4+hzpvw==\"},\"shape\":[2],\"dtype\":\"float64\",\"order\":\"little\"}],[2019008,{\"type\":\"ndarray\",\"array\":{\"type\":\"bytes\",\"data\":\"PheEnvlqxz+st1EQLQLpvw==\"},\"shape\":[2],\"dtype\":\"float64\",\"order\":\"little\"}],[105122,{\"type\":\"ndarray\",\"array\":{\"type\":\"bytes\",\"data\":\"mrMg/x3Z4L/mDGbWXpPdvw==\"},\"shape\":[2],\"dtype\":\"float64\",\"order\":\"little\"}],[997960,{\"type\":\"ndarray\",\"array\":{\"type\":\"bytes\",\"data\":\"GOE3xWfy4L+ESNvfcr/dvw==\"},\"shape\":[2],\"dtype\":\"float64\",\"order\":\"little\"}],[10801369,{\"type\":\"ndarray\",\"array\":{\"type\":\"bytes\",\"data\":\"0s0g9AL9nL+yRb3PMnukPw==\"},\"shape\":[2],\"dtype\":\"float64\",\"order\":\"little\"}],[253298,{\"type\":\"ndarray\",\"array\":{\"type\":\"bytes\",\"data\":\"sNm+BhZs0r/bY511webMPw==\"},\"shape\":[2],\"dtype\":\"float64\",\"order\":\"little\"}],[945109,{\"type\":\"ndarray\",\"array\":{\"type\":\"bytes\",\"data\":\"AGsX8WGl0r8sHJaEGC3NPw==\"},\"shape\":[2],\"dtype\":\"float64\",\"order\":\"little\"}],[17431,{\"type\":\"ndarray\",\"array\":{\"type\":\"bytes\",\"data\":\"c6ajI83H4T+5TxrfEk3ovw==\"},\"shape\":[2],\"dtype\":\"float64\",\"order\":\"little\"}],[23198,{\"type\":\"ndarray\",\"array\":{\"type\":\"bytes\",\"data\":\"cv+c4bbk4T8vGYtwilzovw==\"},\"shape\":[2],\"dtype\":\"float64\",\"order\":\"little\"}]]}}},\"node_renderer\":{\"type\":\"object\",\"name\":\"GlyphRenderer\",\"id\":\"p1035\",\"attributes\":{\"data_source\":{\"type\":\"object\",\"name\":\"ColumnDataSource\",\"id\":\"p1032\",\"attributes\":{\"selected\":{\"type\":\"object\",\"name\":\"Selection\",\"id\":\"p1033\",\"attributes\":{\"indices\":[],\"line_indices\":[]}},\"selection_policy\":{\"type\":\"object\",\"name\":\"UnionRenderers\",\"id\":\"p1034\"},\"data\":{\"type\":\"map\",\"entries\":[[\"adjusted_cached_count\",[8.984066927653044,7.611842399580417,6.261491684321042,10.14419593502981,10.767263191298982,5.8805329864007,6.625392368007956,8.073714641109857,8.16961956172385,8.028129059431759,7.099201743553092,6.089044875446846,12.390629202848693,8.669399124305569,7.164720378771857,4.927253685157205,8.42989086301344,6.263398262591624,8.414052432496725,5.0369526024136295,9.509778075438817,9.9241231661362,11.562753185929502,6.274762021241939,8.96610085736724,8.752897524775305,9.330520532232288,10.715173039019605,8.55256033525353,9.099073559547596,7.485491608030754,12.645298073119001,10.870186186954129,10.140849541087894,6.677083461247136,5.209486152841421,5.840641657373398,10.743588146052236,10.837873572679374,8.567696173589344,5.231108616854587,9.179674957665297,8.14351740579748,8.004365564979574,6.508769136971682,8.949365142352965,11.931148839177055,10.493992741124194,8.782936356349264,6.714170529909472,9.4296365315615,7.470793774195062,6.999422467507961,5.855071922202427,7.122866658599083,8.162801353492073,10.024509780783578,7.062191632286556,10.537150086261182,10.011803696019587,10.216325544869028,11.102638751582846,7.183870715062453,5.662960480135946,9.439306936593182,10.013596775216158,9.673382324888367,7.234898420314831,11.96917240335714,8.806873266530692,7.700295203420117,7.116394144093465,6.86171134048073,7.103322062526113,6.380122536899765,7.794823152179389,9.488502271043805,6.2766434893416445,9.533148246403337,10.58852695370191,9.564512185696797,9.60393530751386,7.706612913964197,8.925454386826402,5.420534999272286]],[\"fandom\",[\"Emmerdale\",\"robron\",\"Injustice: Gods Among Us\",\"DCU (Comics)\",\"\\u9b54\\u9053\\u7956\\u5e08 - \\u58a8\\u9999\\u94dc\\u81ed | M\\u00f3d\\u00e0o Z\\u01d4sh\\u012b - M\\u00f2xi\\u0101ng T\\u00f3ngxi\\u00f9\",\"The Grandmaster of Demonic Cultivation\",\"Iron Man (Comic)\",\"Iron Man - All Media Types\",\"Tom Hiddleston - Fandom\",\"Marvel Cinematic Universe RPF\",\"Final Fantasy X\",\"Final Fantasy X-2\",\"Marvel Cinematic Universe\",\"The Avengers - Ambiguous Fandom\",\"Alex Rider - Anthony Horowitz\",\"Alex Rider (TV 2020)\",\"The Shadowhunter Chronicles - Cassandra Clare\",\"The Last Hours Series - Cassandra Clare\",\"Tangled (2010)\",\"Rise of The Brave Tangled Dragons - Fandom\",\"Marvel (Comics)\",\"Spider-Man (Tom Holland Movies)\",\"Naruto\",\"Guardians of the Galaxy (Comics)\",\"Guardians of the Galaxy (Movies)\",\"IT (2017)\",\"IT (Movies - Muschietti)\",\"Thor (Movies)\",\"Thor - All Media Types\",\"Marvel 616\",\"Spider-Man (Comicverse)\",\"Supernatural\",\"Once Upon a Time (TV)\",\"Batman (Comics)\",\"Harley Quinn (Comics)\",\"Godzilla (2014)\",\"Godzilla: King of The Monsters (2019)\",\"Iron Man (Movies)\",\"Batman - All Media Types\",\"Buzzfeed Unsolved (Web Series)\",\"Watcher Entertainment\",\"\\u5168\\u804c\\u9ad8\\u624b - \\u8774\\u8776\\u84dd | Qu\\u00e1nzh\\u00ed G\\u0101osh\\u01d2u - H\\u00fadi\\u00e9 L\\u00e1n\",\"\\u5168\\u804c\\u9ad8\\u624b | The King's Avatar (Cartoon)\",\"Pocket Monsters: Sun & Moon | Pokemon Sun & Moon Versions\",\"Pocket Monsters: Ultra Sun & Ultra Moon | Pokemon Ultra Sun & Ultra Moon Versions\",\"Sherlock Holmes - Arthur Conan Doyle\",\"Sherlock (TV)\",\"Star Trek\",\"Star Trek (2009)\",\"The Incredible Hulk - All Media Types\",\"World Wrestling Entertainment\",\"WWE\",\"\\u0e1e\\u0e35\\u0e48\\u0e27\\u0e49\\u0e32\\u0e01\\u0e15\\u0e31\\u0e27\\u0e23\\u0e49\\u0e32\\u0e22\\u0e01\\u0e31\\u0e1a\\u0e19\\u0e32\\u0e22\\u0e1b\\u0e35\\u0e2b\\u0e19\\u0e36\\u0e48\\u0e07 | SOTUS: The Series (TV)\",\"\\u0e1e\\u0e35\\u0e48\\u0e27\\u0e49\\u0e32\\u0e01\\u0e15\\u0e31\\u0e27\\u0e23\\u0e49\\u0e32\\u0e22\\u0e01\\u0e31\\u0e1a\\u0e19\\u0e32\\u0e22\\u0e1b\\u0e35\\u0e2b\\u0e19\\u0e36\\u0e48\\u0e07 | SOTUS: The Series (TV) RPF\",\"Love Live! School Idol Festival (Video Game)\",\"Love Live! Sunshine!!\",\"Percy Jackson and the Olympians - Rick Riordan\",\"Magnus Chase and the Gods of Asgard - Rick Riordan\",\"Stargate Atlantis\",\"Hawaii Five-0 (2010)\",\"Avengers\",\"The Avengers (Marvel) - All Media Types\",\"Inazuma Eleven\",\"Inazuma Eleven: Ares no Tenbin\",\"Monsta X (Band)\",\"Stray Kids (Band)\",\"Fire Emblem Series\",\"Fire Emblem Echoes: Mou Hitori no Eiyuu Ou | Fire Emblem Echoes: Shadows of Valentia\",\"The Avengers (Marvel Movies)\",\"Agent Carter (TV)\",\"Jessica Jones (TV)\",\"Fantastic Four\",\"Disney Princesses\",\"Beauty and the Beast (1991)\",\"The Kane Chronicles - Rick Riordan\",\"The Trials of Apollo - Rick Riordan\",\"X-Men - All Media Types\",\"Wolverine (Movies)\",\"K-pop\",\"bts\",\"Spider-Man: Homecoming (2017)\",\"X-Men: First Class (2011) - Fandom\",\"X-Men: Days of Future Past (2014) - Fandom\",\"Panic! at the Disco\",\"The Young Veins\"]],[\"adjusted_node_size\",[0.1,0.1,0.1,0.2,0.1,0.1,0.1,0.1,0.1,0.1,0.1,0.1,0.4,0.1,0.1,0.1,0.1,0.1,0.1,0.1,0.3,0.1,0.1,0.2,0.2,0.1,0.1,0.1,0.2,0.2,0.2,0.2,0.1,0.1,0.1,0.1,0.1,0.2,0.1,0.1,0.1,0.1,0.1,0.1,0.1,0.1,0.2,0.1,0.1,0.1,0.1,0.1,0.1,0.1,0.1,0.1,0.1,0.1,0.1,0.1,0.1,0.1,0.1,0.1,0.1,0.1,0.1,0.1,0.2,0.1,0.1,0.1,0.1,0.1,0.1,0.1,0.1,0.1,0.1,0.1,0.1,0.1,0.1,0.1,0.1]],[\"degree\",[1,1,1,2,1,1,1,1,1,1,1,1,4,1,1,1,1,1,1,1,3,1,1,2,2,1,1,1,2,2,2,2,1,1,1,1,1,2,1,1,1,1,1,1,1,1,2,1,1,1,1,1,1,1,1,1,1,1,1,1,1,1,1,1,1,1,1,1,2,1,1,1,1,1,1,1,1,1,1,1,1,1,1,1,1]],[\"cached_count\",[7974,2021,523,25442,47441,357,753,3208,3531,3065,1210,440,240536,5821,1292,137,4581,524,4509,153,13490,20416,105108,530,7832,6328,11276,45033,5179,8946,1781,310300,52584,25357,793,182,343,46331,50912,5258,186,9697,3440,2993,670,7702,151925,36097,6521,823,12451,1755,1095,348,1239,3507,22572,1166,37689,22287,27345,66345,1317,287,12572,22327,15888,1386,157813,6679,2208,1231,954,1215,589,2427,13206,531,13809,39676,14249,14822,2222,7520,225]],[\"index\",[152669,3810482,851797,969647,11987966,21693609,11146,739806,522032,1967132,10596,13855,414093,586437,114706,43249945,12310528,12312739,190901,728807,289604,32833447,13999,777705,2814336,15270224,34555820,245368,625992,13907,31108,27,379999,82576,2346771,2128865,25307253,226657,236208,17856255,37357117,1320148,16105794,9607162,18081549,117953,133185,1801,9630,730108,10223,145749,11923942,15303162,5946839,9505516,115613,5392312,70,146772,20027,727114,239605,13867325,4997791,19017606,235690,15133407,1001939,1928582,5466945,141299,41332,218342,735927,7857352,250093,2019008,105122,997960,10801369,253298,945109,17431,23198]]]}}},\"view\":{\"type\":\"object\",\"name\":\"CDSView\",\"id\":\"p1036\",\"attributes\":{\"filter\":{\"type\":\"object\",\"name\":\"AllIndices\",\"id\":\"p1037\"}}},\"glyph\":{\"type\":\"object\",\"name\":\"Circle\",\"id\":\"p1049\",\"attributes\":{\"radius\":{\"type\":\"field\",\"field\":\"adjusted_node_size\"},\"fill_color\":{\"type\":\"field\",\"field\":\"adjusted_cached_count\",\"transform\":{\"type\":\"object\",\"name\":\"LinearColorMapper\",\"id\":\"p1048\",\"attributes\":{\"palette\":[\"#99000d\",\"#cb181d\",\"#ef3b2c\",\"#fb6a4a\",\"#fc9272\",\"#fcbba1\",\"#fee0d2\",\"#fff5f0\"],\"low\":12.645298073119001,\"high\":4.927253685157205}}},\"fill_alpha\":{\"type\":\"value\",\"value\":0.7}}}}},\"edge_renderer\":{\"type\":\"object\",\"name\":\"GlyphRenderer\",\"id\":\"p1042\",\"attributes\":{\"data_source\":{\"type\":\"object\",\"name\":\"ColumnDataSource\",\"id\":\"p1039\",\"attributes\":{\"selected\":{\"type\":\"object\",\"name\":\"Selection\",\"id\":\"p1040\",\"attributes\":{\"indices\":[],\"line_indices\":[]}},\"selection_policy\":{\"type\":\"object\",\"name\":\"UnionRenderers\",\"id\":\"p1041\"},\"data\":{\"type\":\"map\",\"entries\":[[\"count\",[1455,105,305,309,127,116,132,2245,121,119,120,375,107,111,445,117,256,225,242,2426,143,199,149,178,1203,194,120,141,178,2218,548,1701,170,840,104,715,334,148,228,210,162,569,776,240,106,111,173,230,1361,153]],[\"start\",[152669,851797,969647,11987966,11146,522032,10596,414093,414093,414093,114706,12310528,190901,289604,289604,289604,777705,2814336,15270224,245368,625992,13907,13907,27,27,82576,2128865,226657,17856255,1320148,9607162,117953,1801,10223,11923942,5946839,115613,70,20027,239605,4997791,235690,1001939,1001939,41332,735927,250093,105122,253298,17431]],[\"end\",[3810482,969647,414093,21693609,739806,1967132,13855,586437,13999,777705,43249945,12312739,728807,32833447,31108,141299,2814336,10801369,34555820,625992,730108,31108,226657,379999,133185,2346771,25307253,236208,37357117,16105794,18081549,133185,9630,145749,15303162,9505516,5392312,146772,727114,13867325,19017606,15133407,1928582,5466945,218342,7857352,2019008,997960,945109,23198]]]}}},\"view\":{\"type\":\"object\",\"name\":\"CDSView\",\"id\":\"p1043\",\"attributes\":{\"filter\":{\"type\":\"object\",\"name\":\"AllIndices\",\"id\":\"p1044\"}}},\"glyph\":{\"type\":\"object\",\"name\":\"MultiLine\",\"id\":\"p1038\"}}},\"selection_policy\":{\"type\":\"object\",\"name\":\"NodesOnly\",\"id\":\"p1045\"},\"inspection_policy\":{\"type\":\"object\",\"name\":\"NodesOnly\",\"id\":\"p1046\"}}}],\"toolbar\":{\"type\":\"object\",\"name\":\"Toolbar\",\"id\":\"p1012\",\"attributes\":{\"tools\":[{\"type\":\"object\",\"name\":\"PanTool\",\"id\":\"p1025\"},{\"type\":\"object\",\"name\":\"WheelZoomTool\",\"id\":\"p1026\",\"attributes\":{\"renderers\":\"auto\"}},{\"type\":\"object\",\"name\":\"SaveTool\",\"id\":\"p1027\"},{\"type\":\"object\",\"name\":\"ResetTool\",\"id\":\"p1028\"},{\"type\":\"object\",\"name\":\"HoverTool\",\"id\":\"p1029\",\"attributes\":{\"renderers\":\"auto\",\"tooltips\":[[\"Fandom\",\"@fandom\"],[\"Degree\",\"@degree\"],[\"Count\",\"@cached_count\"]]}}],\"active_scroll\":{\"id\":\"p1026\"}}},\"left\":[{\"type\":\"object\",\"name\":\"LinearAxis\",\"id\":\"p1020\",\"attributes\":{\"ticker\":{\"type\":\"object\",\"name\":\"BasicTicker\",\"id\":\"p1021\",\"attributes\":{\"mantissas\":[1,2,5]}},\"formatter\":{\"type\":\"object\",\"name\":\"BasicTickFormatter\",\"id\":\"p1022\"},\"major_label_policy\":{\"type\":\"object\",\"name\":\"AllLabels\",\"id\":\"p1023\"}}}],\"below\":[{\"type\":\"object\",\"name\":\"LinearAxis\",\"id\":\"p1015\",\"attributes\":{\"ticker\":{\"type\":\"object\",\"name\":\"BasicTicker\",\"id\":\"p1016\",\"attributes\":{\"mantissas\":[1,2,5]}},\"formatter\":{\"type\":\"object\",\"name\":\"BasicTickFormatter\",\"id\":\"p1017\"},\"major_label_policy\":{\"type\":\"object\",\"name\":\"AllLabels\",\"id\":\"p1018\"}}}],\"center\":[{\"type\":\"object\",\"name\":\"Grid\",\"id\":\"p1019\",\"attributes\":{\"axis\":{\"id\":\"p1015\"}}},{\"type\":\"object\",\"name\":\"Grid\",\"id\":\"p1024\",\"attributes\":{\"dimension\":1,\"axis\":{\"id\":\"p1020\"}}}]}}]}};\n  const render_items = [{\"docid\":\"bd754cfb-46b1-402c-b7c7-6fb05e2be834\",\"roots\":{\"p1003\":\"fba44d03-b7f0-49e2-ac8e-c8904a5d70d4\"},\"root_ids\":[\"p1003\"]}];\n  void root.Bokeh.embed.embed_items_notebook(docs_json, render_items);\n  }\n  if (root.Bokeh !== undefined) {\n    embed_document(root);\n  } else {\n    let attempts = 0;\n    const timer = setInterval(function(root) {\n      if (root.Bokeh !== undefined) {\n        clearInterval(timer);\n        embed_document(root);\n      } else {\n        attempts++;\n        if (attempts > 100) {\n          clearInterval(timer);\n          console.log(\"Bokeh: ERROR: Unable to run BokehJS code because BokehJS library is missing\");\n        }\n      }\n    }, 10, root)\n  }\n})(window);",
      "application/vnd.bokehjs_exec.v0+json": ""
     },
     "metadata": {
      "application/vnd.bokehjs_exec.v0+json": {
       "id": "p1003"
      }
     },
     "output_type": "display_data"
    }
   ],
   "source": [
    "#Choose attributes from G network to size and color by — setting manual size (e.g. 10) or color (e.g. 'skyblue') also allowed\n",
    "size_by_this_attribute = 'adjusted_node_size'\n",
    "color_by_this_attribute = 'adjusted_cached_count' #'#860101' \n",
    "\n",
    "#Pick a color palette — Blues8, Reds8, Purples8, Oranges8, Viridis8\n",
    "color_palette = Reds8\n",
    "\n",
    "#Choose a title!\n",
    "title_sample = 'Fandom Network by Cross-overs, sample of ' + str(sample_size) + ' more than ' + str(min_count) + ' fics'\n",
    "\n",
    "#Establish which categories will appear when hovering over each node\n",
    "HOVER_TOOLTIPS = [\n",
    "        (\"Fandom\", \"@fandom\"),\n",
    "        (\"Degree\", \"@degree\"),\n",
    "        (\"Count\", \"@cached_count\")\n",
    "]\n",
    "\n",
    "#Create a plot — set dimensions, toolbar, and title\n",
    "plot_sample = figure(tooltips = HOVER_TOOLTIPS,\n",
    "              tools=\"pan,wheel_zoom,save,reset\", active_scroll='wheel_zoom',\n",
    "            x_range=Range1d(-1.5, 1.5), y_range=Range1d(-1.5, 1.5), title=title_sample)\n",
    "\n",
    "# pos = nx.spring_layout(G_sample, k=0.2, iterations=1000)\n",
    "\n",
    "pos_sample = nx.fruchterman_reingold_layout(G_sample, k=0.2, iterations=1000)\n",
    "\n",
    "graph_sample = from_networkx(G_sample, pos_sample, scale=1, center=(0, 0))\n",
    "\n",
    "#Set node sizes and colors according to node degree (color as spectrum of color palette)\n",
    "minimum_value_color_sample = min(graph_sample.node_renderer.data_source.data[color_by_this_attribute])\n",
    "maximum_value_color_sample = max(graph_sample.node_renderer.data_source.data[color_by_this_attribute])\n",
    "graph_sample.node_renderer.glyph = Circle(radius=size_by_this_attribute, fill_color=linear_cmap(color_by_this_attribute, color_palette, maximum_value_color_sample, minimum_value_color_sample), fill_alpha=0.7)\n",
    "\n",
    "# graph_sample.node_renderer.glyph = Circle(radius=size_by_this_attribute, fill_color=color_by_this_attribute, fill_alpha=0.5)\n",
    "# graph_sample.edge_renderer.glyph = MultiLine(line_alpha=1, line_width=4, line_color=\"black\")\n",
    "\n",
    "plot_sample.renderers.append(graph_sample)\n",
    "\n",
    "show(plot_sample)\n",
    "\n"
   ]
  },
  {
   "cell_type": "markdown",
   "metadata": {},
   "source": [
    "Interpretation: the bigger the node, the greater the degree. the darker the color, the more fics in the fandom."
   ]
  },
  {
   "cell_type": "markdown",
   "metadata": {},
   "source": [
    "### Graph top 100"
   ]
  },
  {
   "cell_type": "code",
   "execution_count": 34,
   "metadata": {},
   "outputs": [
    {
     "data": {
      "text/html": [
       "<div>\n",
       "<style scoped>\n",
       "    .dataframe tbody tr th:only-of-type {\n",
       "        vertical-align: middle;\n",
       "    }\n",
       "\n",
       "    .dataframe tbody tr th {\n",
       "        vertical-align: top;\n",
       "    }\n",
       "\n",
       "    .dataframe thead th {\n",
       "        text-align: right;\n",
       "    }\n",
       "</style>\n",
       "<table border=\"1\" class=\"dataframe\">\n",
       "  <thead>\n",
       "    <tr style=\"text-align: right;\">\n",
       "      <th></th>\n",
       "      <th>count</th>\n",
       "      <th>integer_1</th>\n",
       "      <th>integer_2</th>\n",
       "      <th>name_1</th>\n",
       "      <th>name_2</th>\n",
       "    </tr>\n",
       "  </thead>\n",
       "  <tbody>\n",
       "    <tr>\n",
       "      <th>0</th>\n",
       "      <td>83981</td>\n",
       "      <td>414093</td>\n",
       "      <td>1001939</td>\n",
       "      <td>Marvel Cinematic Universe</td>\n",
       "      <td>The Avengers (Marvel Movies)</td>\n",
       "    </tr>\n",
       "    <tr>\n",
       "      <th>46</th>\n",
       "      <td>51455</td>\n",
       "      <td>414093</td>\n",
       "      <td>586439</td>\n",
       "      <td>Marvel Cinematic Universe</td>\n",
       "      <td>Captain America (Movies)</td>\n",
       "    </tr>\n",
       "    <tr>\n",
       "      <th>47</th>\n",
       "      <td>35409</td>\n",
       "      <td>586439</td>\n",
       "      <td>1001939</td>\n",
       "      <td>Captain America (Movies)</td>\n",
       "      <td>The Avengers (Marvel Movies)</td>\n",
       "    </tr>\n",
       "    <tr>\n",
       "      <th>156</th>\n",
       "      <td>31923</td>\n",
       "      <td>116304</td>\n",
       "      <td>242462</td>\n",
       "      <td>A Song of Ice and Fire - George R. R. Martin</td>\n",
       "      <td>Game of Thrones (TV)</td>\n",
       "    </tr>\n",
       "    <tr>\n",
       "      <th>366</th>\n",
       "      <td>27523</td>\n",
       "      <td>727114</td>\n",
       "      <td>1001939</td>\n",
       "      <td>The Avengers (Marvel) - All Media Types</td>\n",
       "      <td>The Avengers (Marvel Movies)</td>\n",
       "    </tr>\n",
       "  </tbody>\n",
       "</table>\n",
       "</div>"
      ],
      "text/plain": [
       "     count  integer_1  integer_2  \\\n",
       "0    83981     414093    1001939   \n",
       "46   51455     414093     586439   \n",
       "47   35409     586439    1001939   \n",
       "156  31923     116304     242462   \n",
       "366  27523     727114    1001939   \n",
       "\n",
       "                                           name_1  \\\n",
       "0                       Marvel Cinematic Universe   \n",
       "46                      Marvel Cinematic Universe   \n",
       "47                       Captain America (Movies)   \n",
       "156  A Song of Ice and Fire - George R. R. Martin   \n",
       "366       The Avengers (Marvel) - All Media Types   \n",
       "\n",
       "                           name_2  \n",
       "0    The Avengers (Marvel Movies)  \n",
       "46       Captain America (Movies)  \n",
       "47   The Avengers (Marvel Movies)  \n",
       "156          Game of Thrones (TV)  \n",
       "366  The Avengers (Marvel Movies)  "
      ]
     },
     "execution_count": 34,
     "metadata": {},
     "output_type": "execute_result"
    }
   ],
   "source": [
    "top_edgelist.head()"
   ]
  },
  {
   "cell_type": "markdown",
   "metadata": {},
   "source": [
    "Noticing that a lot of the above 'crossovers' are just within the same fandom e.g. The Avengers (Marvel) - All Media Types and The Avengers (Marvel Movies). A lot of these are authors just tagging multiple times for the same fandom, which isn't the same as a cross-over. But! This doesn't mean that 2 tags with \"All Media Types\" could come together to be a crossover from 2 different fandoms. It's just more common for the bigger fandoms to have the possibility of tagging \"All Media Types\".\n",
    "\n",
    "Going to remove \"All Media Types\" for this edgelist of top 50 crossovers, so there's more information. Going to leave the random sample as it is, because it doesn't have this high incidence of \"All Media Types\" invalidating 'crossovers'."
   ]
  },
  {
   "cell_type": "code",
   "execution_count": 35,
   "metadata": {},
   "outputs": [
    {
     "data": {
      "text/plain": [
       "741606"
      ]
     },
     "execution_count": 35,
     "metadata": {},
     "output_type": "execute_result"
    }
   ],
   "source": [
    "len(edgelist_df)"
   ]
  },
  {
   "cell_type": "code",
   "execution_count": 36,
   "metadata": {},
   "outputs": [
    {
     "data": {
      "text/plain": [
       "666344"
      ]
     },
     "execution_count": 36,
     "metadata": {},
     "output_type": "execute_result"
    }
   ],
   "source": [
    "# Create a boolean mask to identify rows that contain \"& Related Fandoms\" in either 'name_1' or 'name_2'\n",
    "mask_all_media_types = edgelist_df['name_1'].str.contains(\"All Media Types\") | edgelist_df['name_2'].str.contains(\"All Media Types\")\n",
    "\n",
    "# Use the mask to filter out the rows\n",
    "top_edgelist_df = edgelist_df[~mask_all_media_types]\n",
    "len(top_edgelist_df)"
   ]
  },
  {
   "cell_type": "code",
   "execution_count": 37,
   "metadata": {},
   "outputs": [],
   "source": [
    "top_edgelist = top_edgelist_df.sort_values(by=\"count\", ascending=False).head(top_num)"
   ]
  },
  {
   "cell_type": "code",
   "execution_count": 38,
   "metadata": {},
   "outputs": [
    {
     "data": {
      "text/plain": [
       "NodeDataView({414093: {}, 1001939: {}, 586439: {}, 116304: {}, 242462: {}, 226657: {}, 7266: {}, 114591: {}, 27251507: {}, 245368: {}, 858574: {}, 1080663: {}, 406: {}, 27785: {}, 11987966: {}, 33035890: {}, 218280: {}, 254648: {}, 32833447: {}, 115613: {}, 224545: {}, 10801369: {}, 229522: {}, 134900: {}, 34555820: {}, 114961: {}, 873394: {}, 82576: {}, 969647: {}, 1801: {}, 601802: {}, 28642: {}, 390: {}, 879346: {}, 235690: {}, 23985107: {}, 21872622: {}, 34135873: {}, 25760640: {}, 169: {}, 13253: {}, 96137: {}, 10223: {}, 22034: {}, 81269: {}, 4231202: {}, 289604: {}, 870188: {}, 5437936: {}, 1464: {}, 1072216: {}, 6856609: {}, 15270224: {}, 587792: {}, 2282814: {}, 5316694: {}, 2428: {}})"
      ]
     },
     "execution_count": 38,
     "metadata": {},
     "output_type": "execute_result"
    }
   ],
   "source": [
    "# needs to be indices so that bokeh can work\n",
    "\n",
    "G_top = nx.from_pandas_edgelist(top_edgelist, source='integer_1', target='integer_2', edge_attr='count')\n",
    "G_top.nodes(data=True)"
   ]
  },
  {
   "cell_type": "code",
   "execution_count": 39,
   "metadata": {},
   "outputs": [],
   "source": [
    "# set node attribudes for fandom names\n",
    "nx.set_node_attributes(G_top, name='fandom', values=id_fandom_mapping)\n",
    "\n",
    "# i want to color by cached_count of each fandom\n",
    "nx.set_node_attributes(G_top, name='cached_count', values=id_cached_count_mapping)\n",
    "\n",
    "# need to adjust cached_count because too big distance between numbers\n",
    "nx.set_node_attributes(G_top, name='adjusted_cached_count', values=adjusted_cached_count_mapping)"
   ]
  },
  {
   "cell_type": "code",
   "execution_count": 40,
   "metadata": {},
   "outputs": [],
   "source": [
    "# node attributes for degree \n",
    "degrees = dict(nx.degree(G_top))\n",
    "nx.set_node_attributes(G_top, name='degree', values=degrees)"
   ]
  },
  {
   "cell_type": "code",
   "execution_count": 41,
   "metadata": {},
   "outputs": [],
   "source": [
    "# Slightly adjust degree so that the nodes with very small degrees are still visible\n",
    "number_to_adjust_by = 10\n",
    "adjusted_node_size = dict([(node, degree/number_to_adjust_by) for node, degree in nx.degree(G_top)])\n",
    "nx.set_node_attributes(G_top, name='adjusted_node_size', values=adjusted_node_size)"
   ]
  },
  {
   "cell_type": "code",
   "execution_count": 42,
   "metadata": {},
   "outputs": [
    {
     "data": {
      "text/html": [
       "\n",
       "  <div id=\"c0730be4-6895-45e9-b96e-2344d77f59fe\" data-root-id=\"p1137\" style=\"display: contents;\"></div>\n"
      ]
     },
     "metadata": {},
     "output_type": "display_data"
    },
    {
     "data": {
      "application/javascript": "(function(root) {\n  function embed_document(root) {\n  const docs_json = {\"592caa5b-7405-46a8-aaa7-4d238b58f66a\":{\"version\":\"3.4.1\",\"title\":\"Bokeh Application\",\"roots\":[{\"type\":\"object\",\"name\":\"Figure\",\"id\":\"p1137\",\"attributes\":{\"x_range\":{\"type\":\"object\",\"name\":\"Range1d\",\"id\":\"p1135\",\"attributes\":{\"start\":-1.5,\"end\":1.5}},\"y_range\":{\"type\":\"object\",\"name\":\"Range1d\",\"id\":\"p1136\",\"attributes\":{\"start\":-1.5,\"end\":1.5}},\"x_scale\":{\"type\":\"object\",\"name\":\"LinearScale\",\"id\":\"p1147\"},\"y_scale\":{\"type\":\"object\",\"name\":\"LinearScale\",\"id\":\"p1148\"},\"title\":{\"type\":\"object\",\"name\":\"Title\",\"id\":\"p1140\",\"attributes\":{\"text\":\"Fandom Network by Cross-overs, 50 most cross-overs\"}},\"renderers\":[{\"type\":\"object\",\"name\":\"GraphRenderer\",\"id\":\"p1164\",\"attributes\":{\"layout_provider\":{\"type\":\"object\",\"name\":\"StaticLayoutProvider\",\"id\":\"p1181\",\"attributes\":{\"graph_layout\":{\"type\":\"map\",\"entries\":[[414093,{\"type\":\"ndarray\",\"array\":{\"type\":\"bytes\",\"data\":\"krSL7d2soL+bigQXijWePw==\"},\"shape\":[2],\"dtype\":\"float64\",\"order\":\"little\"}],[1001939,{\"type\":\"ndarray\",\"array\":{\"type\":\"bytes\",\"data\":\"4MQP2lNYm78qw6tKbmqcPw==\"},\"shape\":[2],\"dtype\":\"float64\",\"order\":\"little\"}],[586439,{\"type\":\"ndarray\",\"array\":{\"type\":\"bytes\",\"data\":\"rrv/FjUrmb9hi4QNf4CWPw==\"},\"shape\":[2],\"dtype\":\"float64\",\"order\":\"little\"}],[116304,{\"type\":\"ndarray\",\"array\":{\"type\":\"bytes\",\"data\":\"T1x9Z25YyD+BpIyY+hbvPw==\"},\"shape\":[2],\"dtype\":\"float64\",\"order\":\"little\"}],[242462,{\"type\":\"ndarray\",\"array\":{\"type\":\"bytes\",\"data\":\"+c9Asc3Wxz/pzZpgfTzvPw==\"},\"shape\":[2],\"dtype\":\"float64\",\"order\":\"little\"}],[226657,{\"type\":\"ndarray\",\"array\":{\"type\":\"bytes\",\"data\":\"XgNcaaaDl7++fBPdpRadPw==\"},\"shape\":[2],\"dtype\":\"float64\",\"order\":\"little\"}],[7266,{\"type\":\"ndarray\",\"array\":{\"type\":\"bytes\",\"data\":\"csxBuR2kn78FHw/7gMqUPw==\"},\"shape\":[2],\"dtype\":\"float64\",\"order\":\"little\"}],[114591,{\"type\":\"ndarray\",\"array\":{\"type\":\"bytes\",\"data\":\"L36RvYCa7r8Thv1ebhvJvw==\"},\"shape\":[2],\"dtype\":\"float64\",\"order\":\"little\"}],[27251507,{\"type\":\"ndarray\",\"array\":{\"type\":\"bytes\",\"data\":\"6VWaPYhp7r+axR23JTrJvw==\"},\"shape\":[2],\"dtype\":\"float64\",\"order\":\"little\"}],[245368,{\"type\":\"ndarray\",\"array\":{\"type\":\"bytes\",\"data\":\"JDF/GTVZnL9FgdBRCB+YPw==\"},\"shape\":[2],\"dtype\":\"float64\",\"order\":\"little\"}],[858574,{\"type\":\"ndarray\",\"array\":{\"type\":\"bytes\",\"data\":\"LcZs1P/l1T9DQ5eTuBzkPw==\"},\"shape\":[2],\"dtype\":\"float64\",\"order\":\"little\"}],[1080663,{\"type\":\"ndarray\",\"array\":{\"type\":\"bytes\",\"data\":\"3Yc8cQcg1j/sYAkhP1fkPw==\"},\"shape\":[2],\"dtype\":\"float64\",\"order\":\"little\"}],[406,{\"type\":\"ndarray\",\"array\":{\"type\":\"bytes\",\"data\":\"Ap+z2hLZ6j+mujCv513hPw==\"},\"shape\":[2],\"dtype\":\"float64\",\"order\":\"little\"}],[27785,{\"type\":\"ndarray\",\"array\":{\"type\":\"bytes\",\"data\":\"7dzTvMvY6j9MT12bUizhPw==\"},\"shape\":[2],\"dtype\":\"float64\",\"order\":\"little\"}],[11987966,{\"type\":\"ndarray\",\"array\":{\"type\":\"bytes\",\"data\":\"LkGV+NxF0r9k2/gZS53tvw==\"},\"shape\":[2],\"dtype\":\"float64\",\"order\":\"little\"}],[33035890,{\"type\":\"ndarray\",\"array\":{\"type\":\"bytes\",\"data\":\"rm/UwxMn0r9zsV+wEWbtvw==\"},\"shape\":[2],\"dtype\":\"float64\",\"order\":\"little\"}],[218280,{\"type\":\"ndarray\",\"array\":{\"type\":\"bytes\",\"data\":\"rc2jPzchwD/eyUjV1pPuvw==\"},\"shape\":[2],\"dtype\":\"float64\",\"order\":\"little\"}],[254648,{\"type\":\"ndarray\",\"array\":{\"type\":\"bytes\",\"data\":\"rJ2vn1+dvz8shlV8wWbuvw==\"},\"shape\":[2],\"dtype\":\"float64\",\"order\":\"little\"}],[32833447,{\"type\":\"ndarray\",\"array\":{\"type\":\"bytes\",\"data\":\"cqq9e1Khlr/lPY2KRQihPw==\"},\"shape\":[2],\"dtype\":\"float64\",\"order\":\"little\"}],[115613,{\"type\":\"ndarray\",\"array\":{\"type\":\"bytes\",\"data\":\"iJZn591Y779z0GJt+wTDPw==\"},\"shape\":[2],\"dtype\":\"float64\",\"order\":\"little\"}],[224545,{\"type\":\"ndarray\",\"array\":{\"type\":\"bytes\",\"data\":\"FSuW/WMn77/pJAnojfjCPw==\"},\"shape\":[2],\"dtype\":\"float64\",\"order\":\"little\"}],[10801369,{\"type\":\"ndarray\",\"array\":{\"type\":\"bytes\",\"data\":\"eE9JdMBgm79mpfF2JsuhPw==\"},\"shape\":[2],\"dtype\":\"float64\",\"order\":\"little\"}],[229522,{\"type\":\"ndarray\",\"array\":{\"type\":\"bytes\",\"data\":\"kZJsbeVp1T+RxJIdERvkPw==\"},\"shape\":[2],\"dtype\":\"float64\",\"order\":\"little\"}],[134900,{\"type\":\"ndarray\",\"array\":{\"type\":\"bytes\",\"data\":\"rOlJJF+R7T/a1/njzNfUvw==\"},\"shape\":[2],\"dtype\":\"float64\",\"order\":\"little\"}],[34555820,{\"type\":\"ndarray\",\"array\":{\"type\":\"bytes\",\"data\":\"GVW2xSlZ7T9OfVffRdvUvw==\"},\"shape\":[2],\"dtype\":\"float64\",\"order\":\"little\"}],[114961,{\"type\":\"ndarray\",\"array\":{\"type\":\"bytes\",\"data\":\"jsUqdQFN4b8+xhAeM9nKPw==\"},\"shape\":[2],\"dtype\":\"float64\",\"order\":\"little\"}],[873394,{\"type\":\"ndarray\",\"array\":{\"type\":\"bytes\",\"data\":\"huLfPDx84b9x/tMbdB3LPw==\"},\"shape\":[2],\"dtype\":\"float64\",\"order\":\"little\"}],[82576,{\"type\":\"ndarray\",\"array\":{\"type\":\"bytes\",\"data\":\"eerBeK424T9BeII2h/aXvw==\"},\"shape\":[2],\"dtype\":\"float64\",\"order\":\"little\"}],[969647,{\"type\":\"ndarray\",\"array\":{\"type\":\"bytes\",\"data\":\"ftkibdQt4T9CDKw5Wvedvw==\"},\"shape\":[2],\"dtype\":\"float64\",\"order\":\"little\"}],[1801,{\"type\":\"ndarray\",\"array\":{\"type\":\"bytes\",\"data\":\"DR9SDc7E1j953sxHkAXRPw==\"},\"shape\":[2],\"dtype\":\"float64\",\"order\":\"little\"}],[601802,{\"type\":\"ndarray\",\"array\":{\"type\":\"bytes\",\"data\":\"n3kBRVph1j/QAla4/M7QPw==\"},\"shape\":[2],\"dtype\":\"float64\",\"order\":\"little\"}],[28642,{\"type\":\"ndarray\",\"array\":{\"type\":\"bytes\",\"data\":\"bag5Tdwv1j/xO67c3urjPw==\"},\"shape\":[2],\"dtype\":\"float64\",\"order\":\"little\"}],[390,{\"type\":\"ndarray\",\"array\":{\"type\":\"bytes\",\"data\":\"1ydz5YFe4T/Lmki7GfKbvw==\"},\"shape\":[2],\"dtype\":\"float64\",\"order\":\"little\"}],[879346,{\"type\":\"ndarray\",\"array\":{\"type\":\"bytes\",\"data\":\"QsBMalgvpb/SO4es2LWiPw==\"},\"shape\":[2],\"dtype\":\"float64\",\"order\":\"little\"}],[235690,{\"type\":\"ndarray\",\"array\":{\"type\":\"bytes\",\"data\":\"Wgd0MfKt0z/kKFwgC6Xgvw==\"},\"shape\":[2],\"dtype\":\"float64\",\"order\":\"little\"}],[23985107,{\"type\":\"ndarray\",\"array\":{\"type\":\"bytes\",\"data\":\"I9ZnaJva0z+ZlqTAA9Lgvw==\"},\"shape\":[2],\"dtype\":\"float64\",\"order\":\"little\"}],[21872622,{\"type\":\"ndarray\",\"array\":{\"type\":\"bytes\",\"data\":\"gqzGcmhSxL9eDkDfVMzvPw==\"},\"shape\":[2],\"dtype\":\"float64\",\"order\":\"little\"}],[34135873,{\"type\":\"ndarray\",\"array\":{\"type\":\"bytes\",\"data\":\"5xzZEPl5xL8AAAAAAADwPw==\"},\"shape\":[2],\"dtype\":\"float64\",\"order\":\"little\"}],[25760640,{\"type\":\"ndarray\",\"array\":{\"type\":\"bytes\",\"data\":\"52wZDHhi0r+03I8/0dLtvw==\"},\"shape\":[2],\"dtype\":\"float64\",\"order\":\"little\"}],[169,{\"type\":\"ndarray\",\"array\":{\"type\":\"bytes\",\"data\":\"u0BpCT205T8mRORz2jPnvw==\"},\"shape\":[2],\"dtype\":\"float64\",\"order\":\"little\"}],[13253,{\"type\":\"ndarray\",\"array\":{\"type\":\"bytes\",\"data\":\"Yiy12hag5T8LJTipVPvmvw==\"},\"shape\":[2],\"dtype\":\"float64\",\"order\":\"little\"}],[96137,{\"type\":\"ndarray\",\"array\":{\"type\":\"bytes\",\"data\":\"RjoAcmXUob+1GoOzouGkPw==\"},\"shape\":[2],\"dtype\":\"float64\",\"order\":\"little\"}],[10223,{\"type\":\"ndarray\",\"array\":{\"type\":\"bytes\",\"data\":\"M1pU9bRa5783RHCMJJblPw==\"},\"shape\":[2],\"dtype\":\"float64\",\"order\":\"little\"}],[22034,{\"type\":\"ndarray\",\"array\":{\"type\":\"bytes\",\"data\":\"HJyUwIKJ57+6ecq4eqblPw==\"},\"shape\":[2],\"dtype\":\"float64\",\"order\":\"little\"}],[81269,{\"type\":\"ndarray\",\"array\":{\"type\":\"bytes\",\"data\":\"jDQzNrxupz9O5JyRltrWvw==\"},\"shape\":[2],\"dtype\":\"float64\",\"order\":\"little\"}],[4231202,{\"type\":\"ndarray\",\"array\":{\"type\":\"bytes\",\"data\":\"2+ZPxr85pz/AEZY2JD/Xvw==\"},\"shape\":[2],\"dtype\":\"float64\",\"order\":\"little\"}],[289604,{\"type\":\"ndarray\",\"array\":{\"type\":\"bytes\",\"data\":\"tGGDsUMwpb8M0j/pa66WPw==\"},\"shape\":[2],\"dtype\":\"float64\",\"order\":\"little\"}],[870188,{\"type\":\"ndarray\",\"array\":{\"type\":\"bytes\",\"data\":\"nSLebcDf3b/GwoaRO4nsPw==\"},\"shape\":[2],\"dtype\":\"float64\",\"order\":\"little\"}],[5437936,{\"type\":\"ndarray\",\"array\":{\"type\":\"bytes\",\"data\":\"lTlEW5gV3r9TIlckE7XsPw==\"},\"shape\":[2],\"dtype\":\"float64\",\"order\":\"little\"}],[1464,{\"type\":\"ndarray\",\"array\":{\"type\":\"bytes\",\"data\":\"b1J/XYso1z+t7F681zzRPw==\"},\"shape\":[2],\"dtype\":\"float64\",\"order\":\"little\"}],[1072216,{\"type\":\"ndarray\",\"array\":{\"type\":\"bytes\",\"data\":\"QGPg6pdE679pXzsa5Sbgvw==\"},\"shape\":[2],\"dtype\":\"float64\",\"order\":\"little\"}],[6856609,{\"type\":\"ndarray\",\"array\":{\"type\":\"bytes\",\"data\":\"7VCw8Wgl67/81+qPXQDgvw==\"},\"shape\":[2],\"dtype\":\"float64\",\"order\":\"little\"}],[15270224,{\"type\":\"ndarray\",\"array\":{\"type\":\"bytes\",\"data\":\"UIldu73K7T8iPyB4NdnUvw==\"},\"shape\":[2],\"dtype\":\"float64\",\"order\":\"little\"}],[587792,{\"type\":\"ndarray\",\"array\":{\"type\":\"bytes\",\"data\":\"xNAJ4WBD5L9x4XoneqHnvw==\"},\"shape\":[2],\"dtype\":\"float64\",\"order\":\"little\"}],[2282814,{\"type\":\"ndarray\",\"array\":{\"type\":\"bytes\",\"data\":\"IcYLsD5U5L8l+gL4FtDnvw==\"},\"shape\":[2],\"dtype\":\"float64\",\"order\":\"little\"}],[5316694,{\"type\":\"ndarray\",\"array\":{\"type\":\"bytes\",\"data\":\"1sQ/+tVypr9LmAOGWzeePw==\"},\"shape\":[2],\"dtype\":\"float64\",\"order\":\"little\"}],[2428,{\"type\":\"ndarray\",\"array\":{\"type\":\"bytes\",\"data\":\"Bh6QRPah5T9DEGSxPsTmvw==\"},\"shape\":[2],\"dtype\":\"float64\",\"order\":\"little\"}]]}}},\"node_renderer\":{\"type\":\"object\",\"name\":\"GlyphRenderer\",\"id\":\"p1169\",\"attributes\":{\"data_source\":{\"type\":\"object\",\"name\":\"ColumnDataSource\",\"id\":\"p1166\",\"attributes\":{\"selected\":{\"type\":\"object\",\"name\":\"Selection\",\"id\":\"p1167\",\"attributes\":{\"indices\":[],\"line_indices\":[]}},\"selection_policy\":{\"type\":\"object\",\"name\":\"UnionRenderers\",\"id\":\"p1168\"},\"data\":{\"type\":\"map\",\"entries\":[[\"adjusted_cached_count\",[12.390629202848693,11.96917240335714,11.468503247417482,10.772351190837892,10.909417871295242,10.743588146052236,11.903331079318603,10.575257867336488,10.515044996056119,10.715173039019605,10.437404507525516,10.581774870189049,10.756433716893001,10.770903116628146,10.767263191298982,10.33899678199267,10.57334051729299,10.347724555144831,9.9241231661362,10.024509780783578,9.41156545918937,9.564512185696797,9.73896662036768,9.636914443294582,9.330520532232288,9.345919666218006,9.745194973541535,10.140849541087894,10.14419593502981,10.493992741124194,10.422430144404066,9.383200644980624,10.452013503484945,10.421179548719396,9.673382324888367,10.327643559087782,9.082166033252674,8.96610085736724,8.708639655987193,9.833976689772,9.706620724300137,9.07280095795412,9.4296365315615,8.792701462936309,8.942853006809921,9.995291593011165,9.509778075438817,8.934323331054905,9.271435471335993,9.62990560446313,8.781862489558945,10.527606146685637,8.752897524775305,10.11480140809676,10.204073510592933,8.664750755773852,9.388151773292252]],[\"fandom\",[\"Marvel Cinematic Universe\",\"The Avengers (Marvel Movies)\",\"Captain America (Movies)\",\"A Song of Ice and Fire - George R. R. Martin\",\"Game of Thrones (TV)\",\"Iron Man (Movies)\",\"Marvel\",\"Good Omens - Neil Gaiman & Terry Pratchett\",\"Good Omens (TV)\",\"Thor (Movies)\",\"Dragon Age (Video Games)\",\"Dragon Age: Inquisition\",\"Doctor Who\",\"Doctor Who (2005)\",\"\\u9b54\\u9053\\u7956\\u5e08 - \\u58a8\\u9999\\u94dc\\u81ed | M\\u00f3d\\u00e0o Z\\u01d4sh\\u012b - M\\u00f2xi\\u0101ng T\\u00f3ngxi\\u00f9\",\"\\u9648\\u60c5\\u4ee4 | The Untamed (TV)\",\"Video Blogging RPF\",\"Minecraft (Video Game)\",\"Spider-Man (Tom Holland Movies)\",\"Percy Jackson and the Olympians - Rick Riordan\",\"The Heroes of Olympus - Rick Riordan\",\"Spider-Man: Homecoming (2017)\",\"Dragon Age II\",\"IT - Stephen King\",\"IT (Movies - Muschietti)\",\"The Hobbit - J. R. R. Tolkien\",\"The Hobbit (Jackson Movies)\",\"Batman (Comics)\",\"DCU (Comics)\",\"Star Trek\",\"Star Trek: Alternate Original Series (Movies)\",\"Dragon Age: Origins\",\"DCU\",\"Agents of S.H.I.E.L.D. (TV)\",\"Fire Emblem Series\",\"Fire Emblem: Fuukasetsugetsu | Fire Emblem: Three Houses\",\"\\u9b3c\\u6ec5\\u306e\\u5203 | Kimetsu no Yaiba (Manga)\",\"\\u9b3c\\u6ec5\\u306e\\u5203 | Demon Slayer: Kimetsu no Yaiba (Anime)\",\"\\u9b54\\u9053\\u7956\\u5e08 | M\\u00f3d\\u00e0o Z\\u01d4sh\\u012b (Cartoon)\",\"My Chemical Romance\",\"Bandom\",\"Marvel (Movies)\",\"World Wrestling Entertainment\",\"Professional Wrestling\",\"Persona Series\",\"Persona 5\",\"Marvel (Comics)\",\"Fallout (Video Games)\",\"Fallout 4\",\"Star Trek: The Original Series\",\"The Mortal Instruments Series - Cassandra Clare\",\"Shadowhunters (TV)\",\"IT (2017)\",\"Arrow (TV 2012)\",\"The Flash (TV 2014)\",\"Doctor Strange (2016)\",\"Fall Out Boy\"]],[\"adjusted_node_size\",[1.1,0.7,0.5,0.1,0.1,0.6,0.3,0.1,0.1,0.4,0.3,0.1,0.1,0.1,0.2,0.1,0.1,0.1,0.3,0.1,0.1,0.3,0.1,0.2,0.1,0.1,0.1,0.2,0.2,0.2,0.1,0.1,0.2,0.1,0.1,0.1,0.1,0.1,0.1,0.1,0.2,0.1,0.1,0.1,0.1,0.1,0.1,0.1,0.1,0.1,0.1,0.1,0.1,0.1,0.1,0.1,0.1]],[\"degree\",[11,7,5,1,1,6,3,1,1,4,3,1,1,1,2,1,1,1,3,1,1,3,1,2,1,1,1,2,2,2,1,1,2,1,1,1,1,1,1,1,2,1,1,1,1,1,1,1,1,1,1,1,1,1,1,1,1]],[\"cached_count\",[240536,157813,95654,47683,54688,46331,147757,39153,36865,45033,34111,39409,46930,47614,47441,30914,39078,31185,20416,22572,12228,14249,16965,15319,11276,11451,17071,25357,25442,36097,33604,11886,34613,33562,15888,30565,8796,7832,6054,18656,16425,8714,12451,6585,7652,21922,13490,7587,10629,15212,6514,37331,6328,24705,27012,5794,11945]],[\"index\",[414093,1001939,586439,116304,242462,226657,7266,114591,27251507,245368,858574,1080663,406,27785,11987966,33035890,218280,254648,32833447,115613,224545,10801369,229522,134900,34555820,114961,873394,82576,969647,1801,601802,28642,390,879346,235690,23985107,21872622,34135873,25760640,169,13253,96137,10223,22034,81269,4231202,289604,870188,5437936,1464,1072216,6856609,15270224,587792,2282814,5316694,2428]]]}}},\"view\":{\"type\":\"object\",\"name\":\"CDSView\",\"id\":\"p1170\",\"attributes\":{\"filter\":{\"type\":\"object\",\"name\":\"AllIndices\",\"id\":\"p1171\"}}},\"glyph\":{\"type\":\"object\",\"name\":\"Circle\",\"id\":\"p1183\",\"attributes\":{\"radius\":{\"type\":\"field\",\"field\":\"adjusted_node_size\"},\"fill_color\":{\"type\":\"field\",\"field\":\"adjusted_cached_count\",\"transform\":{\"type\":\"object\",\"name\":\"LinearColorMapper\",\"id\":\"p1182\",\"attributes\":{\"palette\":[\"#99000d\",\"#cb181d\",\"#ef3b2c\",\"#fb6a4a\",\"#fc9272\",\"#fcbba1\",\"#fee0d2\",\"#fff5f0\"],\"low\":12.390629202848693,\"high\":8.664750755773852}}},\"fill_alpha\":{\"type\":\"value\",\"value\":0.7}}}}},\"edge_renderer\":{\"type\":\"object\",\"name\":\"GlyphRenderer\",\"id\":\"p1176\",\"attributes\":{\"data_source\":{\"type\":\"object\",\"name\":\"ColumnDataSource\",\"id\":\"p1173\",\"attributes\":{\"selected\":{\"type\":\"object\",\"name\":\"Selection\",\"id\":\"p1174\",\"attributes\":{\"indices\":[],\"line_indices\":[]}},\"selection_policy\":{\"type\":\"object\",\"name\":\"UnionRenderers\",\"id\":\"p1175\"},\"data\":{\"type\":\"map\",\"entries\":[[\"count\",[83981,51455,27519,25135,21506,12901,8458,6016,4971,4637,4010,35409,23668,18504,15378,6507,5243,12349,7014,6305,31923,6826,5895,4451,24336,19015,7932,6233,18412,17742,5368,16448,9030,7568,4314,7144,7131,4124,6056,6753,4437,5756,5569,5360,3956,4800,4768,4535,4369,4196]],[\"start\",[414093,414093,414093,414093,414093,414093,414093,414093,414093,414093,414093,1001939,1001939,1001939,1001939,1001939,1001939,586439,586439,586439,116304,226657,226657,226657,114591,858574,858574,858574,406,11987966,11987966,218280,115613,134900,134900,114961,82576,82576,969647,1801,1801,235690,21872622,169,13253,10223,81269,870188,1072216,587792]],[\"end\",[1001939,586439,226657,7266,245368,32833447,10801369,879346,96137,289604,5316694,586439,226657,245368,7266,32833447,10801369,226657,245368,7266,242462,32833447,245368,10801369,27251507,1080663,229522,28642,27785,33035890,25760640,254648,224545,34555820,15270224,873394,969647,390,390,601802,1464,23985107,34135873,13253,2428,22034,4231202,5437936,6856609,2282814]]]}}},\"view\":{\"type\":\"object\",\"name\":\"CDSView\",\"id\":\"p1177\",\"attributes\":{\"filter\":{\"type\":\"object\",\"name\":\"AllIndices\",\"id\":\"p1178\"}}},\"glyph\":{\"type\":\"object\",\"name\":\"MultiLine\",\"id\":\"p1172\"}}},\"selection_policy\":{\"type\":\"object\",\"name\":\"NodesOnly\",\"id\":\"p1179\"},\"inspection_policy\":{\"type\":\"object\",\"name\":\"NodesOnly\",\"id\":\"p1180\"}}}],\"toolbar\":{\"type\":\"object\",\"name\":\"Toolbar\",\"id\":\"p1146\",\"attributes\":{\"tools\":[{\"type\":\"object\",\"name\":\"PanTool\",\"id\":\"p1159\"},{\"type\":\"object\",\"name\":\"WheelZoomTool\",\"id\":\"p1160\",\"attributes\":{\"renderers\":\"auto\"}},{\"type\":\"object\",\"name\":\"SaveTool\",\"id\":\"p1161\"},{\"type\":\"object\",\"name\":\"ResetTool\",\"id\":\"p1162\"},{\"type\":\"object\",\"name\":\"HoverTool\",\"id\":\"p1163\",\"attributes\":{\"renderers\":\"auto\",\"tooltips\":[[\"Fandom\",\"@fandom\"],[\"Degree\",\"@degree\"],[\"Count\",\"@cached_count\"]]}}],\"active_scroll\":{\"id\":\"p1160\"}}},\"left\":[{\"type\":\"object\",\"name\":\"LinearAxis\",\"id\":\"p1154\",\"attributes\":{\"ticker\":{\"type\":\"object\",\"name\":\"BasicTicker\",\"id\":\"p1155\",\"attributes\":{\"mantissas\":[1,2,5]}},\"formatter\":{\"type\":\"object\",\"name\":\"BasicTickFormatter\",\"id\":\"p1156\"},\"major_label_policy\":{\"type\":\"object\",\"name\":\"AllLabels\",\"id\":\"p1157\"}}}],\"below\":[{\"type\":\"object\",\"name\":\"LinearAxis\",\"id\":\"p1149\",\"attributes\":{\"ticker\":{\"type\":\"object\",\"name\":\"BasicTicker\",\"id\":\"p1150\",\"attributes\":{\"mantissas\":[1,2,5]}},\"formatter\":{\"type\":\"object\",\"name\":\"BasicTickFormatter\",\"id\":\"p1151\"},\"major_label_policy\":{\"type\":\"object\",\"name\":\"AllLabels\",\"id\":\"p1152\"}}}],\"center\":[{\"type\":\"object\",\"name\":\"Grid\",\"id\":\"p1153\",\"attributes\":{\"axis\":{\"id\":\"p1149\"}}},{\"type\":\"object\",\"name\":\"Grid\",\"id\":\"p1158\",\"attributes\":{\"dimension\":1,\"axis\":{\"id\":\"p1154\"}}}]}}]}};\n  const render_items = [{\"docid\":\"592caa5b-7405-46a8-aaa7-4d238b58f66a\",\"roots\":{\"p1137\":\"c0730be4-6895-45e9-b96e-2344d77f59fe\"},\"root_ids\":[\"p1137\"]}];\n  void root.Bokeh.embed.embed_items_notebook(docs_json, render_items);\n  }\n  if (root.Bokeh !== undefined) {\n    embed_document(root);\n  } else {\n    let attempts = 0;\n    const timer = setInterval(function(root) {\n      if (root.Bokeh !== undefined) {\n        clearInterval(timer);\n        embed_document(root);\n      } else {\n        attempts++;\n        if (attempts > 100) {\n          clearInterval(timer);\n          console.log(\"Bokeh: ERROR: Unable to run BokehJS code because BokehJS library is missing\");\n        }\n      }\n    }, 10, root)\n  }\n})(window);",
      "application/vnd.bokehjs_exec.v0+json": ""
     },
     "metadata": {
      "application/vnd.bokehjs_exec.v0+json": {
       "id": "p1137"
      }
     },
     "output_type": "display_data"
    }
   ],
   "source": [
    "#Choose a title!\n",
    "title = 'Fandom Network by Cross-overs, ' + str(top_num) + ' most cross-overs'\n",
    "\n",
    "#Create a plot — set dimensions, toolbar, and title\n",
    "plot_top = figure(tooltips = HOVER_TOOLTIPS,\n",
    "              tools=\"pan,wheel_zoom,save,reset\", active_scroll='wheel_zoom',\n",
    "            x_range=Range1d(-1.5, 1.5), y_range=Range1d(-1.5, 1.5), title=title)\n",
    "\n",
    "# pos_top = nx.spring_layout(G_top, k=0.2, iterations=1000)\n",
    "\n",
    "pos_top = nx.fruchterman_reingold_layout(G_top, k=0.3, iterations=1000)\n",
    "\n",
    "graph_top = from_networkx(G_top, pos_top, scale=1, center=(0, 0))\n",
    "\n",
    "#Set node sizes and colors according to node degree (color as spectrum of color palette)\n",
    "minimum_value_color_top = min(graph_top.node_renderer.data_source.data[color_by_this_attribute])\n",
    "maximum_value_color_top = max(graph_top.node_renderer.data_source.data[color_by_this_attribute])\n",
    "graph_top.node_renderer.glyph = Circle(radius=size_by_this_attribute, fill_color=linear_cmap(color_by_this_attribute, color_palette, maximum_value_color_top, minimum_value_color_top), fill_alpha=0.7)\n",
    "\n",
    "plot_top.renderers.append(graph_top)\n",
    "\n",
    "show(plot_top)\n"
   ]
  },
  {
   "cell_type": "code",
   "execution_count": null,
   "metadata": {},
   "outputs": [],
   "source": []
  }
 ],
 "metadata": {
  "kernelspec": {
   "display_name": "Python 3",
   "language": "python",
   "name": "python3"
  },
  "language_info": {
   "codemirror_mode": {
    "name": "ipython",
    "version": 3
   },
   "file_extension": ".py",
   "mimetype": "text/x-python",
   "name": "python",
   "nbconvert_exporter": "python",
   "pygments_lexer": "ipython3",
   "version": "3.12.4"
  }
 },
 "nbformat": 4,
 "nbformat_minor": 2
}
