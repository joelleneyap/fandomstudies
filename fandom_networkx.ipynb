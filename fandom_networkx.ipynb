{
 "cells": [
  {
   "cell_type": "markdown",
   "metadata": {},
   "source": [
    "# Network of Cross-overs between Fandoms"
   ]
  },
  {
   "cell_type": "code",
   "execution_count": 461,
   "metadata": {},
   "outputs": [],
   "source": [
    "import numpy as np\n",
    "import pandas as pd\n",
    "import networkx as nx\n",
    "import seaborn as sns\n",
    "import matplotlib.pyplot as plt\n",
    "from itertools import combinations\n",
    "import scipy\n",
    "from bokeh.io import show, output_notebook\n",
    "from bokeh.plotting import figure, from_networkx, output_file, save\n",
    "from bokeh.models import HoverTool, ColorBar, LinearColorMapper\n",
    "from bokeh.transform import linear_cmap\n",
    "from bokeh.layouts import column\n",
    "import matplotlib.colors as mcolors\n",
    "from bokeh.embed import file_html\n",
    "from bokeh.resources import CDN"
   ]
  },
  {
   "cell_type": "markdown",
   "metadata": {},
   "source": [
    "## Setting up"
   ]
  },
  {
   "cell_type": "code",
   "execution_count": 46,
   "metadata": {},
   "outputs": [],
   "source": [
    "tags = pd.read_csv(\"tags-20210226.csv\")\n",
    "works = pd.read_csv(\"works-20210226.csv\")"
   ]
  },
  {
   "cell_type": "code",
   "execution_count": 47,
   "metadata": {},
   "outputs": [],
   "source": [
    "# process tags\n",
    "works['tags'] = works['tags'].astype(str).apply(lambda tags: tags.split('+'))\n",
    "\n",
    "fandoms = tags[tags['type'] == \"Fandom\"]"
   ]
  },
  {
   "cell_type": "code",
   "execution_count": 48,
   "metadata": {},
   "outputs": [
    {
     "data": {
      "text/html": [
       "<div>\n",
       "<style scoped>\n",
       "    .dataframe tbody tr th:only-of-type {\n",
       "        vertical-align: middle;\n",
       "    }\n",
       "\n",
       "    .dataframe tbody tr th {\n",
       "        vertical-align: top;\n",
       "    }\n",
       "\n",
       "    .dataframe thead th {\n",
       "        text-align: right;\n",
       "    }\n",
       "</style>\n",
       "<table border=\"1\" class=\"dataframe\">\n",
       "  <thead>\n",
       "    <tr style=\"text-align: right;\">\n",
       "      <th></th>\n",
       "      <th>tags</th>\n",
       "      <th>word_count</th>\n",
       "    </tr>\n",
       "  </thead>\n",
       "  <tbody>\n",
       "    <tr>\n",
       "      <th>0</th>\n",
       "      <td>[10, 414093, 1001939, 4577144, 1499536, 110, 4...</td>\n",
       "      <td>388.0</td>\n",
       "    </tr>\n",
       "    <tr>\n",
       "      <th>1</th>\n",
       "      <td>[10, 20350917, 34816907, 23666027, 23269305, 2...</td>\n",
       "      <td>1638.0</td>\n",
       "    </tr>\n",
       "    <tr>\n",
       "      <th>2</th>\n",
       "      <td>[10, 10613413, 9780526, 3763877, 3741104, 7657...</td>\n",
       "      <td>1502.0</td>\n",
       "    </tr>\n",
       "    <tr>\n",
       "      <th>3</th>\n",
       "      <td>[10, 15322, 54862755, 20595867, 32994286, 663,...</td>\n",
       "      <td>100.0</td>\n",
       "    </tr>\n",
       "    <tr>\n",
       "      <th>4</th>\n",
       "      <td>[11, 721553, 54604, 1439500, 3938423, 53483274...</td>\n",
       "      <td>994.0</td>\n",
       "    </tr>\n",
       "    <tr>\n",
       "      <th>...</th>\n",
       "      <td>...</td>\n",
       "      <td>...</td>\n",
       "    </tr>\n",
       "    <tr>\n",
       "      <th>7269688</th>\n",
       "      <td>[78, 77, 84, 101, 104, 105, 106, 23, 13, 16, 7...</td>\n",
       "      <td>705.0</td>\n",
       "    </tr>\n",
       "    <tr>\n",
       "      <th>7269689</th>\n",
       "      <td>[78, 77, 84, 107, 23, 10, 16, 70, 933, 616]</td>\n",
       "      <td>1392.0</td>\n",
       "    </tr>\n",
       "    <tr>\n",
       "      <th>7269690</th>\n",
       "      <td>[77, 78, 69, 108, 109, 62, 110, 23, 9, 111, 16...</td>\n",
       "      <td>1755.0</td>\n",
       "    </tr>\n",
       "    <tr>\n",
       "      <th>7269691</th>\n",
       "      <td>[112, 113, 13, 114, 16, 115, 101, 117, 118, 11...</td>\n",
       "      <td>1338.0</td>\n",
       "    </tr>\n",
       "    <tr>\n",
       "      <th>7269692</th>\n",
       "      <td>[123, 124, 125, 127, 128, 13, 129, 14, 130, 13...</td>\n",
       "      <td>1836.0</td>\n",
       "    </tr>\n",
       "  </tbody>\n",
       "</table>\n",
       "<p>7269693 rows × 2 columns</p>\n",
       "</div>"
      ],
      "text/plain": [
       "                                                      tags  word_count\n",
       "0        [10, 414093, 1001939, 4577144, 1499536, 110, 4...       388.0\n",
       "1        [10, 20350917, 34816907, 23666027, 23269305, 2...      1638.0\n",
       "2        [10, 10613413, 9780526, 3763877, 3741104, 7657...      1502.0\n",
       "3        [10, 15322, 54862755, 20595867, 32994286, 663,...       100.0\n",
       "4        [11, 721553, 54604, 1439500, 3938423, 53483274...       994.0\n",
       "...                                                    ...         ...\n",
       "7269688  [78, 77, 84, 101, 104, 105, 106, 23, 13, 16, 7...       705.0\n",
       "7269689        [78, 77, 84, 107, 23, 10, 16, 70, 933, 616]      1392.0\n",
       "7269690  [77, 78, 69, 108, 109, 62, 110, 23, 9, 111, 16...      1755.0\n",
       "7269691  [112, 113, 13, 114, 16, 115, 101, 117, 118, 11...      1338.0\n",
       "7269692  [123, 124, 125, 127, 128, 13, 129, 14, 130, 13...      1836.0\n",
       "\n",
       "[7269693 rows x 2 columns]"
      ]
     },
     "execution_count": 48,
     "metadata": {},
     "output_type": "execute_result"
    }
   ],
   "source": [
    "# Filter to only columns that are needed - merge will need a lot of compute\n",
    "works_small = works[[\"tags\", \"word_count\"]]\n",
    "fandoms_small = fandoms[['id', 'name', 'cached_count']]\n",
    "works_small"
   ]
  },
  {
   "cell_type": "code",
   "execution_count": 49,
   "metadata": {},
   "outputs": [
    {
     "data": {
      "text/plain": [
       "['10', '414093', '1001939', '4577144', '1499536', '110', '4682892', '21', '16']"
      ]
     },
     "execution_count": 49,
     "metadata": {},
     "output_type": "execute_result"
    }
   ],
   "source": [
    "works_small['tags'][0]"
   ]
  },
  {
   "cell_type": "markdown",
   "metadata": {},
   "source": [
    "## Cleaning & reorg"
   ]
  },
  {
   "cell_type": "markdown",
   "metadata": {},
   "source": [
    "### 1. check if the numbers in each list of each row are in the \"id\" column of another df \"fandoms_small\""
   ]
  },
  {
   "cell_type": "code",
   "execution_count": 50,
   "metadata": {},
   "outputs": [
    {
     "name": "stderr",
     "output_type": "stream",
     "text": [
      "/var/folders/lk/jwtj64_565zdwjrcvb73p4dc0000gn/T/ipykernel_97242/239333842.py:2: SettingWithCopyWarning: \n",
      "A value is trying to be set on a copy of a slice from a DataFrame.\n",
      "Try using .loc[row_indexer,col_indexer] = value instead\n",
      "\n",
      "See the caveats in the documentation: https://pandas.pydata.org/pandas-docs/stable/user_guide/indexing.html#returning-a-view-versus-a-copy\n",
      "  works_small['tags'] = works_small['tags'].apply(\n"
     ]
    },
    {
     "data": {
      "text/plain": [
       "[10, 414093, 1001939, 4577144, 1499536, 110, 4682892, 21, 16]"
      ]
     },
     "execution_count": 50,
     "metadata": {},
     "output_type": "execute_result"
    }
   ],
   "source": [
    "# Convert strings to integers in the \"tags\" column, handling NaN values\n",
    "works_small['tags'] = works_small['tags'].apply(\n",
    "    lambda x: [int(tag) for tag in x if tag != 'nan']\n",
    ")\n",
    "\n",
    "works_small['tags'][0]"
   ]
  },
  {
   "cell_type": "code",
   "execution_count": 51,
   "metadata": {},
   "outputs": [
    {
     "name": "stderr",
     "output_type": "stream",
     "text": [
      "/var/folders/lk/jwtj64_565zdwjrcvb73p4dc0000gn/T/ipykernel_97242/1935684754.py:5: SettingWithCopyWarning: \n",
      "A value is trying to be set on a copy of a slice from a DataFrame.\n",
      "Try using .loc[row_indexer,col_indexer] = value instead\n",
      "\n",
      "See the caveats in the documentation: https://pandas.pydata.org/pandas-docs/stable/user_guide/indexing.html#returning-a-view-versus-a-copy\n",
      "  works_small['filtered_tags'] = works_small['tags'].apply(lambda tags: [tag for tag in tags if tag in fandom_ids])\n"
     ]
    }
   ],
   "source": [
    "# Convert the \"id\" column in fandoms_small to a set for faster lookup\n",
    "fandom_ids = set(fandoms_small['id'].astype(int))\n",
    "\n",
    "# Filter tags in works_small to only include those present in fandoms_small\n",
    "works_small['filtered_tags'] = works_small['tags'].apply(lambda tags: [tag for tag in tags if tag in fandom_ids])\n"
   ]
  },
  {
   "cell_type": "markdown",
   "metadata": {},
   "source": [
    "### make edgelist\n",
    "2. of the numbers in that column, count how many times a pair of them appear, and return a new df with integer 1, integer 2, and the count of each pair's appearance"
   ]
  },
  {
   "cell_type": "code",
   "execution_count": 52,
   "metadata": {},
   "outputs": [],
   "source": [
    "from itertools import combinations\n",
    "from collections import Counter\n",
    "\n",
    "# Generate all possible unique pairs from each list in the filtered_tags column\n",
    "pairs = []\n",
    "\n",
    "for tags in works_small['filtered_tags']:\n",
    "    # Generate combinations (unique pairs) for each list\n",
    "    if len(tags) > 1:\n",
    "        pairs.extend(combinations(sorted(tags), 2))\n",
    "\n",
    "# Count the occurrences of each pair\n",
    "pair_counts = Counter(pairs)\n"
   ]
  },
  {
   "cell_type": "code",
   "execution_count": 53,
   "metadata": {},
   "outputs": [
    {
     "data": {
      "text/html": [
       "<div>\n",
       "<style scoped>\n",
       "    .dataframe tbody tr th:only-of-type {\n",
       "        vertical-align: middle;\n",
       "    }\n",
       "\n",
       "    .dataframe tbody tr th {\n",
       "        vertical-align: top;\n",
       "    }\n",
       "\n",
       "    .dataframe thead th {\n",
       "        text-align: right;\n",
       "    }\n",
       "</style>\n",
       "<table border=\"1\" class=\"dataframe\">\n",
       "  <thead>\n",
       "    <tr style=\"text-align: right;\">\n",
       "      <th></th>\n",
       "      <th>count</th>\n",
       "      <th>integer_1</th>\n",
       "      <th>integer_2</th>\n",
       "    </tr>\n",
       "  </thead>\n",
       "  <tbody>\n",
       "    <tr>\n",
       "      <th>0</th>\n",
       "      <td>83981</td>\n",
       "      <td>414093</td>\n",
       "      <td>1001939</td>\n",
       "    </tr>\n",
       "    <tr>\n",
       "      <th>1</th>\n",
       "      <td>128</td>\n",
       "      <td>3741104</td>\n",
       "      <td>3763877</td>\n",
       "    </tr>\n",
       "    <tr>\n",
       "      <th>2</th>\n",
       "      <td>249</td>\n",
       "      <td>3741104</td>\n",
       "      <td>9780526</td>\n",
       "    </tr>\n",
       "    <tr>\n",
       "      <th>3</th>\n",
       "      <td>109</td>\n",
       "      <td>3741104</td>\n",
       "      <td>10613413</td>\n",
       "    </tr>\n",
       "    <tr>\n",
       "      <th>4</th>\n",
       "      <td>177</td>\n",
       "      <td>3763877</td>\n",
       "      <td>9780526</td>\n",
       "    </tr>\n",
       "  </tbody>\n",
       "</table>\n",
       "</div>"
      ],
      "text/plain": [
       "   count  integer_1  integer_2\n",
       "0  83981     414093    1001939\n",
       "1    128    3741104    3763877\n",
       "2    249    3741104    9780526\n",
       "3    109    3741104   10613413\n",
       "4    177    3763877    9780526"
      ]
     },
     "execution_count": 53,
     "metadata": {},
     "output_type": "execute_result"
    }
   ],
   "source": [
    "# Convert the pair counts to a DataFrame\n",
    "pair_counts_df = pd.DataFrame(\n",
    "    pair_counts.items(), columns=['ids', 'count']\n",
    ")\n",
    "\n",
    "pair_counts_df[['integer_1', 'integer_2']] = pd.DataFrame(pair_counts_df['ids'].tolist(), index=pair_counts_df.index) \n",
    "pair_counts_df = pair_counts_df.drop(columns='ids')\n",
    "\n",
    "pair_counts_df.head()"
   ]
  },
  {
   "cell_type": "markdown",
   "metadata": {},
   "source": [
    "### Get edgelist with fandom names"
   ]
  },
  {
   "cell_type": "code",
   "execution_count": 54,
   "metadata": {},
   "outputs": [
    {
     "data": {
      "text/html": [
       "<div>\n",
       "<style scoped>\n",
       "    .dataframe tbody tr th:only-of-type {\n",
       "        vertical-align: middle;\n",
       "    }\n",
       "\n",
       "    .dataframe tbody tr th {\n",
       "        vertical-align: top;\n",
       "    }\n",
       "\n",
       "    .dataframe thead th {\n",
       "        text-align: right;\n",
       "    }\n",
       "</style>\n",
       "<table border=\"1\" class=\"dataframe\">\n",
       "  <thead>\n",
       "    <tr style=\"text-align: right;\">\n",
       "      <th></th>\n",
       "      <th>count</th>\n",
       "      <th>integer_1</th>\n",
       "      <th>integer_2</th>\n",
       "      <th>name_1</th>\n",
       "    </tr>\n",
       "  </thead>\n",
       "  <tbody>\n",
       "    <tr>\n",
       "      <th>0</th>\n",
       "      <td>83981</td>\n",
       "      <td>414093</td>\n",
       "      <td>1001939</td>\n",
       "      <td>Marvel Cinematic Universe</td>\n",
       "    </tr>\n",
       "    <tr>\n",
       "      <th>1</th>\n",
       "      <td>128</td>\n",
       "      <td>3741104</td>\n",
       "      <td>3763877</td>\n",
       "      <td>Boku no Hero Academia</td>\n",
       "    </tr>\n",
       "    <tr>\n",
       "      <th>2</th>\n",
       "      <td>249</td>\n",
       "      <td>3741104</td>\n",
       "      <td>9780526</td>\n",
       "      <td>Boku no Hero Academia</td>\n",
       "    </tr>\n",
       "    <tr>\n",
       "      <th>3</th>\n",
       "      <td>109</td>\n",
       "      <td>3741104</td>\n",
       "      <td>10613413</td>\n",
       "      <td>Boku no Hero Academia</td>\n",
       "    </tr>\n",
       "    <tr>\n",
       "      <th>4</th>\n",
       "      <td>177</td>\n",
       "      <td>3763877</td>\n",
       "      <td>9780526</td>\n",
       "      <td>BnHA</td>\n",
       "    </tr>\n",
       "  </tbody>\n",
       "</table>\n",
       "</div>"
      ],
      "text/plain": [
       "   count  integer_1  integer_2                     name_1\n",
       "0  83981     414093    1001939  Marvel Cinematic Universe\n",
       "1    128    3741104    3763877      Boku no Hero Academia\n",
       "2    249    3741104    9780526      Boku no Hero Academia\n",
       "3    109    3741104   10613413      Boku no Hero Academia\n",
       "4    177    3763877    9780526                       BnHA"
      ]
     },
     "execution_count": 54,
     "metadata": {},
     "output_type": "execute_result"
    }
   ],
   "source": [
    "# Merge to get the first name\n",
    "merged_df_1 = pair_counts_df.merge(fandoms_small[['id', 'name']], how='left', left_on='integer_1', right_on='id')\n",
    "\n",
    "# Rename the columns for clarity\n",
    "merged_df_1 = merged_df_1.rename(columns={'name': 'name_1'})\n",
    "merged_df_1 = merged_df_1.drop(columns=['id'])\n",
    "\n",
    "merged_df_1.head()\n"
   ]
  },
  {
   "cell_type": "code",
   "execution_count": 55,
   "metadata": {},
   "outputs": [
    {
     "data": {
      "text/html": [
       "<div>\n",
       "<style scoped>\n",
       "    .dataframe tbody tr th:only-of-type {\n",
       "        vertical-align: middle;\n",
       "    }\n",
       "\n",
       "    .dataframe tbody tr th {\n",
       "        vertical-align: top;\n",
       "    }\n",
       "\n",
       "    .dataframe thead th {\n",
       "        text-align: right;\n",
       "    }\n",
       "</style>\n",
       "<table border=\"1\" class=\"dataframe\">\n",
       "  <thead>\n",
       "    <tr style=\"text-align: right;\">\n",
       "      <th></th>\n",
       "      <th>count</th>\n",
       "      <th>integer_1</th>\n",
       "      <th>integer_2</th>\n",
       "      <th>name_1</th>\n",
       "      <th>name_2</th>\n",
       "    </tr>\n",
       "  </thead>\n",
       "  <tbody>\n",
       "    <tr>\n",
       "      <th>0</th>\n",
       "      <td>83981</td>\n",
       "      <td>414093</td>\n",
       "      <td>1001939</td>\n",
       "      <td>Marvel Cinematic Universe</td>\n",
       "      <td>The Avengers (Marvel Movies)</td>\n",
       "    </tr>\n",
       "    <tr>\n",
       "      <th>1</th>\n",
       "      <td>128</td>\n",
       "      <td>3741104</td>\n",
       "      <td>3763877</td>\n",
       "      <td>Boku no Hero Academia</td>\n",
       "      <td>BnHA</td>\n",
       "    </tr>\n",
       "    <tr>\n",
       "      <th>2</th>\n",
       "      <td>249</td>\n",
       "      <td>3741104</td>\n",
       "      <td>9780526</td>\n",
       "      <td>Boku no Hero Academia</td>\n",
       "      <td>My Hero Academia</td>\n",
       "    </tr>\n",
       "    <tr>\n",
       "      <th>3</th>\n",
       "      <td>109</td>\n",
       "      <td>3741104</td>\n",
       "      <td>10613413</td>\n",
       "      <td>Boku no Hero Academia</td>\n",
       "      <td>mha</td>\n",
       "    </tr>\n",
       "    <tr>\n",
       "      <th>4</th>\n",
       "      <td>177</td>\n",
       "      <td>3763877</td>\n",
       "      <td>9780526</td>\n",
       "      <td>BnHA</td>\n",
       "      <td>My Hero Academia</td>\n",
       "    </tr>\n",
       "  </tbody>\n",
       "</table>\n",
       "</div>"
      ],
      "text/plain": [
       "   count  integer_1  integer_2                     name_1  \\\n",
       "0  83981     414093    1001939  Marvel Cinematic Universe   \n",
       "1    128    3741104    3763877      Boku no Hero Academia   \n",
       "2    249    3741104    9780526      Boku no Hero Academia   \n",
       "3    109    3741104   10613413      Boku no Hero Academia   \n",
       "4    177    3763877    9780526                       BnHA   \n",
       "\n",
       "                         name_2  \n",
       "0  The Avengers (Marvel Movies)  \n",
       "1                          BnHA  \n",
       "2              My Hero Academia  \n",
       "3                           mha  \n",
       "4              My Hero Academia  "
      ]
     },
     "execution_count": 55,
     "metadata": {},
     "output_type": "execute_result"
    }
   ],
   "source": [
    "# Merge to get the first name\n",
    "merged_df_2 = merged_df_1.merge(fandoms_small[['id', 'name']], how='left', left_on='integer_2', right_on='id')\n",
    "\n",
    "# Rename the columns for clarity\n",
    "merged_df_2 = merged_df_2.rename(columns={'name': 'name_2'})\n",
    "merged_df_2 = merged_df_2.drop(columns=['id'])\n",
    "\n",
    "merged_df_2.head()\n"
   ]
  },
  {
   "cell_type": "code",
   "execution_count": 56,
   "metadata": {},
   "outputs": [],
   "source": [
    "edgelist_df = merged_df_2"
   ]
  },
  {
   "cell_type": "code",
   "execution_count": 57,
   "metadata": {},
   "outputs": [
    {
     "data": {
      "text/html": [
       "<div>\n",
       "<style scoped>\n",
       "    .dataframe tbody tr th:only-of-type {\n",
       "        vertical-align: middle;\n",
       "    }\n",
       "\n",
       "    .dataframe tbody tr th {\n",
       "        vertical-align: top;\n",
       "    }\n",
       "\n",
       "    .dataframe thead th {\n",
       "        text-align: right;\n",
       "    }\n",
       "</style>\n",
       "<table border=\"1\" class=\"dataframe\">\n",
       "  <thead>\n",
       "    <tr style=\"text-align: right;\">\n",
       "      <th></th>\n",
       "      <th>count</th>\n",
       "      <th>integer_1</th>\n",
       "      <th>integer_2</th>\n",
       "      <th>name_1</th>\n",
       "      <th>name_2</th>\n",
       "    </tr>\n",
       "  </thead>\n",
       "  <tbody>\n",
       "    <tr>\n",
       "      <th>0</th>\n",
       "      <td>83981</td>\n",
       "      <td>414093</td>\n",
       "      <td>1001939</td>\n",
       "      <td>Marvel Cinematic Universe</td>\n",
       "      <td>The Avengers (Marvel Movies)</td>\n",
       "    </tr>\n",
       "    <tr>\n",
       "      <th>1</th>\n",
       "      <td>128</td>\n",
       "      <td>3741104</td>\n",
       "      <td>3763877</td>\n",
       "      <td>Boku no Hero Academia</td>\n",
       "      <td>BnHA</td>\n",
       "    </tr>\n",
       "    <tr>\n",
       "      <th>2</th>\n",
       "      <td>249</td>\n",
       "      <td>3741104</td>\n",
       "      <td>9780526</td>\n",
       "      <td>Boku no Hero Academia</td>\n",
       "      <td>My Hero Academia</td>\n",
       "    </tr>\n",
       "    <tr>\n",
       "      <th>3</th>\n",
       "      <td>109</td>\n",
       "      <td>3741104</td>\n",
       "      <td>10613413</td>\n",
       "      <td>Boku no Hero Academia</td>\n",
       "      <td>mha</td>\n",
       "    </tr>\n",
       "    <tr>\n",
       "      <th>4</th>\n",
       "      <td>177</td>\n",
       "      <td>3763877</td>\n",
       "      <td>9780526</td>\n",
       "      <td>BnHA</td>\n",
       "      <td>My Hero Academia</td>\n",
       "    </tr>\n",
       "    <tr>\n",
       "      <th>5</th>\n",
       "      <td>280</td>\n",
       "      <td>3763877</td>\n",
       "      <td>10613413</td>\n",
       "      <td>BnHA</td>\n",
       "      <td>mha</td>\n",
       "    </tr>\n",
       "    <tr>\n",
       "      <th>6</th>\n",
       "      <td>138</td>\n",
       "      <td>9780526</td>\n",
       "      <td>10613413</td>\n",
       "      <td>My Hero Academia</td>\n",
       "      <td>mha</td>\n",
       "    </tr>\n",
       "    <tr>\n",
       "      <th>7</th>\n",
       "      <td>17742</td>\n",
       "      <td>11987966</td>\n",
       "      <td>33035890</td>\n",
       "      <td>魔道祖师 - 墨香铜臭 | Módào Zǔshī - Mòxiāng Tóngxiù</td>\n",
       "      <td>陈情令 | The Untamed (TV)</td>\n",
       "    </tr>\n",
       "    <tr>\n",
       "      <th>8</th>\n",
       "      <td>4</td>\n",
       "      <td>34431205</td>\n",
       "      <td>34782485</td>\n",
       "      <td>Redacted</td>\n",
       "      <td>Sands of Arawiya - Hafsah Faizal</td>\n",
       "    </tr>\n",
       "    <tr>\n",
       "      <th>9</th>\n",
       "      <td>4084</td>\n",
       "      <td>1633246</td>\n",
       "      <td>14988696</td>\n",
       "      <td>Dangan Ronpa - All Media Types</td>\n",
       "      <td>Dangan Ronpa: Trigger Happy Havoc</td>\n",
       "    </tr>\n",
       "    <tr>\n",
       "      <th>10</th>\n",
       "      <td>16448</td>\n",
       "      <td>218280</td>\n",
       "      <td>254648</td>\n",
       "      <td>Video Blogging RPF</td>\n",
       "      <td>Minecraft (Video Game)</td>\n",
       "    </tr>\n",
       "    <tr>\n",
       "      <th>11</th>\n",
       "      <td>140</td>\n",
       "      <td>51823</td>\n",
       "      <td>251062</td>\n",
       "      <td>Forgotten Realms</td>\n",
       "      <td>Dungeons &amp; Dragons (Roleplaying Game)</td>\n",
       "    </tr>\n",
       "    <tr>\n",
       "      <th>12</th>\n",
       "      <td>4437</td>\n",
       "      <td>1464</td>\n",
       "      <td>1801</td>\n",
       "      <td>Star Trek: The Original Series</td>\n",
       "      <td>Star Trek</td>\n",
       "    </tr>\n",
       "    <tr>\n",
       "      <th>13</th>\n",
       "      <td>3071</td>\n",
       "      <td>1464</td>\n",
       "      <td>601802</td>\n",
       "      <td>Star Trek: The Original Series</td>\n",
       "      <td>Star Trek: Alternate Original Series (Movies)</td>\n",
       "    </tr>\n",
       "    <tr>\n",
       "      <th>14</th>\n",
       "      <td>6753</td>\n",
       "      <td>1801</td>\n",
       "      <td>601802</td>\n",
       "      <td>Star Trek</td>\n",
       "      <td>Star Trek: Alternate Original Series (Movies)</td>\n",
       "    </tr>\n",
       "    <tr>\n",
       "      <th>15</th>\n",
       "      <td>242</td>\n",
       "      <td>3658</td>\n",
       "      <td>1281791</td>\n",
       "      <td>Tokyo Babylon</td>\n",
       "      <td>X -エックス- | X/1999</td>\n",
       "    </tr>\n",
       "    <tr>\n",
       "      <th>16</th>\n",
       "      <td>83</td>\n",
       "      <td>34606586</td>\n",
       "      <td>34674836</td>\n",
       "      <td>ケンガンアシュラ | Kengan Ashura (Manga)</td>\n",
       "      <td>ケンガンアシュラ | Kengan Ashura (Anime)</td>\n",
       "    </tr>\n",
       "    <tr>\n",
       "      <th>17</th>\n",
       "      <td>9</td>\n",
       "      <td>12845</td>\n",
       "      <td>250093</td>\n",
       "      <td>Hetalia: Axis Powers</td>\n",
       "      <td>X-Men - All Media Types</td>\n",
       "    </tr>\n",
       "    <tr>\n",
       "      <th>18</th>\n",
       "      <td>1</td>\n",
       "      <td>400843</td>\n",
       "      <td>1058325</td>\n",
       "      <td>anime - Fandom</td>\n",
       "      <td>animation - Fandom</td>\n",
       "    </tr>\n",
       "    <tr>\n",
       "      <th>19</th>\n",
       "      <td>3</td>\n",
       "      <td>400843</td>\n",
       "      <td>3763877</td>\n",
       "      <td>anime - Fandom</td>\n",
       "      <td>BnHA</td>\n",
       "    </tr>\n",
       "  </tbody>\n",
       "</table>\n",
       "</div>"
      ],
      "text/plain": [
       "    count  integer_1  integer_2                                       name_1  \\\n",
       "0   83981     414093    1001939                    Marvel Cinematic Universe   \n",
       "1     128    3741104    3763877                        Boku no Hero Academia   \n",
       "2     249    3741104    9780526                        Boku no Hero Academia   \n",
       "3     109    3741104   10613413                        Boku no Hero Academia   \n",
       "4     177    3763877    9780526                                         BnHA   \n",
       "5     280    3763877   10613413                                         BnHA   \n",
       "6     138    9780526   10613413                             My Hero Academia   \n",
       "7   17742   11987966   33035890  魔道祖师 - 墨香铜臭 | Módào Zǔshī - Mòxiāng Tóngxiù   \n",
       "8       4   34431205   34782485                                     Redacted   \n",
       "9    4084    1633246   14988696               Dangan Ronpa - All Media Types   \n",
       "10  16448     218280     254648                           Video Blogging RPF   \n",
       "11    140      51823     251062                             Forgotten Realms   \n",
       "12   4437       1464       1801               Star Trek: The Original Series   \n",
       "13   3071       1464     601802               Star Trek: The Original Series   \n",
       "14   6753       1801     601802                                    Star Trek   \n",
       "15    242       3658    1281791                                Tokyo Babylon   \n",
       "16     83   34606586   34674836             ケンガンアシュラ | Kengan Ashura (Manga)   \n",
       "17      9      12845     250093                         Hetalia: Axis Powers   \n",
       "18      1     400843    1058325                               anime - Fandom   \n",
       "19      3     400843    3763877                               anime - Fandom   \n",
       "\n",
       "                                           name_2  \n",
       "0                    The Avengers (Marvel Movies)  \n",
       "1                                            BnHA  \n",
       "2                                My Hero Academia  \n",
       "3                                             mha  \n",
       "4                                My Hero Academia  \n",
       "5                                             mha  \n",
       "6                                             mha  \n",
       "7                          陈情令 | The Untamed (TV)  \n",
       "8                Sands of Arawiya - Hafsah Faizal  \n",
       "9               Dangan Ronpa: Trigger Happy Havoc  \n",
       "10                         Minecraft (Video Game)  \n",
       "11          Dungeons & Dragons (Roleplaying Game)  \n",
       "12                                      Star Trek  \n",
       "13  Star Trek: Alternate Original Series (Movies)  \n",
       "14  Star Trek: Alternate Original Series (Movies)  \n",
       "15                              X -エックス- | X/1999  \n",
       "16               ケンガンアシュラ | Kengan Ashura (Anime)  \n",
       "17                        X-Men - All Media Types  \n",
       "18                             animation - Fandom  \n",
       "19                                           BnHA  "
      ]
     },
     "execution_count": 57,
     "metadata": {},
     "output_type": "execute_result"
    }
   ],
   "source": [
    "# Select and order the relevant columns\n",
    "# edgelist_df = merged_df_2[['name_1', 'name_2', 'count']]\n",
    "\n",
    "edgelist_df.head(20)"
   ]
  },
  {
   "cell_type": "markdown",
   "metadata": {},
   "source": [
    "### Clean up edgelist"
   ]
  },
  {
   "cell_type": "code",
   "execution_count": 58,
   "metadata": {},
   "outputs": [
    {
     "data": {
      "text/plain": [
       "1054762"
      ]
     },
     "execution_count": 58,
     "metadata": {},
     "output_type": "execute_result"
    }
   ],
   "source": [
    "len(edgelist_df)"
   ]
  },
  {
   "cell_type": "code",
   "execution_count": 59,
   "metadata": {},
   "outputs": [
    {
     "data": {
      "text/plain": [
       "757734"
      ]
     },
     "execution_count": 59,
     "metadata": {},
     "output_type": "execute_result"
    }
   ],
   "source": [
    "# remove redacted\n",
    "edgelist_df = edgelist_df.drop(edgelist_df[(edgelist_df.name_1 == \"Redacted\") | (edgelist_df.name_2 == \"Redacted\")].index)\n",
    "len(edgelist_df)"
   ]
  },
  {
   "cell_type": "code",
   "execution_count": 60,
   "metadata": {},
   "outputs": [
    {
     "data": {
      "text/plain": [
       "757239"
      ]
     },
     "execution_count": 60,
     "metadata": {},
     "output_type": "execute_result"
    }
   ],
   "source": [
    "# remove edges between fandoms and \"anime - fandom\" and other possibilities\n",
    "edgelist_df = edgelist_df.drop(edgelist_df[(edgelist_df.name_1 == \"anime - Fandom\") | (edgelist_df.name_2 == \"anime - Fandom\")].index)\n",
    "edgelist_df = edgelist_df.drop(edgelist_df[(edgelist_df.name_1 == \"animation - Fandom\") | (edgelist_df.name_2 == \"animation - Fandom\")].index)\n",
    "len(edgelist_df)"
   ]
  },
  {
   "cell_type": "code",
   "execution_count": 61,
   "metadata": {},
   "outputs": [
    {
     "data": {
      "text/plain": [
       "757233"
      ]
     },
     "execution_count": 61,
     "metadata": {},
     "output_type": "execute_result"
    }
   ],
   "source": [
    "# drop all combinations of bnha, boku no hero academia, mha, my hero academia etc\n",
    "edgelist_df = edgelist_df.drop(index=[1, 2, 3, 4, 5, 6])\n",
    "len(edgelist_df)\n",
    "\n",
    "# probably more cases like this - mha, bnha etc, but none with high counts as far as i can tell. also some are valid, like \"Star Wars - All Media Types\" connected to the Clone Wars etc"
   ]
  },
  {
   "cell_type": "code",
   "execution_count": 62,
   "metadata": {},
   "outputs": [
    {
     "data": {
      "text/html": [
       "<div>\n",
       "<style scoped>\n",
       "    .dataframe tbody tr th:only-of-type {\n",
       "        vertical-align: middle;\n",
       "    }\n",
       "\n",
       "    .dataframe tbody tr th {\n",
       "        vertical-align: top;\n",
       "    }\n",
       "\n",
       "    .dataframe thead th {\n",
       "        text-align: right;\n",
       "    }\n",
       "</style>\n",
       "<table border=\"1\" class=\"dataframe\">\n",
       "  <thead>\n",
       "    <tr style=\"text-align: right;\">\n",
       "      <th></th>\n",
       "      <th>count</th>\n",
       "      <th>integer_1</th>\n",
       "      <th>integer_2</th>\n",
       "      <th>name_1</th>\n",
       "      <th>name_2</th>\n",
       "    </tr>\n",
       "  </thead>\n",
       "  <tbody>\n",
       "    <tr>\n",
       "      <th>0</th>\n",
       "      <td>83981</td>\n",
       "      <td>414093</td>\n",
       "      <td>1001939</td>\n",
       "      <td>Marvel Cinematic Universe</td>\n",
       "      <td>The Avengers (Marvel Movies)</td>\n",
       "    </tr>\n",
       "    <tr>\n",
       "      <th>7</th>\n",
       "      <td>17742</td>\n",
       "      <td>11987966</td>\n",
       "      <td>33035890</td>\n",
       "      <td>魔道祖师 - 墨香铜臭 | Módào Zǔshī - Mòxiāng Tóngxiù</td>\n",
       "      <td>陈情令 | The Untamed (TV)</td>\n",
       "    </tr>\n",
       "    <tr>\n",
       "      <th>9</th>\n",
       "      <td>4084</td>\n",
       "      <td>1633246</td>\n",
       "      <td>14988696</td>\n",
       "      <td>Dangan Ronpa - All Media Types</td>\n",
       "      <td>Dangan Ronpa: Trigger Happy Havoc</td>\n",
       "    </tr>\n",
       "    <tr>\n",
       "      <th>10</th>\n",
       "      <td>16448</td>\n",
       "      <td>218280</td>\n",
       "      <td>254648</td>\n",
       "      <td>Video Blogging RPF</td>\n",
       "      <td>Minecraft (Video Game)</td>\n",
       "    </tr>\n",
       "    <tr>\n",
       "      <th>11</th>\n",
       "      <td>140</td>\n",
       "      <td>51823</td>\n",
       "      <td>251062</td>\n",
       "      <td>Forgotten Realms</td>\n",
       "      <td>Dungeons &amp; Dragons (Roleplaying Game)</td>\n",
       "    </tr>\n",
       "    <tr>\n",
       "      <th>12</th>\n",
       "      <td>4437</td>\n",
       "      <td>1464</td>\n",
       "      <td>1801</td>\n",
       "      <td>Star Trek: The Original Series</td>\n",
       "      <td>Star Trek</td>\n",
       "    </tr>\n",
       "    <tr>\n",
       "      <th>13</th>\n",
       "      <td>3071</td>\n",
       "      <td>1464</td>\n",
       "      <td>601802</td>\n",
       "      <td>Star Trek: The Original Series</td>\n",
       "      <td>Star Trek: Alternate Original Series (Movies)</td>\n",
       "    </tr>\n",
       "    <tr>\n",
       "      <th>14</th>\n",
       "      <td>6753</td>\n",
       "      <td>1801</td>\n",
       "      <td>601802</td>\n",
       "      <td>Star Trek</td>\n",
       "      <td>Star Trek: Alternate Original Series (Movies)</td>\n",
       "    </tr>\n",
       "    <tr>\n",
       "      <th>15</th>\n",
       "      <td>242</td>\n",
       "      <td>3658</td>\n",
       "      <td>1281791</td>\n",
       "      <td>Tokyo Babylon</td>\n",
       "      <td>X -エックス- | X/1999</td>\n",
       "    </tr>\n",
       "    <tr>\n",
       "      <th>16</th>\n",
       "      <td>83</td>\n",
       "      <td>34606586</td>\n",
       "      <td>34674836</td>\n",
       "      <td>ケンガンアシュラ | Kengan Ashura (Manga)</td>\n",
       "      <td>ケンガンアシュラ | Kengan Ashura (Anime)</td>\n",
       "    </tr>\n",
       "    <tr>\n",
       "      <th>17</th>\n",
       "      <td>9</td>\n",
       "      <td>12845</td>\n",
       "      <td>250093</td>\n",
       "      <td>Hetalia: Axis Powers</td>\n",
       "      <td>X-Men - All Media Types</td>\n",
       "    </tr>\n",
       "    <tr>\n",
       "      <th>43</th>\n",
       "      <td>25135</td>\n",
       "      <td>7266</td>\n",
       "      <td>414093</td>\n",
       "      <td>Marvel</td>\n",
       "      <td>Marvel Cinematic Universe</td>\n",
       "    </tr>\n",
       "    <tr>\n",
       "      <th>44</th>\n",
       "      <td>5569</td>\n",
       "      <td>21872622</td>\n",
       "      <td>34135873</td>\n",
       "      <td>鬼滅の刃 | Kimetsu no Yaiba (Manga)</td>\n",
       "      <td>鬼滅の刃 | Demon Slayer: Kimetsu no Yaiba (Anime)</td>\n",
       "    </tr>\n",
       "    <tr>\n",
       "      <th>45</th>\n",
       "      <td>21</td>\n",
       "      <td>43220</td>\n",
       "      <td>1633246</td>\n",
       "      <td>Vocaloid</td>\n",
       "      <td>Dangan Ronpa - All Media Types</td>\n",
       "    </tr>\n",
       "    <tr>\n",
       "      <th>46</th>\n",
       "      <td>51455</td>\n",
       "      <td>414093</td>\n",
       "      <td>586439</td>\n",
       "      <td>Marvel Cinematic Universe</td>\n",
       "      <td>Captain America (Movies)</td>\n",
       "    </tr>\n",
       "    <tr>\n",
       "      <th>47</th>\n",
       "      <td>35409</td>\n",
       "      <td>586439</td>\n",
       "      <td>1001939</td>\n",
       "      <td>Captain America (Movies)</td>\n",
       "      <td>The Avengers (Marvel Movies)</td>\n",
       "    </tr>\n",
       "    <tr>\n",
       "      <th>48</th>\n",
       "      <td>14</td>\n",
       "      <td>18100257</td>\n",
       "      <td>18197556</td>\n",
       "      <td>イケメン戦国 時をかける恋 | Ikemen Sengoku: Toki o Kakeru ...</td>\n",
       "      <td>天下統一恋の乱 | Sakura Amidst Chaos | Samurai Love B...</td>\n",
       "    </tr>\n",
       "    <tr>\n",
       "      <th>49</th>\n",
       "      <td>401</td>\n",
       "      <td>114548</td>\n",
       "      <td>35398640</td>\n",
       "      <td>His Dark Materials - Philip Pullman</td>\n",
       "      <td>His Dark Materials (TV)</td>\n",
       "    </tr>\n",
       "    <tr>\n",
       "      <th>50</th>\n",
       "      <td>12260</td>\n",
       "      <td>101375</td>\n",
       "      <td>747342</td>\n",
       "      <td>Star Wars - All Media Types</td>\n",
       "      <td>Star Wars: The Clone Wars (2008) - All Media T...</td>\n",
       "    </tr>\n",
       "    <tr>\n",
       "      <th>51</th>\n",
       "      <td>250</td>\n",
       "      <td>244259</td>\n",
       "      <td>3828398</td>\n",
       "      <td>Katekyou Hitman Reborn!</td>\n",
       "      <td>僕のヒーローアカデミア | Boku no Hero Academia | My Hero ...</td>\n",
       "    </tr>\n",
       "  </tbody>\n",
       "</table>\n",
       "</div>"
      ],
      "text/plain": [
       "    count  integer_1  integer_2  \\\n",
       "0   83981     414093    1001939   \n",
       "7   17742   11987966   33035890   \n",
       "9    4084    1633246   14988696   \n",
       "10  16448     218280     254648   \n",
       "11    140      51823     251062   \n",
       "12   4437       1464       1801   \n",
       "13   3071       1464     601802   \n",
       "14   6753       1801     601802   \n",
       "15    242       3658    1281791   \n",
       "16     83   34606586   34674836   \n",
       "17      9      12845     250093   \n",
       "43  25135       7266     414093   \n",
       "44   5569   21872622   34135873   \n",
       "45     21      43220    1633246   \n",
       "46  51455     414093     586439   \n",
       "47  35409     586439    1001939   \n",
       "48     14   18100257   18197556   \n",
       "49    401     114548   35398640   \n",
       "50  12260     101375     747342   \n",
       "51    250     244259    3828398   \n",
       "\n",
       "                                               name_1  \\\n",
       "0                           Marvel Cinematic Universe   \n",
       "7         魔道祖师 - 墨香铜臭 | Módào Zǔshī - Mòxiāng Tóngxiù   \n",
       "9                      Dangan Ronpa - All Media Types   \n",
       "10                                 Video Blogging RPF   \n",
       "11                                   Forgotten Realms   \n",
       "12                     Star Trek: The Original Series   \n",
       "13                     Star Trek: The Original Series   \n",
       "14                                          Star Trek   \n",
       "15                                      Tokyo Babylon   \n",
       "16                   ケンガンアシュラ | Kengan Ashura (Manga)   \n",
       "17                               Hetalia: Axis Powers   \n",
       "43                                             Marvel   \n",
       "44                    鬼滅の刃 | Kimetsu no Yaiba (Manga)   \n",
       "45                                           Vocaloid   \n",
       "46                          Marvel Cinematic Universe   \n",
       "47                           Captain America (Movies)   \n",
       "48  イケメン戦国 時をかける恋 | Ikemen Sengoku: Toki o Kakeru ...   \n",
       "49                His Dark Materials - Philip Pullman   \n",
       "50                        Star Wars - All Media Types   \n",
       "51                            Katekyou Hitman Reborn!   \n",
       "\n",
       "                                               name_2  \n",
       "0                        The Avengers (Marvel Movies)  \n",
       "7                              陈情令 | The Untamed (TV)  \n",
       "9                   Dangan Ronpa: Trigger Happy Havoc  \n",
       "10                             Minecraft (Video Game)  \n",
       "11              Dungeons & Dragons (Roleplaying Game)  \n",
       "12                                          Star Trek  \n",
       "13      Star Trek: Alternate Original Series (Movies)  \n",
       "14      Star Trek: Alternate Original Series (Movies)  \n",
       "15                                  X -エックス- | X/1999  \n",
       "16                   ケンガンアシュラ | Kengan Ashura (Anime)  \n",
       "17                            X-Men - All Media Types  \n",
       "43                          Marvel Cinematic Universe  \n",
       "44      鬼滅の刃 | Demon Slayer: Kimetsu no Yaiba (Anime)  \n",
       "45                     Dangan Ronpa - All Media Types  \n",
       "46                           Captain America (Movies)  \n",
       "47                       The Avengers (Marvel Movies)  \n",
       "48  天下統一恋の乱 | Sakura Amidst Chaos | Samurai Love B...  \n",
       "49                            His Dark Materials (TV)  \n",
       "50  Star Wars: The Clone Wars (2008) - All Media T...  \n",
       "51  僕のヒーローアカデミア | Boku no Hero Academia | My Hero ...  "
      ]
     },
     "execution_count": 62,
     "metadata": {},
     "output_type": "execute_result"
    }
   ],
   "source": [
    "# check\n",
    "edgelist_df.head(20)"
   ]
  },
  {
   "cell_type": "markdown",
   "metadata": {},
   "source": [
    "## NetworkX"
   ]
  },
  {
   "cell_type": "code",
   "execution_count": 63,
   "metadata": {},
   "outputs": [
    {
     "data": {
      "text/html": [
       "    <style>\n",
       "        .bk-notebook-logo {\n",
       "            display: block;\n",
       "            width: 20px;\n",
       "            height: 20px;\n",
       "            background-image: url(data:image/png;base64,iVBORw0KGgoAAAANSUhEUgAAABQAAAAUCAYAAACNiR0NAAAABHNCSVQICAgIfAhkiAAAAAlwSFlzAAALEgAACxIB0t1+/AAAABx0RVh0U29mdHdhcmUAQWRvYmUgRmlyZXdvcmtzIENTNui8sowAAAOkSURBVDiNjZRtaJVlGMd/1/08zzln5zjP1LWcU9N0NkN8m2CYjpgQYQXqSs0I84OLIC0hkEKoPtiH3gmKoiJDU7QpLgoLjLIQCpEsNJ1vqUOdO7ppbuec5+V+rj4ctwzd8IIbbi6u+8f1539dt3A78eXC7QizUF7gyV1fD1Yqg4JWz84yffhm0qkFqBogB9rM8tZdtwVsPUhWhGcFJngGeWrPzHm5oaMmkfEg1usvLFyc8jLRqDOMru7AyC8saQr7GG7f5fvDeH7Ej8CM66nIF+8yngt6HWaKh7k49Soy9nXurCi1o3qUbS3zWfrYeQDTB/Qj6kX6Ybhw4B+bOYoLKCC9H3Nu/leUTZ1JdRWkkn2ldcCamzrcf47KKXdAJllSlxAOkRgyHsGC/zRday5Qld9DyoM4/q/rUoy/CXh3jzOu3bHUVZeU+DEn8FInkPBFlu3+nW3Nw0mk6vCDiWg8CeJaxEwuHS3+z5RgY+YBR6V1Z1nxSOfoaPa4LASWxxdNp+VWTk7+4vzaou8v8PN+xo+KY2xsw6une2frhw05CTYOmQvsEhjhWjn0bmXPjpE1+kplmmkP3suftwTubK9Vq22qKmrBhpY4jvd5afdRA3wGjFAgcnTK2s4hY0/GPNIb0nErGMCRxWOOX64Z8RAC4oCXdklmEvcL8o0BfkNK4lUg9HTl+oPlQxdNo3Mg4Nv175e/1LDGzZen30MEjRUtmXSfiTVu1kK8W4txyV6BMKlbgk3lMwYCiusNy9fVfvvwMxv8Ynl6vxoByANLTWplvuj/nF9m2+PDtt1eiHPBr1oIfhCChQMBw6Aw0UulqTKZdfVvfG7VcfIqLG9bcldL/+pdWTLxLUy8Qq38heUIjh4XlzZxzQm19lLFlr8vdQ97rjZVOLf8nclzckbcD4wxXMidpX30sFd37Fv/GtwwhzhxGVAprjbg0gCAEeIgwCZyTV2Z1REEW8O4py0wsjeloKoMr6iCY6dP92H6Vw/oTyICIthibxjm/DfN9lVz8IqtqKYLUXfoKVMVQVVJOElGjrnnUt9T9wbgp8AyYKaGlqingHZU/uG2NTZSVqwHQTWkx9hxjkpWDaCg6Ckj5qebgBVbT3V3NNXMSiWSDdGV3hrtzla7J+duwPOToIg42ChPQOQjspnSlp1V+Gjdged7+8UN5CRAV7a5EdFNwCjEaBR27b3W890TE7g24NAP/mMDXRWrGoFPQI9ls/MWO2dWFAar/xcOIImbbpA3zgAAAABJRU5ErkJggg==);\n",
       "        }\n",
       "    </style>\n",
       "    <div>\n",
       "        <a href=\"https://bokeh.org\" target=\"_blank\" class=\"bk-notebook-logo\"></a>\n",
       "        <span id=\"d51fba33-a406-463c-a155-9177576080dc\">Loading BokehJS ...</span>\n",
       "    </div>\n"
      ]
     },
     "metadata": {},
     "output_type": "display_data"
    },
    {
     "data": {
      "application/javascript": "'use strict';\n(function(root) {\n  function now() {\n    return new Date();\n  }\n\n  const force = true;\n\n  if (typeof root._bokeh_onload_callbacks === \"undefined\" || force === true) {\n    root._bokeh_onload_callbacks = [];\n    root._bokeh_is_loading = undefined;\n  }\n\nconst JS_MIME_TYPE = 'application/javascript';\n  const HTML_MIME_TYPE = 'text/html';\n  const EXEC_MIME_TYPE = 'application/vnd.bokehjs_exec.v0+json';\n  const CLASS_NAME = 'output_bokeh rendered_html';\n\n  /**\n   * Render data to the DOM node\n   */\n  function render(props, node) {\n    const script = document.createElement(\"script\");\n    node.appendChild(script);\n  }\n\n  /**\n   * Handle when an output is cleared or removed\n   */\n  function handleClearOutput(event, handle) {\n    function drop(id) {\n      const view = Bokeh.index.get_by_id(id)\n      if (view != null) {\n        view.model.document.clear()\n        Bokeh.index.delete(view)\n      }\n    }\n\n    const cell = handle.cell;\n\n    const id = cell.output_area._bokeh_element_id;\n    const server_id = cell.output_area._bokeh_server_id;\n\n    // Clean up Bokeh references\n    if (id != null) {\n      drop(id)\n    }\n\n    if (server_id !== undefined) {\n      // Clean up Bokeh references\n      const cmd_clean = \"from bokeh.io.state import curstate; print(curstate().uuid_to_server['\" + server_id + \"'].get_sessions()[0].document.roots[0]._id)\";\n      cell.notebook.kernel.execute(cmd_clean, {\n        iopub: {\n          output: function(msg) {\n            const id = msg.content.text.trim()\n            drop(id)\n          }\n        }\n      });\n      // Destroy server and session\n      const cmd_destroy = \"import bokeh.io.notebook as ion; ion.destroy_server('\" + server_id + \"')\";\n      cell.notebook.kernel.execute(cmd_destroy);\n    }\n  }\n\n  /**\n   * Handle when a new output is added\n   */\n  function handleAddOutput(event, handle) {\n    const output_area = handle.output_area;\n    const output = handle.output;\n\n    // limit handleAddOutput to display_data with EXEC_MIME_TYPE content only\n    if ((output.output_type != \"display_data\") || (!Object.prototype.hasOwnProperty.call(output.data, EXEC_MIME_TYPE))) {\n      return\n    }\n\n    const toinsert = output_area.element.find(\".\" + CLASS_NAME.split(' ')[0]);\n\n    if (output.metadata[EXEC_MIME_TYPE][\"id\"] !== undefined) {\n      toinsert[toinsert.length - 1].firstChild.textContent = output.data[JS_MIME_TYPE];\n      // store reference to embed id on output_area\n      output_area._bokeh_element_id = output.metadata[EXEC_MIME_TYPE][\"id\"];\n    }\n    if (output.metadata[EXEC_MIME_TYPE][\"server_id\"] !== undefined) {\n      const bk_div = document.createElement(\"div\");\n      bk_div.innerHTML = output.data[HTML_MIME_TYPE];\n      const script_attrs = bk_div.children[0].attributes;\n      for (let i = 0; i < script_attrs.length; i++) {\n        toinsert[toinsert.length - 1].firstChild.setAttribute(script_attrs[i].name, script_attrs[i].value);\n        toinsert[toinsert.length - 1].firstChild.textContent = bk_div.children[0].textContent\n      }\n      // store reference to server id on output_area\n      output_area._bokeh_server_id = output.metadata[EXEC_MIME_TYPE][\"server_id\"];\n    }\n  }\n\n  function register_renderer(events, OutputArea) {\n\n    function append_mime(data, metadata, element) {\n      // create a DOM node to render to\n      const toinsert = this.create_output_subarea(\n        metadata,\n        CLASS_NAME,\n        EXEC_MIME_TYPE\n      );\n      this.keyboard_manager.register_events(toinsert);\n      // Render to node\n      const props = {data: data, metadata: metadata[EXEC_MIME_TYPE]};\n      render(props, toinsert[toinsert.length - 1]);\n      element.append(toinsert);\n      return toinsert\n    }\n\n    /* Handle when an output is cleared or removed */\n    events.on('clear_output.CodeCell', handleClearOutput);\n    events.on('delete.Cell', handleClearOutput);\n\n    /* Handle when a new output is added */\n    events.on('output_added.OutputArea', handleAddOutput);\n\n    /**\n     * Register the mime type and append_mime function with output_area\n     */\n    OutputArea.prototype.register_mime_type(EXEC_MIME_TYPE, append_mime, {\n      /* Is output safe? */\n      safe: true,\n      /* Index of renderer in `output_area.display_order` */\n      index: 0\n    });\n  }\n\n  // register the mime type if in Jupyter Notebook environment and previously unregistered\n  if (root.Jupyter !== undefined) {\n    const events = require('base/js/events');\n    const OutputArea = require('notebook/js/outputarea').OutputArea;\n\n    if (OutputArea.prototype.mime_types().indexOf(EXEC_MIME_TYPE) == -1) {\n      register_renderer(events, OutputArea);\n    }\n  }\n  if (typeof (root._bokeh_timeout) === \"undefined\" || force === true) {\n    root._bokeh_timeout = Date.now() + 5000;\n    root._bokeh_failed_load = false;\n  }\n\n  const NB_LOAD_WARNING = {'data': {'text/html':\n     \"<div style='background-color: #fdd'>\\n\"+\n     \"<p>\\n\"+\n     \"BokehJS does not appear to have successfully loaded. If loading BokehJS from CDN, this \\n\"+\n     \"may be due to a slow or bad network connection. Possible fixes:\\n\"+\n     \"</p>\\n\"+\n     \"<ul>\\n\"+\n     \"<li>re-rerun `output_notebook()` to attempt to load from CDN again, or</li>\\n\"+\n     \"<li>use INLINE resources instead, as so:</li>\\n\"+\n     \"</ul>\\n\"+\n     \"<code>\\n\"+\n     \"from bokeh.resources import INLINE\\n\"+\n     \"output_notebook(resources=INLINE)\\n\"+\n     \"</code>\\n\"+\n     \"</div>\"}};\n\n  function display_loaded(error = null) {\n    const el = document.getElementById(\"d51fba33-a406-463c-a155-9177576080dc\");\n    if (el != null) {\n      const html = (() => {\n        if (typeof root.Bokeh === \"undefined\") {\n          if (error == null) {\n            return \"BokehJS is loading ...\";\n          } else {\n            return \"BokehJS failed to load.\";\n          }\n        } else {\n          const prefix = `BokehJS ${root.Bokeh.version}`;\n          if (error == null) {\n            return `${prefix} successfully loaded.`;\n          } else {\n            return `${prefix} <b>encountered errors</b> while loading and may not function as expected.`;\n          }\n        }\n      })();\n      el.innerHTML = html;\n\n      if (error != null) {\n        const wrapper = document.createElement(\"div\");\n        wrapper.style.overflow = \"auto\";\n        wrapper.style.height = \"5em\";\n        wrapper.style.resize = \"vertical\";\n        const content = document.createElement(\"div\");\n        content.style.fontFamily = \"monospace\";\n        content.style.whiteSpace = \"pre-wrap\";\n        content.style.backgroundColor = \"rgb(255, 221, 221)\";\n        content.textContent = error.stack ?? error.toString();\n        wrapper.append(content);\n        el.append(wrapper);\n      }\n    } else if (Date.now() < root._bokeh_timeout) {\n      setTimeout(() => display_loaded(error), 100);\n    }\n  }\n\n  function run_callbacks() {\n    try {\n      root._bokeh_onload_callbacks.forEach(function(callback) {\n        if (callback != null)\n          callback();\n      });\n    } finally {\n      delete root._bokeh_onload_callbacks\n    }\n    console.debug(\"Bokeh: all callbacks have finished\");\n  }\n\n  function load_libs(css_urls, js_urls, callback) {\n    if (css_urls == null) css_urls = [];\n    if (js_urls == null) js_urls = [];\n\n    root._bokeh_onload_callbacks.push(callback);\n    if (root._bokeh_is_loading > 0) {\n      console.debug(\"Bokeh: BokehJS is being loaded, scheduling callback at\", now());\n      return null;\n    }\n    if (js_urls == null || js_urls.length === 0) {\n      run_callbacks();\n      return null;\n    }\n    console.debug(\"Bokeh: BokehJS not loaded, scheduling load and callback at\", now());\n    root._bokeh_is_loading = css_urls.length + js_urls.length;\n\n    function on_load() {\n      root._bokeh_is_loading--;\n      if (root._bokeh_is_loading === 0) {\n        console.debug(\"Bokeh: all BokehJS libraries/stylesheets loaded\");\n        run_callbacks()\n      }\n    }\n\n    function on_error(url) {\n      console.error(\"failed to load \" + url);\n    }\n\n    for (let i = 0; i < css_urls.length; i++) {\n      const url = css_urls[i];\n      const element = document.createElement(\"link\");\n      element.onload = on_load;\n      element.onerror = on_error.bind(null, url);\n      element.rel = \"stylesheet\";\n      element.type = \"text/css\";\n      element.href = url;\n      console.debug(\"Bokeh: injecting link tag for BokehJS stylesheet: \", url);\n      document.body.appendChild(element);\n    }\n\n    for (let i = 0; i < js_urls.length; i++) {\n      const url = js_urls[i];\n      const element = document.createElement('script');\n      element.onload = on_load;\n      element.onerror = on_error.bind(null, url);\n      element.async = false;\n      element.src = url;\n      console.debug(\"Bokeh: injecting script tag for BokehJS library: \", url);\n      document.head.appendChild(element);\n    }\n  };\n\n  function inject_raw_css(css) {\n    const element = document.createElement(\"style\");\n    element.appendChild(document.createTextNode(css));\n    document.body.appendChild(element);\n  }\n\n  const js_urls = [\"https://cdn.bokeh.org/bokeh/release/bokeh-3.4.1.min.js\", \"https://cdn.bokeh.org/bokeh/release/bokeh-gl-3.4.1.min.js\", \"https://cdn.bokeh.org/bokeh/release/bokeh-widgets-3.4.1.min.js\", \"https://cdn.bokeh.org/bokeh/release/bokeh-tables-3.4.1.min.js\", \"https://cdn.bokeh.org/bokeh/release/bokeh-mathjax-3.4.1.min.js\"];\n  const css_urls = [];\n\n  const inline_js = [    function(Bokeh) {\n      Bokeh.set_log_level(\"info\");\n    },\nfunction(Bokeh) {\n    }\n  ];\n\n  function run_inline_js() {\n    if (root.Bokeh !== undefined || force === true) {\n      try {\n            for (let i = 0; i < inline_js.length; i++) {\n      inline_js[i].call(root, root.Bokeh);\n    }\n\n      } catch (error) {display_loaded(error);throw error;\n      }if (force === true) {\n        display_loaded();\n      }} else if (Date.now() < root._bokeh_timeout) {\n      setTimeout(run_inline_js, 100);\n    } else if (!root._bokeh_failed_load) {\n      console.log(\"Bokeh: BokehJS failed to load within specified timeout.\");\n      root._bokeh_failed_load = true;\n    } else if (force !== true) {\n      const cell = $(document.getElementById(\"d51fba33-a406-463c-a155-9177576080dc\")).parents('.cell').data().cell;\n      cell.output_area.append_execute_result(NB_LOAD_WARNING)\n    }\n  }\n\n  if (root._bokeh_is_loading === 0) {\n    console.debug(\"Bokeh: BokehJS loaded, going straight to plotting\");\n    run_inline_js();\n  } else {\n    load_libs(css_urls, js_urls, function() {\n      console.debug(\"Bokeh: BokehJS plotting callback run at\", now());\n      run_inline_js();\n    });\n  }\n}(window));",
      "application/vnd.bokehjs_load.v0+json": ""
     },
     "metadata": {},
     "output_type": "display_data"
    }
   ],
   "source": [
    "from bokeh.io import output_notebook, show, save\n",
    "from bokeh.models import Range1d, Circle, ColumnDataSource, MultiLine\n",
    "from bokeh.plotting import figure\n",
    "from bokeh.plotting import from_networkx\n",
    "from bokeh.palettes import Blues8, Reds8, Purples8, Oranges8, Viridis8, Spectral8\n",
    "from bokeh.transform import linear_cmap\n",
    "\n",
    "# np.random.seed(seed=42)\n",
    "\n",
    "output_notebook()"
   ]
  },
  {
   "cell_type": "code",
   "execution_count": 64,
   "metadata": {},
   "outputs": [],
   "source": [
    "# create dict mapping of ids to fandom names to secure node attributes\n",
    "id_fandom_mapping = dict(fandoms_small[['id', 'name']].values)"
   ]
  },
  {
   "cell_type": "code",
   "execution_count": 65,
   "metadata": {},
   "outputs": [],
   "source": [
    "# create dict mapping of id to fandom cached_count for nodes\n",
    "id_cached_count_mapping = dict(fandoms_small[['id', 'cached_count']].values)\n",
    "# id_cached_count"
   ]
  },
  {
   "cell_type": "code",
   "execution_count": 66,
   "metadata": {},
   "outputs": [],
   "source": [
    "# DOWNLOAD THINGS\n",
    "edgelist_df.to_csv('crossover_network_edgelist.csv', index=False)\n",
    "fandoms_small.to_csv('fandoms_small.csv', index=False)\n"
   ]
  },
  {
   "cell_type": "markdown",
   "metadata": {},
   "source": [
    "### Filter dataset"
   ]
  },
  {
   "cell_type": "code",
   "execution_count": 67,
   "metadata": {},
   "outputs": [],
   "source": [
    "# cant run below code, takes too long -- need to find way to reduce dataset. maybe 1 graph w random sample, another with just the top 100?\n",
    "\n",
    "# sns.histplot(data=edgelist_df, x=\"count\", kde=True)"
   ]
  },
  {
   "cell_type": "markdown",
   "metadata": {},
   "source": [
    "1. Random sample"
   ]
  },
  {
   "cell_type": "code",
   "execution_count": 68,
   "metadata": {},
   "outputs": [],
   "source": [
    "sample_size = 50\n",
    "min_count = 100\n",
    "\n",
    "sample_edgelist = edgelist_df[edgelist_df['count'] > min_count].sample(sample_size)"
   ]
  },
  {
   "cell_type": "markdown",
   "metadata": {},
   "source": [
    "2. Take top 50"
   ]
  },
  {
   "cell_type": "code",
   "execution_count": 89,
   "metadata": {},
   "outputs": [],
   "source": [
    "top_num = 50\n",
    "\n",
    "top_edgelist = edgelist_df.sort_values(by=\"count\", ascending=False).head(top_num)"
   ]
  },
  {
   "cell_type": "markdown",
   "metadata": {},
   "source": [
    "### Graph sample edgelist"
   ]
  },
  {
   "cell_type": "code",
   "execution_count": 70,
   "metadata": {},
   "outputs": [
    {
     "data": {
      "text/html": [
       "<div>\n",
       "<style scoped>\n",
       "    .dataframe tbody tr th:only-of-type {\n",
       "        vertical-align: middle;\n",
       "    }\n",
       "\n",
       "    .dataframe tbody tr th {\n",
       "        vertical-align: top;\n",
       "    }\n",
       "\n",
       "    .dataframe thead th {\n",
       "        text-align: right;\n",
       "    }\n",
       "</style>\n",
       "<table border=\"1\" class=\"dataframe\">\n",
       "  <thead>\n",
       "    <tr style=\"text-align: right;\">\n",
       "      <th></th>\n",
       "      <th>count</th>\n",
       "      <th>integer_1</th>\n",
       "      <th>integer_2</th>\n",
       "      <th>name_1</th>\n",
       "      <th>name_2</th>\n",
       "    </tr>\n",
       "  </thead>\n",
       "  <tbody>\n",
       "    <tr>\n",
       "      <th>174932</th>\n",
       "      <td>232</td>\n",
       "      <td>587792</td>\n",
       "      <td>1107228</td>\n",
       "      <td>Arrow (TV 2012)</td>\n",
       "      <td>olicity - Fandom</td>\n",
       "    </tr>\n",
       "    <tr>\n",
       "      <th>132258</th>\n",
       "      <td>142</td>\n",
       "      <td>3544</td>\n",
       "      <td>854998</td>\n",
       "      <td>Death Note</td>\n",
       "      <td>Death Note: Another Note</td>\n",
       "    </tr>\n",
       "    <tr>\n",
       "      <th>33125</th>\n",
       "      <td>127</td>\n",
       "      <td>1002903</td>\n",
       "      <td>6410522</td>\n",
       "      <td>방탄소년단 | Bangtan Boys | BTS</td>\n",
       "      <td>Day6 (Band)</td>\n",
       "    </tr>\n",
       "    <tr>\n",
       "      <th>3667</th>\n",
       "      <td>499</td>\n",
       "      <td>229522</td>\n",
       "      <td>852479</td>\n",
       "      <td>Dragon Age II</td>\n",
       "      <td>Dragon Age: Origins - Awakening</td>\n",
       "    </tr>\n",
       "    <tr>\n",
       "      <th>6488</th>\n",
       "      <td>303</td>\n",
       "      <td>81149</td>\n",
       "      <td>215080</td>\n",
       "      <td>Rockman X | Mega Man X</td>\n",
       "      <td>Rockman | Mega Man - All Media Types</td>\n",
       "    </tr>\n",
       "  </tbody>\n",
       "</table>\n",
       "</div>"
      ],
      "text/plain": [
       "        count  integer_1  integer_2                      name_1  \\\n",
       "174932    232     587792    1107228             Arrow (TV 2012)   \n",
       "132258    142       3544     854998                  Death Note   \n",
       "33125     127    1002903    6410522  방탄소년단 | Bangtan Boys | BTS   \n",
       "3667      499     229522     852479               Dragon Age II   \n",
       "6488      303      81149     215080      Rockman X | Mega Man X   \n",
       "\n",
       "                                      name_2  \n",
       "174932                      olicity - Fandom  \n",
       "132258              Death Note: Another Note  \n",
       "33125                            Day6 (Band)  \n",
       "3667         Dragon Age: Origins - Awakening  \n",
       "6488    Rockman | Mega Man - All Media Types  "
      ]
     },
     "execution_count": 70,
     "metadata": {},
     "output_type": "execute_result"
    }
   ],
   "source": [
    "sample_edgelist.head()"
   ]
  },
  {
   "cell_type": "code",
   "execution_count": 71,
   "metadata": {},
   "outputs": [
    {
     "data": {
      "text/plain": [
       "NodeDataView({587792: {}, 1107228: {}, 3544: {}, 854998: {}, 1002903: {}, 6410522: {}, 229522: {}, 852479: {}, 81149: {}, 215080: {}, 379999: {}, 1301206: {}, 69383: {}, 105122: {}, 114100: {}, 8799547: {}, 625992: {}, 727114: {}, 4885: {}, 157745: {}, 2301120: {}, 10861009: {}, 4997791: {}, 9139561: {}, 5148298: {}, 578887: {}, 586437: {}, 333263: {}, 2391543: {}, 235690: {}, 15133407: {}, 203: {}, 136512: {}, 263085: {}, 840029: {}, 997960: {}, 109430: {}, 236208: {}, 553203: {}, 662604: {}, 12310528: {}, 21622335: {}, 2031: {}, 12756: {}, 112021: {}, 232765: {}, 29576: {}, 29577: {}, 61493: {}, 448284: {}, 217070: {}, 414093: {}, 13999: {}, 758208: {}, 1346: {}, 190901: {}, 16317249: {}, 218280: {}, 17995599: {}, 582724: {}, 3235649: {}, 3284129: {}, 135809: {}, 233118: {}, 259126: {}, 737915: {}, 4799727: {}, 9540643: {}, 21679434: {}, 8541031: {}, 23154555: {}, 187: {}, 390: {}, 6442415: {}, 134908: {}, 882989: {}, 292226: {}, 303791: {}, 3668: {}, 2692: {}, 282367: {}, 15766: {}, 643028: {}, 10801369: {}, 127710: {}, 223664: {}, 8114503: {}, 27251507: {}, 158325: {}, 969647: {}, 134900: {}, 15270224: {}})"
      ]
     },
     "execution_count": 71,
     "metadata": {},
     "output_type": "execute_result"
    }
   ],
   "source": [
    "# needs to be indices so that bokeh can work\n",
    "\n",
    "G_sample = nx.from_pandas_edgelist(sample_edgelist, source='integer_1', target='integer_2', edge_attr='count')\n",
    "G_sample.nodes(data=True)"
   ]
  },
  {
   "cell_type": "markdown",
   "metadata": {},
   "source": [
    "**Node attributes**"
   ]
  },
  {
   "cell_type": "code",
   "execution_count": 72,
   "metadata": {},
   "outputs": [],
   "source": [
    "# set node attribudes for fandom names\n",
    "nx.set_node_attributes(G_sample, name='fandom', values=id_fandom_mapping)\n",
    "\n",
    "# i want to color by cached_count of each fandom\n",
    "nx.set_node_attributes(G_sample, name='cached_count', values=id_cached_count_mapping)\n",
    "\n",
    "# need to adjust cached_count because too big distance between numbers\n",
    "adjusted_cached_count_mapping = {k: np.log1p(v) for k, v in id_cached_count_mapping.items()}\n",
    "nx.set_node_attributes(G_sample, name='adjusted_cached_count', values=adjusted_cached_count_mapping)"
   ]
  },
  {
   "cell_type": "code",
   "execution_count": 73,
   "metadata": {},
   "outputs": [],
   "source": [
    "# node attributes for degree \n",
    "degrees = dict(nx.degree(G_sample))\n",
    "nx.set_node_attributes(G_sample, name='degree', values=degrees)"
   ]
  },
  {
   "cell_type": "code",
   "execution_count": 74,
   "metadata": {},
   "outputs": [],
   "source": [
    "# Slightly adjust degree so that the nodes with very small degrees are still visible\n",
    "number_to_adjust_by = 10\n",
    "adjusted_node_size = dict([(node, degree/number_to_adjust_by) for node, degree in nx.degree(G_sample)])\n",
    "nx.set_node_attributes(G_sample, name='adjusted_node_size', values=adjusted_node_size)"
   ]
  },
  {
   "cell_type": "code",
   "execution_count": 75,
   "metadata": {},
   "outputs": [
    {
     "data": {
      "text/html": [
       "\n",
       "  <div id=\"f8f0233c-ddb3-49d0-a8ad-f704b1361ab5\" data-root-id=\"p1378\" style=\"display: contents;\"></div>\n"
      ]
     },
     "metadata": {},
     "output_type": "display_data"
    },
    {
     "data": {
      "application/javascript": "(function(root) {\n  function embed_document(root) {\n  const docs_json = {\"4bce363c-1fe2-48f4-bc16-95e494ee0b2f\":{\"version\":\"3.4.1\",\"title\":\"Bokeh Application\",\"roots\":[{\"type\":\"object\",\"name\":\"Figure\",\"id\":\"p1378\",\"attributes\":{\"x_range\":{\"type\":\"object\",\"name\":\"Range1d\",\"id\":\"p1376\",\"attributes\":{\"start\":-1.5,\"end\":1.5}},\"y_range\":{\"type\":\"object\",\"name\":\"Range1d\",\"id\":\"p1377\",\"attributes\":{\"start\":-1.5,\"end\":1.5}},\"x_scale\":{\"type\":\"object\",\"name\":\"LinearScale\",\"id\":\"p1388\"},\"y_scale\":{\"type\":\"object\",\"name\":\"LinearScale\",\"id\":\"p1389\"},\"title\":{\"type\":\"object\",\"name\":\"Title\",\"id\":\"p1381\",\"attributes\":{\"text\":\"Fandom Network by Cross-overs, sample of 50 more than 100 fics\"}},\"renderers\":[{\"type\":\"object\",\"name\":\"GraphRenderer\",\"id\":\"p1405\",\"attributes\":{\"layout_provider\":{\"type\":\"object\",\"name\":\"StaticLayoutProvider\",\"id\":\"p1422\",\"attributes\":{\"graph_layout\":{\"type\":\"map\",\"entries\":[[587792,{\"type\":\"ndarray\",\"array\":{\"type\":\"bytes\",\"data\":\"YEwtReKE6z+TJJEM1avgvw==\"},\"shape\":[2],\"dtype\":\"float64\",\"order\":\"little\"}],[1107228,{\"type\":\"ndarray\",\"array\":{\"type\":\"bytes\",\"data\":\"0FXPE6ai6z8dezWabcHgvw==\"},\"shape\":[2],\"dtype\":\"float64\",\"order\":\"little\"}],[3544,{\"type\":\"ndarray\",\"array\":{\"type\":\"bytes\",\"data\":\"LD9eg/wK1L82AkdJHgDuPw==\"},\"shape\":[2],\"dtype\":\"float64\",\"order\":\"little\"}],[854998,{\"type\":\"ndarray\",\"array\":{\"type\":\"bytes\",\"data\":\"13viAR8O1L8XX5t/T9/tPw==\"},\"shape\":[2],\"dtype\":\"float64\",\"order\":\"little\"}],[1002903,{\"type\":\"ndarray\",\"array\":{\"type\":\"bytes\",\"data\":\"dUvtOeJp0z8RpG5I6CjhPw==\"},\"shape\":[2],\"dtype\":\"float64\",\"order\":\"little\"}],[6410522,{\"type\":\"ndarray\",\"array\":{\"type\":\"bytes\",\"data\":\"7XJ5vRCN0z/TDYJoY0XhPw==\"},\"shape\":[2],\"dtype\":\"float64\",\"order\":\"little\"}],[229522,{\"type\":\"ndarray\",\"array\":{\"type\":\"bytes\",\"data\":\"fE5NEzPfr7+JLRatQa7RPw==\"},\"shape\":[2],\"dtype\":\"float64\",\"order\":\"little\"}],[852479,{\"type\":\"ndarray\",\"array\":{\"type\":\"bytes\",\"data\":\"hARGZ4Xir78qoofmV2vRPw==\"},\"shape\":[2],\"dtype\":\"float64\",\"order\":\"little\"}],[81149,{\"type\":\"ndarray\",\"array\":{\"type\":\"bytes\",\"data\":\"kfD2y3Xe7L/T7v/Gm0DZPw==\"},\"shape\":[2],\"dtype\":\"float64\",\"order\":\"little\"}],[215080,{\"type\":\"ndarray\",\"array\":{\"type\":\"bytes\",\"data\":\"gfVPSD717L/KNZcO7G/ZPw==\"},\"shape\":[2],\"dtype\":\"float64\",\"order\":\"little\"}],[379999,{\"type\":\"ndarray\",\"array\":{\"type\":\"bytes\",\"data\":\"NHalHXvh0j92c3VOvKnjvw==\"},\"shape\":[2],\"dtype\":\"float64\",\"order\":\"little\"}],[1301206,{\"type\":\"ndarray\",\"array\":{\"type\":\"bytes\",\"data\":\"aKk++AP+0j/rZIuFFsjjvw==\"},\"shape\":[2],\"dtype\":\"float64\",\"order\":\"little\"}],[69383,{\"type\":\"ndarray\",\"array\":{\"type\":\"bytes\",\"data\":\"wgqu/Qu2qb+Cg118lCDZvw==\"},\"shape\":[2],\"dtype\":\"float64\",\"order\":\"little\"}],[105122,{\"type\":\"ndarray\",\"array\":{\"type\":\"bytes\",\"data\":\"/pXwgPkFqr8X1YefSG/Zvw==\"},\"shape\":[2],\"dtype\":\"float64\",\"order\":\"little\"}],[114100,{\"type\":\"ndarray\",\"array\":{\"type\":\"bytes\",\"data\":\"ROfrpPQZ5b9/p3735KnnPw==\"},\"shape\":[2],\"dtype\":\"float64\",\"order\":\"little\"}],[8799547,{\"type\":\"ndarray\",\"array\":{\"type\":\"bytes\",\"data\":\"eg3lNhQ35b8NblfaE7nnPw==\"},\"shape\":[2],\"dtype\":\"float64\",\"order\":\"little\"}],[625992,{\"type\":\"ndarray\",\"array\":{\"type\":\"bytes\",\"data\":\"y4dJUczvwT/ua0Ary1HOvw==\"},\"shape\":[2],\"dtype\":\"float64\",\"order\":\"little\"}],[727114,{\"type\":\"ndarray\",\"array\":{\"type\":\"bytes\",\"data\":\"HYcObfSTwT/AeaxgOsjNvw==\"},\"shape\":[2],\"dtype\":\"float64\",\"order\":\"little\"}],[4885,{\"type\":\"ndarray\",\"array\":{\"type\":\"bytes\",\"data\":\"774NWH6917+VAtIzzeHKvw==\"},\"shape\":[2],\"dtype\":\"float64\",\"order\":\"little\"}],[157745,{\"type\":\"ndarray\",\"array\":{\"type\":\"bytes\",\"data\":\"GES+hXf317+yAWe1VybLvw==\"},\"shape\":[2],\"dtype\":\"float64\",\"order\":\"little\"}],[2301120,{\"type\":\"ndarray\",\"array\":{\"type\":\"bytes\",\"data\":\"IiRyGhxY0z9h3AEk0QC1vw==\"},\"shape\":[2],\"dtype\":\"float64\",\"order\":\"little\"}],[10861009,{\"type\":\"ndarray\",\"array\":{\"type\":\"bytes\",\"data\":\"DUjqFm+a0z/XdjBX5h21vw==\"},\"shape\":[2],\"dtype\":\"float64\",\"order\":\"little\"}],[4997791,{\"type\":\"ndarray\",\"array\":{\"type\":\"bytes\",\"data\":\"XsgAdEc5zb+d+Akc+Gvvvw==\"},\"shape\":[2],\"dtype\":\"float64\",\"order\":\"little\"}],[9139561,{\"type\":\"ndarray\",\"array\":{\"type\":\"bytes\",\"data\":\"iVMixtzYzL8/yYOmqFXvvw==\"},\"shape\":[2],\"dtype\":\"float64\",\"order\":\"little\"}],[5148298,{\"type\":\"ndarray\",\"array\":{\"type\":\"bytes\",\"data\":\"3TMVumBm6z8pEVkm4ZXgvw==\"},\"shape\":[2],\"dtype\":\"float64\",\"order\":\"little\"}],[578887,{\"type\":\"ndarray\",\"array\":{\"type\":\"bytes\",\"data\":\"vGfRnBZu3L84Uk4zD8Tgvw==\"},\"shape\":[2],\"dtype\":\"float64\",\"order\":\"little\"}],[586437,{\"type\":\"ndarray\",\"array\":{\"type\":\"bytes\",\"data\":\"WWBxK2Ce3L/emeFQodvgvw==\"},\"shape\":[2],\"dtype\":\"float64\",\"order\":\"little\"}],[333263,{\"type\":\"ndarray\",\"array\":{\"type\":\"bytes\",\"data\":\"cuIGgWXr6b9Lp/DDbCvivw==\"},\"shape\":[2],\"dtype\":\"float64\",\"order\":\"little\"}],[2391543,{\"type\":\"ndarray\",\"array\":{\"type\":\"bytes\",\"data\":\"qcWQqjwG6r8T52DJ9j7ivw==\"},\"shape\":[2],\"dtype\":\"float64\",\"order\":\"little\"}],[235690,{\"type\":\"ndarray\",\"array\":{\"type\":\"bytes\",\"data\":\"/y4Co7+W7z/GgJZGkyfPvw==\"},\"shape\":[2],\"dtype\":\"float64\",\"order\":\"little\"}],[15133407,{\"type\":\"ndarray\",\"array\":{\"type\":\"bytes\",\"data\":\"uII7W8O27z8zrgxKSwrPvw==\"},\"shape\":[2],\"dtype\":\"float64\",\"order\":\"little\"}],[203,{\"type\":\"ndarray\",\"array\":{\"type\":\"bytes\",\"data\":\"VCOWJX7R1L+4NGswYH7bPw==\"},\"shape\":[2],\"dtype\":\"float64\",\"order\":\"little\"}],[136512,{\"type\":\"ndarray\",\"array\":{\"type\":\"bytes\",\"data\":\"VQmlRuns1L9SsFXpBsLbPw==\"},\"shape\":[2],\"dtype\":\"float64\",\"order\":\"little\"}],[263085,{\"type\":\"ndarray\",\"array\":{\"type\":\"bytes\",\"data\":\"AAAAAAAA8D/+fLVOQpbGPw==\"},\"shape\":[2],\"dtype\":\"float64\",\"order\":\"little\"}],[840029,{\"type\":\"ndarray\",\"array\":{\"type\":\"bytes\",\"data\":\"+U5yhFzk7z/cSHKhTU/GPw==\"},\"shape\":[2],\"dtype\":\"float64\",\"order\":\"little\"}],[997960,{\"type\":\"ndarray\",\"array\":{\"type\":\"bytes\",\"data\":\"btmYErBTqr8QB/kmVLrZvw==\"},\"shape\":[2],\"dtype\":\"float64\",\"order\":\"little\"}],[109430,{\"type\":\"ndarray\",\"array\":{\"type\":\"bytes\",\"data\":\"4BQqSFkY1L824Tt7yYqovw==\"},\"shape\":[2],\"dtype\":\"float64\",\"order\":\"little\"}],[236208,{\"type\":\"ndarray\",\"array\":{\"type\":\"bytes\",\"data\":\"tkeKIVzE0794Z79Qipeovw==\"},\"shape\":[2],\"dtype\":\"float64\",\"order\":\"little\"}],[553203,{\"type\":\"ndarray\",\"array\":{\"type\":\"bytes\",\"data\":\"cJh0IbXmjL/GvfArofLmvw==\"},\"shape\":[2],\"dtype\":\"float64\",\"order\":\"little\"}],[662604,{\"type\":\"ndarray\",\"array\":{\"type\":\"bytes\",\"data\":\"2/7mooDujL8pEwKaJxTnvw==\"},\"shape\":[2],\"dtype\":\"float64\",\"order\":\"little\"}],[12310528,{\"type\":\"ndarray\",\"array\":{\"type\":\"bytes\",\"data\":\"+1Vh4hrA5L+Shah+WxnAPw==\"},\"shape\":[2],\"dtype\":\"float64\",\"order\":\"little\"}],[21622335,{\"type\":\"ndarray\",\"array\":{\"type\":\"bytes\",\"data\":\"NRqKh2Ph5L8+2FR1fSfAPw==\"},\"shape\":[2],\"dtype\":\"float64\",\"order\":\"little\"}],[2031,{\"type\":\"ndarray\",\"array\":{\"type\":\"bytes\",\"data\":\"du9IHIa47r8+NC+cbIrNvw==\"},\"shape\":[2],\"dtype\":\"float64\",\"order\":\"little\"}],[12756,{\"type\":\"ndarray\",\"array\":{\"type\":\"bytes\",\"data\":\"Texzs1ap7r/Pxs1P9RXNvw==\"},\"shape\":[2],\"dtype\":\"float64\",\"order\":\"little\"}],[112021,{\"type\":\"ndarray\",\"array\":{\"type\":\"bytes\",\"data\":\"gSj8NbTL5j9W3r52SGGuvw==\"},\"shape\":[2],\"dtype\":\"float64\",\"order\":\"little\"}],[232765,{\"type\":\"ndarray\",\"array\":{\"type\":\"bytes\",\"data\":\"/w61k2Gq5j+9MNHzUTOuvw==\"},\"shape\":[2],\"dtype\":\"float64\",\"order\":\"little\"}],[29576,{\"type\":\"ndarray\",\"array\":{\"type\":\"bytes\",\"data\":\"pTZFFhQTtL/oO7tic4TGPw==\"},\"shape\":[2],\"dtype\":\"float64\",\"order\":\"little\"}],[29577,{\"type\":\"ndarray\",\"array\":{\"type\":\"bytes\",\"data\":\"QCmypK4Ztb+BJDntRH7GPw==\"},\"shape\":[2],\"dtype\":\"float64\",\"order\":\"little\"}],[61493,{\"type\":\"ndarray\",\"array\":{\"type\":\"bytes\",\"data\":\"icVRbRUnwL9UpZJUUM7Nvw==\"},\"shape\":[2],\"dtype\":\"float64\",\"order\":\"little\"}],[448284,{\"type\":\"ndarray\",\"array\":{\"type\":\"bytes\",\"data\":\"18+h/itGv78zLFMNcoHNvw==\"},\"shape\":[2],\"dtype\":\"float64\",\"order\":\"little\"}],[217070,{\"type\":\"ndarray\",\"array\":{\"type\":\"bytes\",\"data\":\"0JU3CPqR6T/f8uAiPYHjPw==\"},\"shape\":[2],\"dtype\":\"float64\",\"order\":\"little\"}],[414093,{\"type\":\"ndarray\",\"array\":{\"type\":\"bytes\",\"data\":\"pyNxVPSi6T+qrsNpW53jPw==\"},\"shape\":[2],\"dtype\":\"float64\",\"order\":\"little\"}],[13999,{\"type\":\"ndarray\",\"array\":{\"type\":\"bytes\",\"data\":\"Wv90lvTB0j9e3VGvpAnMvw==\"},\"shape\":[2],\"dtype\":\"float64\",\"order\":\"little\"}],[758208,{\"type\":\"ndarray\",\"array\":{\"type\":\"bytes\",\"data\":\"rADzykn50j/K8+cRolXMvw==\"},\"shape\":[2],\"dtype\":\"float64\",\"order\":\"little\"}],[1346,{\"type\":\"ndarray\",\"array\":{\"type\":\"bytes\",\"data\":\"qvCVdu4S1b8pLO3hYwfcPw==\"},\"shape\":[2],\"dtype\":\"float64\",\"order\":\"little\"}],[190901,{\"type\":\"ndarray\",\"array\":{\"type\":\"bytes\",\"data\":\"QoIzzSV+yT/vQO2sEEHQPw==\"},\"shape\":[2],\"dtype\":\"float64\",\"order\":\"little\"}],[16317249,{\"type\":\"ndarray\",\"array\":{\"type\":\"bytes\",\"data\":\"NWj9Q33EyT9f20VnRHrQPw==\"},\"shape\":[2],\"dtype\":\"float64\",\"order\":\"little\"}],[218280,{\"type\":\"ndarray\",\"array\":{\"type\":\"bytes\",\"data\":\"sQvA2iShxr85rMC+txHUPw==\"},\"shape\":[2],\"dtype\":\"float64\",\"order\":\"little\"}],[17995599,{\"type\":\"ndarray\",\"array\":{\"type\":\"bytes\",\"data\":\"pqz+30zrxr9ZcIjUmUnUPw==\"},\"shape\":[2],\"dtype\":\"float64\",\"order\":\"little\"}],[582724,{\"type\":\"ndarray\",\"array\":{\"type\":\"bytes\",\"data\":\"ve4GyT81vr8DMpACqkbNvw==\"},\"shape\":[2],\"dtype\":\"float64\",\"order\":\"little\"}],[3235649,{\"type\":\"ndarray\",\"array\":{\"type\":\"bytes\",\"data\":\"BJX4qHTg4D/pr6VBOzngvw==\"},\"shape\":[2],\"dtype\":\"float64\",\"order\":\"little\"}],[3284129,{\"type\":\"ndarray\",\"array\":{\"type\":\"bytes\",\"data\":\"LcHLf1744D9y3Z4SrFDgvw==\"},\"shape\":[2],\"dtype\":\"float64\",\"order\":\"little\"}],[135809,{\"type\":\"ndarray\",\"array\":{\"type\":\"bytes\",\"data\":\"xjUpS9ZS178zoPbvsZHnvw==\"},\"shape\":[2],\"dtype\":\"float64\",\"order\":\"little\"}],[233118,{\"type\":\"ndarray\",\"array\":{\"type\":\"bytes\",\"data\":\"064a3aIi17+6I1WcXnvnvw==\"},\"shape\":[2],\"dtype\":\"float64\",\"order\":\"little\"}],[259126,{\"type\":\"ndarray\",\"array\":{\"type\":\"bytes\",\"data\":\"hKU91gXwwD/Hc7UUZtrNvw==\"},\"shape\":[2],\"dtype\":\"float64\",\"order\":\"little\"}],[737915,{\"type\":\"ndarray\",\"array\":{\"type\":\"bytes\",\"data\":\"M5ICvQHjt79p5xgMgDmpvw==\"},\"shape\":[2],\"dtype\":\"float64\",\"order\":\"little\"}],[4799727,{\"type\":\"ndarray\",\"array\":{\"type\":\"bytes\",\"data\":\"DAw4/KT+tr/6LPjdjj2qvw==\"},\"shape\":[2],\"dtype\":\"float64\",\"order\":\"little\"}],[9540643,{\"type\":\"ndarray\",\"array\":{\"type\":\"bytes\",\"data\":\"tUVXV4BGxT+39OdKcOvhPw==\"},\"shape\":[2],\"dtype\":\"float64\",\"order\":\"little\"}],[21679434,{\"type\":\"ndarray\",\"array\":{\"type\":\"bytes\",\"data\":\"I+S3BzRVxT/z1lKcvAziPw==\"},\"shape\":[2],\"dtype\":\"float64\",\"order\":\"little\"}],[8541031,{\"type\":\"ndarray\",\"array\":{\"type\":\"bytes\",\"data\":\"39XAcrnb1T/HM7AXx8a6Pw==\"},\"shape\":[2],\"dtype\":\"float64\",\"order\":\"little\"}],[23154555,{\"type\":\"ndarray\",\"array\":{\"type\":\"bytes\",\"data\":\"03Pv2uKa1T+UnsZ85IS6Pw==\"},\"shape\":[2],\"dtype\":\"float64\",\"order\":\"little\"}],[187,{\"type\":\"ndarray\",\"array\":{\"type\":\"bytes\",\"data\":\"Oot0Uraf07/aayCNceWqvw==\"},\"shape\":[2],\"dtype\":\"float64\",\"order\":\"little\"}],[390,{\"type\":\"ndarray\",\"array\":{\"type\":\"bytes\",\"data\":\"avbyXPHtwj+kf87f2aPvPw==\"},\"shape\":[2],\"dtype\":\"float64\",\"order\":\"little\"}],[6442415,{\"type\":\"ndarray\",\"array\":{\"type\":\"bytes\",\"data\":\"51hYvQUPwz86/tlvEITvPw==\"},\"shape\":[2],\"dtype\":\"float64\",\"order\":\"little\"}],[134908,{\"type\":\"ndarray\",\"array\":{\"type\":\"bytes\",\"data\":\"i1qi9xm2nj9diAGATCeqPw==\"},\"shape\":[2],\"dtype\":\"float64\",\"order\":\"little\"}],[882989,{\"type\":\"ndarray\",\"array\":{\"type\":\"bytes\",\"data\":\"GuCmTuBboT/P7+q5FLipPw==\"},\"shape\":[2],\"dtype\":\"float64\",\"order\":\"little\"}],[292226,{\"type\":\"ndarray\",\"array\":{\"type\":\"bytes\",\"data\":\"awSqOhQ44j/m54qk9CPJPw==\"},\"shape\":[2],\"dtype\":\"float64\",\"order\":\"little\"}],[303791,{\"type\":\"ndarray\",\"array\":{\"type\":\"bytes\",\"data\":\"JLFdv6hX4j+tT6Mj/lDJPw==\"},\"shape\":[2],\"dtype\":\"float64\",\"order\":\"little\"}],[3668,{\"type\":\"ndarray\",\"array\":{\"type\":\"bytes\",\"data\":\"8jn5Ux2d079/FdQVdlSmvw==\"},\"shape\":[2],\"dtype\":\"float64\",\"order\":\"little\"}],[2692,{\"type\":\"ndarray\",\"array\":{\"type\":\"bytes\",\"data\":\"ekw3hKfV77/ZSxiV24SdPw==\"},\"shape\":[2],\"dtype\":\"float64\",\"order\":\"little\"}],[282367,{\"type\":\"ndarray\",\"array\":{\"type\":\"bytes\",\"data\":\"hBVkZQy677/VQEyhoEubPw==\"},\"shape\":[2],\"dtype\":\"float64\",\"order\":\"little\"}],[15766,{\"type\":\"ndarray\",\"array\":{\"type\":\"bytes\",\"data\":\"KsSLdWrU4r/SDoIDbuDYPw==\"},\"shape\":[2],\"dtype\":\"float64\",\"order\":\"little\"}],[643028,{\"type\":\"ndarray\",\"array\":{\"type\":\"bytes\",\"data\":\"tUuQKUe44r86AngoH7zYPw==\"},\"shape\":[2],\"dtype\":\"float64\",\"order\":\"little\"}],[10801369,{\"type\":\"ndarray\",\"array\":{\"type\":\"bytes\",\"data\":\"hAs2QQvjwT+NgOtr4DfNvw==\"},\"shape\":[2],\"dtype\":\"float64\",\"order\":\"little\"}],[127710,{\"type\":\"ndarray\",\"array\":{\"type\":\"bytes\",\"data\":\"S8yQy3ny3j8/dLOqlj/hPw==\"},\"shape\":[2],\"dtype\":\"float64\",\"order\":\"little\"}],[223664,{\"type\":\"ndarray\",\"array\":{\"type\":\"bytes\",\"data\":\"AqLWlAsi3z8YdQJlT1fhPw==\"},\"shape\":[2],\"dtype\":\"float64\",\"order\":\"little\"}],[8114503,{\"type\":\"ndarray\",\"array\":{\"type\":\"bytes\",\"data\":\"ZCWLtAczzT96EYiId4zvvw==\"},\"shape\":[2],\"dtype\":\"float64\",\"order\":\"little\"}],[27251507,{\"type\":\"ndarray\",\"array\":{\"type\":\"bytes\",\"data\":\"FJWDd+b7zD8/ZklCR6rvvw==\"},\"shape\":[2],\"dtype\":\"float64\",\"order\":\"little\"}],[158325,{\"type\":\"ndarray\",\"array\":{\"type\":\"bytes\",\"data\":\"RrnyHQYiyD9Zqkl4TwHDPw==\"},\"shape\":[2],\"dtype\":\"float64\",\"order\":\"little\"}],[969647,{\"type\":\"ndarray\",\"array\":{\"type\":\"bytes\",\"data\":\"TJ/3KJimxz+9krgE5tPCPw==\"},\"shape\":[2],\"dtype\":\"float64\",\"order\":\"little\"}],[134900,{\"type\":\"ndarray\",\"array\":{\"type\":\"bytes\",\"data\":\"DMrYHoqcsL+r/GFyeUnqPw==\"},\"shape\":[2],\"dtype\":\"float64\",\"order\":\"little\"}],[15270224,{\"type\":\"ndarray\",\"array\":{\"type\":\"bytes\",\"data\":\"B9eWk5gVsb/fue91nmbqPw==\"},\"shape\":[2],\"dtype\":\"float64\",\"order\":\"little\"}]]}}},\"node_renderer\":{\"type\":\"object\",\"name\":\"GlyphRenderer\",\"id\":\"p1410\",\"attributes\":{\"data_source\":{\"type\":\"object\",\"name\":\"ColumnDataSource\",\"id\":\"p1407\",\"attributes\":{\"selected\":{\"type\":\"object\",\"name\":\"Selection\",\"id\":\"p1408\",\"attributes\":{\"indices\":[],\"line_indices\":[]}},\"selection_policy\":{\"type\":\"object\",\"name\":\"UnionRenderers\",\"id\":\"p1409\"},\"data\":{\"type\":\"map\",\"entries\":[[\"adjusted_cached_count\",[10.11480140809676,5.955837369464831,8.626585568187433,5.945420608606575,12.22144390015416,8.186742787113518,9.73896662036768,7.475905969367397,6.942156705699469,6.913737350659685,10.870186186954129,5.556828061699537,7.951559331155252,9.533148246403337,6.403574197934815,5.2832037287379885,8.55256033525353,11.102638751582846,5.831882477283517,7.8434564043761155,6.587550014824796,7.938088726896952,9.439306936593182,10.820438066706068,10.544525316297522,9.9259826303635,8.669399124305569,6.899723107284872,6.501289670540389,9.673382324888367,7.234898420314831,9.89495122151384,12.799178471909892,6.226536669287466,6.7464121285733745,10.58852695370191,7.438971592395862,10.837873572679374,5.905361848054571,9.043931533642278,8.42989086301344,5.424950017481403,10.102461354543133,7.635786861395585,9.202610573914242,7.115582126184454,9.315600882633676,9.860945329270454,7.2875606403097235,9.788637710857186,8.064321960910803,12.390629202848693,11.562753185929502,11.782334090333578,10.232179601838379,8.414052432496725,6.317164686747284,10.57334051729299,5.71042701737487,10.931248100232287,8.282483003730562,6.656726524178391,7.27655640271871,7.954723334497908,7.923710333969238,6.467698726104354,6.182084906716632,5.293304824724492,7.020190708311925,6.040254711277414,5.823045895483019,9.615405400063008,10.452013503484945,6.699500340161678,6.525029657843462,6.163314804034641,8.305978210967302,6.7650389767805414,6.7580945044277305,11.570826380865066,5.730099782973574,8.731013415269564,10.104998803723223,9.564512185696797,4.976733742420574,8.387539983189367,9.397400683117311,10.515044996056119,7.7488913372555315,10.14419593502981,9.636914443294582,8.752897524775305]],[\"fandom\",[\"Arrow (TV 2012)\",\"olicity - Fandom\",\"Death Note\",\"Death Note: Another Note\",\"\\ubc29\\ud0c4\\uc18c\\ub144\\ub2e8 | Bangtan Boys | BTS\",\"Day6 (Band)\",\"Dragon Age II\",\"Dragon Age: Origins - Awakening\",\"Rockman X | Mega Man X\",\"Rockman | Mega Man - All Media Types\",\"Once Upon a Time (TV)\",\"SwanQueen - Fandom\",\"Big Bang (Band)\",\"K-pop\",\"Mother 2: Gyiyg no Gyakushuu | EarthBound\",\"Mother 1 | EarthBound Zero | EarthBound Beginnings\",\"Thor - All Media Types\",\"The Avengers (Marvel) - All Media Types\",\"The Fast and the Furious (2001)\",\"Fast and the Furious Series\",\"Dangan Ronpa: Another Episode\",\"Dangan Ronpa 3: The End of \\u5e0c\\u671b\\u30f6\\u5cf0\\u5b66\\u5712 | The End of Kibougamine Gakuen | End of Hope's Peak High School\",\"Monsta X (Band)\",\"NCT (Band)\",\"Supergirl (TV 2015)\",\"Captain America - All Media Types\",\"The Avengers - Ambiguous Fandom\",\"The Legend of Zelda: Skyward Sword\",\"The Legend of Zelda: Hyrule Warriors\",\"Fire Emblem Series\",\"Fire Emblem Echoes: Mou Hitori no Eiyuu Ou | Fire Emblem Echoes: Shadows of Valentia\",\"Torchwood\",\"Harry Potter - J. K. Rowling\",\"The Voice RPF\",\"The Voice (US) RPF\",\"bts\",\"Superman (Comics)\",\"Batman - All Media Types\",\"spideypool - Fandom\",\"Deadpool - All Media Types\",\"The Shadowhunter Chronicles - Cassandra Clare\",\"The Wicked Powers Series - Cassandra Clare\",\"Supernatural RPF\",\"CW Network RPF\",\"Sherlock - Fandom\",\"BBC Sherlock\",\"Star Wars Original Trilogy\",\"Star Wars Prequel Trilogy\",\"Pocket Monsters SPECIAL | Pokemon Adventures\",\"Pocket Monsters | Pokemon - All Media Types\",\"Avengers (Comics)\",\"Marvel Cinematic Universe\",\"Naruto\",\"Haikyuu!!\",\"Buffy the Vampire Slayer\",\"Tangled (2010)\",\"Tangled: The Series (Cartoon)\",\"Video Blogging RPF\",\"jacksepticeye egos - Fandom\",\"Miraculous Ladybug\",\"Star Wars Legends - All Media Types\",\"Star Wars Legends: X-Wing Series - Aaron Allston & Michael Stackpole\",\"Le Fant\\u00f4me de l'Op\\u00e9ra | Phantom of the Opera - Gaston Leroux\",\"Le Fant\\u00f4me de l'Op\\u00e9ra | Phantom of the Opera & Related Fandoms\",\"Captain America (Comics)\",\"Deus Ex (Video Games)\",\"Deus Ex: Mankind Divided\",\"Basic Instinct (Movies)\",\"Hannibal Extended Universe - Fandom\",\"\\u6bba\\u622e\\u306e\\u5929\\u4f7f | Satsuriku no Tenshi (Video Game)\",\"\\u6bba\\u622e\\u306e\\u5929\\u4f7f | Satsuriku no Tenshi | Angels of Death (Manga)\",\"Smallville\",\"DCU\",\"Red Hood/Arsenal (Comics)\",\"Great Gatsby - F. Scott Fitzgerald\",\"The Great Gatsby (2013)\",\"Marvel Avengers Movies Universe\",\"The Avengers - All Fandoms\",\"Batman Beyond\",\"Original Work\",\"Fantasy - Fandom\",\"Captain America\",\"MCU\",\"Spider-Man: Homecoming (2017)\",\"Pirates of the Caribbean: At World's End (2007)\",\"Pirates of the Caribbean (Movies)\",\"Lucifer (TV)\",\"Good Omens (TV)\",\"Justice League & Justice League Unlimited (Cartoons)\",\"DCU (Comics)\",\"IT - Stephen King\",\"IT (2017)\"]],[\"adjusted_node_size\",[0.2,0.1,0.1,0.1,0.1,0.1,0.1,0.1,0.1,0.1,0.1,0.1,0.1,0.2,0.1,0.1,0.1,0.3,0.1,0.1,0.1,0.1,0.1,0.1,0.1,0.1,0.1,0.1,0.1,0.1,0.1,0.1,0.2,0.1,0.1,0.1,0.1,0.3,0.1,0.1,0.1,0.1,0.1,0.1,0.1,0.1,0.1,0.1,0.1,0.2,0.1,0.1,0.1,0.1,0.1,0.1,0.1,0.1,0.1,0.1,0.1,0.1,0.1,0.1,0.1,0.1,0.1,0.1,0.1,0.1,0.1,0.1,0.1,0.1,0.1,0.1,0.1,0.1,0.1,0.1,0.1,0.1,0.1,0.1,0.1,0.1,0.1,0.1,0.1,0.1,0.1,0.1]],[\"degree\",[2,1,1,1,1,1,1,1,1,1,1,1,1,2,1,1,1,3,1,1,1,1,1,1,1,1,1,1,1,1,1,1,2,1,1,1,1,3,1,1,1,1,1,1,1,1,1,1,1,2,1,1,1,1,1,1,1,1,1,1,1,1,1,1,1,1,1,1,1,1,1,1,1,1,1,1,1,1,1,1,1,1,1,1,1,1,1,1,1,1,1,1]],[\"cached_count\",[24705,385,5577,381,203097,3592,16965,1764,1034,1005,52584,258,2839,13809,603,196,5179,66345,340,2548,725,2801,12572,50032,37968,20454,5821,991,665,15888,1386,19829,361919,505,850,39676,1700,50912,366,8466,4581,226,24402,2070,9922,1230,11109,19166,1461,17829,3178,240536,105108,130918,27782,4509,553,39078,301,55895,3953,777,1445,2848,2761,643,483,198,1118,419,337,14993,34613,811,681,474,4047,866,860,105960,307,6191,24464,14249,144,4391,12056,36865,2318,25442,15319,6328]],[\"index\",[587792,1107228,3544,854998,1002903,6410522,229522,852479,81149,215080,379999,1301206,69383,105122,114100,8799547,625992,727114,4885,157745,2301120,10861009,4997791,9139561,5148298,578887,586437,333263,2391543,235690,15133407,203,136512,263085,840029,997960,109430,236208,553203,662604,12310528,21622335,2031,12756,112021,232765,29576,29577,61493,448284,217070,414093,13999,758208,1346,190901,16317249,218280,17995599,582724,3235649,3284129,135809,233118,259126,737915,4799727,9540643,21679434,8541031,23154555,187,390,6442415,134908,882989,292226,303791,3668,2692,282367,15766,643028,10801369,127710,223664,8114503,27251507,158325,969647,134900,15270224]]]}}},\"view\":{\"type\":\"object\",\"name\":\"CDSView\",\"id\":\"p1411\",\"attributes\":{\"filter\":{\"type\":\"object\",\"name\":\"AllIndices\",\"id\":\"p1412\"}}},\"glyph\":{\"type\":\"object\",\"name\":\"Circle\",\"id\":\"p1424\",\"attributes\":{\"radius\":{\"type\":\"field\",\"field\":\"adjusted_node_size\"},\"fill_color\":{\"type\":\"field\",\"field\":\"adjusted_cached_count\",\"transform\":{\"type\":\"object\",\"name\":\"LinearColorMapper\",\"id\":\"p1423\",\"attributes\":{\"palette\":[\"#99000d\",\"#cb181d\",\"#ef3b2c\",\"#fb6a4a\",\"#fc9272\",\"#fcbba1\",\"#fee0d2\",\"#fff5f0\"],\"low\":12.799178471909892,\"high\":4.976733742420574}}},\"fill_alpha\":{\"type\":\"value\",\"value\":0.7}}}}},\"edge_renderer\":{\"type\":\"object\",\"name\":\"GlyphRenderer\",\"id\":\"p1417\",\"attributes\":{\"data_source\":{\"type\":\"object\",\"name\":\"ColumnDataSource\",\"id\":\"p1414\",\"attributes\":{\"selected\":{\"type\":\"object\",\"name\":\"Selection\",\"id\":\"p1415\",\"attributes\":{\"indices\":[],\"line_indices\":[]}},\"selection_policy\":{\"type\":\"object\",\"name\":\"UnionRenderers\",\"id\":\"p1416\"},\"data\":{\"type\":\"map\",\"entries\":[[\"count\",[232,1284,142,127,499,303,176,327,230,126,1683,1016,1532,203,205,245,705,125,569,290,527,357,474,276,266,224,153,1360,190,1848,567,103,653,106,241,123,344,1041,254,119,291,193,313,202,105,142,126,148,205,4314]],[\"start\",[587792,587792,3544,1002903,229522,81149,379999,69383,105122,114100,625992,727114,727114,4885,2301120,4997791,578887,333263,235690,203,136512,263085,109430,236208,236208,553203,12310528,2031,112021,29576,61493,448284,217070,13999,190901,218280,3235649,135809,737915,9540643,8541031,390,134908,292226,2692,15766,127710,8114503,158325,134900]],[\"end\",[1107228,5148298,854998,6410522,852479,215080,1301206,105122,997960,8799547,727114,259126,10801369,157745,10861009,9139561,586437,2391543,15133407,136512,1346,840029,236208,187,3668,662604,21622335,12756,232765,29577,448284,582724,414093,758208,16317249,17995599,3284129,233118,4799727,21679434,23154555,6442415,882989,303791,282367,643028,223664,27251507,969647,15270224]]]}}},\"view\":{\"type\":\"object\",\"name\":\"CDSView\",\"id\":\"p1418\",\"attributes\":{\"filter\":{\"type\":\"object\",\"name\":\"AllIndices\",\"id\":\"p1419\"}}},\"glyph\":{\"type\":\"object\",\"name\":\"MultiLine\",\"id\":\"p1413\"}}},\"selection_policy\":{\"type\":\"object\",\"name\":\"NodesOnly\",\"id\":\"p1420\"},\"inspection_policy\":{\"type\":\"object\",\"name\":\"NodesOnly\",\"id\":\"p1421\"}}}],\"toolbar\":{\"type\":\"object\",\"name\":\"Toolbar\",\"id\":\"p1387\",\"attributes\":{\"tools\":[{\"type\":\"object\",\"name\":\"PanTool\",\"id\":\"p1400\"},{\"type\":\"object\",\"name\":\"WheelZoomTool\",\"id\":\"p1401\",\"attributes\":{\"renderers\":\"auto\"}},{\"type\":\"object\",\"name\":\"SaveTool\",\"id\":\"p1402\"},{\"type\":\"object\",\"name\":\"ResetTool\",\"id\":\"p1403\"},{\"type\":\"object\",\"name\":\"HoverTool\",\"id\":\"p1404\",\"attributes\":{\"renderers\":\"auto\",\"tooltips\":[[\"Fandom\",\"@fandom\"],[\"Degree\",\"@degree\"],[\"Count\",\"@cached_count\"]]}}],\"active_scroll\":{\"id\":\"p1401\"}}},\"left\":[{\"type\":\"object\",\"name\":\"LinearAxis\",\"id\":\"p1395\",\"attributes\":{\"ticker\":{\"type\":\"object\",\"name\":\"BasicTicker\",\"id\":\"p1396\",\"attributes\":{\"mantissas\":[1,2,5]}},\"formatter\":{\"type\":\"object\",\"name\":\"BasicTickFormatter\",\"id\":\"p1397\"},\"major_label_policy\":{\"type\":\"object\",\"name\":\"AllLabels\",\"id\":\"p1398\"}}}],\"below\":[{\"type\":\"object\",\"name\":\"LinearAxis\",\"id\":\"p1390\",\"attributes\":{\"ticker\":{\"type\":\"object\",\"name\":\"BasicTicker\",\"id\":\"p1391\",\"attributes\":{\"mantissas\":[1,2,5]}},\"formatter\":{\"type\":\"object\",\"name\":\"BasicTickFormatter\",\"id\":\"p1392\"},\"major_label_policy\":{\"type\":\"object\",\"name\":\"AllLabels\",\"id\":\"p1393\"}}}],\"center\":[{\"type\":\"object\",\"name\":\"Grid\",\"id\":\"p1394\",\"attributes\":{\"axis\":{\"id\":\"p1390\"}}},{\"type\":\"object\",\"name\":\"Grid\",\"id\":\"p1399\",\"attributes\":{\"dimension\":1,\"axis\":{\"id\":\"p1395\"}}}]}}]}};\n  const render_items = [{\"docid\":\"4bce363c-1fe2-48f4-bc16-95e494ee0b2f\",\"roots\":{\"p1378\":\"f8f0233c-ddb3-49d0-a8ad-f704b1361ab5\"},\"root_ids\":[\"p1378\"]}];\n  void root.Bokeh.embed.embed_items_notebook(docs_json, render_items);\n  }\n  if (root.Bokeh !== undefined) {\n    embed_document(root);\n  } else {\n    let attempts = 0;\n    const timer = setInterval(function(root) {\n      if (root.Bokeh !== undefined) {\n        clearInterval(timer);\n        embed_document(root);\n      } else {\n        attempts++;\n        if (attempts > 100) {\n          clearInterval(timer);\n          console.log(\"Bokeh: ERROR: Unable to run BokehJS code because BokehJS library is missing\");\n        }\n      }\n    }, 10, root)\n  }\n})(window);",
      "application/vnd.bokehjs_exec.v0+json": ""
     },
     "metadata": {
      "application/vnd.bokehjs_exec.v0+json": {
       "id": "p1378"
      }
     },
     "output_type": "display_data"
    }
   ],
   "source": [
    "#Choose attributes from G network to size and color by — setting manual size (e.g. 10) or color (e.g. 'skyblue') also allowed\n",
    "size_by_this_attribute = 'adjusted_node_size'\n",
    "color_by_this_attribute = 'adjusted_cached_count' #'#860101' \n",
    "\n",
    "#Pick a color palette — Blues8, Reds8, Purples8, Oranges8, Viridis8\n",
    "color_palette = Reds8\n",
    "\n",
    "#Choose a title!\n",
    "title_sample = 'Fandom Network by Cross-overs, sample of ' + str(sample_size) + ' more than ' + str(min_count) + ' fics'\n",
    "\n",
    "#Establish which categories will appear when hovering over each node\n",
    "HOVER_TOOLTIPS = [\n",
    "        (\"Fandom\", \"@fandom\"),\n",
    "        (\"Degree\", \"@degree\"),\n",
    "        (\"Count\", \"@cached_count\")\n",
    "]\n",
    "\n",
    "#Create a plot — set dimensions, toolbar, and title\n",
    "plot_sample = figure(tooltips = HOVER_TOOLTIPS,\n",
    "              tools=\"pan,wheel_zoom,save,reset\", active_scroll='wheel_zoom',\n",
    "            x_range=Range1d(-1.5, 1.5), y_range=Range1d(-1.5, 1.5), title=title_sample)\n",
    "\n",
    "# pos = nx.spring_layout(G_sample, k=0.2, iterations=1000)\n",
    "\n",
    "pos_sample = nx.fruchterman_reingold_layout(G_sample, k=0.2, iterations=1000)\n",
    "\n",
    "graph_sample = from_networkx(G_sample, pos_sample, scale=1, center=(0, 0))\n",
    "\n",
    "#Set node sizes and colors according to node degree (color as spectrum of color palette)\n",
    "minimum_value_color_sample = min(graph_sample.node_renderer.data_source.data[color_by_this_attribute])\n",
    "maximum_value_color_sample = max(graph_sample.node_renderer.data_source.data[color_by_this_attribute])\n",
    "graph_sample.node_renderer.glyph = Circle(radius=size_by_this_attribute, fill_color=linear_cmap(color_by_this_attribute, color_palette, maximum_value_color_sample, minimum_value_color_sample), fill_alpha=0.7)\n",
    "\n",
    "# graph_sample.node_renderer.glyph = Circle(radius=size_by_this_attribute, fill_color=color_by_this_attribute, fill_alpha=0.5)\n",
    "# graph_sample.edge_renderer.glyph = MultiLine(line_alpha=1, line_width=4, line_color=\"black\")\n",
    "\n",
    "plot_sample.renderers.append(graph_sample)\n",
    "\n",
    "show(plot_sample)\n"
   ]
  },
  {
   "cell_type": "markdown",
   "metadata": {},
   "source": [
    "Interpretation: the bigger the node, the greater the degree. the darker the color, the more fics in the fandom."
   ]
  },
  {
   "cell_type": "markdown",
   "metadata": {},
   "source": [
    "### Graph top 100"
   ]
  },
  {
   "cell_type": "code",
   "execution_count": 93,
   "metadata": {},
   "outputs": [
    {
     "data": {
      "text/html": [
       "<div>\n",
       "<style scoped>\n",
       "    .dataframe tbody tr th:only-of-type {\n",
       "        vertical-align: middle;\n",
       "    }\n",
       "\n",
       "    .dataframe tbody tr th {\n",
       "        vertical-align: top;\n",
       "    }\n",
       "\n",
       "    .dataframe thead th {\n",
       "        text-align: right;\n",
       "    }\n",
       "</style>\n",
       "<table border=\"1\" class=\"dataframe\">\n",
       "  <thead>\n",
       "    <tr style=\"text-align: right;\">\n",
       "      <th></th>\n",
       "      <th>count</th>\n",
       "      <th>integer_1</th>\n",
       "      <th>integer_2</th>\n",
       "      <th>name_1</th>\n",
       "      <th>name_2</th>\n",
       "    </tr>\n",
       "  </thead>\n",
       "  <tbody>\n",
       "    <tr>\n",
       "      <th>0</th>\n",
       "      <td>83981</td>\n",
       "      <td>414093</td>\n",
       "      <td>1001939</td>\n",
       "      <td>Marvel Cinematic Universe</td>\n",
       "      <td>The Avengers (Marvel Movies)</td>\n",
       "    </tr>\n",
       "    <tr>\n",
       "      <th>46</th>\n",
       "      <td>51455</td>\n",
       "      <td>414093</td>\n",
       "      <td>586439</td>\n",
       "      <td>Marvel Cinematic Universe</td>\n",
       "      <td>Captain America (Movies)</td>\n",
       "    </tr>\n",
       "    <tr>\n",
       "      <th>47</th>\n",
       "      <td>35409</td>\n",
       "      <td>586439</td>\n",
       "      <td>1001939</td>\n",
       "      <td>Captain America (Movies)</td>\n",
       "      <td>The Avengers (Marvel Movies)</td>\n",
       "    </tr>\n",
       "    <tr>\n",
       "      <th>156</th>\n",
       "      <td>31923</td>\n",
       "      <td>116304</td>\n",
       "      <td>242462</td>\n",
       "      <td>A Song of Ice and Fire - George R. R. Martin</td>\n",
       "      <td>Game of Thrones (TV)</td>\n",
       "    </tr>\n",
       "    <tr>\n",
       "      <th>366</th>\n",
       "      <td>27523</td>\n",
       "      <td>727114</td>\n",
       "      <td>1001939</td>\n",
       "      <td>The Avengers (Marvel) - All Media Types</td>\n",
       "      <td>The Avengers (Marvel Movies)</td>\n",
       "    </tr>\n",
       "    <tr>\n",
       "      <th>471</th>\n",
       "      <td>27519</td>\n",
       "      <td>226657</td>\n",
       "      <td>414093</td>\n",
       "      <td>Iron Man (Movies)</td>\n",
       "      <td>Marvel Cinematic Universe</td>\n",
       "    </tr>\n",
       "    <tr>\n",
       "      <th>442</th>\n",
       "      <td>26813</td>\n",
       "      <td>414093</td>\n",
       "      <td>727114</td>\n",
       "      <td>Marvel Cinematic Universe</td>\n",
       "      <td>The Avengers (Marvel) - All Media Types</td>\n",
       "    </tr>\n",
       "    <tr>\n",
       "      <th>43</th>\n",
       "      <td>25135</td>\n",
       "      <td>7266</td>\n",
       "      <td>414093</td>\n",
       "      <td>Marvel</td>\n",
       "      <td>Marvel Cinematic Universe</td>\n",
       "    </tr>\n",
       "    <tr>\n",
       "      <th>437</th>\n",
       "      <td>24336</td>\n",
       "      <td>114591</td>\n",
       "      <td>27251507</td>\n",
       "      <td>Good Omens - Neil Gaiman &amp; Terry Pratchett</td>\n",
       "      <td>Good Omens (TV)</td>\n",
       "    </tr>\n",
       "    <tr>\n",
       "      <th>1415</th>\n",
       "      <td>23668</td>\n",
       "      <td>226657</td>\n",
       "      <td>1001939</td>\n",
       "      <td>Iron Man (Movies)</td>\n",
       "      <td>The Avengers (Marvel Movies)</td>\n",
       "    </tr>\n",
       "    <tr>\n",
       "      <th>155</th>\n",
       "      <td>23519</td>\n",
       "      <td>101375</td>\n",
       "      <td>6048501</td>\n",
       "      <td>Star Wars - All Media Types</td>\n",
       "      <td>Star Wars Sequel Trilogy</td>\n",
       "    </tr>\n",
       "    <tr>\n",
       "      <th>390</th>\n",
       "      <td>21506</td>\n",
       "      <td>245368</td>\n",
       "      <td>414093</td>\n",
       "      <td>Thor (Movies)</td>\n",
       "      <td>Marvel Cinematic Universe</td>\n",
       "    </tr>\n",
       "    <tr>\n",
       "      <th>1132</th>\n",
       "      <td>19015</td>\n",
       "      <td>858574</td>\n",
       "      <td>1080663</td>\n",
       "      <td>Dragon Age (Video Games)</td>\n",
       "      <td>Dragon Age: Inquisition</td>\n",
       "    </tr>\n",
       "    <tr>\n",
       "      <th>392</th>\n",
       "      <td>18504</td>\n",
       "      <td>245368</td>\n",
       "      <td>1001939</td>\n",
       "      <td>Thor (Movies)</td>\n",
       "      <td>The Avengers (Marvel Movies)</td>\n",
       "    </tr>\n",
       "    <tr>\n",
       "      <th>381</th>\n",
       "      <td>18412</td>\n",
       "      <td>406</td>\n",
       "      <td>27785</td>\n",
       "      <td>Doctor Who</td>\n",
       "      <td>Doctor Who (2005)</td>\n",
       "    </tr>\n",
       "  </tbody>\n",
       "</table>\n",
       "</div>"
      ],
      "text/plain": [
       "      count  integer_1  integer_2  \\\n",
       "0     83981     414093    1001939   \n",
       "46    51455     414093     586439   \n",
       "47    35409     586439    1001939   \n",
       "156   31923     116304     242462   \n",
       "366   27523     727114    1001939   \n",
       "471   27519     226657     414093   \n",
       "442   26813     414093     727114   \n",
       "43    25135       7266     414093   \n",
       "437   24336     114591   27251507   \n",
       "1415  23668     226657    1001939   \n",
       "155   23519     101375    6048501   \n",
       "390   21506     245368     414093   \n",
       "1132  19015     858574    1080663   \n",
       "392   18504     245368    1001939   \n",
       "381   18412        406      27785   \n",
       "\n",
       "                                            name_1  \\\n",
       "0                        Marvel Cinematic Universe   \n",
       "46                       Marvel Cinematic Universe   \n",
       "47                        Captain America (Movies)   \n",
       "156   A Song of Ice and Fire - George R. R. Martin   \n",
       "366        The Avengers (Marvel) - All Media Types   \n",
       "471                              Iron Man (Movies)   \n",
       "442                      Marvel Cinematic Universe   \n",
       "43                                          Marvel   \n",
       "437     Good Omens - Neil Gaiman & Terry Pratchett   \n",
       "1415                             Iron Man (Movies)   \n",
       "155                    Star Wars - All Media Types   \n",
       "390                                  Thor (Movies)   \n",
       "1132                      Dragon Age (Video Games)   \n",
       "392                                  Thor (Movies)   \n",
       "381                                     Doctor Who   \n",
       "\n",
       "                                       name_2  \n",
       "0                The Avengers (Marvel Movies)  \n",
       "46                   Captain America (Movies)  \n",
       "47               The Avengers (Marvel Movies)  \n",
       "156                      Game of Thrones (TV)  \n",
       "366              The Avengers (Marvel Movies)  \n",
       "471                 Marvel Cinematic Universe  \n",
       "442   The Avengers (Marvel) - All Media Types  \n",
       "43                  Marvel Cinematic Universe  \n",
       "437                           Good Omens (TV)  \n",
       "1415             The Avengers (Marvel Movies)  \n",
       "155                  Star Wars Sequel Trilogy  \n",
       "390                 Marvel Cinematic Universe  \n",
       "1132                  Dragon Age: Inquisition  \n",
       "392              The Avengers (Marvel Movies)  \n",
       "381                         Doctor Who (2005)  "
      ]
     },
     "execution_count": 93,
     "metadata": {},
     "output_type": "execute_result"
    }
   ],
   "source": [
    "top_edgelist.head(15)"
   ]
  },
  {
   "cell_type": "markdown",
   "metadata": {},
   "source": [
    "Noticing that a lot of the above 'crossovers' are just within the same fandom e.g. The Avengers (Marvel) - All Media Types and The Avengers (Marvel Movies). A lot of these are authors just tagging multiple times for the same fandom, which isn't the same as a cross-over. But! This doesn't mean that 2 tags with \"All Media Types\" could come together to be a crossover from 2 different fandoms. It's just more common for the bigger fandoms to have the possibility of tagging \"All Media Types\".\n",
    "\n",
    "Going to remove \"All Media Types\" for this edgelist of top 50 crossovers, so there's more information. Going to leave the random sample as it is, because it doesn't have this high incidence of \"All Media Types\" invalidating 'crossovers'."
   ]
  },
  {
   "cell_type": "code",
   "execution_count": 77,
   "metadata": {},
   "outputs": [
    {
     "data": {
      "text/plain": [
       "757233"
      ]
     },
     "execution_count": 77,
     "metadata": {},
     "output_type": "execute_result"
    }
   ],
   "source": [
    "len(edgelist_df)"
   ]
  },
  {
   "cell_type": "code",
   "execution_count": 78,
   "metadata": {},
   "outputs": [
    {
     "data": {
      "text/plain": [
       "679604"
      ]
     },
     "execution_count": 78,
     "metadata": {},
     "output_type": "execute_result"
    }
   ],
   "source": [
    "# Create a boolean mask to identify rows that contain \"All Media Types\" in either 'name_1' or 'name_2'\n",
    "mask_all_media_types = edgelist_df['name_1'].str.contains(\"All Media Types\") | edgelist_df['name_2'].str.contains(\"All Media Types\")\n",
    "\n",
    "# Use the mask to filter out the rows\n",
    "top_edgelist_df = edgelist_df[~mask_all_media_types]\n",
    "len(top_edgelist_df)"
   ]
  },
  {
   "cell_type": "code",
   "execution_count": 79,
   "metadata": {},
   "outputs": [
    {
     "data": {
      "text/plain": [
       "741606"
      ]
     },
     "execution_count": 79,
     "metadata": {},
     "output_type": "execute_result"
    }
   ],
   "source": [
    "# drop \"& Related Fandoms\"\n",
    "# Create a boolean mask to identify rows that contain \"& Related Fandoms\" in either 'name_1' or 'name_2'\n",
    "mask_related_fandoms = edgelist_df['name_1'].str.contains(\"& Related Fandoms\") | edgelist_df['name_2'].str.contains(\"& Related Fandoms\")\n",
    "\n",
    "# Use the mask to filter out the rows\n",
    "edgelist_df = edgelist_df[~mask_related_fandoms]\n",
    "\n",
    "len(edgelist_df)"
   ]
  },
  {
   "cell_type": "code",
   "execution_count": 80,
   "metadata": {},
   "outputs": [],
   "source": [
    "top_edgelist = top_edgelist_df.sort_values(by=\"count\", ascending=False).head(top_num)"
   ]
  },
  {
   "cell_type": "code",
   "execution_count": 81,
   "metadata": {},
   "outputs": [
    {
     "data": {
      "text/plain": [
       "NodeDataView({414093: {}, 1001939: {}, 586439: {}, 116304: {}, 242462: {}, 226657: {}, 105692: {}, 133185: {}, 7266: {}, 114591: {}, 27251507: {}, 245368: {}, 858574: {}, 1080663: {}, 406: {}, 27785: {}, 11987966: {}, 33035890: {}, 218280: {}, 254648: {}, 32833447: {}, 2007008: {}, 115613: {}, 224545: {}, 10801369: {}, 105412: {}, 229522: {}, 134900: {}, 34555820: {}, 114961: {}, 873394: {}, 82576: {}, 969647: {}, 1801: {}, 601802: {}, 28642: {}, 390: {}, 879346: {}, 235690: {}, 23985107: {}, 21872622: {}, 34135873: {}, 25760640: {}, 169: {}, 13253: {}, 96137: {}, 10223: {}, 22034: {}, 81269: {}, 4231202: {}, 289604: {}, 870188: {}, 5437936: {}, 1464: {}, 1072216: {}, 6856609: {}})"
      ]
     },
     "execution_count": 81,
     "metadata": {},
     "output_type": "execute_result"
    }
   ],
   "source": [
    "# needs to be indices so that bokeh can work\n",
    "\n",
    "G_top = nx.from_pandas_edgelist(top_edgelist, source='integer_1', target='integer_2', edge_attr='count')\n",
    "G_top.nodes(data=True)"
   ]
  },
  {
   "cell_type": "code",
   "execution_count": 82,
   "metadata": {},
   "outputs": [],
   "source": [
    "# set node attribudes for fandom names\n",
    "nx.set_node_attributes(G_top, name='fandom', values=id_fandom_mapping)\n",
    "\n",
    "# i want to color by cached_count of each fandom\n",
    "nx.set_node_attributes(G_top, name='cached_count', values=id_cached_count_mapping)\n",
    "\n",
    "# need to adjust cached_count because too big distance between numbers\n",
    "nx.set_node_attributes(G_top, name='adjusted_cached_count', values=adjusted_cached_count_mapping)"
   ]
  },
  {
   "cell_type": "code",
   "execution_count": 83,
   "metadata": {},
   "outputs": [],
   "source": [
    "# node attributes for degree \n",
    "degrees = dict(nx.degree(G_top))\n",
    "nx.set_node_attributes(G_top, name='degree', values=degrees)"
   ]
  },
  {
   "cell_type": "code",
   "execution_count": 84,
   "metadata": {},
   "outputs": [],
   "source": [
    "# Slightly adjust degree so that the nodes with very small degrees are still visible\n",
    "number_to_adjust_by = 10\n",
    "adjusted_node_size = dict([(node, degree/number_to_adjust_by) for node, degree in nx.degree(G_top)])\n",
    "nx.set_node_attributes(G_top, name='adjusted_node_size', values=adjusted_node_size)"
   ]
  },
  {
   "cell_type": "code",
   "execution_count": 85,
   "metadata": {},
   "outputs": [
    {
     "data": {
      "text/html": [
       "\n",
       "  <div id=\"cb46c2e5-3338-40aa-8703-26942153f58e\" data-root-id=\"p1519\" style=\"display: contents;\"></div>\n"
      ]
     },
     "metadata": {},
     "output_type": "display_data"
    },
    {
     "data": {
      "application/javascript": "(function(root) {\n  function embed_document(root) {\n  const docs_json = {\"d75c0658-caea-4ee8-94fb-74b5606c25ed\":{\"version\":\"3.4.1\",\"title\":\"Bokeh Application\",\"roots\":[{\"type\":\"object\",\"name\":\"Figure\",\"id\":\"p1519\",\"attributes\":{\"x_range\":{\"type\":\"object\",\"name\":\"Range1d\",\"id\":\"p1517\",\"attributes\":{\"start\":-1.5,\"end\":1.5}},\"y_range\":{\"type\":\"object\",\"name\":\"Range1d\",\"id\":\"p1518\",\"attributes\":{\"start\":-1.5,\"end\":1.5}},\"x_scale\":{\"type\":\"object\",\"name\":\"LinearScale\",\"id\":\"p1529\"},\"y_scale\":{\"type\":\"object\",\"name\":\"LinearScale\",\"id\":\"p1530\"},\"title\":{\"type\":\"object\",\"name\":\"Title\",\"id\":\"p1522\",\"attributes\":{\"text\":\"Fandom Network by Cross-overs, 50 most cross-overs\"}},\"renderers\":[{\"type\":\"object\",\"name\":\"GraphRenderer\",\"id\":\"p1546\",\"attributes\":{\"layout_provider\":{\"type\":\"object\",\"name\":\"StaticLayoutProvider\",\"id\":\"p1563\",\"attributes\":{\"graph_layout\":{\"type\":\"map\",\"entries\":[[414093,{\"type\":\"ndarray\",\"array\":{\"type\":\"bytes\",\"data\":\"SaUk10lFwL9UWLVlyZmtPw==\"},\"shape\":[2],\"dtype\":\"float64\",\"order\":\"little\"}],[1001939,{\"type\":\"ndarray\",\"array\":{\"type\":\"bytes\",\"data\":\"enzkDa7bvr9EP9g6L+OsPw==\"},\"shape\":[2],\"dtype\":\"float64\",\"order\":\"little\"}],[586439,{\"type\":\"ndarray\",\"array\":{\"type\":\"bytes\",\"data\":\"qH9XU9ZCv7/7tYH8eqCuPw==\"},\"shape\":[2],\"dtype\":\"float64\",\"order\":\"little\"}],[116304,{\"type\":\"ndarray\",\"array\":{\"type\":\"bytes\",\"data\":\"CaKemXJx3b/WhDiiQXXiPw==\"},\"shape\":[2],\"dtype\":\"float64\",\"order\":\"little\"}],[242462,{\"type\":\"ndarray\",\"array\":{\"type\":\"bytes\",\"data\":\"aCkg5ytZ3b+YoEls0UTiPw==\"},\"shape\":[2],\"dtype\":\"float64\",\"order\":\"little\"}],[226657,{\"type\":\"ndarray\",\"array\":{\"type\":\"bytes\",\"data\":\"IF/RpQezvr8ILhnBb/KqPw==\"},\"shape\":[2],\"dtype\":\"float64\",\"order\":\"little\"}],[105692,{\"type\":\"ndarray\",\"array\":{\"type\":\"bytes\",\"data\":\"VfQZzaTu1b/FNKletr7tPw==\"},\"shape\":[2],\"dtype\":\"float64\",\"order\":\"little\"}],[133185,{\"type\":\"ndarray\",\"array\":{\"type\":\"bytes\",\"data\":\"OekfT64Z1r+4gOrrP5PtPw==\"},\"shape\":[2],\"dtype\":\"float64\",\"order\":\"little\"}],[7266,{\"type\":\"ndarray\",\"array\":{\"type\":\"bytes\",\"data\":\"84FL23cGv7+Ji2DgFYuwPw==\"},\"shape\":[2],\"dtype\":\"float64\",\"order\":\"little\"}],[114591,{\"type\":\"ndarray\",\"array\":{\"type\":\"bytes\",\"data\":\"Rs/UMNrc478iZ7ZI3XDQvw==\"},\"shape\":[2],\"dtype\":\"float64\",\"order\":\"little\"}],[27251507,{\"type\":\"ndarray\",\"array\":{\"type\":\"bytes\",\"data\":\"ve8bkEIJ5L8EGT8LC5vQvw==\"},\"shape\":[2],\"dtype\":\"float64\",\"order\":\"little\"}],[245368,{\"type\":\"ndarray\",\"array\":{\"type\":\"bytes\",\"data\":\"Mur0858KwL+gL2O6qUerPw==\"},\"shape\":[2],\"dtype\":\"float64\",\"order\":\"little\"}],[858574,{\"type\":\"ndarray\",\"array\":{\"type\":\"bytes\",\"data\":\"6Hpgv8IkzD8M7kCuuN22Pw==\"},\"shape\":[2],\"dtype\":\"float64\",\"order\":\"little\"}],[1080663,{\"type\":\"ndarray\",\"array\":{\"type\":\"bytes\",\"data\":\"aLHhgn9zyz+rzaUT3Su4Pw==\"},\"shape\":[2],\"dtype\":\"float64\",\"order\":\"little\"}],[406,{\"type\":\"ndarray\",\"array\":{\"type\":\"bytes\",\"data\":\"v4vReOZTzj/nGcS1UgfXvw==\"},\"shape\":[2],\"dtype\":\"float64\",\"order\":\"little\"}],[27785,{\"type\":\"ndarray\",\"array\":{\"type\":\"bytes\",\"data\":\"jJk3+cCrzT8pfozOvtHWvw==\"},\"shape\":[2],\"dtype\":\"float64\",\"order\":\"little\"}],[11987966,{\"type\":\"ndarray\",\"array\":{\"type\":\"bytes\",\"data\":\"UeHlf9+l4j8o3n3WJsvnPw==\"},\"shape\":[2],\"dtype\":\"float64\",\"order\":\"little\"}],[33035890,{\"type\":\"ndarray\",\"array\":{\"type\":\"bytes\",\"data\":\"hyylq/TL4j9fMQGFv/HnPw==\"},\"shape\":[2],\"dtype\":\"float64\",\"order\":\"little\"}],[218280,{\"type\":\"ndarray\",\"array\":{\"type\":\"bytes\",\"data\":\"GNOH+uUA078a8fEYNvTsvw==\"},\"shape\":[2],\"dtype\":\"float64\",\"order\":\"little\"}],[254648,{\"type\":\"ndarray\",\"array\":{\"type\":\"bytes\",\"data\":\"FEtzzM0I07+ny/CI4cPsvw==\"},\"shape\":[2],\"dtype\":\"float64\",\"order\":\"little\"}],[32833447,{\"type\":\"ndarray\",\"array\":{\"type\":\"bytes\",\"data\":\"kYoXo1CDv7/Y2uRKM+eoPw==\"},\"shape\":[2],\"dtype\":\"float64\",\"order\":\"little\"}],[2007008,{\"type\":\"ndarray\",\"array\":{\"type\":\"bytes\",\"data\":\"Nc0GI5ES3b/6UcV9AGXiPw==\"},\"shape\":[2],\"dtype\":\"float64\",\"order\":\"little\"}],[115613,{\"type\":\"ndarray\",\"array\":{\"type\":\"bytes\",\"data\":\"oEukQoh86L8NnTgN+RHjvw==\"},\"shape\":[2],\"dtype\":\"float64\",\"order\":\"little\"}],[224545,{\"type\":\"ndarray\",\"array\":{\"type\":\"bytes\",\"data\":\"mOk4m3SA6L+hqeBtT0Ljvw==\"},\"shape\":[2],\"dtype\":\"float64\",\"order\":\"little\"}],[10801369,{\"type\":\"ndarray\",\"array\":{\"type\":\"bytes\",\"data\":\"e58iutSWvb93/hRkyuOsPw==\"},\"shape\":[2],\"dtype\":\"float64\",\"order\":\"little\"}],[105412,{\"type\":\"ndarray\",\"array\":{\"type\":\"bytes\",\"data\":\"dKuoLXRTzj9amX+vlaPWvw==\"},\"shape\":[2],\"dtype\":\"float64\",\"order\":\"little\"}],[229522,{\"type\":\"ndarray\",\"array\":{\"type\":\"bytes\",\"data\":\"wstmlZH9yz+1PdecsPy0Pw==\"},\"shape\":[2],\"dtype\":\"float64\",\"order\":\"little\"}],[134900,{\"type\":\"ndarray\",\"array\":{\"type\":\"bytes\",\"data\":\"AAAAAAAA8L/QQIilRH+5vw==\"},\"shape\":[2],\"dtype\":\"float64\",\"order\":\"little\"}],[34555820,{\"type\":\"ndarray\",\"array\":{\"type\":\"bytes\",\"data\":\"mAUJ0QrS779QDH4mIQO5vw==\"},\"shape\":[2],\"dtype\":\"float64\",\"order\":\"little\"}],[114961,{\"type\":\"ndarray\",\"array\":{\"type\":\"bytes\",\"data\":\"Y88WUpZ96j/uTlaE9LDcPw==\"},\"shape\":[2],\"dtype\":\"float64\",\"order\":\"little\"}],[873394,{\"type\":\"ndarray\",\"array\":{\"type\":\"bytes\",\"data\":\"ZhvPWOda6j/EUMLIKW3cPw==\"},\"shape\":[2],\"dtype\":\"float64\",\"order\":\"little\"}],[82576,{\"type\":\"ndarray\",\"array\":{\"type\":\"bytes\",\"data\":\"BW1SSalt3j/yTZr0nT+UPw==\"},\"shape\":[2],\"dtype\":\"float64\",\"order\":\"little\"}],[969647,{\"type\":\"ndarray\",\"array\":{\"type\":\"bytes\",\"data\":\"GoCJ3p/b3j8TRYTMZjqUPw==\"},\"shape\":[2],\"dtype\":\"float64\",\"order\":\"little\"}],[1801,{\"type\":\"ndarray\",\"array\":{\"type\":\"bytes\",\"data\":\"MgGAZJ6W1D82dy9m+Gvrvw==\"},\"shape\":[2],\"dtype\":\"float64\",\"order\":\"little\"}],[601802,{\"type\":\"ndarray\",\"array\":{\"type\":\"bytes\",\"data\":\"wAakfRY01D+3kDRgqVTrvw==\"},\"shape\":[2],\"dtype\":\"float64\",\"order\":\"little\"}],[28642,{\"type\":\"ndarray\",\"array\":{\"type\":\"bytes\",\"data\":\"tty7AEAOzT+Kyl/pRoO3Pw==\"},\"shape\":[2],\"dtype\":\"float64\",\"order\":\"little\"}],[390,{\"type\":\"ndarray\",\"array\":{\"type\":\"bytes\",\"data\":\"oUcWc0ZN3z8NsHyMfySUPw==\"},\"shape\":[2],\"dtype\":\"float64\",\"order\":\"little\"}],[879346,{\"type\":\"ndarray\",\"array\":{\"type\":\"bytes\",\"data\":\"FDgBFLHwwL+ah89h4UaxPw==\"},\"shape\":[2],\"dtype\":\"float64\",\"order\":\"little\"}],[235690,{\"type\":\"ndarray\",\"array\":{\"type\":\"bytes\",\"data\":\"MdzUpNrxlb+p+eDu9GvvPw==\"},\"shape\":[2],\"dtype\":\"float64\",\"order\":\"little\"}],[23985107,{\"type\":\"ndarray\",\"array\":{\"type\":\"bytes\",\"data\":\"XRw4zb46kr9XJEfHo0XvPw==\"},\"shape\":[2],\"dtype\":\"float64\",\"order\":\"little\"}],[21872622,{\"type\":\"ndarray\",\"array\":{\"type\":\"bytes\",\"data\":\"EGVBirbDl7/xScfPswzuvw==\"},\"shape\":[2],\"dtype\":\"float64\",\"order\":\"little\"}],[34135873,{\"type\":\"ndarray\",\"array\":{\"type\":\"bytes\",\"data\":\"msXuOlCLlb8xhs8O0znuvw==\"},\"shape\":[2],\"dtype\":\"float64\",\"order\":\"little\"}],[25760640,{\"type\":\"ndarray\",\"array\":{\"type\":\"bytes\",\"data\":\"qpbwpzh/4j9ZhOX0TqLnPw==\"},\"shape\":[2],\"dtype\":\"float64\",\"order\":\"little\"}],[169,{\"type\":\"ndarray\",\"array\":{\"type\":\"bytes\",\"data\":\"W1qLddfT4b9tNSSH69bpvw==\"},\"shape\":[2],\"dtype\":\"float64\",\"order\":\"little\"}],[13253,{\"type\":\"ndarray\",\"array\":{\"type\":\"bytes\",\"data\":\"CmowZymw4b++jdnxFrbpvw==\"},\"shape\":[2],\"dtype\":\"float64\",\"order\":\"little\"}],[96137,{\"type\":\"ndarray\",\"array\":{\"type\":\"bytes\",\"data\":\"J40RMlx8wb8vQVjsoL2qPw==\"},\"shape\":[2],\"dtype\":\"float64\",\"order\":\"little\"}],[10223,{\"type\":\"ndarray\",\"array\":{\"type\":\"bytes\",\"data\":\"sA38bgIV0j/lX+++OxnuPw==\"},\"shape\":[2],\"dtype\":\"float64\",\"order\":\"little\"}],[22034,{\"type\":\"ndarray\",\"array\":{\"type\":\"bytes\",\"data\":\"un+kkL4X0j+Nyxifw+jtPw==\"},\"shape\":[2],\"dtype\":\"float64\",\"order\":\"little\"}],[81269,{\"type\":\"ndarray\",\"array\":{\"type\":\"bytes\",\"data\":\"p1Z+HLB65b9hUMKCvC6qPw==\"},\"shape\":[2],\"dtype\":\"float64\",\"order\":\"little\"}],[4231202,{\"type\":\"ndarray\",\"array\":{\"type\":\"bytes\",\"data\":\"e8rv9blK5b/UjiBwz3epPw==\"},\"shape\":[2],\"dtype\":\"float64\",\"order\":\"little\"}],[289604,{\"type\":\"ndarray\",\"array\":{\"type\":\"bytes\",\"data\":\"cA+Im1Wcwb+WbDxTgxyvPw==\"},\"shape\":[2],\"dtype\":\"float64\",\"order\":\"little\"}],[870188,{\"type\":\"ndarray\",\"array\":{\"type\":\"bytes\",\"data\":\"gB4hQp076D9E70a5vVrfvw==\"},\"shape\":[2],\"dtype\":\"float64\",\"order\":\"little\"}],[5437936,{\"type\":\"ndarray\",\"array\":{\"type\":\"bytes\",\"data\":\"0N1VQIxn6D/1llLDoDHfvw==\"},\"shape\":[2],\"dtype\":\"float64\",\"order\":\"little\"}],[1464,{\"type\":\"ndarray\",\"array\":{\"type\":\"bytes\",\"data\":\"Be5f1Enx1D8DXT0pjY7rvw==\"},\"shape\":[2],\"dtype\":\"float64\",\"order\":\"little\"}],[1072216,{\"type\":\"ndarray\",\"array\":{\"type\":\"bytes\",\"data\":\"v4zXzMTH7T8oiWaXgHezPw==\"},\"shape\":[2],\"dtype\":\"float64\",\"order\":\"little\"}],[6856609,{\"type\":\"ndarray\",\"array\":{\"type\":\"bytes\",\"data\":\"z24Wo7Ok7T9afxY9amuyPw==\"},\"shape\":[2],\"dtype\":\"float64\",\"order\":\"little\"}]]}}},\"node_renderer\":{\"type\":\"object\",\"name\":\"GlyphRenderer\",\"id\":\"p1551\",\"attributes\":{\"data_source\":{\"type\":\"object\",\"name\":\"ColumnDataSource\",\"id\":\"p1548\",\"attributes\":{\"selected\":{\"type\":\"object\",\"name\":\"Selection\",\"id\":\"p1549\",\"attributes\":{\"indices\":[],\"line_indices\":[]}},\"selection_policy\":{\"type\":\"object\",\"name\":\"UnionRenderers\",\"id\":\"p1550\"},\"data\":{\"type\":\"map\",\"entries\":[[\"adjusted_cached_count\",[12.390629202848693,11.96917240335714,11.468503247417482,10.772351190837892,10.909417871295242,10.743588146052236,10.472459435395576,11.931148839177055,11.903331079318603,10.575257867336488,10.515044996056119,10.715173039019605,10.437404507525516,10.581774870189049,10.756433716893001,10.770903116628146,10.767263191298982,10.33899678199267,10.57334051729299,10.347724555144831,9.9241231661362,9.645881947666817,10.024509780783578,9.41156545918937,9.564512185696797,9.448727152703086,9.73896662036768,9.636914443294582,9.330520532232288,9.345919666218006,9.745194973541535,10.140849541087894,10.14419593502981,10.493992741124194,10.422430144404066,9.383200644980624,10.452013503484945,10.421179548719396,9.673382324888367,10.327643559087782,9.082166033252674,8.96610085736724,8.708639655987193,9.833976689772,9.706620724300137,9.07280095795412,9.4296365315615,8.792701462936309,8.942853006809921,9.995291593011165,9.509778075438817,8.934323331054905,9.271435471335993,9.62990560446313,8.781862489558945,10.527606146685637]],[\"fandom\",[\"Marvel Cinematic Universe\",\"The Avengers (Marvel Movies)\",\"Captain America (Movies)\",\"A Song of Ice and Fire - George R. R. Martin\",\"Game of Thrones (TV)\",\"Iron Man (Movies)\",\"Sherlock Holmes & Related Fandoms\",\"Sherlock (TV)\",\"Marvel\",\"Good Omens - Neil Gaiman & Terry Pratchett\",\"Good Omens (TV)\",\"Thor (Movies)\",\"Dragon Age (Video Games)\",\"Dragon Age: Inquisition\",\"Doctor Who\",\"Doctor Who (2005)\",\"\\u9b54\\u9053\\u7956\\u5e08 - \\u58a8\\u9999\\u94dc\\u81ed | M\\u00f3d\\u00e0o Z\\u01d4sh\\u012b - M\\u00f2xi\\u0101ng T\\u00f3ngxi\\u00f9\",\"\\u9648\\u60c5\\u4ee4 | The Untamed (TV)\",\"Video Blogging RPF\",\"Minecraft (Video Game)\",\"Spider-Man (Tom Holland Movies)\",\"A Song of Ice and Fire & Related Fandoms\",\"Percy Jackson and the Olympians - Rick Riordan\",\"The Heroes of Olympus - Rick Riordan\",\"Spider-Man: Homecoming (2017)\",\"Doctor Who & Related Fandoms\",\"Dragon Age II\",\"IT - Stephen King\",\"IT (Movies - Muschietti)\",\"The Hobbit - J. R. R. Tolkien\",\"The Hobbit (Jackson Movies)\",\"Batman (Comics)\",\"DCU (Comics)\",\"Star Trek\",\"Star Trek: Alternate Original Series (Movies)\",\"Dragon Age: Origins\",\"DCU\",\"Agents of S.H.I.E.L.D. (TV)\",\"Fire Emblem Series\",\"Fire Emblem: Fuukasetsugetsu | Fire Emblem: Three Houses\",\"\\u9b3c\\u6ec5\\u306e\\u5203 | Kimetsu no Yaiba (Manga)\",\"\\u9b3c\\u6ec5\\u306e\\u5203 | Demon Slayer: Kimetsu no Yaiba (Anime)\",\"\\u9b54\\u9053\\u7956\\u5e08 | M\\u00f3d\\u00e0o Z\\u01d4sh\\u012b (Cartoon)\",\"My Chemical Romance\",\"Bandom\",\"Marvel (Movies)\",\"World Wrestling Entertainment\",\"Professional Wrestling\",\"Persona Series\",\"Persona 5\",\"Marvel (Comics)\",\"Fallout (Video Games)\",\"Fallout 4\",\"Star Trek: The Original Series\",\"The Mortal Instruments Series - Cassandra Clare\",\"Shadowhunters (TV)\"]],[\"adjusted_node_size\",[1.0,0.7,0.5,0.2,0.2,0.6,0.1,0.1,0.3,0.1,0.1,0.4,0.3,0.1,0.2,0.2,0.2,0.1,0.1,0.1,0.3,0.2,0.1,0.1,0.3,0.2,0.1,0.1,0.1,0.1,0.1,0.1,0.2,0.2,0.1,0.1,0.1,0.1,0.1,0.1,0.1,0.1,0.1,0.1,0.1,0.1,0.1,0.1,0.1,0.1,0.1,0.1,0.1,0.1,0.1,0.1]],[\"degree\",[10,7,5,2,2,6,1,1,3,1,1,4,3,1,2,2,2,1,1,1,3,2,1,1,3,2,1,1,1,1,1,1,2,2,1,1,1,1,1,1,1,1,1,1,1,1,1,1,1,1,1,1,1,1,1,1]],[\"cached_count\",[240536,157813,95654,47683,54688,46331,35328,151925,147757,39153,36865,45033,34111,39409,46930,47614,47441,30914,39078,31185,20416,15457,22572,12228,14249,12691,16965,15319,11276,11451,17071,25357,25442,36097,33604,11886,34613,33562,15888,30565,8796,7832,6054,18656,16425,8714,12451,6585,7652,21922,13490,7587,10629,15212,6514,37331]],[\"index\",[414093,1001939,586439,116304,242462,226657,105692,133185,7266,114591,27251507,245368,858574,1080663,406,27785,11987966,33035890,218280,254648,32833447,2007008,115613,224545,10801369,105412,229522,134900,34555820,114961,873394,82576,969647,1801,601802,28642,390,879346,235690,23985107,21872622,34135873,25760640,169,13253,96137,10223,22034,81269,4231202,289604,870188,5437936,1464,1072216,6856609]]]}}},\"view\":{\"type\":\"object\",\"name\":\"CDSView\",\"id\":\"p1552\",\"attributes\":{\"filter\":{\"type\":\"object\",\"name\":\"AllIndices\",\"id\":\"p1553\"}}},\"glyph\":{\"type\":\"object\",\"name\":\"Circle\",\"id\":\"p1565\",\"attributes\":{\"radius\":{\"type\":\"field\",\"field\":\"adjusted_node_size\"},\"fill_color\":{\"type\":\"field\",\"field\":\"adjusted_cached_count\",\"transform\":{\"type\":\"object\",\"name\":\"LinearColorMapper\",\"id\":\"p1564\",\"attributes\":{\"palette\":[\"#99000d\",\"#cb181d\",\"#ef3b2c\",\"#fb6a4a\",\"#fc9272\",\"#fcbba1\",\"#fee0d2\",\"#fff5f0\"],\"low\":12.390629202848693,\"high\":8.708639655987193}}},\"fill_alpha\":{\"type\":\"value\",\"value\":0.7}}}}},\"edge_renderer\":{\"type\":\"object\",\"name\":\"GlyphRenderer\",\"id\":\"p1558\",\"attributes\":{\"data_source\":{\"type\":\"object\",\"name\":\"ColumnDataSource\",\"id\":\"p1555\",\"attributes\":{\"selected\":{\"type\":\"object\",\"name\":\"Selection\",\"id\":\"p1556\",\"attributes\":{\"indices\":[],\"line_indices\":[]}},\"selection_policy\":{\"type\":\"object\",\"name\":\"UnionRenderers\",\"id\":\"p1557\"},\"data\":{\"type\":\"map\",\"entries\":[[\"count\",[83981,51455,27519,25135,21506,12901,8458,6016,4971,4637,35409,23668,18504,15378,6507,5243,12349,7014,6305,31923,12009,12102,6826,5895,4451,27475,24336,19015,7932,6233,18412,7403,8451,17742,5368,16448,9030,7568,7144,7131,6056,6753,4437,5756,5569,5360,4800,4768,4535,4369]],[\"start\",[414093,414093,414093,414093,414093,414093,414093,414093,414093,414093,1001939,1001939,1001939,1001939,1001939,1001939,586439,586439,586439,116304,116304,242462,226657,226657,226657,105692,114591,858574,858574,858574,406,406,27785,11987966,11987966,218280,115613,134900,114961,82576,969647,1801,1801,235690,21872622,169,10223,81269,870188,1072216]],[\"end\",[1001939,586439,226657,7266,245368,32833447,10801369,879346,96137,289604,586439,226657,245368,7266,32833447,10801369,226657,245368,7266,242462,2007008,2007008,32833447,245368,10801369,133185,27251507,1080663,229522,28642,27785,105412,105412,33035890,25760640,254648,224545,34555820,873394,969647,390,601802,1464,23985107,34135873,13253,22034,4231202,5437936,6856609]]]}}},\"view\":{\"type\":\"object\",\"name\":\"CDSView\",\"id\":\"p1559\",\"attributes\":{\"filter\":{\"type\":\"object\",\"name\":\"AllIndices\",\"id\":\"p1560\"}}},\"glyph\":{\"type\":\"object\",\"name\":\"MultiLine\",\"id\":\"p1554\"}}},\"selection_policy\":{\"type\":\"object\",\"name\":\"NodesOnly\",\"id\":\"p1561\"},\"inspection_policy\":{\"type\":\"object\",\"name\":\"NodesOnly\",\"id\":\"p1562\"}}}],\"toolbar\":{\"type\":\"object\",\"name\":\"Toolbar\",\"id\":\"p1528\",\"attributes\":{\"tools\":[{\"type\":\"object\",\"name\":\"PanTool\",\"id\":\"p1541\"},{\"type\":\"object\",\"name\":\"WheelZoomTool\",\"id\":\"p1542\",\"attributes\":{\"renderers\":\"auto\"}},{\"type\":\"object\",\"name\":\"SaveTool\",\"id\":\"p1543\"},{\"type\":\"object\",\"name\":\"ResetTool\",\"id\":\"p1544\"},{\"type\":\"object\",\"name\":\"HoverTool\",\"id\":\"p1545\",\"attributes\":{\"renderers\":\"auto\",\"tooltips\":[[\"Fandom\",\"@fandom\"],[\"Degree\",\"@degree\"],[\"Count\",\"@cached_count\"]]}}],\"active_scroll\":{\"id\":\"p1542\"}}},\"left\":[{\"type\":\"object\",\"name\":\"LinearAxis\",\"id\":\"p1536\",\"attributes\":{\"ticker\":{\"type\":\"object\",\"name\":\"BasicTicker\",\"id\":\"p1537\",\"attributes\":{\"mantissas\":[1,2,5]}},\"formatter\":{\"type\":\"object\",\"name\":\"BasicTickFormatter\",\"id\":\"p1538\"},\"major_label_policy\":{\"type\":\"object\",\"name\":\"AllLabels\",\"id\":\"p1539\"}}}],\"below\":[{\"type\":\"object\",\"name\":\"LinearAxis\",\"id\":\"p1531\",\"attributes\":{\"ticker\":{\"type\":\"object\",\"name\":\"BasicTicker\",\"id\":\"p1532\",\"attributes\":{\"mantissas\":[1,2,5]}},\"formatter\":{\"type\":\"object\",\"name\":\"BasicTickFormatter\",\"id\":\"p1533\"},\"major_label_policy\":{\"type\":\"object\",\"name\":\"AllLabels\",\"id\":\"p1534\"}}}],\"center\":[{\"type\":\"object\",\"name\":\"Grid\",\"id\":\"p1535\",\"attributes\":{\"axis\":{\"id\":\"p1531\"}}},{\"type\":\"object\",\"name\":\"Grid\",\"id\":\"p1540\",\"attributes\":{\"dimension\":1,\"axis\":{\"id\":\"p1536\"}}}]}}]}};\n  const render_items = [{\"docid\":\"d75c0658-caea-4ee8-94fb-74b5606c25ed\",\"roots\":{\"p1519\":\"cb46c2e5-3338-40aa-8703-26942153f58e\"},\"root_ids\":[\"p1519\"]}];\n  void root.Bokeh.embed.embed_items_notebook(docs_json, render_items);\n  }\n  if (root.Bokeh !== undefined) {\n    embed_document(root);\n  } else {\n    let attempts = 0;\n    const timer = setInterval(function(root) {\n      if (root.Bokeh !== undefined) {\n        clearInterval(timer);\n        embed_document(root);\n      } else {\n        attempts++;\n        if (attempts > 100) {\n          clearInterval(timer);\n          console.log(\"Bokeh: ERROR: Unable to run BokehJS code because BokehJS library is missing\");\n        }\n      }\n    }, 10, root)\n  }\n})(window);",
      "application/vnd.bokehjs_exec.v0+json": ""
     },
     "metadata": {
      "application/vnd.bokehjs_exec.v0+json": {
       "id": "p1519"
      }
     },
     "output_type": "display_data"
    }
   ],
   "source": [
    "#Choose a title!\n",
    "title = 'Fandom Network by Cross-overs, ' + str(top_num) + ' most cross-overs'\n",
    "\n",
    "#Create a plot — set dimensions, toolbar, and title\n",
    "plot_top = figure(tooltips = HOVER_TOOLTIPS,\n",
    "              tools=\"pan,wheel_zoom,save,reset\", active_scroll='wheel_zoom',\n",
    "            x_range=Range1d(-1.5, 1.5), y_range=Range1d(-1.5, 1.5), title=title)\n",
    "\n",
    "# pos_top = nx.spring_layout(G_top, k=0.2, iterations=1000)\n",
    "\n",
    "pos_top = nx.fruchterman_reingold_layout(G_top, k=0.3, iterations=1000)\n",
    "\n",
    "graph_top = from_networkx(G_top, pos_top, scale=1, center=(0, 0))\n",
    "\n",
    "#Set node sizes and colors according to node degree (color as spectrum of color palette)\n",
    "minimum_value_color_top = min(graph_top.node_renderer.data_source.data[color_by_this_attribute])\n",
    "maximum_value_color_top = max(graph_top.node_renderer.data_source.data[color_by_this_attribute])\n",
    "graph_top.node_renderer.glyph = Circle(radius=size_by_this_attribute, fill_color=linear_cmap(color_by_this_attribute, color_palette, maximum_value_color_top, minimum_value_color_top), fill_alpha=0.7)\n",
    "\n",
    "plot_top.renderers.append(graph_top)\n",
    "\n",
    "show(plot_top)\n"
   ]
  },
  {
   "cell_type": "code",
   "execution_count": 99,
   "metadata": {},
   "outputs": [
    {
     "data": {
      "text/html": [
       "\n",
       "  <div id=\"f8a8de0d-fe2e-4d56-a3be-d8a2786e3154\" data-root-id=\"p2095\" style=\"display: contents;\"></div>\n"
      ]
     },
     "metadata": {},
     "output_type": "display_data"
    },
    {
     "data": {
      "application/javascript": "(function(root) {\n  function embed_document(root) {\n  const docs_json = {\"bfa0b77f-ef82-4b7c-b360-f6d04ff6b3e5\":{\"version\":\"3.4.1\",\"title\":\"Bokeh Application\",\"roots\":[{\"type\":\"object\",\"name\":\"Figure\",\"id\":\"p2095\",\"attributes\":{\"x_range\":{\"type\":\"object\",\"name\":\"Range1d\",\"id\":\"p2093\",\"attributes\":{\"start\":-1.5,\"end\":1.5}},\"y_range\":{\"type\":\"object\",\"name\":\"Range1d\",\"id\":\"p2094\",\"attributes\":{\"start\":-1.5,\"end\":1.5}},\"x_scale\":{\"type\":\"object\",\"name\":\"LinearScale\",\"id\":\"p2105\"},\"y_scale\":{\"type\":\"object\",\"name\":\"LinearScale\",\"id\":\"p2106\"},\"title\":{\"type\":\"object\",\"name\":\"Title\",\"id\":\"p2098\",\"attributes\":{\"text\":\"Fandom Network by Cross-overs, 50 most cross-overs\"}},\"renderers\":[{\"type\":\"object\",\"name\":\"GraphRenderer\",\"id\":\"p2122\",\"attributes\":{\"layout_provider\":{\"type\":\"object\",\"name\":\"StaticLayoutProvider\",\"id\":\"p2139\",\"attributes\":{\"graph_layout\":{\"type\":\"map\",\"entries\":[[414093,{\"type\":\"ndarray\",\"array\":{\"type\":\"bytes\",\"data\":\"4zLl3/iKur8D94zLUhq5Pw==\"},\"shape\":[2],\"dtype\":\"float64\",\"order\":\"little\"}],[1001939,{\"type\":\"ndarray\",\"array\":{\"type\":\"bytes\",\"data\":\"7KyKdY8kur+TzHCM4M23Pw==\"},\"shape\":[2],\"dtype\":\"float64\",\"order\":\"little\"}],[586439,{\"type\":\"ndarray\",\"array\":{\"type\":\"bytes\",\"data\":\"eyVx0Kc/u78oLjTIifq2Pw==\"},\"shape\":[2],\"dtype\":\"float64\",\"order\":\"little\"}],[116304,{\"type\":\"ndarray\",\"array\":{\"type\":\"bytes\",\"data\":\"AE7IrHyfwb99Ry09EvLTvw==\"},\"shape\":[2],\"dtype\":\"float64\",\"order\":\"little\"}],[242462,{\"type\":\"ndarray\",\"array\":{\"type\":\"bytes\",\"data\":\"ZODXu16Hwb9EoeAS9lfUvw==\"},\"shape\":[2],\"dtype\":\"float64\",\"order\":\"little\"}],[226657,{\"type\":\"ndarray\",\"array\":{\"type\":\"bytes\",\"data\":\"ygEV3XlAub/V/nu/w0a3Pw==\"},\"shape\":[2],\"dtype\":\"float64\",\"order\":\"little\"}],[105692,{\"type\":\"ndarray\",\"array\":{\"type\":\"bytes\",\"data\":\"u5h4yMX65T/QWH1yRoLlvw==\"},\"shape\":[2],\"dtype\":\"float64\",\"order\":\"little\"}],[133185,{\"type\":\"ndarray\",\"array\":{\"type\":\"bytes\",\"data\":\"j4KQh1Dl5T8KUERYVFXlvw==\"},\"shape\":[2],\"dtype\":\"float64\",\"order\":\"little\"}],[7266,{\"type\":\"ndarray\",\"array\":{\"type\":\"bytes\",\"data\":\"5U1A0UZJvL/E+541fuK3Pw==\"},\"shape\":[2],\"dtype\":\"float64\",\"order\":\"little\"}],[114591,{\"type\":\"ndarray\",\"array\":{\"type\":\"bytes\",\"data\":\"D5PdM1DQ2T+erdRR3xjFvw==\"},\"shape\":[2],\"dtype\":\"float64\",\"order\":\"little\"}],[27251507,{\"type\":\"ndarray\",\"array\":{\"type\":\"bytes\",\"data\":\"56L8JVBu2T+ngfJp5OfEvw==\"},\"shape\":[2],\"dtype\":\"float64\",\"order\":\"little\"}],[245368,{\"type\":\"ndarray\",\"array\":{\"type\":\"bytes\",\"data\":\"/S9T/d0/ur+UupXXOlC2Pw==\"},\"shape\":[2],\"dtype\":\"float64\",\"order\":\"little\"}],[858574,{\"type\":\"ndarray\",\"array\":{\"type\":\"bytes\",\"data\":\"rEn5CrnA5r/IyAOPxaaqPw==\"},\"shape\":[2],\"dtype\":\"float64\",\"order\":\"little\"}],[1080663,{\"type\":\"ndarray\",\"array\":{\"type\":\"bytes\",\"data\":\"CuEI0R2r5r/ascTUXv6mPw==\"},\"shape\":[2],\"dtype\":\"float64\",\"order\":\"little\"}],[406,{\"type\":\"ndarray\",\"array\":{\"type\":\"bytes\",\"data\":\"zq0GjnfWxj8MbPdU6irTvw==\"},\"shape\":[2],\"dtype\":\"float64\",\"order\":\"little\"}],[27785,{\"type\":\"ndarray\",\"array\":{\"type\":\"bytes\",\"data\":\"6pMmN4sgxj8KtL8Xp/zSvw==\"},\"shape\":[2],\"dtype\":\"float64\",\"order\":\"little\"}],[11987966,{\"type\":\"ndarray\",\"array\":{\"type\":\"bytes\",\"data\":\"u4XTyJVn6b+9F6mZHsDkvw==\"},\"shape\":[2],\"dtype\":\"float64\",\"order\":\"little\"}],[33035890,{\"type\":\"ndarray\",\"array\":{\"type\":\"bytes\",\"data\":\"/7/wC3SC6b+q37v3evXkvw==\"},\"shape\":[2],\"dtype\":\"float64\",\"order\":\"little\"}],[218280,{\"type\":\"ndarray\",\"array\":{\"type\":\"bytes\",\"data\":\"YU/LDQXC0D9r0eBOfAnvPw==\"},\"shape\":[2],\"dtype\":\"float64\",\"order\":\"little\"}],[254648,{\"type\":\"ndarray\",\"array\":{\"type\":\"bytes\",\"data\":\"PgEEtSy20D8GQCqb7jrvPw==\"},\"shape\":[2],\"dtype\":\"float64\",\"order\":\"little\"}],[32833447,{\"type\":\"ndarray\",\"array\":{\"type\":\"bytes\",\"data\":\"DwDko3oruL+Mw8C0heW3Pw==\"},\"shape\":[2],\"dtype\":\"float64\",\"order\":\"little\"}],[2007008,{\"type\":\"ndarray\",\"array\":{\"type\":\"bytes\",\"data\":\"EULxnQbpwL8sJOK7OxbUvw==\"},\"shape\":[2],\"dtype\":\"float64\",\"order\":\"little\"}],[115613,{\"type\":\"ndarray\",\"array\":{\"type\":\"bytes\",\"data\":\"oHUE2slOvz/oRNrm397hPw==\"},\"shape\":[2],\"dtype\":\"float64\",\"order\":\"little\"}],[224545,{\"type\":\"ndarray\",\"array\":{\"type\":\"bytes\",\"data\":\"OytH+1gHvz9oVOAjKa3hPw==\"},\"shape\":[2],\"dtype\":\"float64\",\"order\":\"little\"}],[10801369,{\"type\":\"ndarray\",\"array\":{\"type\":\"bytes\",\"data\":\"HzZ1JsS2uL8Wx5w22RC5Pw==\"},\"shape\":[2],\"dtype\":\"float64\",\"order\":\"little\"}],[105412,{\"type\":\"ndarray\",\"array\":{\"type\":\"bytes\",\"data\":\"riekwqLCxj/RwcRX8MTSvw==\"},\"shape\":[2],\"dtype\":\"float64\",\"order\":\"little\"}],[229522,{\"type\":\"ndarray\",\"array\":{\"type\":\"bytes\",\"data\":\"4FHQ2c2c5r8q468wrdatPw==\"},\"shape\":[2],\"dtype\":\"float64\",\"order\":\"little\"}],[134900,{\"type\":\"ndarray\",\"array\":{\"type\":\"bytes\",\"data\":\"hwBY35LV6D8V7VGDEq6gvw==\"},\"shape\":[2],\"dtype\":\"float64\",\"order\":\"little\"}],[34555820,{\"type\":\"ndarray\",\"array\":{\"type\":\"bytes\",\"data\":\"33NbTTSj6D854J+k7pKgvw==\"},\"shape\":[2],\"dtype\":\"float64\",\"order\":\"little\"}],[114961,{\"type\":\"ndarray\",\"array\":{\"type\":\"bytes\",\"data\":\"vW4ufk7H7T8zaj8+bE/RPw==\"},\"shape\":[2],\"dtype\":\"float64\",\"order\":\"little\"}],[873394,{\"type\":\"ndarray\",\"array\":{\"type\":\"bytes\",\"data\":\"OJpVgdf47T9Rt9Qo9kTRPw==\"},\"shape\":[2],\"dtype\":\"float64\",\"order\":\"little\"}],[82576,{\"type\":\"ndarray\",\"array\":{\"type\":\"bytes\",\"data\":\"VN19t8QL4z+JxA06KBrpPw==\"},\"shape\":[2],\"dtype\":\"float64\",\"order\":\"little\"}],[969647,{\"type\":\"ndarray\",\"array\":{\"type\":\"bytes\",\"data\":\"Uf5NAQEJ4z8roPmzDFLpPw==\"},\"shape\":[2],\"dtype\":\"float64\",\"order\":\"little\"}],[1801,{\"type\":\"ndarray\",\"array\":{\"type\":\"bytes\",\"data\":\"nitkTY/Y1r/q1kTcTgzvPw==\"},\"shape\":[2],\"dtype\":\"float64\",\"order\":\"little\"}],[601802,{\"type\":\"ndarray\",\"array\":{\"type\":\"bytes\",\"data\":\"N1+QIueA1r9ubfSe7ObuPw==\"},\"shape\":[2],\"dtype\":\"float64\",\"order\":\"little\"}],[28642,{\"type\":\"ndarray\",\"array\":{\"type\":\"bytes\",\"data\":\"jSVauIEB57/3rf/l/TSrPw==\"},\"shape\":[2],\"dtype\":\"float64\",\"order\":\"little\"}],[390,{\"type\":\"ndarray\",\"array\":{\"type\":\"bytes\",\"data\":\"96q0iGcS4z9WiFAi04vpPw==\"},\"shape\":[2],\"dtype\":\"float64\",\"order\":\"little\"}],[879346,{\"type\":\"ndarray\",\"array\":{\"type\":\"bytes\",\"data\":\"vkPIID96u798NmkJB8u7Pw==\"},\"shape\":[2],\"dtype\":\"float64\",\"order\":\"little\"}],[235690,{\"type\":\"ndarray\",\"array\":{\"type\":\"bytes\",\"data\":\"2pZp5ANC7T/qiCTRso7Svw==\"},\"shape\":[2],\"dtype\":\"float64\",\"order\":\"little\"}],[23985107,{\"type\":\"ndarray\",\"array\":{\"type\":\"bytes\",\"data\":\"54BMzqJa7T+3M4iXSOXSvw==\"},\"shape\":[2],\"dtype\":\"float64\",\"order\":\"little\"}],[21872622,{\"type\":\"ndarray\",\"array\":{\"type\":\"bytes\",\"data\":\"Bpyifi+Rsr9ox2zxzFzvvw==\"},\"shape\":[2],\"dtype\":\"float64\",\"order\":\"little\"}],[34135873,{\"type\":\"ndarray\",\"array\":{\"type\":\"bytes\",\"data\":\"9tRNnrY6s79yJV0t34nvvw==\"},\"shape\":[2],\"dtype\":\"float64\",\"order\":\"little\"}],[25760640,{\"type\":\"ndarray\",\"array\":{\"type\":\"bytes\",\"data\":\"nDxy+R5h6b/ukZdg9Ijkvw==\"},\"shape\":[2],\"dtype\":\"float64\",\"order\":\"little\"}],[169,{\"type\":\"ndarray\",\"array\":{\"type\":\"bytes\",\"data\":\"////////778+g/dAM1nSvw==\"},\"shape\":[2],\"dtype\":\"float64\",\"order\":\"little\"}],[13253,{\"type\":\"ndarray\",\"array\":{\"type\":\"bytes\",\"data\":\"I6REDV/o779AZ2HAggHSvw==\"},\"shape\":[2],\"dtype\":\"float64\",\"order\":\"little\"}],[96137,{\"type\":\"ndarray\",\"array\":{\"type\":\"bytes\",\"data\":\"TdGRLngivb/roZ3ugGK6Pw==\"},\"shape\":[2],\"dtype\":\"float64\",\"order\":\"little\"}],[10223,{\"type\":\"ndarray\",\"array\":{\"type\":\"bytes\",\"data\":\"msL71waS3b+Oayq3PXLsvw==\"},\"shape\":[2],\"dtype\":\"float64\",\"order\":\"little\"}],[22034,{\"type\":\"ndarray\",\"array\":{\"type\":\"bytes\",\"data\":\"xOCRF7HW3b9GB8RPUpbsvw==\"},\"shape\":[2],\"dtype\":\"float64\",\"order\":\"little\"}],[81269,{\"type\":\"ndarray\",\"array\":{\"type\":\"bytes\",\"data\":\"tD4gyC+O0j8S2HfHvOTtvw==\"},\"shape\":[2],\"dtype\":\"float64\",\"order\":\"little\"}],[4231202,{\"type\":\"ndarray\",\"array\":{\"type\":\"bytes\",\"data\":\"U9pUVuDo0j8gk5KlV/ntvw==\"},\"shape\":[2],\"dtype\":\"float64\",\"order\":\"little\"}],[289604,{\"type\":\"ndarray\",\"array\":{\"type\":\"bytes\",\"data\":\"qQ9uYR1Kub8M3UDT4rS7Pw==\"},\"shape\":[2],\"dtype\":\"float64\",\"order\":\"little\"}],[870188,{\"type\":\"ndarray\",\"array\":{\"type\":\"bytes\",\"data\":\"rsPPpqb67L820iaiNd7gPw==\"},\"shape\":[2],\"dtype\":\"float64\",\"order\":\"little\"}],[5437936,{\"type\":\"ndarray\",\"array\":{\"type\":\"bytes\",\"data\":\"FFK4gNga7b+s0DbzNAThPw==\"},\"shape\":[2],\"dtype\":\"float64\",\"order\":\"little\"}],[1464,{\"type\":\"ndarray\",\"array\":{\"type\":\"bytes\",\"data\":\"sDJ9J280179IMoGmPS3vPw==\"},\"shape\":[2],\"dtype\":\"float64\",\"order\":\"little\"}],[1072216,{\"type\":\"ndarray\",\"array\":{\"type\":\"bytes\",\"data\":\"HMEQMshv6j+HYK26JBnhPw==\"},\"shape\":[2],\"dtype\":\"float64\",\"order\":\"little\"}],[6856609,{\"type\":\"ndarray\",\"array\":{\"type\":\"bytes\",\"data\":\"mj7SRm8/6j96EKXXEiXhPw==\"},\"shape\":[2],\"dtype\":\"float64\",\"order\":\"little\"}]]}}},\"node_renderer\":{\"type\":\"object\",\"name\":\"GlyphRenderer\",\"id\":\"p2127\",\"attributes\":{\"data_source\":{\"type\":\"object\",\"name\":\"ColumnDataSource\",\"id\":\"p2124\",\"attributes\":{\"selected\":{\"type\":\"object\",\"name\":\"Selection\",\"id\":\"p2125\",\"attributes\":{\"indices\":[],\"line_indices\":[]}},\"selection_policy\":{\"type\":\"object\",\"name\":\"UnionRenderers\",\"id\":\"p2126\"},\"data\":{\"type\":\"map\",\"entries\":[[\"adjusted_cached_count\",[12.390629202848693,11.96917240335714,11.468503247417482,10.772351190837892,10.909417871295242,10.743588146052236,10.472459435395576,11.931148839177055,11.903331079318603,10.575257867336488,10.515044996056119,10.715173039019605,10.437404507525516,10.581774870189049,10.756433716893001,10.770903116628146,10.767263191298982,10.33899678199267,10.57334051729299,10.347724555144831,9.9241231661362,9.645881947666817,10.024509780783578,9.41156545918937,9.564512185696797,9.448727152703086,9.73896662036768,9.636914443294582,9.330520532232288,9.345919666218006,9.745194973541535,10.140849541087894,10.14419593502981,10.493992741124194,10.422430144404066,9.383200644980624,10.452013503484945,10.421179548719396,9.673382324888367,10.327643559087782,9.082166033252674,8.96610085736724,8.708639655987193,9.833976689772,9.706620724300137,9.07280095795412,9.4296365315615,8.792701462936309,8.942853006809921,9.995291593011165,9.509778075438817,8.934323331054905,9.271435471335993,9.62990560446313,8.781862489558945,10.527606146685637]],[\"fandom\",[\"Marvel Cinematic Universe\",\"The Avengers (Marvel Movies)\",\"Captain America (Movies)\",\"A Song of Ice and Fire - George R. R. Martin\",\"Game of Thrones (TV)\",\"Iron Man (Movies)\",\"Sherlock Holmes & Related Fandoms\",\"Sherlock (TV)\",\"Marvel\",\"Good Omens - Neil Gaiman & Terry Pratchett\",\"Good Omens (TV)\",\"Thor (Movies)\",\"Dragon Age (Video Games)\",\"Dragon Age: Inquisition\",\"Doctor Who\",\"Doctor Who (2005)\",\"\\u9b54\\u9053\\u7956\\u5e08 - \\u58a8\\u9999\\u94dc\\u81ed | M\\u00f3d\\u00e0o Z\\u01d4sh\\u012b - M\\u00f2xi\\u0101ng T\\u00f3ngxi\\u00f9\",\"\\u9648\\u60c5\\u4ee4 | The Untamed (TV)\",\"Video Blogging RPF\",\"Minecraft (Video Game)\",\"Spider-Man (Tom Holland Movies)\",\"A Song of Ice and Fire & Related Fandoms\",\"Percy Jackson and the Olympians - Rick Riordan\",\"The Heroes of Olympus - Rick Riordan\",\"Spider-Man: Homecoming (2017)\",\"Doctor Who & Related Fandoms\",\"Dragon Age II\",\"IT - Stephen King\",\"IT (Movies - Muschietti)\",\"The Hobbit - J. R. R. Tolkien\",\"The Hobbit (Jackson Movies)\",\"Batman (Comics)\",\"DCU (Comics)\",\"Star Trek\",\"Star Trek: Alternate Original Series (Movies)\",\"Dragon Age: Origins\",\"DCU\",\"Agents of S.H.I.E.L.D. (TV)\",\"Fire Emblem Series\",\"Fire Emblem: Fuukasetsugetsu | Fire Emblem: Three Houses\",\"\\u9b3c\\u6ec5\\u306e\\u5203 | Kimetsu no Yaiba (Manga)\",\"\\u9b3c\\u6ec5\\u306e\\u5203 | Demon Slayer: Kimetsu no Yaiba (Anime)\",\"\\u9b54\\u9053\\u7956\\u5e08 | M\\u00f3d\\u00e0o Z\\u01d4sh\\u012b (Cartoon)\",\"My Chemical Romance\",\"Bandom\",\"Marvel (Movies)\",\"World Wrestling Entertainment\",\"Professional Wrestling\",\"Persona Series\",\"Persona 5\",\"Marvel (Comics)\",\"Fallout (Video Games)\",\"Fallout 4\",\"Star Trek: The Original Series\",\"The Mortal Instruments Series - Cassandra Clare\",\"Shadowhunters (TV)\"]],[\"adjusted_node_size\",[1.0,0.7,0.5,0.2,0.2,0.6,0.1,0.1,0.3,0.1,0.1,0.4,0.3,0.1,0.2,0.2,0.2,0.1,0.1,0.1,0.3,0.2,0.1,0.1,0.3,0.2,0.1,0.1,0.1,0.1,0.1,0.1,0.2,0.2,0.1,0.1,0.1,0.1,0.1,0.1,0.1,0.1,0.1,0.1,0.1,0.1,0.1,0.1,0.1,0.1,0.1,0.1,0.1,0.1,0.1,0.1]],[\"degree\",[10,7,5,2,2,6,1,1,3,1,1,4,3,1,2,2,2,1,1,1,3,2,1,1,3,2,1,1,1,1,1,1,2,2,1,1,1,1,1,1,1,1,1,1,1,1,1,1,1,1,1,1,1,1,1,1]],[\"cached_count\",[240536,157813,95654,47683,54688,46331,35328,151925,147757,39153,36865,45033,34111,39409,46930,47614,47441,30914,39078,31185,20416,15457,22572,12228,14249,12691,16965,15319,11276,11451,17071,25357,25442,36097,33604,11886,34613,33562,15888,30565,8796,7832,6054,18656,16425,8714,12451,6585,7652,21922,13490,7587,10629,15212,6514,37331]],[\"index\",[414093,1001939,586439,116304,242462,226657,105692,133185,7266,114591,27251507,245368,858574,1080663,406,27785,11987966,33035890,218280,254648,32833447,2007008,115613,224545,10801369,105412,229522,134900,34555820,114961,873394,82576,969647,1801,601802,28642,390,879346,235690,23985107,21872622,34135873,25760640,169,13253,96137,10223,22034,81269,4231202,289604,870188,5437936,1464,1072216,6856609]]]}}},\"view\":{\"type\":\"object\",\"name\":\"CDSView\",\"id\":\"p2128\",\"attributes\":{\"filter\":{\"type\":\"object\",\"name\":\"AllIndices\",\"id\":\"p2129\"}}},\"glyph\":{\"type\":\"object\",\"name\":\"Circle\",\"id\":\"p2141\",\"attributes\":{\"radius\":{\"type\":\"value\",\"value\":0.2},\"fill_color\":{\"type\":\"field\",\"field\":\"adjusted_cached_count\",\"transform\":{\"type\":\"object\",\"name\":\"LinearColorMapper\",\"id\":\"p2140\",\"attributes\":{\"palette\":[\"#99000d\",\"#cb181d\",\"#ef3b2c\",\"#fb6a4a\",\"#fc9272\",\"#fcbba1\",\"#fee0d2\",\"#fff5f0\"],\"low\":12.390629202848693,\"high\":8.708639655987193}}},\"fill_alpha\":{\"type\":\"value\",\"value\":0.7}}}}},\"edge_renderer\":{\"type\":\"object\",\"name\":\"GlyphRenderer\",\"id\":\"p2134\",\"attributes\":{\"data_source\":{\"type\":\"object\",\"name\":\"ColumnDataSource\",\"id\":\"p2131\",\"attributes\":{\"selected\":{\"type\":\"object\",\"name\":\"Selection\",\"id\":\"p2132\",\"attributes\":{\"indices\":[],\"line_indices\":[]}},\"selection_policy\":{\"type\":\"object\",\"name\":\"UnionRenderers\",\"id\":\"p2133\"},\"data\":{\"type\":\"map\",\"entries\":[[\"count\",[83981,51455,27519,25135,21506,12901,8458,6016,4971,4637,35409,23668,18504,15378,6507,5243,12349,7014,6305,31923,12009,12102,6826,5895,4451,27475,24336,19015,7932,6233,18412,7403,8451,17742,5368,16448,9030,7568,7144,7131,6056,6753,4437,5756,5569,5360,4800,4768,4535,4369]],[\"start\",[414093,414093,414093,414093,414093,414093,414093,414093,414093,414093,1001939,1001939,1001939,1001939,1001939,1001939,586439,586439,586439,116304,116304,242462,226657,226657,226657,105692,114591,858574,858574,858574,406,406,27785,11987966,11987966,218280,115613,134900,114961,82576,969647,1801,1801,235690,21872622,169,10223,81269,870188,1072216]],[\"end\",[1001939,586439,226657,7266,245368,32833447,10801369,879346,96137,289604,586439,226657,245368,7266,32833447,10801369,226657,245368,7266,242462,2007008,2007008,32833447,245368,10801369,133185,27251507,1080663,229522,28642,27785,105412,105412,33035890,25760640,254648,224545,34555820,873394,969647,390,601802,1464,23985107,34135873,13253,22034,4231202,5437936,6856609]]]}}},\"view\":{\"type\":\"object\",\"name\":\"CDSView\",\"id\":\"p2135\",\"attributes\":{\"filter\":{\"type\":\"object\",\"name\":\"AllIndices\",\"id\":\"p2136\"}}},\"glyph\":{\"type\":\"object\",\"name\":\"MultiLine\",\"id\":\"p2130\"}}},\"selection_policy\":{\"type\":\"object\",\"name\":\"NodesOnly\",\"id\":\"p2137\"},\"inspection_policy\":{\"type\":\"object\",\"name\":\"NodesOnly\",\"id\":\"p2138\"}}}],\"toolbar\":{\"type\":\"object\",\"name\":\"Toolbar\",\"id\":\"p2104\",\"attributes\":{\"tools\":[{\"type\":\"object\",\"name\":\"PanTool\",\"id\":\"p2117\"},{\"type\":\"object\",\"name\":\"WheelZoomTool\",\"id\":\"p2118\",\"attributes\":{\"renderers\":\"auto\"}},{\"type\":\"object\",\"name\":\"SaveTool\",\"id\":\"p2119\"},{\"type\":\"object\",\"name\":\"ResetTool\",\"id\":\"p2120\"},{\"type\":\"object\",\"name\":\"HoverTool\",\"id\":\"p2121\",\"attributes\":{\"renderers\":\"auto\",\"tooltips\":[[\"Fandom\",\"@fandom\"],[\"Degree\",\"@degree\"],[\"Count\",\"@cached_count\"]]}}],\"active_scroll\":{\"id\":\"p2118\"}}},\"left\":[{\"type\":\"object\",\"name\":\"LinearAxis\",\"id\":\"p2112\",\"attributes\":{\"ticker\":{\"type\":\"object\",\"name\":\"BasicTicker\",\"id\":\"p2113\",\"attributes\":{\"mantissas\":[1,2,5]}},\"formatter\":{\"type\":\"object\",\"name\":\"BasicTickFormatter\",\"id\":\"p2114\"},\"major_label_policy\":{\"type\":\"object\",\"name\":\"AllLabels\",\"id\":\"p2115\"}}}],\"below\":[{\"type\":\"object\",\"name\":\"LinearAxis\",\"id\":\"p2107\",\"attributes\":{\"ticker\":{\"type\":\"object\",\"name\":\"BasicTicker\",\"id\":\"p2108\",\"attributes\":{\"mantissas\":[1,2,5]}},\"formatter\":{\"type\":\"object\",\"name\":\"BasicTickFormatter\",\"id\":\"p2109\"},\"major_label_policy\":{\"type\":\"object\",\"name\":\"AllLabels\",\"id\":\"p2110\"}}}],\"center\":[{\"type\":\"object\",\"name\":\"Grid\",\"id\":\"p2111\",\"attributes\":{\"axis\":{\"id\":\"p2107\"}}},{\"type\":\"object\",\"name\":\"Grid\",\"id\":\"p2116\",\"attributes\":{\"dimension\":1,\"axis\":{\"id\":\"p2112\"}}}]}}]}};\n  const render_items = [{\"docid\":\"bfa0b77f-ef82-4b7c-b360-f6d04ff6b3e5\",\"roots\":{\"p2095\":\"f8a8de0d-fe2e-4d56-a3be-d8a2786e3154\"},\"root_ids\":[\"p2095\"]}];\n  void root.Bokeh.embed.embed_items_notebook(docs_json, render_items);\n  }\n  if (root.Bokeh !== undefined) {\n    embed_document(root);\n  } else {\n    let attempts = 0;\n    const timer = setInterval(function(root) {\n      if (root.Bokeh !== undefined) {\n        clearInterval(timer);\n        embed_document(root);\n      } else {\n        attempts++;\n        if (attempts > 100) {\n          clearInterval(timer);\n          console.log(\"Bokeh: ERROR: Unable to run BokehJS code because BokehJS library is missing\");\n        }\n      }\n    }, 10, root)\n  }\n})(window);",
      "application/vnd.bokehjs_exec.v0+json": ""
     },
     "metadata": {
      "application/vnd.bokehjs_exec.v0+json": {
       "id": "p2095"
      }
     },
     "output_type": "display_data"
    }
   ],
   "source": [
    "#Choose a title!\n",
    "title = 'Fandom Network by Cross-overs, ' + str(top_num) + ' most cross-overs'\n",
    "\n",
    "#Create a plot — set dimensions, toolbar, and title\n",
    "plot_top = figure(tooltips = HOVER_TOOLTIPS,\n",
    "              tools=\"pan,wheel_zoom,save,reset\", active_scroll='wheel_zoom',\n",
    "            x_range=Range1d(-1.5, 1.5), y_range=Range1d(-1.5, 1.5), title=title)\n",
    "\n",
    "# pos_top = nx.spring_layout(G_top, k=0.2, iterations=1000)\n",
    "\n",
    "pos_top = nx.fruchterman_reingold_layout(G_top, k=0.3, iterations=1000)\n",
    "\n",
    "graph_top = from_networkx(G_top, pos_top, scale=1, center=(0, 0))\n",
    "\n",
    "#Set node sizes and colors according to node degree (color as spectrum of color palette)\n",
    "minimum_value_color_top = min(graph_top.node_renderer.data_source.data[color_by_this_attribute])\n",
    "maximum_value_color_top = max(graph_top.node_renderer.data_source.data[color_by_this_attribute])\n",
    "graph_top.node_renderer.glyph = Circle(radius=0.2, fill_color=linear_cmap(color_by_this_attribute, color_palette, maximum_value_color_top, minimum_value_color_top), fill_alpha=0.7)\n",
    "# graph_top.edge_renderer.glyph = MultiLine(line_alpha=1, line_width=4, line_color=\"black\")\n",
    "\n",
    "plot_top.renderers.append(graph_top)\n",
    "\n",
    "show(plot_top)\n"
   ]
  },
  {
   "cell_type": "markdown",
   "metadata": {},
   "source": [
    "# Ego Networks!"
   ]
  },
  {
   "cell_type": "code",
   "execution_count": 125,
   "metadata": {},
   "outputs": [
    {
     "data": {
      "text/plain": [
       "741606"
      ]
     },
     "execution_count": 125,
     "metadata": {},
     "output_type": "execute_result"
    }
   ],
   "source": [
    "len(edgelist_df)"
   ]
  },
  {
   "cell_type": "code",
   "execution_count": 135,
   "metadata": {},
   "outputs": [
    {
     "data": {
      "text/plain": [
       "3444"
      ]
     },
     "execution_count": 135,
     "metadata": {},
     "output_type": "execute_result"
    }
   ],
   "source": [
    "# narrow down cos too many nodes rn\n",
    "edgelist_df_small = edgelist_df[edgelist_df['count'] > 100]\n",
    "len(edgelist_df_small)"
   ]
  },
  {
   "cell_type": "markdown",
   "metadata": {},
   "source": [
    "### create foundation for ego graph"
   ]
  },
  {
   "cell_type": "code",
   "execution_count": 136,
   "metadata": {},
   "outputs": [],
   "source": [
    "G_ego = nx.from_pandas_edgelist(edgelist_df_small, source='integer_1', target='integer_2', edge_attr='count')\n",
    "\n",
    "# set node attribudes for fandom names\n",
    "nx.set_node_attributes(G_ego, name='fandom', values=id_fandom_mapping)\n",
    "\n",
    "# i want to color by cached_count of each fandom\n",
    "nx.set_node_attributes(G_ego, name='cached_count', values=id_cached_count_mapping)\n",
    "\n",
    "# need to adjust cached_count because too big distance between numbers\n",
    "nx.set_node_attributes(G_ego, name='adjusted_cached_count', values=adjusted_cached_count_mapping)\n",
    "\n",
    "# node attributes for degree \n",
    "degrees_all = dict(nx.degree(G_ego))\n",
    "nx.set_node_attributes(G_ego, name='degree', values=degrees_all)\n",
    "\n",
    "# Slightly adjust degree so that the nodes with very small degrees are still visible\n",
    "number_to_adjust_by = 10\n",
    "adjusted_node_size = dict([(node, degree/number_to_adjust_by) for node, degree in nx.degree(G_ego)])\n",
    "nx.set_node_attributes(G_ego, name='adjusted_node_size', values=adjusted_node_size)"
   ]
  },
  {
   "cell_type": "markdown",
   "metadata": {},
   "source": [
    "### Set edge weights as count"
   ]
  },
  {
   "cell_type": "code",
   "execution_count": 163,
   "metadata": {},
   "outputs": [
    {
     "name": "stdout",
     "output_type": "stream",
     "text": [
      "{(414093, 1001939): 83981, (414093, 7266): 25135, (414093, 586439): 51455, (414093, 47555740): 301, (414093, 7367603): 143, (414093, 32833447): 12901, (414093, 136512): 2270, (414093, 245368): 21506, (414093, 6771226): 1001, (414093, 250093): 1088, (414093, 722204): 1210, (414093, 727114): 26813, (414093, 133185): 522, (414093, 226657): 27519, (414093, 578887): 9671, (414093, 484757): 1876, (414093, 1710265): 333, (414093, 9830863): 217, (414093, 19518444): 1275, (414093, 586437): 2245, (414093, 491459): 769, (414093, 5316694): 4010, (414093, 193591): 520, (414093, 969647): 305, (414093, 130638): 7820, (414093, 31108): 173, (414093, 37267516): 287, (414093, 13907): 1664, (414093, 289604): 4637, (414093, 879346): 6016, (414093, 604153): 773, (414093, 839): 892, (414093, 643028): 902, (414093, 3352745): 2963, (414093, 5466945): 623, (414093, 9892897): 298, (414093, 11413120): 266, (414093, 16720134): 475, (414093, 259126): 1190, (414093, 115613): 223, (414093, 379999): 150, (414093, 1368642): 558, (414093, 390): 534, (414093, 236208): 338, (414093, 1928582): 2431, (414093, 9754024): 2132, (414093, 498940): 130, (414093, 662604): 1524, (414093, 4896523): 653, (414093, 725977): 852, (414093, 1967132): 626, (414093, 26694209): 272, (414093, 2814336): 2986, (414093, 1097848): 537, (414093, 15567): 278, (414093, 582724): 106, (414093, 22389): 208, (414093, 23271744): 413, (414093, 9614): 388, (414093, 20027): 449, (414093, 1079805): 178, (414093, 8374741): 128, (414093, 432483): 104, (414093, 23037345): 498, (414093, 82576): 102, (414093, 25486): 244, (414093, 1719400): 130, (414093, 5148298): 185, (414093, 1165845): 340, (414093, 3549548): 142, (414093, 258526): 435, (414093, 27): 919, (414093, 101375): 338, (414093, 3828398): 186, (414093, 10801369): 8458, (414093, 730115): 129, (414093, 2692): 164, (414093, 957299): 116, (414093, 8114503): 102, (414093, 601802): 128, (414093, 951): 103, (414093, 257319): 206, (414093, 217070): 653, (414093, 70): 108, (414093, 242462): 187, (414093, 567409): 117, (414093, 987117): 199, (414093, 15766): 403, (414093, 1530988): 101, (414093, 587792): 242, (414093, 13999): 121, (414093, 428957): 123, (414093, 5280): 230, (414093, 203): 140, (414093, 27785): 403, (414093, 522032): 240, (414093, 2282814): 179, (414093, 114804): 225, (414093, 141299): 227, (414093, 232768): 149, (414093, 213477): 124, (414093, 741433): 108, (414093, 406): 295, (414093, 141656): 176, (414093, 30349): 202, (414093, 30815): 147, (414093, 7653): 276, (414093, 27945909): 124, (414093, 138219): 166, (414093, 13154): 114, (414093, 6943): 213, (414093, 625992): 1369, (414093, 739806): 1073, (414093, 245434): 126, (414093, 266936): 3181, (414093, 777705): 119, (414093, 513824): 101, (414093, 4210142): 161, (414093, 96137): 4971, (414093, 226658): 331, (414093, 777706): 203, (414093, 21258): 129, (414093, 1346): 158, (414093, 253298): 145, (414093, 453786): 109, (414093, 7823308): 205, (414093, 730108): 328, (414093, 313277): 110, (1001939, 586439): 35409, (1001939, 32833447): 6507, (1001939, 727114): 27523, (1001939, 136512): 1599, (1001939, 245368): 18504, (1001939, 31108): 132, (1001939, 130638): 4489, (1001939, 138219): 120, (1001939, 586437): 3445, (1001939, 662604): 686, (1001939, 7266): 15378, (1001939, 5316694): 2521, (1001939, 578887): 6654, (1001939, 226657): 23668, (1001939, 37267516): 252, (1001939, 839): 619, (1001939, 643028): 467, (1001939, 9830863): 104, (1001939, 1710265): 200, (1001939, 3352745): 916, (1001939, 5466945): 240, (1001939, 16720134): 110, (1001939, 259126): 1081, (1001939, 289604): 2273, (1001939, 722204): 926, (1001939, 725977): 960, (1001939, 879346): 3669, (1001939, 1967132): 276, (1001939, 2814336): 1634, (1001939, 217070): 1146, (1001939, 987117): 186, (1001939, 13907): 648, (1001939, 1097848): 352, (1001939, 250093): 644, (1001939, 491459): 583, (1001939, 969647): 122, (1001939, 115613): 206, (1001939, 236208): 211, (1001939, 5280): 134, (1001939, 484757): 1490, (1001939, 9614): 365, (1001939, 6771226): 702, (1001939, 5148298): 102, (1001939, 379999): 119, (1001939, 101375): 126, (1001939, 52461): 107, (1001939, 1165845): 294, (1001939, 1928582): 776, (1001939, 27): 726, (1001939, 390): 157, (1001939, 133185): 492, (1001939, 604153): 738, (1001939, 258526): 402, (1001939, 10801369): 5243, (1001939, 730115): 127, (1001939, 232768): 121, (1001939, 9754024): 1095, (1001939, 23271744): 209, (1001939, 407073): 101, (1001939, 242462): 113, (1001939, 193591): 487, (1001939, 257319): 114, (1001939, 20027): 337, (1001939, 15567): 104, (1001939, 4896523): 221, (1001939, 406): 242, (1001939, 522032): 170, (1001939, 625992): 1362, (1001939, 19518444): 607, (1001939, 114804): 117, (1001939, 141299): 126, (1001939, 15766): 186, (1001939, 23037345): 185, (1001939, 1368642): 521, (1001939, 601802): 107, (1001939, 587792): 190, (1001939, 2282814): 146, (1001939, 266936): 238, (1001939, 27785): 279, (1001939, 213477): 163, (1001939, 13154): 145, (1001939, 203): 106, (1001939, 30349): 152, (1001939, 739806): 1089, (1001939, 96137): 3044, (1001939, 141656): 107, (1001939, 226658): 302, (1001939, 730108): 502, (1001939, 1346): 119, (1001939, 7823308): 139, (1001939, 11146): 106, (11987966, 33035890): 17742, (11987966, 24757434): 204, (11987966, 26740493): 181, (11987966, 25760640): 5368, (11987966, 26574617): 369, (11987966, 24175970): 218, (11987966, 29881298): 331, (11987966, 21693609): 309, (11987966, 21693612): 104, (33035890, 24757434): 193, (33035890, 26740493): 476, (33035890, 25760640): 3228, (1633246, 14988696): 4084, (1633246, 711035): 6214, (1633246, 11902568): 7422, (1633246, 10861009): 2026, (1633246, 43273597): 417, (1633246, 1583806): 203, (1633246, 3828398): 175, (1633246, 2692): 133, (1633246, 472009): 1067, (1633246, 2301120): 544, (14988696, 711035): 1727, (14988696, 10861009): 678, (14988696, 11902568): 1271, (14988696, 43273597): 222, (14988696, 2301120): 257, (218280, 254648): 16448, (218280, 46023568): 2364, (218280, 16824357): 218, (218280, 35654246): 105, (218280, 254632): 177, (218280, 19361860): 436, (218280, 45140518): 450, (218280, 10381891): 120, (218280, 29570069): 443, (218280, 6943): 386, (218280, 602244): 411, (218280, 31426954): 153, (218280, 27457343): 265, (218280, 32659360): 137, (218280, 46995796): 114, (218280, 1118749): 1176, (218280, 13078762): 243, (218280, 688406): 105, (218280, 27457865): 205, (218280, 17879139): 531, (218280, 4748910): 101, (218280, 3400712): 963, (218280, 4529771): 140, (218280, 14892620): 500, (218280, 37190917): 164, (218280, 236870): 653, (218280, 16766604): 124, (218280, 17995599): 123, (218280, 3914609): 812, (218280, 4962313): 264, (218280, 836577): 101, (218280, 830505): 574, (218280, 15204756): 166, (254648, 46023568): 3296, (254648, 19361860): 627, (254648, 40750387): 104, (254648, 40750390): 119, (254648, 41082133): 160, (254648, 45140518): 723, (254648, 6943): 145, (254648, 16824357): 260, (254648, 35654246): 530, (254648, 44668897): 104, (254648, 9008923): 128, (254648, 5795804): 133, (254648, 3874739): 108, (51823, 251062): 140, (51823, 3329246): 138, (251062, 579568): 990, (251062, 2692): 958, (251062, 5795969): 170, (251062, 5406982): 123, (1464, 1801): 4437, (1464, 601802): 3071, (1464, 3409): 120, (1464, 6226): 260, (1464, 8474): 148, (1464, 15936195): 237, (1464, 2701): 103, (1464, 270908): 829, (1464, 804822): 133, (1464, 9630): 122, (1801, 601802): 6753, (1801, 6226): 782, (1801, 15936195): 770, (1801, 133185): 206, (1801, 3409): 602, (1801, 8474): 1024, (1801, 17037): 116, (1801, 2701): 235, (1801, 29769476): 119, (1801, 270908): 428, (1801, 101375): 122, (1801, 136512): 121, (1801, 27): 107, (1801, 9630): 170, (601802, 133185): 596, (601802, 15936195): 174, (601802, 270908): 198, (601802, 136512): 147, (601802, 27816): 139, (601802, 27): 148, (601802, 406): 109, (601802, 9630): 251, (601802, 804822): 152, (3658, 1281791): 242, (3658, 12675): 101, (1281791, 516143): 105, (7266, 586439): 6305, (7266, 727114): 10119, (7266, 226657): 3462, (7266, 15766): 530, (7266, 643028): 827, (7266, 484757): 768, (7266, 578887): 3145, (7266, 1710265): 266, (7266, 245368): 2550, (7266, 586437): 1100, (7266, 5316694): 525, (7266, 193591): 322, (7266, 13907): 2076, (7266, 31108): 278, (7266, 130638): 2995, (7266, 32833447): 1228, (7266, 289604): 3944, (7266, 879346): 928, (7266, 259126): 783, (7266, 662604): 1262, (7266, 3352745): 722, (7266, 9754024): 294, (7266, 498940): 135, (7266, 722204): 564, (7266, 1967132): 227, (7266, 22389): 283, (7266, 20027): 1002, (7266, 26694209): 131, (7266, 9830863): 107, (7266, 491459): 451, (7266, 522032): 118, (7266, 250093): 930, (7266, 5466945): 166, (7266, 839): 426, (7266, 4896523): 205, (7266, 16720134): 176, (7266, 23037345): 175, (7266, 13856): 136, (7266, 2814336): 512, (7266, 1165845): 173, (7266, 604153): 339, (7266, 27): 218, (7266, 390): 319, (7266, 136512): 195, (7266, 969647): 161, (7266, 23271744): 134, (7266, 141656): 273, (7266, 1079805): 130, (7266, 30349): 520, (7266, 725977): 141, (7266, 22158): 117, (7266, 217070): 653, (7266, 1928582): 444, (7266, 114804): 230, (7266, 428957): 112, (7266, 9614): 243, (7266, 1368642): 202, (7266, 777705): 124, (7266, 236208): 108, (7266, 6771226): 138, (7266, 141299): 210, (7266, 19518444): 178, (7266, 138219): 287, (7266, 1097848): 134, (7266, 987117): 128, (7266, 257319): 126, (7266, 31065): 127, (7266, 11413120): 117, (7266, 7653): 168, (7266, 625992): 470, (7266, 245434): 101, (7266, 129899): 117, (7266, 20157): 103, (7266, 739806): 584, (7266, 10801369): 830, (7266, 8374741): 121, (7266, 96137): 2319, (7266, 266936): 798, (7266, 11146): 136, (7266, 292226): 162, (7266, 21258): 298, (7266, 730108): 180, (7266, 226658): 140, (21872622, 34135873): 5569, (34135873, 3828398): 154, (586439, 136512): 380, (586439, 245368): 7014, (586439, 133185): 118, (586439, 226657): 12349, (586439, 578887): 11545, (586439, 727114): 8265, (586439, 1710265): 167, (586439, 586437): 1008, (586439, 259126): 1933, (586439, 498940): 110, (586439, 289604): 1060, (586439, 722204): 1096, (586439, 725977): 400, (586439, 879346): 1542, (586439, 1967132): 214, (586439, 32833447): 845, (586439, 1928582): 1844, (586439, 130638): 684, (586439, 6771226): 456, (586439, 217070): 415, (586439, 604153): 433, (586439, 643028): 192, (586439, 25486): 155, (586439, 484757): 486, (586439, 37267516): 107, (586439, 2814336): 481, (586439, 10801369): 950, (586439, 513824): 179, (586439, 27): 263, (586439, 258526): 142, (586439, 13907): 321, (586439, 20027): 132, (586439, 3352745): 410, (586439, 9754024): 864, (586439, 5316694): 534, (586439, 662604): 200, (586439, 6943): 107, (586439, 19518444): 204, (586439, 9614): 168, (586439, 15766): 188, (586439, 839): 226, (586439, 96137): 2175, (586439, 1859897): 130, (586439, 250093): 235, (586439, 5466945): 119, (586439, 193591): 106, (586439, 1368642): 146, (586439, 739806): 618, (586439, 406): 101, (586439, 266936): 1014, (586439, 625992): 406, (586439, 226658): 146, (586439, 730108): 235, (114548, 35398640): 401, (101375, 747342): 12260, (101375, 31516237): 2989, (101375, 6048501): 23519, (101375, 29577): 12969, (101375, 29576): 6790, (101375, 3235649): 2871, (101375, 3230807): 215, (101375, 25897413): 649, (101375, 641): 1356, (101375, 9162187): 3808, (101375, 750321): 816, (101375, 3132749): 3254, (101375, 101390): 325, (101375, 31803664): 405, (101375, 27578335): 574, (101375, 5407051): 9406, (101375, 13999): 129, (101375, 101392): 896, (101375, 3284129): 377, (101375, 3244985): 168, (101375, 3290804): 533, (101375, 242462): 114, (101375, 136512): 543, (101375, 6599711): 137, (101375, 27): 134, (101375, 7913): 763, (101375, 12358675): 130, (101375, 21364023): 364, (101375, 3235757): 290, (101375, 3231575): 103, (101375, 27578395): 285, (101375, 14553): 316, (101375, 14444018): 434, (101375, 741433): 101, (101375, 7761604): 259, (101375, 29773): 326, (101375, 29767): 460, (101375, 14073161): 118, (101375, 5052706): 186, (101375, 20332791): 550, (101375, 101404): 720, (101375, 3249134): 201, (101375, 19796): 381, (101375, 3240899): 749, (101375, 15818487): 187, (747342, 29577): 6450, (747342, 6048501): 319, (747342, 3132749): 1134, (747342, 3235649): 470, (747342, 641): 163, (747342, 29576): 949, (747342, 750321): 914, (747342, 3244985): 141, (747342, 3290804): 123, (747342, 31516237): 133, (747342, 101392): 217, (747342, 101390): 150, (747342, 9162187): 114, (747342, 101404): 327, (747342, 7913): 129, (747342, 14553): 165, (244259, 3828398): 250, (244259, 136512): 564, (244259, 5178): 105, (244259, 13999): 254, (3828398, 9780526): 110, (3828398, 6541412): 115, (3828398, 13999): 547, (3828398, 758208): 401, (3828398, 55873): 170, (3828398, 4594871): 195, (3828398, 22959): 156, (3828398, 136512): 333, (3828398, 721553): 231, (3828398, 911149): 193, (3828398, 65): 192, (3828398, 5178): 128, (3828398, 767851): 154, (3828398, 2129537): 116, (3828398, 582724): 102, (3828398, 2692): 181, (3828398, 4231202): 125, (3828398, 10104017): 130, (3828398, 10767): 179, (3828398, 1487281): 197, (3828398, 448284): 233, (3828398, 11444638): 109, (3828398, 130638): 104, (3828398, 3763877): 233, (3828398, 10613413): 151, (587792, 2282814): 4196, (587792, 5148298): 1284, (587792, 5171863): 1868, (587792, 259514): 121, (587792, 236208): 213, (587792, 37835344): 220, (587792, 2850393): 106, (587792, 969647): 167, (587792, 27): 188, (587792, 25309770): 155, (587792, 390): 260, (587792, 2348733): 107, (587792, 136512): 119, (587792, 258526): 172, (587792, 879346): 124, (587792, 1107228): 232, (587792, 848190): 175, (2282814, 5148298): 1422, (2282814, 5171863): 3856, (2282814, 27874): 339, (2282814, 2850393): 1265, (2282814, 27): 110, (2282814, 25309770): 120, (2282814, 236208): 164, (2282814, 13154): 254, (2282814, 390): 382, (2282814, 969647): 204, (2282814, 136512): 153, (2282814, 258526): 114, (5148298, 5171863): 1042, (5148298, 25309770): 343, (5148298, 38734): 196, (5148298, 390): 295, (5148298, 187): 101, (5148298, 236208): 123, (5148298, 431213): 114, (5148298, 12930337): 303, (5148298, 969647): 164, (5148298, 136512): 114, (5148298, 12442981): 124, (5148298, 8230183): 123, (5148298, 9029725): 111, (5171863, 2348733): 204, (5171863, 25309770): 117, (5171863, 2850393): 109, (5171863, 390): 170, (5171863, 969647): 104, (46023568, 16824357): 117, (46023568, 254632): 148, (46023568, 19361860): 341, (236870, 1118749): 305, (236870, 6943): 108, (236870, 602244): 135, (236870, 3400712): 149, (236870, 4962313): 131, (236870, 3542027): 122, (1118749, 13078762): 471, (1118749, 27457343): 225, (1118749, 3400712): 1607, (1118749, 602244): 819, (1118749, 37190917): 163, (1118749, 4748910): 157, (1118749, 3168482): 116, (1118749, 19009776): 103, (1118749, 16766604): 115, (1118749, 4962313): 566, (1118749, 3489473): 198, (1118749, 688406): 111, (1118749, 836577): 119, (1118749, 3542027): 106, (579568, 2692): 306, (303506, 26238188): 1018, (303506, 1169522): 339, (303506, 1127940): 1133, (303506, 6809161): 139, (303506, 1169523): 237, (303506, 3148520): 128, (26238188, 1127940): 564, (24757434, 24175970): 121, (26740493, 186040): 637, (26740493, 26692334): 248, (26740493, 27557713): 141, (2692, 576450): 109, (2692, 51185796): 270, (2692, 5450): 2361, (2692, 51147222): 593, (2692, 51160545): 338, (2692, 975513): 352, (2692, 725640): 122, (2692, 264647): 317, (2692, 136512): 314, (2692, 31695445): 123, (2692, 282367): 105, (2692, 6943): 105, (2692, 13999): 130, (2692, 27779377): 153, (2692, 1052814): 134, (2692, 5795969): 102, (2692, 51194355): 111, (2692, 27): 168, (2692, 7316): 112, (2692, 117807): 115, (2692, 448284): 107, (2692, 6541412): 107, (2692, 21830556): 169, (2692, 29586179): 102, (2692, 13155): 152, (19361860, 45140518): 174, (40750387, 40750390): 182, (40750390, 41082133): 116, (299357, 29890172): 8056, (299357, 299359): 3896, (299357, 299358): 3290, (29890172, 299358): 2031, (29890172, 299359): 1752, (275900, 23354435): 719, (31516237, 29576): 226, (31516237, 6048501): 144, (236208, 419088): 1080, (236208, 969647): 6852, (236208, 82576): 10391, (236208, 390): 7752, (236208, 7367603): 374, (236208, 582724): 1724, (236208, 36631273): 453, (236208, 136512): 252, (236208, 1098294): 3532, (236208, 431213): 3489, (236208, 525714): 3362, (236208, 5455680): 362, (236208, 851797): 177, (236208, 6923902): 277, (236208, 258664): 2316, (236208, 259514): 116, (236208, 606566): 401, (236208, 6442415): 470, (236208, 2818614): 721, (236208, 4945690): 862, (236208, 5060107): 412, (236208, 3668): 266, (236208, 40781): 1050, (236208, 63219): 724, (236208, 42533587): 245, (236208, 13125490): 463, (236208, 613839): 724, (236208, 53131): 242, (236208, 218129): 1260, (236208, 36271139): 105, (236208, 2850393): 297, (236208, 4878889): 956, (236208, 865284): 227, (236208, 30815): 931, (236208, 9309400): 114, (236208, 158325): 432, (236208, 1283234): 332, (236208, 6012213): 576, (236208, 4724373): 539, (236208, 187): 276, (236208, 25681944): 245, (236208, 4945534): 1398, (236208, 25646718): 134, (236208, 226657): 141, (236208, 6012117): 336, (236208, 130638): 108, (236208, 681199): 249, (236208, 109430): 474, (236208, 253086): 382, (236208, 15797): 186, (236208, 11307886): 208, (236208, 2346771): 373, (236208, 37608613): 109, (236208, 10549318): 192, (236208, 2612958): 163, (236208, 15757): 112, (236208, 218130): 279, (236208, 12682819): 190, (236208, 762327): 200, (236208, 209989): 617, (236208, 4678761): 145, (236208, 23966): 139, (236208, 99942): 159, (236208, 27): 115, (236208, 727114): 186, (236208, 196184): 134, (236208, 238887): 121, (236208, 19543): 118, (236208, 153784): 1327, (236208, 164221): 184, (236208, 4210142): 160, (236208, 547610): 112, (236208, 969642): 111, (236208, 31708): 102, (419088, 390): 375, (419088, 82576): 1256, (419088, 969647): 571, (419088, 6923902): 145, (419088, 63219): 284, (419088, 258664): 374, (419088, 525714): 480, (419088, 1098294): 312, (419088, 613839): 142, (13681091, 15740595): 475, (13681091, 2390037): 151, (15740595, 17878854): 241, (15740595, 2390037): 185, (448284, 449385): 582, (448284, 452874): 4905, (448284, 3491546): 511, (448284, 9607162): 1442, (448284, 582724): 103, (448284, 448285): 2539, (448284, 30005138): 2093, (448284, 449387): 510, (448284, 449384): 404, (448284, 449388): 667, (448284, 923135): 616, (448284, 18081549): 388, (448284, 61493): 567, (448284, 449389): 388, (448284, 297924): 425, (448284, 35487464): 108, (448284, 24557): 178, (448284, 8292487): 351, (448284, 136512): 168, (448284, 45591): 146, (448284, 13999): 110, (448284, 8292505): 115, (448284, 10182874): 205, (448284, 617735): 265, (449385, 452874): 680, (449385, 3491546): 328, (449385, 448285): 111, (449385, 449387): 104, (452874, 3491546): 450, (452874, 449387): 468, (452874, 449384): 424, (452874, 448285): 970, (452874, 30005138): 1524, (452874, 923135): 481, (452874, 9607162): 1342, (452874, 18081549): 368, (452874, 24557): 130, (452874, 449388): 682, (452874, 617735): 293, (452874, 61493): 173, (452874, 449389): 418, (452874, 8292487): 304, (452874, 8292505): 119, (6048501, 29577): 629, (6048501, 38403853): 105, (6048501, 17403051): 200, (6048501, 7761604): 357, (6048501, 641): 819, (6048501, 29576): 837, (6048501, 3235649): 258, (6048501, 5407051): 3010, (6048501, 3132749): 213, (6048501, 9162187): 225, (6048501, 14073161): 118, (6048501, 14444018): 464, (6048501, 136512): 135, (6048501, 590860): 122, (6048501, 5052706): 214, (6048501, 20332791): 609, (116304, 242462): 31923, (116304, 136512): 358, (116304, 246692): 128, (116304, 251330): 189, (242462, 246692): 229, (242462, 136512): 495, (242462, 29707): 117, (242462, 27): 127, (969647, 390): 6056, (969647, 82576): 7131, (969647, 7367603): 319, (969647, 865284): 419, (969647, 5455680): 311, (969647, 4945534): 562, (969647, 431213): 847, (969647, 851797): 105, (969647, 525714): 1873, (969647, 1098294): 1834, (969647, 258664): 1364, (969647, 259514): 253, (969647, 606566): 138, (969647, 6442415): 305, (969647, 136512): 106, (969647, 4945690): 418, (969647, 5060107): 135, (969647, 40781): 142, (969647, 63219): 537, (969647, 613839): 557, (969647, 13125490): 350, (969647, 209989): 1108, (969647, 218130): 452, (969647, 2346771): 162, (969647, 289604): 332, (969647, 218129): 872, (969647, 53131): 261, (969647, 23966): 293, (969647, 582724): 118, (969647, 4878889): 586, (969647, 727114): 101, (969647, 27874): 583, (969647, 99941): 138, (969647, 158325): 205, (969647, 681199): 285, (969647, 99942): 650, (969647, 36455): 217, (969647, 109430): 469, (969647, 15757): 146, (969647, 1283234): 197, (969647, 12682819): 205, (969647, 6012213): 107, (969647, 187): 322, (969647, 166916): 109, (969647, 2850393): 284, (969647, 253086): 156, (969647, 525735): 133, (969647, 4724373): 101, (969647, 762327): 114, (969647, 2612958): 196, (969647, 153784): 465, (969647, 164221): 362, (969647, 969642): 212, (969647, 4210142): 169, (711035, 10861009): 1463, (711035, 11902568): 1499, (711035, 43273597): 209, (711035, 18614061): 109, (711035, 1583806): 174, (711035, 472009): 1259, (711035, 2301120): 323, (1002903, 4239908): 209, (1002903, 4997791): 582, (1002903, 7150409): 355, (1002903, 24557565): 256, (1002903, 550814): 1201, (1002903, 35821): 167, (1002903, 997960): 506, (1002903, 1356851): 1754, (1002903, 105119): 278, (1002903, 19017606): 439, (1002903, 32663): 360, (1002903, 69383): 238, (1002903, 105122): 2597, (1002903, 39389599): 387, (1002903, 11122924): 552, (1002903, 136512): 226, (1002903, 4551485): 803, (1002903, 9139561): 569, (1002903, 7380455): 172, (1002903, 2654295): 332, (1002903, 804163): 320, (1002903, 6410522): 127, (1002903, 544482): 174, (1002903, 333581): 113, (1002903, 29622779): 160, (4239908, 105122): 141, (4239908, 2654295): 126, (4997791, 24557565): 103, (4997791, 1356851): 379, (4997791, 550814): 242, (4997791, 9139561): 245, (4997791, 105122): 491, (4997791, 4551485): 276, (4997791, 19017606): 162, (4997791, 804163): 122, (7150409, 1356851): 228, (7150409, 9139561): 142, (7150409, 19017606): 171, (7150409, 4551485): 158, (7150409, 2654295): 266, (7150409, 11122924): 234, (7150409, 550814): 139, (7150409, 105122): 161, (24557565, 1356851): 115, (24557565, 9139561): 177, (24557565, 19017606): 281, (24557565, 24479231): 147, (24557565, 105122): 289, (24557565, 4551485): 103, (6226, 3409): 447, (6226, 29769476): 138, (6226, 8474): 398, (6226, 270912): 195, (134891, 51602310): 393, (116314, 452309): 5630, (116314, 1285131): 2496, (116314, 136512): 124, (116314, 447910): 404, (452309, 1285131): 2362, (452309, 447910): 359, (934, 22001796): 971, (934, 136512): 138, (934, 27): 312, (934, 5280): 125, (934, 250): 137, (934, 1346): 3569, (22001796, 136512): 235, (22001796, 27): 206, (22001796, 1331): 105, (3409, 29769476): 115, (3409, 8474): 276, (6856609, 12307111): 3818, (6856609, 12310528): 2704, (6856609, 1072216): 4369, (6856609, 8991295): 119, (6856609, 4997269): 233, (6856609, 908950): 304, (6856609, 258526): 157, (6856609, 4803007): 185, (6856609, 8281474): 424, (6856609, 27): 122, (6856609, 136512): 122, (6856609, 116265): 1416, (6856609, 850338): 510, (6856609, 850340): 522, (12307111, 12310528): 2191, (12307111, 12312739): 178, (12307111, 12312691): 184, (12307111, 1072216): 1171, (12307111, 5205118): 164, (12307111, 4997269): 105, (12307111, 4803007): 151, (12310528, 12312739): 375, (12310528, 12312691): 540, (12310528, 20964522): 110, (12310528, 1072216): 1484, (12310528, 21622335): 153, (12310528, 4803007): 211, (12310528, 5205118): 320, (12310528, 8281474): 143, (12310528, 4997269): 143, (11902568, 10861009): 380, (11902568, 43273597): 142, (11902568, 472009): 247, (11902568, 2301120): 157, (6943, 13253): 243, (6943, 25486): 1471, (6943, 1967132): 431, (6943, 15281748): 312, (6943, 210460): 141, (6943, 15567): 1172, (6943, 1703): 132, (6943, 19428): 539, (6943, 65737): 528, (6943, 449545): 124, (6943, 522032): 295, (6943, 26034884): 118, (6943, 105122): 197, (6943, 2031): 143, (6943, 65173): 113, (6943, 262688): 110, (6943, 263570): 132, (6943, 5224): 430, (6943, 55049): 204, (6943, 90): 103, (6943, 202568): 109, (7367603, 390): 373, (7367603, 431213): 173, (7367603, 4724373): 356, (7367603, 4945534): 114, (7367603, 10549318): 308, (7367603, 12097805): 109, (824701, 2954180): 1205, (824701, 824702): 1001, (824701, 1157): 268, (2954180, 136512): 175, (2954180, 824702): 3970, (105122, 550814): 1574, (105122, 32663): 430, (105122, 19017606): 391, (105122, 9139561): 743, (105122, 17501436): 119, (105122, 11122924): 155, (105122, 1356851): 539, (105122, 4551485): 584, (105122, 997960): 230, (105122, 2654295): 230, (105122, 35821): 318, (105122, 544482): 575, (105122, 69383): 327, (105122, 293039): 235, (105122, 1247584): 134, (105122, 804163): 479, (550814, 1356851): 532, (550814, 7059836): 142, (550814, 32663): 1169, (550814, 35821): 289, (550814, 9139561): 862, (550814, 34010905): 586, (550814, 69383): 178, (550814, 11122924): 255, (550814, 4551485): 411, (550814, 19017606): 176, (550814, 186040): 141, (550814, 6375344): 154, (550814, 2654295): 540, (550814, 1247584): 126, (550814, 804163): 260, (550814, 110504): 318, (550814, 544482): 129, (550814, 105119): 133, (29577, 3235649): 553, (29577, 29576): 1848, (29577, 750321): 565, (29577, 3132749): 371, (29577, 101390): 218, (29577, 3290804): 363, (29577, 7913): 752, (29577, 101392): 135, (29577, 9162187): 141, (29577, 641): 251, (29577, 14553): 332, (29577, 101404): 634, (29577, 5407051): 169, (299359, 299358): 2311, (136512, 258526): 551, (136512, 245368): 522, (136512, 131277): 107, (136512, 26348036): 326, (136512, 951): 170, (136512, 289943): 300, (136512, 824702): 135, (136512, 582724): 114, (136512, 11055523): 2639, (136512, 115613): 706, (136512, 269708): 501, (136512, 449545): 216, (136512, 7625681): 3105, (136512, 30417): 186, (136512, 379999): 304, (136512, 205859): 171, (136512, 390): 153, (136512, 727114): 698, (136512, 12741): 823, (136512, 541478): 273, (136512, 6541412): 141, (136512, 223664): 141, (136512, 406): 578, (136512, 27785): 478, (136512, 13999): 850, (136512, 758208): 149, (136512, 27): 1546, (136512, 11444638): 132, (136512, 155456): 150, (136512, 133185): 1646, (136512, 32045): 206, (136512, 232768): 805, (136512, 10767): 234, (136512, 721553): 153, (136512, 203): 290, (136512, 17792625): 131, (136512, 367430): 114, (136512, 145124): 329, (136512, 13184): 161, (136512, 801274): 190, (136512, 9830): 278, (136512, 6637939): 103, (136512, 13154): 261, (136512, 541437): 204, (136512, 2207797): 137, (136512, 10104017): 159, (136512, 65): 187, (136512, 70): 217, (136512, 741433): 304, (136512, 226657): 391, (136512, 224545): 239, (136512, 250093): 207, (136512, 130638): 112, (136512, 14621): 112, (136512, 114591): 224, (136512, 27251507): 160, (136512, 55873): 104, (136512, 12845): 218, (136512, 287734): 109, (136512, 873394): 107, (136512, 741444): 123, (136512, 47474): 109, (136512, 5178): 217, (136512, 879346): 167, (136512, 1331): 188, (136512, 117807): 141, (136512, 613602): 117, (136512, 131997): 122, (136512, 9892): 109, (136512, 266936): 153, (136512, 1346): 527, (136512, 22073991): 122, (258526, 282761): 237, (258526, 813205): 246, (258526, 542980): 340, (258526, 3163988): 141, (258526, 730474): 122, (258526, 5581908): 102, (258526, 32045): 317, (258526, 27): 1399, (258526, 470678): 145, (258526, 232768): 147, (258526, 727114): 169, (258526, 13154): 139, (258526, 115613): 110, (258526, 133185): 172, (258526, 406): 103, (258526, 879346): 121, (258526, 1346): 162, (28642, 827055): 4428, (28642, 858574): 6233, (28642, 229522): 1428, (28642, 852479): 931, (28642, 1080663): 1918, (28642, 57398): 552, (827055, 858574): 15765, (827055, 1080663): 13334, (827055, 229522): 6138, (827055, 858617): 201, (827055, 57398): 600, (827055, 852479): 820, (32833447, 130638): 3912, (32833447, 727114): 1639, (32833447, 26694209): 137, (32833447, 226657): 6826, (32833447, 3352745): 272, (32833447, 23271744): 241, (32833447, 662604): 316, (32833447, 2814336): 125, (32833447, 31108): 119, (32833447, 245368): 298, (32833447, 5316694): 288, (32833447, 9754024): 155, (32833447, 289604): 111, (32833447, 10801369): 328, (576450, 406): 105, (27803, 300220): 2341, (27803, 9389431): 2145, (300220, 9389431): 3546, (28410929, 49281637): 3550, (133185, 226657): 140, (133185, 5316694): 158, (133185, 117953): 1701, (133185, 428261): 217, (133185, 148055): 200, (133185, 112021): 528, (133185, 232765): 347, (133185, 613602): 694, (133185, 232768): 348, (133185, 27): 1203, (133185, 727114): 119, (133185, 801274): 239, (133185, 27810): 206, (133185, 406): 1350, (133185, 440981): 225, (133185, 245368): 197, (133185, 541478): 207, (133185, 422803): 209, (133185, 114591): 122, (133185, 27251507): 130, (133185, 203): 317, (133185, 27785): 824, (133185, 61515): 113, (133185, 154190): 172, (133185, 873394): 152, (133185, 380372): 123, (133185, 15567): 102, (133185, 146997): 431, (133185, 266936): 181, (133185, 546017): 394, (727114, 226657): 6106, (727114, 484757): 1453, (727114, 578887): 8123, (727114, 31108): 139, (727114, 130638): 3565, (727114, 138219): 107, (727114, 586437): 3394, (727114, 662604): 916, (727114, 722204): 781, (727114, 245368): 3859, (727114, 5316694): 703, (727114, 259126): 1016, (727114, 13907): 1064, (727114, 289604): 2443, (727114, 250093): 774, (727114, 725977): 305, (727114, 879346): 804, (727114, 1967132): 205, (727114, 217070): 1274, (727114, 987117): 282, (727114, 491459): 183, (727114, 1097848): 166, (727114, 9614): 421, (727114, 8374741): 211, (727114, 52461): 107, (727114, 1165845): 159, (727114, 2814336): 429, (727114, 3352745): 389, (727114, 141299): 142, (727114, 604153): 617, (727114, 27): 229, (727114, 390): 107, (727114, 213477): 208, (727114, 1928582): 182, (727114, 1079805): 103, (727114, 193591): 418, (727114, 257319): 110, (727114, 9754024): 417, (727114, 643028): 149, (727114, 19518444): 179, (727114, 15766): 104, (727114, 20027): 228, (727114, 625992): 1683, (727114, 22389): 122, (727114, 839): 192, (727114, 1368642): 261, (727114, 30349): 154, (727114, 6771226): 193, (727114, 739806): 1945, (727114, 266936): 402, (727114, 10801369): 1532, (727114, 11146): 133, (727114, 730108): 343, (727114, 96137): 1274, (727114, 21258): 115, (15752346, 33055879): 1658, (82576, 390): 4124, (82576, 1098294): 2181, (82576, 865284): 188, (82576, 6923902): 224, (82576, 258664): 2033, (82576, 259514): 152, (82576, 606566): 293, (82576, 6442415): 303, (82576, 525714): 2360, (82576, 40781): 703, (82576, 63219): 918, (82576, 42533587): 130, (82576, 109430): 1081, (82576, 13125490): 310, (82576, 613839): 859, (82576, 6012213): 263, (82576, 3668): 138, (82576, 5060107): 108, (82576, 253086): 426, (82576, 431213): 573, (82576, 4724373): 106, (82576, 30815): 379, (82576, 209989): 810, (82576, 218129): 545, (82576, 218130): 255, (82576, 4878889): 204, (82576, 53131): 125, (82576, 23966): 121, (82576, 27874): 150, (82576, 36455): 179, (82576, 99942): 218, (82576, 12682819): 244, (82576, 2346771): 194, (82576, 6012117): 159, (82576, 15797): 139, (82576, 99941): 134, (82576, 4945534): 278, (82576, 15757): 173, (82576, 4945690): 190, (82576, 762327): 196, (82576, 681199): 132, (82576, 2818614): 141, (82576, 238887): 240, (82576, 158325): 193, (82576, 273726): 105, (82576, 2612958): 154, (82576, 153784): 807, (82576, 31708): 1470, (82576, 164221): 105, (47396, 465877): 334, (47396, 31695445): 118, (47396, 13155): 171, (465877, 13155): 117, (235690, 23985107): 5756, (235690, 5493837): 2853, (235690, 782522): 2625, (235690, 13781780): 1901, (235690, 45591): 289, (235690, 939813): 114, (235690, 15040518): 169, (235690, 841539): 429, (235690, 172695): 726, (235690, 14769710): 359, (235690, 5982368): 200, (235690, 145476): 471, (235690, 15133407): 569, (235690, 232893): 185, (235690, 172779): 137, (23985107, 13781780): 215, (23985107, 782522): 147, (114, 1480): 145, (114, 22967325): 403, (14082506, 50106428): 169, (406, 27785): 18412, (406, 99117): 3063, (406, 7078): 569, (406, 203): 1648, (406, 7180): 275, (406, 27): 972, (406, 112021): 110, (406, 173339): 109, (406, 99204): 145, (406, 245368): 109, (406, 232768): 188, (406, 44822): 152, (406, 250): 101, (406, 1346): 231, (406, 266936): 136, (27785, 7078): 349, (27785, 99117): 1930, (27785, 203): 1882, (27785, 796851): 273, (27785, 7180): 231, (27785, 745743): 151, (27785, 27251507): 119, (27785, 27): 529, (27785, 232768): 156, (27785, 245368): 106, (27785, 250): 117, (27785, 44822): 203, (27785, 1346): 152, (18664431, 44512552): 734, (245368, 5316694): 758, (245368, 193591): 1167, (245368, 226657): 5895, (245368, 725977): 541, (245368, 879346): 803, (245368, 2814336): 879, (245368, 130638): 289, (245368, 662604): 126, (245368, 491459): 655, (245368, 1165845): 367, (245368, 578887): 756, (245368, 839): 175, (245368, 217070): 160, (245368, 586437): 444, (245368, 484757): 170, (245368, 9754024): 363, (245368, 250093): 194, (245368, 289604): 423, (245368, 1097848): 704, (245368, 13907): 108, (245368, 1967132): 102, (245368, 15567): 160, (245368, 6771226): 308, (245368, 625992): 2426, (245368, 19518444): 257, (245368, 522032): 180, (245368, 1928582): 125, (245368, 3352745): 187, (245368, 425803): 110, (245368, 141656): 143, (245368, 27): 232, (245368, 96137): 1170, (245368, 10801369): 420, (245368, 45172): 183, (245368, 266936): 2102, (245368, 739806): 292, (245368, 591813): 105, (245368, 730108): 232, (245368, 226658): 126, (245368, 292226): 199, (7078, 99117): 382, (99117, 7180): 142, (5493837, 782522): 767, (5493837, 45591): 106, (5493837, 13781780): 362, (6771226, 226657): 353, (6771226, 2814336): 188, (6771226, 5316694): 179, (6771226, 9754024): 164, (6771226, 10801369): 119, (117807, 229357): 251, (117807, 4291175): 602, (117807, 129342): 1985, (117807, 27): 101, (229357, 129342): 135, (970457, 970466): 136, (970457, 993512): 151, (970466, 993512): 293, (32663, 35821): 269, (32663, 9139561): 263, (32663, 34010905): 361, (32663, 69383): 135, (32663, 1356851): 162, (32663, 1247584): 205, (32663, 4551485): 107, (32663, 110504): 205, (32663, 804163): 106, (758208, 11491600): 377, (758208, 721553): 164, (758208, 13999): 106, (758208, 2129537): 111, (758208, 519363): 433, (758208, 915695): 132, (758208, 865923): 273, (758208, 11444638): 169, (758208, 1486363): 154, (250093, 30349): 1916, (250093, 839): 2965, (250093, 9830863): 1407, (250093, 10736): 285, (250093, 130638): 295, (250093, 141299): 103, (250093, 23271744): 181, (250093, 13907): 183, (250093, 289604): 508, (250093, 976271): 132, (250093, 9830815): 177, (250093, 114465): 109, (250093, 226657): 176, (250093, 879346): 109, (250093, 662604): 279, (250093, 578887): 177, (250093, 2019008): 173, (250093, 253298): 945, (250093, 945109): 294, (250093, 226658): 949, (250093, 9892): 155, (250093, 96137): 105, (13184, 47754406): 177, (13184, 941637): 134, (13184, 13999): 256, (13184, 5178): 108, (722204, 484757): 256, (722204, 259126): 392, (722204, 289604): 365, (722204, 578887): 772, (722204, 604153): 420, (722204, 217070): 111, (722204, 13907): 167, (722204, 226657): 136, (722204, 96137): 101, (28806884, 35009081): 156, (27, 2031): 1849, (27, 2348733): 131, (27, 8114503): 214, (27, 32045): 234, (27, 813205): 123, (27, 792627): 195, (27, 48925): 976, (27, 459712): 733, (27, 17792625): 226, (27, 205859): 208, (27, 801274): 172, (27, 232768): 352, (27, 13154): 168, (27, 70): 285, (27, 1331): 231, (27, 226657): 152, (27, 187): 261, (27, 951): 321, (27, 379999): 178, (27, 386): 111, (27, 47474): 139, (27, 27251507): 179, (27, 112021): 111, (27, 12741): 123, (27, 213159): 110, (27, 115613): 151, (27, 1346): 825, (27, 203): 397, (27, 114591): 374, (27, 879346): 132, (27, 428849): 115, (27, 5280): 340, (27, 299272): 124, (27, 933501): 105, (27, 250): 242, (27, 5358): 107, (27, 146772): 122, (27, 9892): 323, (27, 13438): 143, (27, 4556): 165, (27, 266936): 175, (2031, 25486): 375, (2031, 12756): 1360, (2031, 103361): 174, (2031, 8285): 182, (269708, 289943): 2998, (269708, 269701): 1826, (289943, 269701): 1617, (103325, 41561026): 1819, (103325, 14088): 1712, (103325, 41561815): 1445, (103325, 14094): 1002, (103325, 10795): 143, (103325, 14214): 321, (103325, 8210): 3166, (103325, 58481): 276, (103325, 103292): 132, (103325, 4182): 118, (41561026, 41561815): 1368, (41561026, 14214): 102, (41561026, 14088): 405, (41561026, 14094): 331, (41561026, 8210): 216, (20963328, 37310182): 176, (114591, 27251507): 24336, (114591, 8114503): 139, (114591, 38466805): 216, (27251507, 38466805): 205, (27251507, 8114503): 148, (131277, 1346): 151, (390, 15797): 149, (390, 2818614): 199, (390, 582724): 352, (390, 259514): 164, (390, 1098294): 911, (390, 6442415): 193, (390, 4945690): 492, (390, 5060107): 265, (390, 40781): 333, (390, 63219): 344, (390, 258664): 757, (390, 525714): 999, (390, 5455680): 310, (390, 218129): 1178, (390, 664441): 108, (390, 865284): 187, (390, 158325): 372, (390, 431213): 1837, (390, 1283234): 231, (390, 209989): 521, (390, 218130): 231, (390, 4878889): 559, (390, 53131): 257, (390, 32389): 153, (390, 25646718): 1786, (390, 30815): 164, (390, 99942): 333, (390, 109430): 434, (390, 613839): 230, (390, 851797): 110, (390, 4945534): 712, (390, 13125490): 121, (390, 2346771): 112, (390, 4724373): 268, (390, 10549318): 188, (390, 681199): 183, (390, 25681944): 138, (390, 27874): 284, (390, 223453): 1102, (390, 2850393): 342, (390, 253086): 272, (390, 36455): 214, (390, 94383): 115, (390, 238887): 190, (390, 23966): 144, (390, 187): 443, (390, 1010042): 107, (390, 2612958): 115, (390, 9029725): 119, (390, 153784): 362, (390, 26449): 132, (390, 969642): 230, (390, 550): 103, (390, 164221): 336, (390, 4210142): 269, (390, 8404315): 258, (390, 8676658): 105, (390, 31708): 1254, (390, 96135): 109, (390, 2841): 114, (10861009, 43273597): 126, (10861009, 1583806): 103, (10861009, 472009): 368, (10861009, 2301120): 205, (796047, 23599229): 142, (796047, 5946839): 982, (796047, 9505516): 1535, (796047, 48135448): 109, (23599229, 48135448): 214, (13907, 289604): 3779, (13907, 432483): 101, (13907, 484757): 385, (13907, 604153): 172, (13907, 30349): 619, (13907, 130638): 231, (13907, 31108): 199, (13907, 22389): 114, (13907, 31065): 138, (13907, 586437): 132, (13907, 217070): 880, (13907, 1079805): 119, (13907, 226657): 149, (13907, 259126): 345, (13907, 578887): 204, (13907, 9614): 154, (13907, 713478): 143, (13907, 662604): 101, (13907, 11146): 198, (13907, 96137): 147, (13907, 21258): 333, (289604, 432483): 170, (289604, 484757): 559, (289604, 604153): 298, (289604, 879346): 177, (289604, 259126): 722, (289604, 578887): 802, (289604, 31108): 445, (289604, 130638): 763, (289604, 662604): 393, (289604, 22389): 210, (289604, 1165845): 155, (289604, 13856): 174, (289604, 30349): 1023, (289604, 31065): 263, (289604, 141299): 117, (289604, 217070): 978, (289604, 1079805): 250, (289604, 9614): 250, (289604, 138219): 244, (289604, 226657): 455, (289604, 193591): 286, (289604, 777705): 162, (289604, 3352745): 207, (289604, 5316694): 145, (289604, 586437): 263, (289604, 2814336): 150, (289604, 257319): 130, (289604, 11146): 135, (289604, 96137): 615, (289604, 21258): 366, (289604, 266936): 153, (226657, 578887): 1699, (226657, 5316694): 2902, (226657, 130638): 3323, (226657, 725977): 586, (226657, 879346): 558, (226657, 586437): 725, (226657, 9614): 540, (226657, 30815): 248, (226657, 2814336): 667, (226657, 9754024): 548, (226657, 1928582): 284, (226657, 1368642): 116, (226657, 19518444): 170, (226657, 484757): 175, (226657, 259126): 211, (226657, 662604): 215, (226657, 839): 171, (226657, 604153): 144, (226657, 3352745): 223, (226657, 217070): 195, (226657, 739806): 1115, (226657, 10801369): 4451, (226657, 193591): 104, (226657, 266936): 2540, (226657, 15766): 174, (226657, 625992): 358, (226657, 240609): 527, (226657, 245434): 370, (226657, 96137): 1036, (226657, 11146): 283, (226657, 730108): 312, (226657, 226658): 120, (226657, 292226): 417, (226657, 82165): 171, (578887, 259126): 1624, (578887, 1967132): 103, (578887, 586437): 705, (578887, 217070): 370, (578887, 484757): 302, (578887, 604153): 317, (578887, 1928582): 238, (578887, 662604): 167, (578887, 9614): 200, (578887, 879346): 206, (578887, 130638): 437, (578887, 9754024): 144, (578887, 739806): 1364, (578887, 625992): 592, (578887, 10801369): 125, (578887, 96137): 525, (578887, 730108): 153, (451725, 451754): 346, (451725, 451749): 1385, (451725, 34098940): 225, (451725, 3400043): 182, (451725, 451758): 162, (451725, 24009701): 145, (451725, 451750): 112, (451754, 451749): 188, (15397413, 42457414): 227, (239605, 798659): 346, (239605, 26821679): 181, (239605, 13867325): 210, (30969, 231679): 142, (30349, 22349): 109, (30349, 839): 643, (30349, 10736): 115, (30349, 182170): 101, (30349, 217070): 229, (30349, 31653838): 122, (30349, 9830863): 202, (30349, 925191): 102, (30349, 8485): 146, (30349, 226658): 301, (30349, 253298): 221, (30349, 73304): 189, (951, 5280): 106, (951, 146772): 254, (951, 1331): 278, (951, 17792625): 176, (951, 12671): 181, (951, 9892): 287, (951, 70): 211, (951, 5358): 103, (951, 273): 107, (951, 1346): 135, (31065, 31108): 317, (31065, 141299): 202, (31065, 130638): 178, (31108, 130638): 774, (31108, 138219): 299, (31108, 662604): 219, (31108, 1368642): 118, (741433, 741444): 2956, (741433, 145124): 4700, (741433, 114961): 991, (741433, 541478): 2988, (741433, 873394): 1196, (741433, 230931): 1084, (741433, 287734): 102, (741433, 133297): 623, (741444, 145124): 3018, (741444, 114961): 686, (741444, 541478): 769, (741444, 873394): 1012, (741444, 230931): 220, (741444, 133297): 193, (15766, 643028): 142, (15766, 20027): 250, (15766, 498940): 115, (15766, 1710265): 119, (15766, 114804): 153, (15766, 7653): 104, (15766, 266936): 292, (643028, 20027): 196, (1356851, 6410522): 251, (1356851, 9139561): 356, (1356851, 19017606): 394, (1356851, 11122924): 269, (1356851, 69383): 125, (1356851, 739186): 1396, (1356851, 2654295): 150, (1356851, 4551485): 408, (1356851, 7380455): 123, (1356851, 804163): 158, (1356851, 105119): 125, (1356851, 544482): 104, (484757, 604153): 337, (484757, 879346): 189, (484757, 3352745): 194, (484757, 586437): 188, (484757, 217070): 146, (484757, 21258): 188, (115613, 224545): 9030, (115613, 7857352): 1819, (115613, 735927): 277, (115613, 5392312): 334, (115613, 5088616): 184, (115613, 8409258): 176, (224545, 7857352): 1870, (224545, 735927): 217, (224545, 5392312): 247, (224545, 5088616): 170, (7857352, 735927): 111, (7857352, 5392312): 159, (1710265, 498940): 119, (824702, 1157): 739, (1064218, 22297050): 569, (1064218, 1064192): 1428, (1064218, 1064196): 848, (1064218, 6012636): 111, (1064218, 1064234): 197, (1064218, 18197982): 308, (1064218, 1064194): 111, (1064218, 2652336): 137, (22297050, 1064192): 106, (29576, 3132749): 505, (29576, 641): 194, (29576, 750321): 105, (29576, 101392): 363, (29576, 3235649): 454, (29576, 3284129): 247, (29576, 9162187): 618, (29576, 21364023): 139, (29576, 29773): 284, (29576, 5407051): 405, (29576, 19796): 291, (29576, 29767): 351, (134900, 34555820): 7568, (134900, 10778845): 314, (134900, 18757476): 520, (134900, 15270224): 4314, (134900, 23279625): 131, (34555820, 10778845): 201, (34555820, 18757476): 279, (34555820, 15270224): 242, (13253, 169): 5360, (13253, 2427): 171, (13253, 17431): 2276, (13253, 29895): 167, (13253, 2428): 3956, (13253, 34980): 138, (13253, 65737): 157, (13253, 13007): 926, (13253, 13009): 698, (13253, 947018): 1335, (13253, 23066): 138, (13253, 25481): 132, (13253, 23198): 164, (13253, 74156): 158, (13253, 543089): 131, (13253, 543096): 151, (13253, 13001): 1180, (13253, 169604): 291, (13253, 31482): 147, (13253, 22636): 114, (13253, 28479): 157, (25486, 15567): 2096, (25486, 15281748): 497, (25486, 1967132): 862, (25486, 13057): 320, (25486, 19183083): 142, (25486, 55310): 204, (25486, 810797): 161, (25486, 522032): 446, (25486, 55309): 538, (25486, 4503): 123, (25486, 28520324): 109, (25486, 2437707): 171, (25486, 263570): 130, (25486, 79416): 575, (25486, 55049): 456, (25486, 1195851): 776, (25486, 920907): 145, (25486, 6388046): 118, (25486, 591813): 204, (25486, 293698): 104, (25486, 46): 216, (130638, 138219): 760, (130638, 586437): 182, (130638, 662604): 5536, (130638, 969668): 136, (130638, 1368642): 682, (130638, 26694209): 476, (130638, 3352745): 692, (130638, 432483): 119, (130638, 23037345): 145, (130638, 5316694): 175, (130638, 23271744): 271, (130638, 9614): 114, (130638, 9607546): 246, (130638, 2814336): 126, (130638, 141299): 370, (130638, 31109): 127, (130638, 22389): 264, (130638, 9754024): 132, (130638, 10801369): 3121, (130638, 26057864): 200, (130638, 739806): 275, (130638, 553203): 223, (130638, 7823308): 197, (138219, 662604): 577, (138219, 52967): 155, (138219, 23271744): 104, (138219, 1368642): 118, (662604, 3352745): 412, (662604, 26694209): 113, (662604, 22389): 140, (662604, 52967): 169, (662604, 23271744): 473, (662604, 9607546): 238, (662604, 1368642): 395, (662604, 553203): 224, (662604, 10801369): 386, (662604, 7823308): 268, (586437, 217070): 464, (586437, 259126): 231, (586437, 879346): 104, (586437, 625992): 204, (586437, 10801369): 116, (586437, 739806): 192, (586437, 96137): 341, (586437, 266936): 452, (2009747, 25557882): 240, (2009747, 541437): 117, (2009747, 2207797): 121, (2009747, 18909096): 101, (10223, 22034): 4800, (10223, 145749): 840, (10223, 28830068): 140, (10223, 1513318): 140, (22034, 28830068): 374, (22034, 4227239): 599, (22034, 145749): 614, (22034, 103091): 153, (4440767, 22415121): 876, (4440767, 3456026): 136, (22415121, 28118988): 128, (447712, 964594): 2489, (41756, 2390037): 1194, (721553, 6657034): 404, (721553, 8513701): 139, (721553, 988797): 150, (721553, 155456): 122, (721553, 13999): 133, (721553, 2129537): 124, (2763279, 27768691): 668, (2763279, 2763282): 317, (2763279, 2763261): 152, (27768691, 2763282): 140, (27874, 2850393): 356, (27874, 99942): 270, (2850393, 4878889): 136, (2850393, 5455680): 258, (2850393, 431213): 110, (2850393, 4945534): 194, (2850393, 525714): 107, (3132749, 9162187): 173, (3132749, 25897413): 258, (3132749, 101392): 311, (3132749, 3235649): 155, (4877332, 6650284): 196, (4877332, 33642127): 270, (4877332, 8710858): 139, (6650284, 33642127): 485, (6650284, 8710858): 432, (6650284, 12546073): 138, (33642127, 12546073): 239, (33642127, 8710858): 893, (273720, 7890514): 236, (7890514, 277627): 307, (7890514, 4274675): 413, (7890514, 273721): 361, (277627, 4274675): 107, (277627, 273721): 111, (3235649, 3230807): 112, (3235649, 27578335): 237, (3235649, 3284129): 344, (3235649, 3235757): 168, (3235649, 3240899): 255, (870188, 5437936): 4535, (870188, 35254): 1095, (870188, 227360): 1658, (5437936, 37207): 160, (5437936, 35254): 333, (5437936, 227360): 217, (36979012, 45239848): 605, (36979012, 30194144): 155, (36979012, 36350869): 113, (36979012, 36141380): 379, (582724, 36631273): 475, (14088, 14094): 336, (14088, 8210): 1222, (14088, 41561815): 350, (14088, 14214): 199, (14088, 58481): 128, (2348733, 8114503): 161, (2348733, 13608): 154, (2348733, 318395): 107, (11232, 827052): 2016, (11232, 9916159): 203, (11232, 54040): 244, (11232, 841917): 225, (827052, 9916159): 229, (827052, 54040): 181, (827052, 841917): 161, (9830863, 839): 1747, (9830863, 9830815): 163, (9830863, 253298): 228, (4274675, 4274723): 105, (4274675, 172566): 174, (4274675, 273721): 190, (14943480, 14943552): 1974, (839, 9830815): 274, (839, 879346): 127, (839, 2019008): 220, (839, 253298): 716, (839, 945109): 323, (839, 226658): 612, (839, 255281): 113, (858574, 1080663): 19015, (858574, 229522): 7932, (858574, 852479): 988, (858574, 858617): 200, (858574, 57398): 840, (1080663, 229522): 2748, (1080663, 852479): 325, (1080663, 858617): 173, (1080663, 57398): 826, (1080663, 309473): 145, (19518444, 2814336): 124, (219012, 726906): 5624, (219012, 21927): 5120, (219012, 219009): 1386, (219012, 225713): 3525, (219012, 71524): 1171, (219012, 2571834): 313, (219012, 605246): 286, (219012, 26639822): 145, (219012, 18246): 129, (219012, 726905): 538, (219012, 247827): 192, (219012, 246901): 268, (219012, 266180): 101, (219012, 229813): 132, (726906, 71524): 161, (726906, 225713): 406, (726906, 21927): 841, (726906, 219009): 124, (726906, 246901): 130, (32045, 813205): 2291, (32045, 25465596): 373, (32045, 865478): 277, (813205, 25465596): 436, (813205, 865478): 141, (1064192, 1064196): 227, (190901, 31075477): 1207, (190901, 514386): 617, (190901, 541437): 657, (190901, 2207797): 463, (190901, 154229): 191, (190901, 33819955): 181, (190901, 41332): 114, (190901, 728807): 107, (190901, 966650): 326, (190901, 16317249): 241, (190901, 102967): 122, (41424, 119943): 162, (41424, 6483395): 119, (9607162, 448285): 364, (9607162, 449388): 122, (9607162, 923135): 128, (9607162, 18081549): 548, (9607162, 30005138): 133, (41561815, 14094): 332, (41561815, 8210): 106, (449545, 684027): 312, (449545, 643142): 1135, (449545, 684028): 504, (449545, 722570): 155, (449545, 722569): 134, (449545, 556666): 443, (449545, 841899): 671, (449545, 71059): 179, (449545, 13459648): 125, (449545, 436476): 270, (449545, 661023): 117, (449545, 1009617): 133, (449545, 5082541): 722, (449545, 667560): 102, (449545, 6175728): 1129, (449545, 212989): 122, (449545, 427521): 1144, (1635478, 4585787): 1572, (1635478, 4497497): 378, (1635478, 6247986): 166, (1635478, 1634572): 117, (491459, 522032): 258, (491459, 141656): 246, (43857349, 44155960): 114, (35821, 9139561): 101, (35821, 1247584): 334, (35821, 294254): 281, (35821, 69383): 134, (451749, 3400043): 103, (451749, 451758): 104, (5316694, 2814336): 320, (5316694, 9754024): 269, (5316694, 257319): 230, (5316694, 3352745): 114, (5316694, 10801369): 388, (1967132, 15281748): 168, (1967132, 15567): 311, (1967132, 522032): 116, (1967132, 2437707): 219, (15281748, 15567): 139, (217066, 309473): 2047, (217066, 8254): 469, (217066, 1478116): 471, (217066, 196510): 366, (309473, 8254): 296, (309473, 196510): 167, (309473, 1478116): 124, (1098294, 525714): 1550, (1098294, 606566): 239, (1098294, 6442415): 590, (1098294, 258664): 1160, (1098294, 42533587): 145, (1098294, 4878889): 113, (1098294, 63219): 199, (1098294, 613839): 205, (1098294, 218129): 132, (1098294, 209989): 203, (1098294, 12682819): 113, (1098294, 4945690): 134, (1098294, 681199): 128, (1098294, 153784): 643, (116125, 314015): 105, (116125, 73043): 325, (116125, 1297483): 123, (116125, 26110751): 167, (116125, 26217281): 155, (116125, 6891): 112, (314015, 73043): 107, (314015, 1297483): 174, (114961, 541478): 8191, (114961, 873394): 7144, (114961, 145124): 1408, (114961, 230931): 459, (114961, 529818): 1370, (114961, 133297): 367, (541478, 873394): 10638, (541478, 145124): 1168, (541478, 230931): 586, (541478, 810797): 229, (541478, 529818): 1631, (541478, 133297): 381, (304320, 352740): 511, (352740, 10191): 199, (12312739, 5205118): 116, (14211701, 14211920): 807, (14211701, 165509): 797, (14211701, 19183083): 301, (14211920, 165509): 591, (14211920, 19183083): 352, (193591, 1165845): 131, (193591, 217070): 124, (193591, 625992): 337, (193591, 327419): 110, (193591, 245434): 107, (4274723, 172566): 122, (210460, 487773): 108, (210460, 65737): 186, (3914609, 17879139): 853, (3914609, 602244): 123, (3914609, 14892620): 1466, (3914609, 15204756): 335, (17879139, 25543542): 441, (17879139, 14892620): 185, (15797, 14062): 102, (6410522, 19017606): 183, (19017606, 9139561): 448, (19017606, 29777060): 155, (19017606, 39389599): 154, (19017606, 4551485): 232, (19017606, 11122924): 106, (19017606, 17501436): 135, (9139561, 28624790): 1407, (9139561, 34010905): 705, (9139561, 11122924): 139, (9139561, 2910264): 233, (9139561, 4551485): 461, (9139561, 7380455): 103, (9139561, 11005015): 145, (9139561, 11509804): 312, (9139561, 26370428): 103, (9139561, 28612319): 467, (9139561, 2654295): 246, (3352745, 16720134): 1552, (3352745, 5466945): 824, (3352745, 9892897): 355, (3352745, 11413120): 362, (3352745, 22389): 758, (3352745, 4896523): 1100, (3352745, 937647): 129, (3352745, 879346): 275, (3352745, 10801369): 268, (16720134, 5466945): 116, (16720134, 4896523): 215, (873394, 145124): 897, (873394, 230931): 232, (873394, 810797): 186, (873394, 133297): 170, (425703, 587358): 147, (541, 11825): 243, (541, 11830): 123, (541, 11263): 515, (541, 11264): 153, (541, 11823): 132, (541, 11819): 131, (541, 12048632): 365, (541, 11826): 251, (541, 11827): 171, (541, 158602): 164, (541, 720115): 101, (541, 11831): 113, (541, 11820): 187, (541, 2981918): 229, (541, 11828): 106, (541, 11824): 101, (431213, 13125490): 222, (431213, 158325): 250, (431213, 1283234): 209, (431213, 865284): 126, (431213, 4724373): 422, (431213, 187): 382, (431213, 4945690): 101, (431213, 4945534): 645, (431213, 109430): 656, (431213, 253086): 355, (431213, 10549318): 141, (431213, 218129): 140, (431213, 223453): 263, (431213, 676902): 228, (431213, 25646718): 437, (431213, 238887): 107, (431213, 8404315): 242, (431213, 4210142): 119, (525714, 258664): 759, (525714, 63219): 368, (525714, 218129): 364, (525714, 4878889): 260, (525714, 4945690): 202, (525714, 681199): 263, (525714, 209989): 341, (525714, 613839): 303, (525714, 23966): 160, (525714, 6442415): 105, (525714, 2612958): 170, (525714, 153784): 380, (525714, 31708): 105, (20965191, 36909253): 334, (13999, 15366198): 1655, (13999, 13045252): 217, (13999, 10767): 293, (13999, 5178): 417, (13999, 55873): 213, (13999, 19877): 137, (13999, 306014): 231, (13999, 767851): 110, (13999, 9799345): 112, (13999, 65): 170, (13999, 10729669): 110, (13999, 35505737): 136, (448285, 449384): 103, (448285, 449387): 153, (448285, 449388): 156, (448285, 923135): 306, (448285, 30005138): 265, (26574617, 29881298): 226, (432483, 23037345): 556, (126504, 126507): 252, (126504, 223427): 388, (126507, 223427): 137, (14094, 58481): 143, (14094, 8210): 656, (865284, 258664): 467, (865284, 209989): 161, (865284, 218130): 172, (865284, 63219): 143, (387862, 23709195): 144, (387862, 33483): 205, (387862, 134322): 142, (387862, 26144408): 119, (23709195, 33483): 148, (23709195, 134322): 132, (23709195, 26144408): 117, (165509, 19183083): 105, (21927, 219009): 294, (21927, 225713): 353, (21927, 18246): 131, (21927, 71524): 155, (21927, 726905): 540, (219009, 225713): 218, (219009, 18246): 136, (14551073, 16590177): 130, (10168544, 47839222): 189, (10168544, 19503): 299, (10168544, 2143132): 249, (10168544, 333263): 170, (10168544, 22937583): 174, (10168544, 2391543): 107, (228688, 725640): 292, (228688, 189238): 109, (725640, 189238): 114, (5455680, 4945534): 194, (5455680, 99942): 301, (3103, 3578165): 778, (3103, 28066218): 167, (3103, 30941969): 543, (3578165, 28066218): 146, (3578165, 30941969): 465, (28066218, 30941969): 156, (18458367, 24962256): 189, (6541412, 6983855): 460, (6541412, 7497428): 214, (6541412, 27150104): 491, (6541412, 524391): 117, (6541412, 6540290): 162, (6541412, 1197580): 120, (4945534, 158325): 403, (4945534, 1283234): 185, (4945534, 4724373): 166, (4945534, 4945690): 165, (4945534, 10549318): 217, (4945534, 4878889): 306, (4945534, 218129): 209, (15567, 953419): 135, (15567, 522032): 1439, (15567, 28520324): 161, (15567, 28127997): 117, (15567, 44822): 148, (15567, 55309): 202, (15567, 810797): 136, (15567, 887145): 125, (15567, 263570): 413, (15567, 154190): 182, (15567, 55049): 243, (15567, 591813): 192, (15567, 255281): 103, (17856255, 38347525): 482, (17856255, 19116153): 149, (17856255, 37357117): 178, (27801, 137504): 303, (27801, 313106): 187, (137504, 313106): 357, (22081, 481231): 752, (22081, 475176): 732, (22081, 4933054): 456, (481231, 22608): 164, (481231, 27491): 206, (481231, 475176): 868, (481231, 4933054): 411, (1032850, 11679103): 139, (1032850, 29455559): 272, (225713, 2571834): 244, (225713, 71524): 226, (225713, 605246): 147, (225713, 246901): 124, (115053, 180534): 134, (5946839, 9505516): 715, (449387, 449388): 124, (23172234, 25590048): 149, (23172234, 40137880): 197, (145124, 230931): 2201, (145124, 133297): 638, (25172, 102330): 2423, (25172, 133386): 2231, (25172, 686974): 2056, (102330, 133386): 5205, (102330, 686974): 4293, (6225240, 6225375): 416, (65, 166591): 2024, (65, 33849196): 120, (65, 1091121): 113, (7316, 104195): 171, (7316, 104519): 137, (7316, 3264017): 107, (7316, 60072): 228, (7316, 104518): 367, (7316, 6637939): 224, (7316, 60119): 120, (104195, 3264017): 125, (604153, 259126): 135, (604153, 217070): 103, (47048095, 47048152): 264, (879346, 1928582): 396, (879346, 5466945): 119, (879346, 2814336): 150, (879346, 96137): 314, (9830, 218595): 936, (9830, 287734): 1234, (9830, 232768): 109, (218595, 287734): 843, (29570069, 29012495): 208, (29570069, 31426954): 119, (29570069, 32659360): 158, (12312691, 1072216): 296, (12312691, 5205118): 133, (12312691, 21622335): 218, (20964522, 1072216): 124, (269701, 278647): 116, (1368642, 7823308): 145, (169, 34980): 185, (169, 2427): 373, (169, 2900481): 265, (169, 17431): 1681, (169, 2428): 3289, (169, 34578557): 265, (169, 265262): 130, (169, 11831638): 143, (169, 947018): 671, (169, 426806): 297, (169, 13007): 585, (169, 13009): 298, (169, 280267): 142, (169, 745123): 164, (169, 2925233): 276, (169, 48030): 192, (169, 169604): 803, (169, 1831979): 215, (169, 30106): 153, (169, 13001): 285, (169, 31482): 251, (169, 74156): 113, (34980, 2428): 220, (34980, 17431): 205, (34980, 947018): 113, (7761604, 641): 128, (133386, 686974): 3124, (230931, 133297): 1104, (229522, 852479): 499, (229522, 57398): 685, (34578557, 49311823): 188, (34578557, 1831979): 586, (684027, 436476): 158, (684027, 643142): 276, (684027, 684028): 440, (684027, 722569): 107, (5466945, 9892897): 344, (5466945, 11413120): 291, (5466945, 4896523): 552, (9892897, 11413120): 315, (9892897, 4896523): 342, (11413120, 4896523): 417, (1072216, 8281474): 337, (1072216, 5205118): 210, (1072216, 4997269): 254, (1072216, 4803007): 205, (8281474, 116265): 104, (449384, 449389): 162, (449388, 923135): 115, (449388, 617735): 275, (259126, 217070): 429, (259126, 9614): 168, (259126, 11146): 211, (259126, 96137): 215, (22389, 937647): 125, (2207797, 10759147): 860, (2207797, 514386): 523, (2207797, 541437): 1575, (2207797, 33819955): 132, (2207797, 966650): 156, (735779, 801274): 2453, (735779, 418690): 345, (801274, 489908): 298, (801274, 418690): 333, (801274, 1142203): 449, (801274, 21679434): 309, (801274, 6758): 115, (218129, 218130): 498, (218129, 4878889): 1302, (218129, 53131): 213, (218129, 209989): 221, (218129, 4945690): 146, (218129, 158325): 204, (218129, 26449): 327, (218129, 164221): 202, (218129, 969642): 130, (218130, 209989): 275, (218130, 258664): 271, (218130, 4878889): 469, (218130, 63219): 125, (379999, 22717): 231, (379999, 577990): 211, (379999, 1301206): 176, (379999, 665301): 112, (379999, 1116036): 163, (11263, 11264): 189, (11263, 11819): 122, (11263, 11826): 159, (18291537, 50504489): 102, (49458, 105423): 522, (282761, 542980): 145, (782522, 13781780): 370, (782522, 45591): 262, (782522, 939813): 122, (782522, 433959): 126, (258664, 63219): 532, (258664, 613839): 278, (258664, 209989): 400, (258664, 4878889): 130, (258664, 4945690): 114, (258664, 12682819): 139, (258664, 153784): 198, (258664, 31708): 165, (19913037, 23186823): 513, (13665, 81269): 1756, (13665, 13896): 737, (13665, 4231202): 796, (81269, 4231202): 4768, (81269, 13896): 1338, (81269, 3095): 253, (39873898, 48190765): 218, (23025363, 23154555): 321, (23025363, 8541031): 300, (23154555, 8541031): 291, (1064196, 1064234): 133, (1108896, 5443632): 186, (641, 5407051): 381, (730474, 5581908): 1731, (730474, 3163988): 2185, (730474, 2936669): 656, (5581908, 3163988): 1532, (9162187, 12358675): 171, (9162187, 101392): 189, (9162187, 5407051): 216, (457909, 1368557): 188, (26890745, 35274356): 638, (9540643, 10065416): 125, (9540643, 21679434): 119, (21679434, 1142203): 429, (21679434, 489908): 341, (21679434, 6758): 110, (51147222, 51160545): 358, (606566, 153784): 197, (967686, 2848119): 1945, (13781780, 172695): 125, (13781780, 145476): 119, (13781780, 15133407): 103, (13781780, 14769710): 114, (205859, 2764869): 713, (205859, 2738979): 416, (4945690, 9320086): 116, (4945690, 15122163): 120, (4945690, 53131): 714, (4945690, 25681944): 144, (4945690, 209989): 601, (4945690, 4878889): 365, (4945690, 23966): 159, (5060107, 664441): 192, (5060107, 2346771): 132, (5060107, 40781): 146, (5060107, 1010042): 116, (5060107, 557993): 136, (5060107, 4210142): 167, (26097629, 27765517): 161, (172566, 273721): 154, (273721, 28588358): 103, (3163988, 2936669): 305, (59410, 568001): 170, (59410, 135809): 650, (59410, 237331): 399, (59410, 135808): 263, (1320148, 16105794): 2218, (1320148, 35119547): 285, (16105794, 35119547): 152, (203, 7180): 145, (203, 5358): 123, (203, 70): 114, (203, 1346): 194, (26110751, 26217281): 872, (26110751, 73043): 121, (26217281, 73043): 161, (26217281, 15391182): 108, (449389, 8292487): 178, (498882, 650112): 373, (45591, 939813): 348, (45591, 433959): 228, (45591, 4231202): 116, (45591, 708774): 121, (45591, 242193): 210, (45591, 98779): 120, (45591, 114100): 116, (45591, 4627488): 117, (939813, 433959): 108, (939813, 4627488): 155, (11122924, 2654295): 252, (11122924, 4551485): 108, (9754024, 2814336): 216, (9754024, 567409): 162, (9754024, 10801369): 338, (69383, 1285443): 169, (69383, 73868): 107, (901, 17051): 304, (901, 365): 268, (17051, 365): 666, (34647218, 45281500): 131, (9149275, 10431373): 124, (186923, 26987600): 3038, (186923, 28520324): 234, (26987600, 28520324): 278, (103292, 933850): 270, (103292, 711325): 114, (103292, 8210): 122, (103292, 4182): 151, (933850, 9329722): 228, (933850, 9796993): 124, (933850, 88425): 130, (933850, 10251346): 157, (933850, 4182): 184, (933850, 8210): 164, (230438, 1302228): 149, (1302228, 114582): 179, (2462250, 2954291): 108, (701010, 5082472): 665, (132950, 305222): 322, (132950, 418800): 200, (132950, 1361045): 191, (305222, 418800): 128, (22035804, 27551509): 263, (22035804, 5153686): 615, (134908, 882989): 313, (117953, 61515): 492, (117953, 422803): 342, (129318, 30769520): 285, (40781, 2346771): 139, (40781, 158325): 148, (40781, 6012213): 103, (40781, 30815): 130, (40781, 25646718): 193, (40781, 223453): 234, (63219, 613839): 193, (63219, 209989): 147, (63219, 31708): 131, (386, 12415957): 256, (386, 5358): 102, (25606329, 46767022): 228, (25606329, 24137399): 436, (15322, 35543642): 133, (15322, 2198962): 284, (15322, 2401815): 140, (15322, 958071): 154, (219643, 25311636): 104, (1351984, 26281424): 205, (292517, 2128865): 121, (292517, 25307253): 159, (2128865, 25307253): 120, (55873, 10767): 121, (109430, 13125490): 153, (109430, 253086): 396, (109430, 187): 102, (109430, 36455): 119, (109430, 238887): 227, (109430, 31708): 162, (65737, 765527): 117, (65737, 262688): 177, (765527, 262688): 486, (12845, 18983): 173, (12845, 1028372): 389, (12845, 475956): 210, (4231202, 13896): 640, (4231202, 31344388): 225, (4231202, 3095): 146, (28978724, 29095667): 126, (725977, 96137): 109, (514386, 541437): 583, (514386, 33819955): 113, (514386, 728807): 110, (514386, 102967): 161, (514386, 966650): 233, (541437, 33819955): 250, (541437, 659076): 846, (541437, 728807): 128, (541437, 966650): 535, (541437, 102967): 397, (25224591, 27661039): 821, (297924, 27079403): 125, (4551485, 7380455): 119, (4551485, 804163): 108, (4551485, 2654295): 107, (4551485, 10552831): 108, (4551485, 573551): 122, (4551485, 13528631): 132, (34459828, 35101298): 111, (2427, 2428): 105, (70, 1331): 2608, (70, 22717): 109, (70, 14204213): 188, (70, 146772): 148, (70, 1346): 137, (70, 135886): 282, (1331, 14204213): 274, (1331, 22717): 111, (1331, 1346): 273, (1331, 273): 165, (1331, 135886): 329, (28830068, 4227239): 125, (28830068, 18385743): 137, (102251, 215080): 150, (215080, 81149): 303, (215080, 119697): 240, (209989, 53131): 541, (209989, 4878889): 133, (209989, 23966): 221, (209989, 1091921): 119, (209989, 31708): 173, (142070, 210539): 254, (475176, 4933054): 317, (2346771, 4678761): 228, (2346771, 37608613): 112, (13078762, 37190917): 155, (135809, 237331): 208, (135809, 135808): 270, (237331, 135808): 104, (2814336, 777705): 256, (2814336, 777706): 463, (2814336, 10801369): 225, (2198962, 614238): 130, (2198962, 2401815): 114, (2900481, 2925233): 154, (28413008, 41496655): 387, (735927, 5392312): 159, (1216336, 32733436): 402, (2654295, 6375344): 101, (35254, 227360): 218, (264647, 737520): 106, (17431, 29895): 200, (17431, 947018): 1026, (17431, 17155110): 162, (17431, 2428): 2318, (17431, 23198): 153, (17431, 13007): 418, (17431, 13009): 325, (17431, 30106): 104, (17431, 74156): 130, (53131, 77470): 101, (428261, 112021): 110, (602244, 3400712): 586, (602244, 4962313): 262, (602244, 830505): 109, (940800, 17153643): 1018, (940800, 940801): 125, (940800, 940809): 138, (24479231, 24808491): 262, (28387868, 29622962): 140, (49548, 15764445): 199, (49548, 15764730): 411, (49548, 11349922): 343, (15764445, 15764730): 2602, (15764445, 11349922): 844, (15764445, 15764496): 126, (15764730, 11349922): 251, (15764730, 15764496): 121, (27810, 380372): 735, (27810, 613602): 1919, (27810, 22238): 130, (27810, 546017): 1131, (380372, 613602): 1363, (380372, 546017): 358, (613602, 7102556): 130, (613602, 546017): 2026, (613602, 22238): 190, (613602, 3579608): 284, (40766, 12642079): 822, (12642079, 15378429): 262, (73043, 1297483): 133, (73043, 6891): 146, (10778845, 15270224): 283, (18800, 19877): 559, (18800, 6159846): 189, (19877, 6159846): 240, (19877, 603701): 107, (131281, 16091040): 1008, (219220, 31269550): 739, (219220, 31832401): 646, (219220, 18385044): 136, (31269550, 31832401): 414, (6983855, 7497428): 168, (6983855, 6540290): 170, (45337486, 47359627): 218, (6726952, 18558090): 250, (217070, 9614): 121, (217070, 11146): 141, (217070, 266936): 110, (217070, 96137): 181, (22959333, 25559166): 543, (15106, 30112): 735, (15106, 30109): 1084, (15106, 5650746): 189, (15106, 110758): 2054, (15106, 117297): 329, (15106, 557967): 285, (15106, 65037): 226, (15106, 243400): 279, (15106, 65158): 370, (15106, 65161): 545, (30112, 65037): 185, (30112, 65158): 105, (2247, 1582930): 1269, (2247, 1582735): 632, (1582930, 1582735): 555, (763804, 7508387): 976, (489908, 1142203): 719, (489908, 4840390): 136, (988797, 720176): 207, (226819, 30260675): 186, (41332, 154229): 384, (41332, 218342): 106, (154229, 746923): 149, (154229, 17545554): 199, (154229, 218342): 158, (154229, 33819955): 152, (154229, 14551): 119, (154229, 111052): 103, (154229, 59456): 139, (154229, 4182): 119, (154229, 966650): 159, (746923, 218342): 107, (746923, 14551): 104, (64158, 40825474): 150, (64158, 42247273): 197, (40825474, 42247273): 333, (223664, 127710): 126, (223664, 127708): 185, (223664, 127709): 135, (711325, 3401639): 111, (711325, 5698587): 163, (18757476, 15270224): 170, (608132, 1581928): 302, (608132, 7268009): 214, (1581928, 7268009): 316, (20027, 114804): 179, (20027, 141656): 223, (17545554, 10760791): 311, (664441, 1010042): 108, (11923942, 15303162): 104, (5280, 3605093): 139, (5280, 13438): 165, (106197, 796030): 152, (796030, 11476789): 147, (796030, 34653011): 119, (30815, 525613): 186, (30815, 271772): 290, (30815, 187): 114, (725923, 34636199): 432, (5407051, 14444018): 478, (5407051, 20332791): 236, (5407051, 590860): 175, (10767, 5178): 117, (31695445, 28421858): 157, (1097848, 625992): 198, (524391, 1357661): 464, (524391, 27255461): 156, (524391, 1197580): 230, (524391, 563383): 232, (524391, 47474): 111, (524391, 4076489): 143, (524391, 3374426): 311, (1357661, 7952773): 125, (637993, 17447727): 285, (114706, 43249945): 120, (2129537, 3203183): 156, (136523, 711301): 151, (74298, 99619): 278, (13854959, 15646467): 692, (543089, 543096): 473, (26156693, 36694123): 129, (4153505, 9010441): 308, (4153505, 4914394): 103, (4153505, 11900443): 240, (491649, 1749187): 525, (436476, 643142): 522, (436476, 684028): 225, (643142, 684028): 280, (643142, 684029): 113, (684028, 722569): 140, (684028, 722570): 109, (438047, 480146): 113, (522032, 1029860): 114, (522032, 263570): 107, (2763282, 2763261): 114, (116708, 8017156): 108, (116708, 3100151): 272, (614238, 614006): 395, (62083, 19850745): 125, (155456, 7675760): 116, (158325, 969642): 143, (158325, 164221): 139, (1283234, 36455): 203, (1283234, 38277373): 158, (1283234, 9029725): 297, (30109, 65158): 208, (30109, 65161): 439, (10795, 8210): 319, (10795, 4182): 220, (8710858, 573551): 607, (8710858, 12546073): 160, (8710858, 16652955): 2251, (8710858, 5805659): 108, (8710858, 17756655): 211, (60072, 104518): 428, (60072, 1781845): 164, (60072, 6637939): 521, (104518, 1781845): 126, (104518, 6637939): 592, (1781845, 6637939): 194, (1315456, 2200033): 591, (12608, 202578): 109, (12608, 878357): 453, (12608, 185369): 184, (202578, 4818): 141, (13157455, 13157464): 130, (13157464, 829473): 348, (13157464, 1242361): 121, (13157464, 29127056): 314, (13157464, 1007857): 134, (13157464, 23334360): 113, (6012213, 6012117): 229, (112021, 232765): 190, (23271744, 10801369): 121, (31593037, 31767298): 145, (9320086, 15122163): 160, (519363, 865923): 225, (4724373, 10549318): 608, (4724373, 676902): 342, (4724373, 9029725): 138, (4724373, 4210142): 387, (142166, 2933045): 161, (1142203, 4840390): 136, (21434355, 22960245): 1085, (21434355, 24280763): 225, (22960245, 24280763): 196, (25827807, 35483948): 413, (118829, 154446): 161, (118829, 3810023): 156, (232768, 5584): 157, (232768, 4236): 185, (232768, 232769): 114, (213597, 217263): 489, (213597, 44221): 141, (213597, 206001): 324, (217263, 534362): 159, (217263, 44221): 137, (217263, 206001): 382, (187, 1346): 103, (13154, 78116): 187, (13154, 300151): 303, (13154, 1346): 115, (78116, 661696): 126, (14214, 8210): 127, (7497428, 6540290): 102, (472009, 2301120): 148, (126041, 126045): 268, (126041, 727723): 148, (126045, 727723): 159, (8254, 196510): 120, (104798, 419390): 1392, (104798, 285572): 115, (419390, 285572): 103, (59203, 5530929): 331, (8210, 58481): 229, (8210, 4182): 399, (8210, 10596): 101, (42247273, 41677051): 174, (115209, 115633): 998, (115209, 120704): 114, (115209, 115618): 162, (115633, 726227): 146, (115633, 115618): 284, (27035291, 29157644): 163, (735801, 14223266): 567, (136510, 136524): 118, (829473, 1007857): 251, (26692334, 27557713): 207, (26692334, 31877632): 174, (11264, 11819): 111, (304438, 737915): 230, (737915, 4799727): 254, (2428, 947018): 872, (2428, 13007): 818, (2428, 13009): 442, (2428, 23066): 148, (2428, 30106): 117, (2428, 13001): 275, (2428, 74156): 146, (98779, 114100): 274, (98779, 8799547): 120, (114100, 8799547): 126, (110196, 407073): 178, (407073, 321510): 117, (33483, 134322): 156, (33483, 26144408): 125, (28118457, 38509696): 214, (602239, 36879574): 148, (6637939, 13191922): 176, (6637939, 7368311): 592, (6637939, 71574): 112, (101464, 218342): 206, (101464, 11878550): 271, (218342, 11878550): 238, (125485, 135825): 150, (135825, 255929): 257, (135825, 461634): 303, (255929, 461634): 165, (278444, 26058899): 269, (722569, 722568): 101, (722570, 722568): 118, (1001902, 13750883): 155, (43220, 622579): 118, (25646718, 223453): 823, (25646718, 8404315): 257, (25646718, 8676658): 105, (1247584, 1833305): 798, (4153523, 26424740): 166, (21944, 726877): 214, (19503, 333263): 189, (19503, 2391543): 131, (19503, 2143132): 303, (19503, 780632): 131, (19503, 2143138): 103, (181558, 882548): 270, (181558, 17199): 196, (26821679, 13867325): 151, (42867, 35616317): 182, (152617, 1303053): 268, (1303053, 152621): 111, (5352538, 11308192): 148, (5352538, 1114667): 130, (333263, 2391543): 125, (333263, 2143132): 183, (2391543, 2143132): 110, (109503, 236159): 200, (236159, 32697793): 139, (16846050, 16846641): 159, (22890, 258895): 106, (19801959, 29744003): 849, (2143132, 780632): 296, (2143132, 2143138): 115, (131271, 11578345): 213, (3072359, 5439781): 326, (3072359, 5485617): 365, (5439781, 5485617): 337, (10104017, 139028): 614, (10104017, 11058805): 105, (10104017, 15680175): 105, (1520, 129927): 717, (116682, 8201782): 414, (1685, 721159): 164, (21412812, 21930420): 148, (21830547, 21830556): 113, (21830556, 13160686): 134, (21830556, 11951084): 112, (112929, 2089643): 246, (947018, 4621242): 172, (947018, 5965292): 131, (947018, 5827913): 105, (108006, 114927): 355, (114927, 27391): 167, (10801369, 7823308): 103, (493339, 15609243): 124, (493339, 234146): 183, (134322, 26144408): 125, (253086, 238887): 216, (253086, 31708): 121, (27339989, 28345529): 202, (27339989, 28292879): 141, (28345529, 28292879): 194, (28345529, 27311024): 102, (28345529, 28400939): 172, (1290916, 29745758): 119, (1548199, 7242680): 208, (7913, 14553): 120, (7913, 101404): 121, (865923, 2350329): 123, (865923, 1044866): 124, (535185, 1353930): 206, (57398, 1918616): 103, (263316, 1757110): 501, (263316, 6716701): 225, (1757110, 6716701): 171, (3409358, 22597719): 246, (995790, 10348048): 177, (995790, 196572): 152, (122367, 10387948): 453, (196572, 741230): 103, (60110, 1126774): 138, (10549318, 676902): 152, (10549318, 9029725): 156, (10549318, 4210142): 208, (37616863, 39750829): 102, (3400712, 8019235): 175, (3400712, 4962313): 543, (3400712, 710093): 110, (577990, 667687): 104, (14779991, 15733647): 137, (15733647, 24726369): 104, (23383, 25107): 102, (573551, 16652955): 775, (878357, 185369): 215, (878357, 918286): 143, (139028, 11058805): 117, (93165, 291621): 169, (93165, 435467): 116, (291621, 435467): 484, (291621, 533951): 443, (435467, 533951): 208, (2529660, 12135412): 1095, (5650746, 117297): 150, (267795, 479394): 426, (267795, 481671): 426, (479394, 481671): 469, (603432, 20897364): 118, (841899, 978202): 124, (9775, 136519): 284, (60119, 982022): 105, (333191, 422938): 145, (21592494, 21592518): 113, (26408273, 28776644): 152, (88425, 316127): 170, (88425, 448770): 330, (88425, 959040): 142, (316127, 448770): 175, (448770, 959040): 185, (840029, 7211630): 174, (840029, 1381866): 188, (840029, 244316): 143, (840029, 263085): 357, (90092, 851741): 305, (71059, 4154927): 111, (676902, 4210142): 128, (72157, 135807): 144, (11492221, 11492236): 158, (13993850, 18047559): 148, (310987, 9350662): 101, (854998, 8774227): 184, (854998, 3544): 142, (103348, 103350): 160, (103350, 103349): 221, (9892, 1209989): 558, (4039, 516143): 163, (4039, 11007): 142, (516143, 11007): 179, (111275, 1034737): 113, (111275, 1035314): 113, (19428, 19427): 204, (19428, 26034884): 232, (19428, 5224): 744, (19428, 26538): 347, (19428, 65173): 187, (19428, 13058): 372, (19428, 19468): 148, (1503, 22284930): 195, (14553, 101404): 181, (37370383, 38174536): 107, (1714759, 7592420): 173, (3300533, 3634928): 630, (251330, 29707): 145, (246297, 19871820): 151, (19427, 65173): 289, (628622, 32262961): 140, (250, 1181): 947, (250, 1346): 221, (3577172, 13334437): 256, (3577172, 133445): 691, (478191, 610605): 230, (478191, 685526): 104, (478191, 830169): 138, (478191, 478190): 494, (478191, 830170): 118, (478191, 830505): 189, (478191, 610604): 125, (610605, 685526): 320, (610605, 830169): 157, (610605, 830505): 343, (610605, 610604): 230, (610605, 830170): 140, (610605, 478190): 224, (685526, 830169): 103, (685526, 830505): 238, (685526, 478190): 106, (685526, 610604): 204, (830169, 830170): 214, (830169, 478190): 121, (4818, 1107997): 147, (20823027, 20861649): 102, (830505, 478444): 155, (830505, 610604): 195, (830505, 478190): 198, (791930, 898292): 138, (791930, 1567003): 346, (47585, 15740223): 253, (879136, 4531634): 335, (16652955, 30771818): 125, (16652955, 5805659): 158, (16652955, 17756655): 121, (28127997, 31741600): 119, (29655, 86478): 148, (29655, 300337): 124, (86478, 300337): 186, (777705, 777706): 118, (13007, 13009): 652, (13007, 23066): 135, (13007, 13001): 119, (13009, 23066): 109, (13009, 25481): 128, (13009, 13001): 109, (25679058, 27683620): 133, (27683620, 24137399): 182, (27683620, 25169004): 147, (713698, 3553487): 127, (245573, 862780): 323, (245573, 231713): 183, (4658589, 24726369): 138, (253298, 945109): 1361, (253298, 226658): 1611, (625992, 739806): 543, (625992, 96137): 223, (625992, 730108): 143, (625992, 266936): 144, (116694, 15234870): 166, (2056952, 33336763): 106, (22381, 554058): 257, (14892620, 15204756): 134, (3034556, 5405707): 721, (3034556, 207864): 364, (5405707, 207864): 194, (1751872, 1753756): 101, (257995, 259337): 330, (257995, 865333): 131, (259337, 865333): 144, (1139972, 5777582): 102, (10596, 13855): 132, (2415213, 3801086): 210, (280267, 745123): 127, (26034884, 5224): 222, (836577, 1692376): 402, (152669, 3810482): 1455, (1203598, 3055502): 101, (726837, 732558): 156, (101569, 125489): 1217, (101569, 111480): 921, (101569, 90): 1054, (101569, 602142): 305, (101569, 54469): 312, (125489, 54469): 107, (215082, 8618563): 140, (674905, 21425175): 106, (735785, 16106538): 108, (1014, 122978): 123, (1014, 88025): 119, (55310, 920907): 138, (55310, 1195851): 186, (114924, 284848): 120, (5358, 434477): 157, (5358, 1631): 122, (5358, 5558): 101, (5358, 273): 127, (5358, 1346): 156, (9605, 10148291): 148, (3535484, 10964740): 116, (3535484, 2280399): 109, (126708, 1343765): 263, (1343765, 910661): 103, (169604, 1831979): 222, (727554, 1045828): 301, (238887, 31708): 115, (1381866, 244316): 143, (240609, 266936): 830, (240609, 245434): 242, (240609, 96137): 238, (240609, 292226): 237, (266936, 245434): 1686, (266936, 292226): 2557, (266936, 303791): 448, (266936, 96137): 2286, (266936, 346534): 134, (266936, 226658): 106, (266936, 45172): 139, (266936, 313277): 665, (266936, 82165): 224, (1346, 15023): 135, (1346, 101319): 414, (1346, 21912): 125, (13058, 1081775): 161, (110280, 23327298): 248, (478190, 830170): 134, (478190, 610604): 128, (48863837, 49012288): 134, (14960, 20721): 248, (164274, 938142): 129, (65158, 65161): 220, (57897, 5744877): 165, (665301, 561021): 180, (29773, 29767): 106, (29773, 19796): 117, (739806, 11146): 127, (739806, 730108): 296, (739806, 96137): 153, (25509384, 26386865): 145, (245371, 569437): 118, (849104, 849110): 118, (849104, 849125): 119, (849110, 849125): 119, (13282672, 29102555): 105, (29102555, 17851389): 437, (245434, 292226): 389, (245434, 96137): 381, (157745, 31961110): 104, (157745, 4885): 203, (157745, 157746): 111, (157745, 157747): 128, (157745, 157749): 158, (157745, 236836): 156, (125641, 125642): 121, (5898413, 9406996): 123, (104657, 104740): 171, (104657, 105022): 492, (104657, 104950): 126, (104740, 105022): 207, (9437596, 26339525): 159, (96137, 292226): 523, (96137, 226658): 159, (96137, 313277): 117, (735670, 735672): 137, (982022, 1123472): 126, (34260715, 34719965): 168, (29767, 19796): 102, (2638986, 12170650): 111, (105286, 4909327): 120, (4793, 4794): 200, (4962313, 3542027): 102, (4962313, 4643976): 101, (24641646, 34935908): 325, (55309, 79416): 351, (55309, 1195851): 329, (25481, 28479): 160, (875471, 978202): 109, (22869309, 23210631): 101, (888799, 1516873): 106, (5052706, 20332791): 185, (499880, 5134018): 109, (4210142, 9029725): 186, (945109, 226658): 707, (1107228, 951227): 146, (6608881, 21735066): 156, (13438, 7892): 175, (65173, 19468): 248, (44862, 305630): 122, (105022, 104950): 125, (546017, 3579608): 211, (12482158, 21364713): 125, (12482158, 38094475): 113, (24137399, 25169004): 146, (37215, 774430): 162, (610202, 44703595): 121, (610202, 423082): 174, (133297, 529818): 117, (133297, 114941): 260, (133297, 2589): 125, (38990065, 41194441): 156, (1373381, 4023984): 154, (5074, 18512): 132, (79416, 1195851): 470, (51060, 5092984): 402, (24668544, 25221138): 164, (44221, 206001): 108, (13155, 1137044): 128, (16641228, 25547964): 258, (3542027, 4643976): 330, (7949, 36165): 670, (1195851, 920907): 138, (1195851, 6388046): 104, (591813, 293698): 141, (609777, 726253): 101, (292226, 313277): 242, (292226, 303791): 202, (722, 23954192): 159, (111480, 90): 810, (6891, 1346123): 469, (25224483, 26989442): 428, (157648, 4277030): 280, (252464, 726686): 114, (1109537, 6414848): 184, (1109537, 1109601): 127, (6414848, 1109601): 145, (346616, 1011718): 114, (9902, 132800): 221, (45495, 896134): 162, (910, 7473): 297, (116265, 850338): 271, (116265, 850340): 382, (116265, 850435): 114, (850338, 850340): 342, (3311150, 3362135): 163, (193315, 274053): 292, (110511, 254911): 152, (110511, 254909): 138, (2589, 114941): 344, (114941, 291048): 171, (114941, 255928): 206, (291048, 255928): 131}\n"
     ]
    }
   ],
   "source": [
    "nx.set_edge_attributes(G_ego, nx.get_edge_attributes(G_ego, 'count'), 'weight')\n",
    "\n",
    "# check: Get all weights in the graph\n",
    "# weights = nx.get_edge_attributes(G_ego, 'weight')\n",
    "# print(weights)"
   ]
  },
  {
   "cell_type": "code",
   "execution_count": 296,
   "metadata": {},
   "outputs": [],
   "source": [
    "def custom_distance(u, v, edge_data):\n",
    "    return edge_data['weight'] * 0.01"
   ]
  },
  {
   "cell_type": "markdown",
   "metadata": {},
   "source": [
    "## Choose fandom for ego"
   ]
  },
  {
   "cell_type": "code",
   "execution_count": 452,
   "metadata": {},
   "outputs": [
    {
     "data": {
      "text/html": [
       "<div>\n",
       "<style scoped>\n",
       "    .dataframe tbody tr th:only-of-type {\n",
       "        vertical-align: middle;\n",
       "    }\n",
       "\n",
       "    .dataframe tbody tr th {\n",
       "        vertical-align: top;\n",
       "    }\n",
       "\n",
       "    .dataframe thead th {\n",
       "        text-align: right;\n",
       "    }\n",
       "</style>\n",
       "<table border=\"1\" class=\"dataframe\">\n",
       "  <thead>\n",
       "    <tr style=\"text-align: right;\">\n",
       "      <th></th>\n",
       "      <th>id</th>\n",
       "      <th>name</th>\n",
       "      <th>cached_count</th>\n",
       "    </tr>\n",
       "  </thead>\n",
       "  <tbody>\n",
       "    <tr>\n",
       "      <th>423</th>\n",
       "      <td>758208</td>\n",
       "      <td>Haikyuu!!</td>\n",
       "      <td>130918</td>\n",
       "    </tr>\n",
       "    <tr>\n",
       "      <th>6720</th>\n",
       "      <td>915695</td>\n",
       "      <td>haikyuu</td>\n",
       "      <td>12852</td>\n",
       "    </tr>\n",
       "    <tr>\n",
       "      <th>423</th>\n",
       "      <td>11491600</td>\n",
       "      <td>ハイパープロジェクション演劇「ハイキュー!!」| Hyper Projection Play...</td>\n",
       "      <td>531</td>\n",
       "    </tr>\n",
       "  </tbody>\n",
       "</table>\n",
       "</div>"
      ],
      "text/plain": [
       "            id                                               name  \\\n",
       "423     758208                                          Haikyuu!!   \n",
       "6720    915695                                            haikyuu   \n",
       "423   11491600  ハイパープロジェクション演劇「ハイキュー!!」| Hyper Projection Play...   \n",
       "\n",
       "      cached_count  \n",
       "423         130918  \n",
       "6720         12852  \n",
       "423            531  "
      ]
     },
     "execution_count": 452,
     "metadata": {},
     "output_type": "execute_result"
    }
   ],
   "source": [
    "# find number\n",
    "# Find rows where 'column_name' contains the query substring\n",
    "query = \"Haikyuu\"\n",
    "results_1 = edgelist_df_small[edgelist_df_small['name_1'].str.contains(query, case=False, na=False)][['count', 'integer_1', 'name_1']].rename(columns={\"integer_1\": \"id\", \"name_1\": \"name\"})\n",
    "results_2 = edgelist_df_small[edgelist_df_small['name_2'].str.contains(query, case=False, na=False)][['count', 'integer_2', 'name_2']].rename(columns={\"integer_2\": \"id\", \"name_2\": \"name\"})\n",
    "\n",
    "results = pd.concat([results_1, results_2], axis=0)\n",
    "results = results.drop_duplicates(subset='id').drop(columns=['count'])\n",
    "results['cached_count'] = results['id'].map(id_cached_count_mapping)\n",
    "\n",
    "results.sort_values(by='cached_count', ascending=False)\n"
   ]
  },
  {
   "cell_type": "markdown",
   "metadata": {},
   "source": [
    "### MCU"
   ]
  },
  {
   "cell_type": "code",
   "execution_count": 457,
   "metadata": {},
   "outputs": [],
   "source": [
    "ego_fandom = 414093\n",
    "ego_graph = nx.ego_graph(G_ego, ego_fandom, radius=2, distance=custom_distance)\n",
    "degrees_ego = dict(nx.degree(G_ego))"
   ]
  },
  {
   "cell_type": "markdown",
   "metadata": {},
   "source": [
    "Aim to display about 40-60 nodes"
   ]
  },
  {
   "cell_type": "code",
   "execution_count": 458,
   "metadata": {},
   "outputs": [
    {
     "name": "stdout",
     "output_type": "stream",
     "text": [
      "Number of nodes in ego graph: 46\n",
      "Number of edges in ego graph: 59\n"
     ]
    }
   ],
   "source": [
    "# Check the number of nodes and edges\n",
    "print(f\"Number of nodes in ego graph: {ego_graph.number_of_nodes()}\")\n",
    "print(f\"Number of edges in ego graph: {ego_graph.number_of_edges()}\")"
   ]
  },
  {
   "cell_type": "code",
   "execution_count": 460,
   "metadata": {},
   "outputs": [
    {
     "data": {
      "text/html": [
       "\n",
       "  <div id=\"ea7d7c42-5e99-4ca3-88ea-9f99a9b0c775\" data-root-id=\"p19439\" style=\"display: contents;\"></div>\n"
      ]
     },
     "metadata": {},
     "output_type": "display_data"
    },
    {
     "data": {
      "application/javascript": "(function(root) {\n  function embed_document(root) {\n  const docs_json = {\"236e95a2-720d-4ec6-8a7f-b785c0962078\":{\"version\":\"3.4.1\",\"title\":\"Bokeh Application\",\"roots\":[{\"type\":\"object\",\"name\":\"Figure\",\"id\":\"p19439\",\"attributes\":{\"x_range\":{\"type\":\"object\",\"name\":\"Range1d\",\"id\":\"p19437\",\"attributes\":{\"start\":-3.5,\"end\":3.5}},\"y_range\":{\"type\":\"object\",\"name\":\"Range1d\",\"id\":\"p19438\",\"attributes\":{\"start\":-3.5,\"end\":3.5}},\"x_scale\":{\"type\":\"object\",\"name\":\"LinearScale\",\"id\":\"p19449\"},\"y_scale\":{\"type\":\"object\",\"name\":\"LinearScale\",\"id\":\"p19450\"},\"title\":{\"type\":\"object\",\"name\":\"Title\",\"id\":\"p19442\",\"attributes\":{\"text\":\"Ego Network of Marvel Cinematic Universe\"}},\"renderers\":[{\"type\":\"object\",\"name\":\"GraphRenderer\",\"id\":\"p19473\",\"attributes\":{\"layout_provider\":{\"type\":\"object\",\"name\":\"StaticLayoutProvider\",\"id\":\"p19490\",\"attributes\":{\"graph_layout\":{\"type\":\"map\",\"entries\":[[730115,{\"type\":\"ndarray\",\"array\":{\"type\":\"bytes\",\"data\":\"tbjq6Gep778EI3yvLcoBwA==\"},\"shape\":[2],\"dtype\":\"float64\",\"order\":\"little\"}],[2692,{\"type\":\"ndarray\",\"array\":{\"type\":\"bytes\",\"data\":\"j+6UKnuW3L9g8Byl2vT2vw==\"},\"shape\":[2],\"dtype\":\"float64\",\"order\":\"little\"}],[31108,{\"type\":\"ndarray\",\"array\":{\"type\":\"bytes\",\"data\":\"HBT4fvuE8T9jRXJ/VQ3evw==\"},\"shape\":[2],\"dtype\":\"float64\",\"order\":\"little\"}],[21258,{\"type\":\"ndarray\",\"array\":{\"type\":\"bytes\",\"data\":\"pH9CiHegAEBPrAM0dlrxvw==\"},\"shape\":[2],\"dtype\":\"float64\",\"order\":\"little\"}],[5148298,{\"type\":\"ndarray\",\"array\":{\"type\":\"bytes\",\"data\":\"ZwstB+0Q9b+6u+dHvKzoPw==\"},\"shape\":[2],\"dtype\":\"float64\",\"order\":\"little\"}],[414093,[0,0]],[82576,{\"type\":\"ndarray\",\"array\":{\"type\":\"bytes\",\"data\":\"lILOmqjHz7/youMH0iICQA==\"},\"shape\":[2],\"dtype\":\"float64\",\"order\":\"little\"}],[453786,{\"type\":\"ndarray\",\"array\":{\"type\":\"bytes\",\"data\":\"N4RUiljR8D+S/bTRxcIEwA==\"},\"shape\":[2],\"dtype\":\"float64\",\"order\":\"little\"}],[428957,{\"type\":\"ndarray\",\"array\":{\"type\":\"bytes\",\"data\":\"vrUAs5BgAcBoxSm2le76vw==\"},\"shape\":[2],\"dtype\":\"float64\",\"order\":\"little\"}],[242462,{\"type\":\"ndarray\",\"array\":{\"type\":\"bytes\",\"data\":\"Du+23eHj4T94KwSuzzDyvw==\"},\"shape\":[2],\"dtype\":\"float64\",\"order\":\"little\"}],[513824,{\"type\":\"ndarray\",\"array\":{\"type\":\"bytes\",\"data\":\"CjvRC1njBcD+MU3Esr3uPw==\"},\"shape\":[2],\"dtype\":\"float64\",\"order\":\"little\"}],[3828398,{\"type\":\"ndarray\",\"array\":{\"type\":\"bytes\",\"data\":\"mEftOWTw8j4kD1OStqP8vw==\"},\"shape\":[2],\"dtype\":\"float64\",\"order\":\"little\"}],[13999,{\"type\":\"ndarray\",\"array\":{\"type\":\"bytes\",\"data\":\"uTs4E8wWvj/deEpMt4EBwA==\"},\"shape\":[2],\"dtype\":\"float64\",\"order\":\"little\"}],[7367603,{\"type\":\"ndarray\",\"array\":{\"type\":\"bytes\",\"data\":\"gq3xHT7m/j87t5xiRmD1Pw==\"},\"shape\":[2],\"dtype\":\"float64\",\"order\":\"little\"}],[27945909,{\"type\":\"ndarray\",\"array\":{\"type\":\"bytes\",\"data\":\"9DI1YoYfA0BnVqBGZ3TwPw==\"},\"shape\":[2],\"dtype\":\"float64\",\"order\":\"little\"}],[951,{\"type\":\"ndarray\",\"array\":{\"type\":\"bytes\",\"data\":\"dSl+c6EF67+/kmNm5YMGQA==\"},\"shape\":[2],\"dtype\":\"float64\",\"order\":\"little\"}],[741433,{\"type\":\"ndarray\",\"array\":{\"type\":\"bytes\",\"data\":\"bQ0NcQqDBkCdGqnJqgfZvw==\"},\"shape\":[2],\"dtype\":\"float64\",\"order\":\"little\"}],[245434,{\"type\":\"ndarray\",\"array\":{\"type\":\"bytes\",\"data\":\"88RgwCBc+z8OaSurOBvgPw==\"},\"shape\":[2],\"dtype\":\"float64\",\"order\":\"little\"}],[313277,{\"type\":\"ndarray\",\"array\":{\"type\":\"bytes\",\"data\":\"a93FLmtPB0AccjJvEinfPw==\"},\"shape\":[2],\"dtype\":\"float64\",\"order\":\"little\"}],[2282814,{\"type\":\"ndarray\",\"array\":{\"type\":\"bytes\",\"data\":\"fWZkGl5J979kA5DgCY/uPw==\"},\"shape\":[2],\"dtype\":\"float64\",\"order\":\"little\"}],[232768,{\"type\":\"ndarray\",\"array\":{\"type\":\"bytes\",\"data\":\"jRNwiXX/+7/Y0zsc1A/gvw==\"},\"shape\":[2],\"dtype\":\"float64\",\"order\":\"little\"}],[1346,{\"type\":\"ndarray\",\"array\":{\"type\":\"bytes\",\"data\":\"LNnN1p1z9L/RnvxGGXwAQA==\"},\"shape\":[2],\"dtype\":\"float64\",\"order\":\"little\"}],[582724,{\"type\":\"ndarray\",\"array\":{\"type\":\"bytes\",\"data\":\"cX+lCa1c3L9sZHgPH/YFwA==\"},\"shape\":[2],\"dtype\":\"float64\",\"order\":\"little\"}],[70,{\"type\":\"ndarray\",\"array\":{\"type\":\"bytes\",\"data\":\"+N0+kZLz9L+zBID2RNIDQA==\"},\"shape\":[2],\"dtype\":\"float64\",\"order\":\"little\"}],[8114503,{\"type\":\"ndarray\",\"array\":{\"type\":\"bytes\",\"data\":\"AAAAAAAACMCaFmB7dvDlvw==\"},\"shape\":[2],\"dtype\":\"float64\",\"order\":\"little\"}],[601802,{\"type\":\"ndarray\",\"array\":{\"type\":\"bytes\",\"data\":\"pgUja9T70T9sK1hhDigFQA==\"},\"shape\":[2],\"dtype\":\"float64\",\"order\":\"little\"}],[203,{\"type\":\"ndarray\",\"array\":{\"type\":\"bytes\",\"data\":\"62x+1rf97r934pKT/sr7Pw==\"},\"shape\":[2],\"dtype\":\"float64\",\"order\":\"little\"}],[8374741,{\"type\":\"ndarray\",\"array\":{\"type\":\"bytes\",\"data\":\"gyoxukfQAMAqZ4vERK3ePw==\"},\"shape\":[2],\"dtype\":\"float64\",\"order\":\"little\"}],[141656,{\"type\":\"ndarray\",\"array\":{\"type\":\"bytes\",\"data\":\"qp2Bi16Q9T/snLO5yKL4vw==\"},\"shape\":[2],\"dtype\":\"float64\",\"order\":\"little\"}],[4210142,{\"type\":\"ndarray\",\"array\":{\"type\":\"bytes\",\"data\":\"40atM6aD8L83R+miuknQvw==\"},\"shape\":[2],\"dtype\":\"float64\",\"order\":\"little\"}],[30815,{\"type\":\"ndarray\",\"array\":{\"type\":\"bytes\",\"data\":\"+HO2qp7AxL+v++0Zcur6Pw==\"},\"shape\":[2],\"dtype\":\"float64\",\"order\":\"little\"}],[379999,{\"type\":\"ndarray\",\"array\":{\"type\":\"bytes\",\"data\":\"VEIPuUXL+b+XmDbG4gv+vw==\"},\"shape\":[2],\"dtype\":\"float64\",\"order\":\"little\"}],[13154,{\"type\":\"ndarray\",\"array\":{\"type\":\"bytes\",\"data\":\"HlOhkCaDAMBUzImoDKb5Pw==\"},\"shape\":[2],\"dtype\":\"float64\",\"order\":\"little\"}],[432483,{\"type\":\"ndarray\",\"array\":{\"type\":\"bytes\",\"data\":\"i+uYk8kh/j83b8Xws9oBwA==\"},\"shape\":[2],\"dtype\":\"float64\",\"order\":\"little\"}],[213477,{\"type\":\"ndarray\",\"array\":{\"type\":\"bytes\",\"data\":\"ScTXyNOV9j+u1pef6JQCQA==\"},\"shape\":[2],\"dtype\":\"float64\",\"order\":\"little\"}],[1719400,{\"type\":\"ndarray\",\"array\":{\"type\":\"bytes\",\"data\":\"SqNTdEow9b+bTVZlqM/0vw==\"},\"shape\":[2],\"dtype\":\"float64\",\"order\":\"little\"}],[777705,{\"type\":\"ndarray\",\"array\":{\"type\":\"bytes\",\"data\":\"uPomSrbAA8BRPGm5ezqOvw==\"},\"shape\":[2],\"dtype\":\"float64\",\"order\":\"little\"}],[138219,{\"type\":\"ndarray\",\"array\":{\"type\":\"bytes\",\"data\":\"1ZZSn5B89T9T64qyWdztvw==\"},\"shape\":[2],\"dtype\":\"float64\",\"order\":\"little\"}],[1530988,{\"type\":\"ndarray\",\"array\":{\"type\":\"bytes\",\"data\":\"Xk6ZY0GUBkCPFXMRPcf0vw==\"},\"shape\":[2],\"dtype\":\"float64\",\"order\":\"little\"}],[3549548,{\"type\":\"ndarray\",\"array\":{\"type\":\"bytes\",\"data\":\"vFC859mQ4z/nUjLmYzkBQA==\"},\"shape\":[2],\"dtype\":\"float64\",\"order\":\"little\"}],[987117,{\"type\":\"ndarray\",\"array\":{\"type\":\"bytes\",\"data\":\"wjhvBsxX/T+hpqQvaQmTvw==\"},\"shape\":[2],\"dtype\":\"float64\",\"order\":\"little\"}],[567409,{\"type\":\"ndarray\",\"array\":{\"type\":\"bytes\",\"data\":\"RePPHryf5D8TlbFbAlD3Pw==\"},\"shape\":[2],\"dtype\":\"float64\",\"order\":\"little\"}],[253298,{\"type\":\"ndarray\",\"array\":{\"type\":\"bytes\",\"data\":\"4lv+bdXq9D8if3RFAGT6Pw==\"},\"shape\":[2],\"dtype\":\"float64\",\"order\":\"little\"}],[957299,{\"type\":\"ndarray\",\"array\":{\"type\":\"bytes\",\"data\":\"9sgYWODE2D9hj5IzXzEHwA==\"},\"shape\":[2],\"dtype\":\"float64\",\"order\":\"little\"}],[498940,{\"type\":\"ndarray\",\"array\":{\"type\":\"bytes\",\"data\":\"jptVJVYxAcAbM+GHmDjxvw==\"},\"shape\":[2],\"dtype\":\"float64\",\"order\":\"little\"}],[1079805,{\"type\":\"ndarray\",\"array\":{\"type\":\"bytes\",\"data\":\"XwQ9Ry5o9D+UJJOHqvvuPw==\"},\"shape\":[2],\"dtype\":\"float64\",\"order\":\"little\"}]]}}},\"node_renderer\":{\"type\":\"object\",\"name\":\"GlyphRenderer\",\"id\":\"p19478\",\"attributes\":{\"data_source\":{\"type\":\"object\",\"name\":\"ColumnDataSource\",\"id\":\"p19475\",\"attributes\":{\"selected\":{\"type\":\"object\",\"name\":\"Selection\",\"id\":\"p19476\",\"attributes\":{\"indices\":[],\"line_indices\":[]}},\"selection_policy\":{\"type\":\"object\",\"name\":\"UnionRenderers\",\"id\":\"p19477\"},\"data\":{\"type\":\"map\",\"entries\":[[\"adjusted_cached_count\",[5.517452896464707,11.570826380865066,7.485491608030754,7.9211727215870145,10.544525316297522,12.390629202848693,10.140849541087894,6.366470447731438,5.497168225293202,10.909417871295242,6.583409222158765,12.22635065001279,11.562753185929502,7.64826303090192,5.123963979403259,10.333027196085467,9.540650806483587,8.31238059678675,7.138866999945524,10.204073510592933,11.007336107999484,10.232179601838379,10.931248100232287,10.537150086261182,9.397400683117311,10.422430144404066,9.89495122151384,6.645090969505644,7.061334366910438,7.316548177182976,8.20166019080868,10.870186186954129,10.771428023469236,6.97166860472579,6.359573868672378,6.61338421837956,6.274762021241939,7.411556287811163,5.25227342804663,5.780743515792329,6.912742820493176,5.568344503761097,9.60393530751386,6.659293919683638,5.834810737062605,6.911747300251674]],[\"fandom\",[\"The Incredible Hulk (Comics)\",\"Original Work\",\"Spider-Man (Comicverse)\",\"Young Avengers\",\"Supergirl (TV 2015)\",\"Marvel Cinematic Universe\",\"Batman (Comics)\",\"Ultimate Spider-Man (Cartoon)\",\"Winter Soldier - Fandom\",\"Game of Thrones (TV)\",\"Political Animals\",\"\\u50d5\\u306e\\u30d2\\u30fc\\u30ed\\u30fc\\u30a2\\u30ab\\u30c7\\u30df\\u30a2 | Boku no Hero Academia | My Hero Academia\",\"Naruto\",\"DC Extended Universe\",\"Avengers: Endgame - Fandom\",\"NCIS\",\"The Lord of the Rings - All Media Types\",\"Thor (2011)\",\"Avengers (Marvel) - All Media Types\",\"The Flash (TV 2014)\",\"Merlin (TV)\",\"Buffy the Vampire Slayer\",\"Miraculous Ladybug\",\"Stargate Atlantis\",\"Lucifer (TV)\",\"Star Trek: Alternate Original Series (Movies)\",\"Torchwood\",\"Avengers Academy (Video Game)\",\"Thor - Fandom\",\"DC Cinematic Universe\",\"Batman (Movies - Nolan)\",\"Once Upon a Time (TV)\",\"Glee\",\"Venom (Comics)\",\"Avengers: Earth's Mightiest Heroes\",\"Sebastian Stan - Fandom\",\"Guardians of the Galaxy (Comics)\",\"Deadpool (Comics)\",\"the winter soldier - Fandom\",\"Fantastic Four (Movies 2005-2007)\",\"Avengers Assemble (Cartoon)\",\"Black Panther (Comics)\",\"X-Men: First Class (2011) - Fandom\",\"Chris Evans - Fandom\",\"Steve Rogers - Fandom\",\"Young Avengers (Comics)\"]],[\"adjusted_node_size\",[0.2,3.0,1.2,0.6,1.7,12.8,5.3,0.1,0.2,0.8,0.2,2.9,2.2,0.9,0.1,1.3,1.1,0.8,0.4,1.5,1.2,2.0,0.8,1.1,0.5,1.3,1.1,0.3,0.6,1.0,0.9,0.9,0.9,0.5,0.3,0.1,0.5,1.1,0.1,0.1,0.4,0.2,0.7,0.1,0.5,0.5]],[\"degree\",[2,30,12,6,17,128,53,1,2,8,2,29,22,9,1,13,11,8,4,15,12,20,8,11,5,13,11,3,6,10,9,9,9,5,3,1,5,11,1,1,4,2,7,1,5,5]],[\"cached_count\",[248,105960,1781,2754,37968,240536,25357,581,243,54688,722,204096,105108,2096,167,30730,13913,4073,1259,27012,60314,27782,55895,37689,12056,33604,19829,768,1165,1504,3646,52584,47639,1065,577,744,530,1654,190,323,1004,261,14822,779,341,1003]],[\"index\",[730115,2692,31108,21258,5148298,414093,82576,453786,428957,242462,513824,3828398,13999,7367603,27945909,951,741433,245434,313277,2282814,232768,1346,582724,70,8114503,601802,203,8374741,141656,4210142,30815,379999,13154,432483,213477,1719400,777705,138219,1530988,3549548,987117,567409,253298,957299,498940,1079805]]]}}},\"view\":{\"type\":\"object\",\"name\":\"CDSView\",\"id\":\"p19479\",\"attributes\":{\"filter\":{\"type\":\"object\",\"name\":\"AllIndices\",\"id\":\"p19480\"}}},\"glyph\":{\"type\":\"object\",\"name\":\"Circle\",\"id\":\"p19492\",\"attributes\":{\"radius\":{\"type\":\"value\",\"value\":0.3},\"fill_color\":{\"type\":\"field\",\"field\":\"adjusted_cached_count\",\"transform\":{\"type\":\"object\",\"name\":\"LinearColorMapper\",\"id\":\"p19491\",\"attributes\":{\"palette\":[\"#99000d\",\"#cb181d\",\"#ef3b2c\",\"#fb6a4a\",\"#fc9272\",\"#fcbba1\",\"#fee0d2\",\"#fff5f0\"],\"low\":12.390629202848693,\"high\":5.123963979403259}}},\"fill_alpha\":{\"type\":\"value\",\"value\":0.7}}}}},\"edge_renderer\":{\"type\":\"object\",\"name\":\"GlyphRenderer\",\"id\":\"p19485\",\"attributes\":{\"data_source\":{\"type\":\"object\",\"name\":\"ColumnDataSource\",\"id\":\"p19482\",\"attributes\":{\"selected\":{\"type\":\"object\",\"name\":\"Selection\",\"id\":\"p19483\",\"attributes\":{\"indices\":[],\"line_indices\":[]}},\"selection_policy\":{\"type\":\"object\",\"name\":\"UnionRenderers\",\"id\":\"p19484\"},\"data\":{\"type\":\"map\",\"entries\":[[\"count\",[129,130,181,164,299,173,129,1422,185,143,150,130,106,178,128,104,102,130,142,186,116,102,128,103,108,187,117,199,101,121,123,140,179,149,124,108,176,147,124,166,114,126,119,101,161,158,145,109,110,379,547,102,211,135,254,137,115,194,114]],[\"weight\",[129,130,181,164,299,173,129,1422,185,143,150,130,106,178,128,104,102,130,142,186,116,102,128,103,108,187,117,199,101,121,123,140,179,149,124,108,176,147,124,166,114,126,119,101,161,158,145,109,110,379,547,102,211,135,254,137,115,194,114]],[\"start\",[730115,2692,2692,2692,31108,31108,21258,5148298,5148298,414093,414093,414093,414093,414093,414093,414093,414093,414093,414093,414093,414093,414093,414093,414093,414093,414093,414093,414093,414093,414093,414093,414093,414093,414093,414093,414093,414093,414093,414093,414093,414093,414093,414093,414093,414093,414093,414093,414093,414093,82576,3828398,3828398,951,951,2282814,1346,1346,1346,70]],[\"end\",[414093,13999,3828398,414093,138219,414093,414093,2282814,414093,7367603,379999,498940,582724,1079805,8374741,432483,82576,1719400,3549548,3828398,957299,8114503,601802,951,70,242462,567409,987117,1530988,13999,428957,203,2282814,232768,213477,741433,141656,30815,27945909,138219,13154,245434,777705,513824,4210142,1346,253298,453786,313277,30815,13999,582724,70,1346,13154,70,13154,203,203]]]}}},\"view\":{\"type\":\"object\",\"name\":\"CDSView\",\"id\":\"p19486\",\"attributes\":{\"filter\":{\"type\":\"object\",\"name\":\"AllIndices\",\"id\":\"p19487\"}}},\"glyph\":{\"type\":\"object\",\"name\":\"MultiLine\",\"id\":\"p19493\"}}},\"selection_policy\":{\"type\":\"object\",\"name\":\"NodesOnly\",\"id\":\"p19488\"},\"inspection_policy\":{\"type\":\"object\",\"name\":\"NodesOnly\",\"id\":\"p19489\"}}}],\"toolbar\":{\"type\":\"object\",\"name\":\"Toolbar\",\"id\":\"p19448\",\"attributes\":{\"tools\":[{\"type\":\"object\",\"name\":\"PanTool\",\"id\":\"p19461\"},{\"type\":\"object\",\"name\":\"WheelZoomTool\",\"id\":\"p19462\",\"attributes\":{\"renderers\":\"auto\"}},{\"type\":\"object\",\"name\":\"BoxZoomTool\",\"id\":\"p19463\",\"attributes\":{\"overlay\":{\"type\":\"object\",\"name\":\"BoxAnnotation\",\"id\":\"p19464\",\"attributes\":{\"syncable\":false,\"level\":\"overlay\",\"visible\":false,\"left\":{\"type\":\"number\",\"value\":\"nan\"},\"right\":{\"type\":\"number\",\"value\":\"nan\"},\"top\":{\"type\":\"number\",\"value\":\"nan\"},\"bottom\":{\"type\":\"number\",\"value\":\"nan\"},\"left_units\":\"canvas\",\"right_units\":\"canvas\",\"top_units\":\"canvas\",\"bottom_units\":\"canvas\",\"line_color\":\"black\",\"line_alpha\":1.0,\"line_width\":2,\"line_dash\":[4,4],\"fill_color\":\"lightgrey\",\"fill_alpha\":0.5}}}},{\"type\":\"object\",\"name\":\"SaveTool\",\"id\":\"p19469\"},{\"type\":\"object\",\"name\":\"ResetTool\",\"id\":\"p19470\"},{\"type\":\"object\",\"name\":\"HelpTool\",\"id\":\"p19471\"},{\"type\":\"object\",\"name\":\"HoverTool\",\"id\":\"p19472\",\"attributes\":{\"renderers\":\"auto\",\"tooltips\":[[\"Fandom\",\"@fandom\"],[\"Degree\",\"@degree\"],[\"Count\",\"@cached_count\"]]}}]}},\"left\":[{\"type\":\"object\",\"name\":\"LinearAxis\",\"id\":\"p19456\",\"attributes\":{\"ticker\":{\"type\":\"object\",\"name\":\"BasicTicker\",\"id\":\"p19457\",\"attributes\":{\"mantissas\":[1,2,5]}},\"formatter\":{\"type\":\"object\",\"name\":\"BasicTickFormatter\",\"id\":\"p19458\"},\"major_label_policy\":{\"type\":\"object\",\"name\":\"AllLabels\",\"id\":\"p19459\"}}}],\"below\":[{\"type\":\"object\",\"name\":\"LinearAxis\",\"id\":\"p19451\",\"attributes\":{\"ticker\":{\"type\":\"object\",\"name\":\"BasicTicker\",\"id\":\"p19452\",\"attributes\":{\"mantissas\":[1,2,5]}},\"formatter\":{\"type\":\"object\",\"name\":\"BasicTickFormatter\",\"id\":\"p19453\"},\"major_label_policy\":{\"type\":\"object\",\"name\":\"AllLabels\",\"id\":\"p19454\"}}}],\"center\":[{\"type\":\"object\",\"name\":\"Grid\",\"id\":\"p19455\",\"attributes\":{\"axis\":{\"id\":\"p19451\"}}},{\"type\":\"object\",\"name\":\"Grid\",\"id\":\"p19460\",\"attributes\":{\"dimension\":1,\"axis\":{\"id\":\"p19456\"}}}]}}]}};\n  const render_items = [{\"docid\":\"236e95a2-720d-4ec6-8a7f-b785c0962078\",\"roots\":{\"p19439\":\"ea7d7c42-5e99-4ca3-88ea-9f99a9b0c775\"},\"root_ids\":[\"p19439\"]}];\n  void root.Bokeh.embed.embed_items_notebook(docs_json, render_items);\n  }\n  if (root.Bokeh !== undefined) {\n    embed_document(root);\n  } else {\n    let attempts = 0;\n    const timer = setInterval(function(root) {\n      if (root.Bokeh !== undefined) {\n        clearInterval(timer);\n        embed_document(root);\n      } else {\n        attempts++;\n        if (attempts > 100) {\n          clearInterval(timer);\n          console.log(\"Bokeh: ERROR: Unable to run BokehJS code because BokehJS library is missing\");\n        }\n      }\n    }, 10, root)\n  }\n})(window);",
      "application/vnd.bokehjs_exec.v0+json": ""
     },
     "metadata": {
      "application/vnd.bokehjs_exec.v0+json": {
       "id": "p19439"
      }
     },
     "output_type": "display_data"
    }
   ],
   "source": [
    "#Choose a title!\n",
    "title = 'Ego Network of ' + edgelist_df_small[edgelist_df_small['integer_1'] == ego_fandom]['name_1'].iloc[0]\n",
    "\n",
    "#Create a plot — set dimensions, toolbar, and title\n",
    "plot_ego = figure(tooltips = HOVER_TOOLTIPS,\n",
    "              # tools=\"pan,wheel_zoom,save,reset\", active_scroll='wheel_zoom',\n",
    "            x_range=Range1d(-3.5, 3.5), y_range=Range1d(-3.5, 3.5), title=title)\n",
    "\n",
    "# Define the layout\n",
    "pos_ego = nx.spring_layout(ego_graph, scale=3, center=(0, 0))\n",
    "pos_ego[ego_fandom] = (0, 0)\n",
    "\n",
    "# Convert the NetworkX graph to a Bokeh graph\n",
    "graph_ego = from_networkx(ego_graph, pos_ego)\n",
    "\n",
    "#Set node sizes and colors according to node degree (color as spectrum of color palette)\n",
    "minimum_value_color_ego = min(graph_ego.node_renderer.data_source.data[color_by_this_attribute])\n",
    "maximum_value_color_ego = max(graph_ego.node_renderer.data_source.data[color_by_this_attribute])\n",
    "color_map = linear_cmap(color_by_this_attribute, color_palette, maximum_value_color_ego, minimum_value_color_ego)\n",
    "# node_colors = ['blue' if node == ego_fandom else color_map[degrees_ego[node]] for node in ego_graph.nodes()]\n",
    "\n",
    "graph_ego.node_renderer.glyph = Circle(radius=0.3, fill_color=color_map, fill_alpha=0.7)\n",
    "graph_ego.edge_renderer.glyph = MultiLine(line_alpha=1, line_width=1, line_color=\"black\")\n",
    "\n",
    "plot_ego.renderers.append(graph_ego)\n",
    "\n",
    "show(plot_ego)"
   ]
  },
  {
   "cell_type": "markdown",
   "metadata": {},
   "source": [
    "### Harry Potter"
   ]
  },
  {
   "cell_type": "code",
   "execution_count": 453,
   "metadata": {},
   "outputs": [
    {
     "name": "stdout",
     "output_type": "stream",
     "text": [
      "Number of nodes in ego graph: 51\n",
      "Number of edges in ego graph: 78\n"
     ]
    }
   ],
   "source": [
    "ego_fandom = 136512\n",
    "ego_graph = nx.ego_graph(G_ego, ego_fandom, radius=2, distance=custom_distance)\n",
    "\n",
    "# Check the number of nodes and edges\n",
    "print(f\"Number of nodes in ego graph: {ego_graph.number_of_nodes()}\")\n",
    "print(f\"Number of edges in ego graph: {ego_graph.number_of_edges()}\")"
   ]
  },
  {
   "cell_type": "code",
   "execution_count": 454,
   "metadata": {},
   "outputs": [
    {
     "data": {
      "text/html": [
       "\n",
       "  <div id=\"a324a736-fd21-4b30-9eed-6e6c1d14e376\" data-root-id=\"p19244\" style=\"display: contents;\"></div>\n"
      ]
     },
     "metadata": {},
     "output_type": "display_data"
    },
    {
     "data": {
      "application/javascript": "(function(root) {\n  function embed_document(root) {\n  const docs_json = {\"1001703f-19a0-42c6-aff4-b685eae824d6\":{\"version\":\"3.4.1\",\"title\":\"Bokeh Application\",\"roots\":[{\"type\":\"object\",\"name\":\"Figure\",\"id\":\"p19244\",\"attributes\":{\"x_range\":{\"type\":\"object\",\"name\":\"Range1d\",\"id\":\"p19242\",\"attributes\":{\"start\":-3.5,\"end\":3.5}},\"y_range\":{\"type\":\"object\",\"name\":\"Range1d\",\"id\":\"p19243\",\"attributes\":{\"start\":-3.5,\"end\":3.5}},\"x_scale\":{\"type\":\"object\",\"name\":\"LinearScale\",\"id\":\"p19254\"},\"y_scale\":{\"type\":\"object\",\"name\":\"LinearScale\",\"id\":\"p19255\"},\"title\":{\"type\":\"object\",\"name\":\"Title\",\"id\":\"p19247\",\"attributes\":{\"text\":\"Ego Network of Harry Potter - J. K. Rowling\"}},\"renderers\":[{\"type\":\"object\",\"name\":\"GraphRenderer\",\"id\":\"p19271\",\"attributes\":{\"layout_provider\":{\"type\":\"object\",\"name\":\"StaticLayoutProvider\",\"id\":\"p19288\",\"attributes\":{\"graph_layout\":{\"type\":\"map\",\"entries\":[[13184,{\"type\":\"ndarray\",\"array\":{\"type\":\"bytes\",\"data\":\"38nbz/x/AkBwXV5lOM+8vw==\"},\"shape\":[2],\"dtype\":\"float64\",\"order\":\"little\"}],[390,{\"type\":\"ndarray\",\"array\":{\"type\":\"bytes\",\"data\":\"vILD9SlW+b9TvvGS4Nz5vw==\"},\"shape\":[2],\"dtype\":\"float64\",\"order\":\"little\"}],[22073991,{\"type\":\"ndarray\",\"array\":{\"type\":\"bytes\",\"data\":\"GDSLpgFrAkDzbXY16vD2Pw==\"},\"shape\":[2],\"dtype\":\"float64\",\"order\":\"little\"}],[1801,{\"type\":\"ndarray\",\"array\":{\"type\":\"bytes\",\"data\":\"PzOlt7qU8T//tKeHkzT+Pw==\"},\"shape\":[2],\"dtype\":\"float64\",\"order\":\"little\"}],[5148298,{\"type\":\"ndarray\",\"array\":{\"type\":\"bytes\",\"data\":\"VOaosHyLAsBZqkdEL2X3vw==\"},\"shape\":[2],\"dtype\":\"float64\",\"order\":\"little\"}],[587792,{\"type\":\"ndarray\",\"array\":{\"type\":\"bytes\",\"data\":\"WxCVaTmoAMCI8MoZ08f1vw==\"},\"shape\":[2],\"dtype\":\"float64\",\"order\":\"little\"}],[721553,{\"type\":\"ndarray\",\"array\":{\"type\":\"bytes\",\"data\":\"T2e8O4Ze6b+YTdgWiNb0Pw==\"},\"shape\":[2],\"dtype\":\"float64\",\"order\":\"little\"}],[448284,{\"type\":\"ndarray\",\"array\":{\"type\":\"bytes\",\"data\":\"gqKVE0Ox6b9J0w1eI4Dcvw==\"},\"shape\":[2],\"dtype\":\"float64\",\"order\":\"little\"}],[131997,{\"type\":\"ndarray\",\"array\":{\"type\":\"bytes\",\"data\":\"AHy/8AwVvj/2x5t3ON4FwA==\"},\"shape\":[2],\"dtype\":\"float64\",\"order\":\"little\"}],[14621,{\"type\":\"ndarray\",\"array\":{\"type\":\"bytes\",\"data\":\"YsfX98nY4z/kvfdFzjgGQA==\"},\"shape\":[2],\"dtype\":\"float64\",\"order\":\"little\"}],[11444638,{\"type\":\"ndarray\",\"array\":{\"type\":\"bytes\",\"data\":\"SplwbzaI/L+O2sKsU0n2Pw==\"},\"shape\":[2],\"dtype\":\"float64\",\"order\":\"little\"}],[6856609,{\"type\":\"ndarray\",\"array\":{\"type\":\"bytes\",\"data\":\"uI+QN5cZ+7+tQBSHKgUBQA==\"},\"shape\":[2],\"dtype\":\"float64\",\"order\":\"little\"}],[205859,{\"type\":\"ndarray\",\"array\":{\"type\":\"bytes\",\"data\":\"nuC84YpO/D+2oHWsCFLtPw==\"},\"shape\":[2],\"dtype\":\"float64\",\"order\":\"little\"}],[9892,{\"type\":\"ndarray\",\"array\":{\"type\":\"bytes\",\"data\":\"a/Jkqo9m+j8I5NaB5ZL5vw==\"},\"shape\":[2],\"dtype\":\"float64\",\"order\":\"little\"}],[934,{\"type\":\"ndarray\",\"array\":{\"type\":\"bytes\",\"data\":\"OsPnSnWEqL/TqIDbQb8DQA==\"},\"shape\":[2],\"dtype\":\"float64\",\"order\":\"little\"}],[969647,{\"type\":\"ndarray\",\"array\":{\"type\":\"bytes\",\"data\":\"7VH/tjn6+r/xbkILJWz7vw==\"},\"shape\":[2],\"dtype\":\"float64\",\"order\":\"little\"}],[223664,{\"type\":\"ndarray\",\"array\":{\"type\":\"bytes\",\"data\":\"buAPXzL96T+kkmLVxCUAwA==\"},\"shape\":[2],\"dtype\":\"float64\",\"order\":\"little\"}],[117807,{\"type\":\"ndarray\",\"array\":{\"type\":\"bytes\",\"data\":\"+HG+FgWF07/q65sq7rr/Pw==\"},\"shape\":[2],\"dtype\":\"float64\",\"order\":\"little\"}],[873394,{\"type\":\"ndarray\",\"array\":{\"type\":\"bytes\",\"data\":\"sS4otzozBsAdyWctCDrxPw==\"},\"shape\":[2],\"dtype\":\"float64\",\"order\":\"little\"}],[27251507,{\"type\":\"ndarray\",\"array\":{\"type\":\"bytes\",\"data\":\"zvC2wOt86D9VfeYUir/xPw==\"},\"shape\":[2],\"dtype\":\"float64\",\"order\":\"little\"}],[1331,{\"type\":\"ndarray\",\"array\":{\"type\":\"bytes\",\"data\":\"xUEGrHX14j+pM9Zfs+f0vw==\"},\"shape\":[2],\"dtype\":\"float64\",\"order\":\"little\"}],[2207797,{\"type\":\"ndarray\",\"array\":{\"type\":\"bytes\",\"data\":\"W685s44huj/jCOsROQL5Pw==\"},\"shape\":[2],\"dtype\":\"float64\",\"order\":\"little\"}],[951,{\"type\":\"ndarray\",\"array\":{\"type\":\"bytes\",\"data\":\"VYXCswJA8T+UK7C78QH0vw==\"},\"shape\":[2],\"dtype\":\"float64\",\"order\":\"little\"}],[266936,{\"type\":\"ndarray\",\"array\":{\"type\":\"bytes\",\"data\":\"2IxZ1LXh5b95BTjP1E4CwA==\"},\"shape\":[2],\"dtype\":\"float64\",\"order\":\"little\"}],[2282814,{\"type\":\"ndarray\",\"array\":{\"type\":\"bytes\",\"data\":\"wcqq6uNUAMCuz7IpVEb0vw==\"},\"shape\":[2],\"dtype\":\"float64\",\"order\":\"little\"}],[136512,[0,0]],[55873,{\"type\":\"ndarray\",\"array\":{\"type\":\"bytes\",\"data\":\"yrmguFSOBEDV8Fqv0NT9vw==\"},\"shape\":[2],\"dtype\":\"float64\",\"order\":\"little\"}],[758208,{\"type\":\"ndarray\",\"array\":{\"type\":\"bytes\",\"data\":\"Bm7yalA69L9vwgb/TJ3xPw==\"},\"shape\":[2],\"dtype\":\"float64\",\"order\":\"little\"}],[155456,{\"type\":\"ndarray\",\"array\":{\"type\":\"bytes\",\"data\":\"cqm7n7mb8b90MR+bfGz9Pw==\"},\"shape\":[2],\"dtype\":\"float64\",\"order\":\"little\"}],[582724,{\"type\":\"ndarray\",\"array\":{\"type\":\"bytes\",\"data\":\"Hrc3S0+49r/NbhiD/LXwvw==\"},\"shape\":[2],\"dtype\":\"float64\",\"order\":\"little\"}],[741444,{\"type\":\"ndarray\",\"array\":{\"type\":\"bytes\",\"data\":\"vyN00vPmA8AWZ8q/cAXtPw==\"},\"shape\":[2],\"dtype\":\"float64\",\"order\":\"little\"}],[367430,{\"type\":\"ndarray\",\"array\":{\"type\":\"bytes\",\"data\":\"Kbk/1sjZAsCYSMlVbzWmvw==\"},\"shape\":[2],\"dtype\":\"float64\",\"order\":\"little\"}],[2954180,{\"type\":\"ndarray\",\"array\":{\"type\":\"bytes\",\"data\":\"EdtRZSFNAkAcXt6uJa7pvw==\"},\"shape\":[2],\"dtype\":\"float64\",\"order\":\"little\"}],[65,{\"type\":\"ndarray\",\"array\":{\"type\":\"bytes\",\"data\":\"RdUzYErAAEDdpX8fVKraPw==\"},\"shape\":[2],\"dtype\":\"float64\",\"order\":\"little\"}],[601802,{\"type\":\"ndarray\",\"array\":{\"type\":\"bytes\",\"data\":\"tlzTaOXp8D/QWKnsOjH9Pw==\"},\"shape\":[2],\"dtype\":\"float64\",\"order\":\"little\"}],[131277,{\"type\":\"ndarray\",\"array\":{\"type\":\"bytes\",\"data\":\"sOvJOAIp9T+Lg1+bdEoFQA==\"},\"shape\":[2],\"dtype\":\"float64\",\"order\":\"little\"}],[130638,{\"type\":\"ndarray\",\"array\":{\"type\":\"bytes\",\"data\":\"eoGaEuqu3792qC4+JAv/vw==\"},\"shape\":[2],\"dtype\":\"float64\",\"order\":\"little\"}],[10104017,{\"type\":\"ndarray\",\"array\":{\"type\":\"bytes\",\"data\":\"32zQ5tFG+L86ci3HXEulvw==\"},\"shape\":[2],\"dtype\":\"float64\",\"order\":\"little\"}],[30417,{\"type\":\"ndarray\",\"array\":{\"type\":\"bytes\",\"data\":\"DX/qX0tk+D9PtR5gCrewvw==\"},\"shape\":[2],\"dtype\":\"float64\",\"order\":\"little\"}],[116314,{\"type\":\"ndarray\",\"array\":{\"type\":\"bytes\",\"data\":\"iuuM7e9H+T8BYEgqJTMCwA==\"},\"shape\":[2],\"dtype\":\"float64\",\"order\":\"little\"}],[613602,{\"type\":\"ndarray\",\"array\":{\"type\":\"bytes\",\"data\":\"PTA+4LMi7L80giqy05IFQA==\"},\"shape\":[2],\"dtype\":\"float64\",\"order\":\"little\"}],[7266,{\"type\":\"ndarray\",\"array\":{\"type\":\"bytes\",\"data\":\"o7mr5cqu6b8iLqzbNCj9vw==\"},\"shape\":[2],\"dtype\":\"float64\",\"order\":\"little\"}],[6541412,{\"type\":\"ndarray\",\"array\":{\"type\":\"bytes\",\"data\":\"1ai/Lylv+b+qzWy6i1fhPw==\"},\"shape\":[2],\"dtype\":\"float64\",\"order\":\"little\"}],[17792625,{\"type\":\"ndarray\",\"array\":{\"type\":\"bytes\",\"data\":\"c3wU8cOC8j/N45fgZfvmvw==\"},\"shape\":[2],\"dtype\":\"float64\",\"order\":\"little\"}],[47474,{\"type\":\"ndarray\",\"array\":{\"type\":\"bytes\",\"data\":\"YTnGlLLKBsB7KzQUqeHLvw==\"},\"shape\":[2],\"dtype\":\"float64\",\"order\":\"little\"}],[6637939,{\"type\":\"ndarray\",\"array\":{\"type\":\"bytes\",\"data\":\"AAAAAAAACECKZGfBJWjSPw==\"},\"shape\":[2],\"dtype\":\"float64\",\"order\":\"little\"}],[879346,{\"type\":\"ndarray\",\"array\":{\"type\":\"bytes\",\"data\":\"zuglccwO679WUfe6QXH2vw==\"},\"shape\":[2],\"dtype\":\"float64\",\"order\":\"little\"}],[6048501,{\"type\":\"ndarray\",\"array\":{\"type\":\"bytes\",\"data\":\"jnfLhgU35z9NKrwps2gFwA==\"},\"shape\":[2],\"dtype\":\"float64\",\"order\":\"little\"}],[287734,{\"type\":\"ndarray\",\"array\":{\"type\":\"bytes\",\"data\":\"EiMI+BDLAEDpes8Ms7EAQA==\"},\"shape\":[2],\"dtype\":\"float64\",\"order\":\"little\"}],[801274,{\"type\":\"ndarray\",\"array\":{\"type\":\"bytes\",\"data\":\"jZgZW3jo8z9bHlroUhThPw==\"},\"shape\":[2],\"dtype\":\"float64\",\"order\":\"little\"}],[824702,{\"type\":\"ndarray\",\"array\":{\"type\":\"bytes\",\"data\":\"5htBWqB2AkC2yeauJk7rvw==\"},\"shape\":[2],\"dtype\":\"float64\",\"order\":\"little\"}]]}}},\"node_renderer\":{\"type\":\"object\",\"name\":\"GlyphRenderer\",\"id\":\"p19276\",\"attributes\":{\"data_source\":{\"type\":\"object\",\"name\":\"ColumnDataSource\",\"id\":\"p19273\",\"attributes\":{\"selected\":{\"type\":\"object\",\"name\":\"Selection\",\"id\":\"p19274\",\"attributes\":{\"indices\":[],\"line_indices\":[]}},\"selection_policy\":{\"type\":\"object\",\"name\":\"UnionRenderers\",\"id\":\"p19275\"},\"data\":{\"type\":\"map\",\"entries\":[[\"adjusted_cached_count\",[9.2605580881368,10.452013503484945,4.955827057601261,10.493992741124194,10.544525316297522,10.11480140809676,11.002249829955362,9.788637710857186,8.030409562130485,8.172729104865471,10.782263315647524,10.527606146685637,9.93173481547423,10.139191885895196,9.346268889200427,10.14419593502981,8.387539983189367,11.1154434073529,9.745194973541535,10.515044996056119,10.72535770879079,9.023408202624545,10.333027196085467,10.310850857927372,10.204073510592933,12.799178471909892,9.816894269951032,11.782334090333578,9.296334565143043,10.931248100232287,8.528528701079983,5.25227342804663,9.280612424961515,10.413522864087675,10.422430144404066,6.854354502255021,10.06951033636058,11.426201319452963,5.988961416889864,9.201501423308978,9.320449594656212,11.903331079318603,10.591169827665006,9.439306936593182,9.174609562020384,9.910314197878405,10.421179548719396,10.686909529335855,7.8928255262511176,10.462846164547514,9.295140973668648]],[\"fandom\",[\"InuYasha - A Feudal Fairy Tale\",\"DCU\",\"Harry Potter: Hogwarts Mystery\",\"Star Trek\",\"Supergirl (TV 2015)\",\"Arrow (TV 2012)\",\"Shingeki no Kyojin | Attack on Titan\",\"Pocket Monsters | Pokemon - All Media Types\",\"Discworld - Terry Pratchett\",\"Labyrinth (1986)\",\"Yuri!!! on Ice (Anime)\",\"Shadowhunters (TV)\",\"The Walking Dead (TV)\",\"Criminal Minds\",\"Angel: the Series\",\"DCU (Comics)\",\"Pirates of the Caribbean (Movies)\",\"Homestuck\",\"The Hobbit (Jackson Movies)\",\"Good Omens (TV)\",\"Stargate SG-1\",\"How to Train Your Dragon (Movies)\",\"NCIS\",\"The Avengers (2012)\",\"The Flash (TV 2014)\",\"Harry Potter - J. K. Rowling\",\"Fairy Tail\",\"Haikyuu!!\",\"Kuroshitsuji | Black Butler\",\"Miraculous Ladybug\",\"The Lord of the Rings (Movies)\",\"Marauders - Fandom\",\"Fullmetal Alchemist - All Media Types\",\"Avatar: The Last Airbender\",\"Star Trek: Alternate Original Series (Movies)\",\"Anita Blake: Vampire Hunter - Laurell K. Hamilton\",\"Spider-Man - All Media Types\",\"Voltron: Legendary Defender\",\"Harry Potter RPF\",\"Hunger Games Trilogy - Suzanne Collins\",\"James Bond (Craig movies)\",\"Marvel\",\"Undertale (Video Game)\",\"Criminal Minds (US TV)\",\"Danny Phantom\",\"Hamilton - Miranda\",\"Agents of S.H.I.E.L.D. (TV)\",\"Star Wars Sequel Trilogy\",\"Chronicles of Narnia - All Media Types\",\"Hannibal (TV)\",\"Fullmetal Alchemist: Brotherhood & Manga\"]],[\"adjusted_node_size\",[0.5,7.4,0.1,1.5,1.7,1.9,0.9,2.6,0.1,0.1,0.3,1.4,0.4,0.5,0.6,6.3,0.4,0.6,1.0,0.7,1.0,0.8,1.3,2.6,1.5,9.7,0.4,1.1,0.3,0.8,0.8,0.1,0.3,0.6,1.3,0.2,4.0,0.5,0.1,0.4,0.8,8.5,0.9,0.3,0.3,0.8,2.2,1.9,0.4,0.9,0.4]],[\"degree\",[5,74,1,15,17,19,9,26,1,1,3,14,4,5,6,63,4,6,10,7,10,8,13,26,15,97,4,11,3,8,8,1,3,6,13,2,40,5,1,4,8,85,9,3,3,8,22,19,4,9,4]],[\"cached_count\",[10514,34613,141,36097,37968,24705,60008,17829,3072,3542,48158,37331,20572,25315,11455,25442,4391,67200,17071,36865,45494,8294,30730,30056,27012,361919,18340,130918,10897,55895,5056,190,10727,33306,33604,947,23611,91692,398,9911,11163,147757,39781,12572,9648,20136,33562,43778,2677,34990,10884]],[\"index\",[13184,390,22073991,1801,5148298,587792,721553,448284,131997,14621,11444638,6856609,205859,9892,934,969647,223664,117807,873394,27251507,1331,2207797,951,266936,2282814,136512,55873,758208,155456,582724,741444,367430,2954180,65,601802,131277,130638,10104017,30417,116314,613602,7266,6541412,17792625,47474,6637939,879346,6048501,287734,801274,824702]]]}}},\"view\":{\"type\":\"object\",\"name\":\"CDSView\",\"id\":\"p19277\",\"attributes\":{\"filter\":{\"type\":\"object\",\"name\":\"AllIndices\",\"id\":\"p19278\"}}},\"glyph\":{\"type\":\"object\",\"name\":\"Circle\",\"id\":\"p19290\",\"attributes\":{\"radius\":{\"type\":\"value\",\"value\":0.3},\"fill_color\":{\"type\":\"field\",\"field\":\"adjusted_cached_count\",\"transform\":{\"type\":\"object\",\"name\":\"LinearColorMapper\",\"id\":\"p19289\",\"attributes\":{\"palette\":[\"#99000d\",\"#cb181d\",\"#ef3b2c\",\"#fb6a4a\",\"#fc9272\",\"#fcbba1\",\"#fee0d2\",\"#fff5f0\"],\"low\":12.799178471909892,\"high\":4.955827057601261}}},\"fill_alpha\":{\"type\":\"value\",\"value\":0.7}}}}},\"edge_renderer\":{\"type\":\"object\",\"name\":\"GlyphRenderer\",\"id\":\"p19283\",\"attributes\":{\"data_source\":{\"type\":\"object\",\"name\":\"ColumnDataSource\",\"id\":\"p19280\",\"attributes\":{\"selected\":{\"type\":\"object\",\"name\":\"Selection\",\"id\":\"p19281\",\"attributes\":{\"indices\":[],\"line_indices\":[]}},\"selection_policy\":{\"type\":\"object\",\"name\":\"UnionRenderers\",\"id\":\"p19282\"},\"data\":{\"type\":\"map\",\"entries\":[[\"count\",[161,6056,352,153,319,295,260,382,122,6753,121,1284,1422,164,114,4196,167,119,124,164,122,153,103,168,122,112,132,169,122,171,287,109,138,106,118,161,204,141,141,1012,107,160,278,188,137,170,176,798,153,153,107,135,175,114,186,141,149,150,131,114,195,190,103,159,187,124,112,104,109,123,109,135,147,167,117,3970,2995,928]],[\"weight\",[161,6056,352,153,319,295,260,382,122,6753,121,1284,1422,164,114,4196,167,119,124,164,122,153,103,168,122,112,132,169,122,171,287,109,138,106,118,161,204,141,141,1012,107,160,278,188,137,170,176,798,153,153,107,135,175,114,186,141,149,150,131,114,195,190,103,159,187,124,112,104,109,123,109,135,147,167,117,3970,2995,928]],[\"start\",[13184,390,390,390,390,390,390,390,22073991,1801,1801,5148298,5148298,5148298,5148298,587792,587792,587792,587792,721553,721553,721553,448284,448284,131997,14621,11444638,11444638,6856609,205859,9892,9892,934,969647,969647,969647,969647,223664,117807,873394,873394,27251507,1331,1331,2207797,951,951,266936,266936,2282814,136512,136512,136512,136512,136512,136512,136512,136512,136512,136512,136512,136512,136512,136512,136512,136512,136512,136512,136512,136512,136512,136512,136512,136512,136512,2954180,130638,7266]],[\"end\",[136512,969647,582724,136512,7266,5148298,587792,2282814,136512,601802,136512,587792,2282814,969647,136512,2282814,969647,136512,879346,758208,155456,136512,582724,136512,136512,136512,136512,758208,136512,136512,951,136512,136512,136512,582724,7266,2282814,136512,136512,741444,136512,136512,951,136512,136512,136512,17792625,7266,136512,136512,131277,824702,2954180,582724,30417,6541412,758208,155456,17792625,367430,7266,801274,6637939,10104017,65,116314,130638,55873,287734,741444,47474,6048501,601802,879346,613602,824702,7266,879346]]]}}},\"view\":{\"type\":\"object\",\"name\":\"CDSView\",\"id\":\"p19284\",\"attributes\":{\"filter\":{\"type\":\"object\",\"name\":\"AllIndices\",\"id\":\"p19285\"}}},\"glyph\":{\"type\":\"object\",\"name\":\"MultiLine\",\"id\":\"p19291\"}}},\"selection_policy\":{\"type\":\"object\",\"name\":\"NodesOnly\",\"id\":\"p19286\"},\"inspection_policy\":{\"type\":\"object\",\"name\":\"NodesOnly\",\"id\":\"p19287\"}}}],\"toolbar\":{\"type\":\"object\",\"name\":\"Toolbar\",\"id\":\"p19253\",\"attributes\":{\"tools\":[{\"type\":\"object\",\"name\":\"PanTool\",\"id\":\"p19266\"},{\"type\":\"object\",\"name\":\"WheelZoomTool\",\"id\":\"p19267\",\"attributes\":{\"renderers\":\"auto\"}},{\"type\":\"object\",\"name\":\"SaveTool\",\"id\":\"p19268\"},{\"type\":\"object\",\"name\":\"ResetTool\",\"id\":\"p19269\"},{\"type\":\"object\",\"name\":\"HoverTool\",\"id\":\"p19270\",\"attributes\":{\"renderers\":\"auto\",\"tooltips\":[[\"Fandom\",\"@fandom\"],[\"Degree\",\"@degree\"],[\"Count\",\"@cached_count\"]]}}],\"active_scroll\":{\"id\":\"p19267\"}}},\"left\":[{\"type\":\"object\",\"name\":\"LinearAxis\",\"id\":\"p19261\",\"attributes\":{\"ticker\":{\"type\":\"object\",\"name\":\"BasicTicker\",\"id\":\"p19262\",\"attributes\":{\"mantissas\":[1,2,5]}},\"formatter\":{\"type\":\"object\",\"name\":\"BasicTickFormatter\",\"id\":\"p19263\"},\"major_label_policy\":{\"type\":\"object\",\"name\":\"AllLabels\",\"id\":\"p19264\"}}}],\"below\":[{\"type\":\"object\",\"name\":\"LinearAxis\",\"id\":\"p19256\",\"attributes\":{\"ticker\":{\"type\":\"object\",\"name\":\"BasicTicker\",\"id\":\"p19257\",\"attributes\":{\"mantissas\":[1,2,5]}},\"formatter\":{\"type\":\"object\",\"name\":\"BasicTickFormatter\",\"id\":\"p19258\"},\"major_label_policy\":{\"type\":\"object\",\"name\":\"AllLabels\",\"id\":\"p19259\"}}}],\"center\":[{\"type\":\"object\",\"name\":\"Grid\",\"id\":\"p19260\",\"attributes\":{\"axis\":{\"id\":\"p19256\"}}},{\"type\":\"object\",\"name\":\"Grid\",\"id\":\"p19265\",\"attributes\":{\"dimension\":1,\"axis\":{\"id\":\"p19261\"}}}]}}]}};\n  const render_items = [{\"docid\":\"1001703f-19a0-42c6-aff4-b685eae824d6\",\"roots\":{\"p19244\":\"a324a736-fd21-4b30-9eed-6e6c1d14e376\"},\"root_ids\":[\"p19244\"]}];\n  void root.Bokeh.embed.embed_items_notebook(docs_json, render_items);\n  }\n  if (root.Bokeh !== undefined) {\n    embed_document(root);\n  } else {\n    let attempts = 0;\n    const timer = setInterval(function(root) {\n      if (root.Bokeh !== undefined) {\n        clearInterval(timer);\n        embed_document(root);\n      } else {\n        attempts++;\n        if (attempts > 100) {\n          clearInterval(timer);\n          console.log(\"Bokeh: ERROR: Unable to run BokehJS code because BokehJS library is missing\");\n        }\n      }\n    }, 10, root)\n  }\n})(window);",
      "application/vnd.bokehjs_exec.v0+json": ""
     },
     "metadata": {
      "application/vnd.bokehjs_exec.v0+json": {
       "id": "p19244"
      }
     },
     "output_type": "display_data"
    }
   ],
   "source": [
    "#Choose a title!\n",
    "title = 'Ego Network of ' + edgelist_df_small[edgelist_df_small['integer_1'] == ego_fandom]['name_1'].iloc[0]\n",
    "\n",
    "#Create a plot — set dimensions, toolbar, and title\n",
    "plot_ego = figure(tooltips = HOVER_TOOLTIPS,\n",
    "              tools=\"pan,wheel_zoom,save,reset\", active_scroll='wheel_zoom',\n",
    "            x_range=Range1d(-3.5, 3.5), y_range=Range1d(-3.5, 3.5), title=title)\n",
    "\n",
    "# Define the layout\n",
    "pos_ego = nx.spring_layout(ego_graph, scale=3, center=(0, 0))\n",
    "pos_ego[ego_fandom] = (0, 0)\n",
    "\n",
    "# Convert the NetworkX graph to a Bokeh graph\n",
    "graph_ego = from_networkx(ego_graph, pos_ego)\n",
    "\n",
    "#Set node sizes and colors according to node degree (color as spectrum of color palette)\n",
    "minimum_value_color_ego = min(graph_ego.node_renderer.data_source.data[color_by_this_attribute])\n",
    "maximum_value_color_ego = max(graph_ego.node_renderer.data_source.data[color_by_this_attribute])\n",
    "graph_ego.node_renderer.glyph = Circle(radius=0.3, fill_color=linear_cmap(color_by_this_attribute, color_palette, maximum_value_color_ego, minimum_value_color_ego), fill_alpha=0.7)\n",
    "graph_ego.edge_renderer.glyph = MultiLine(line_alpha=1, line_width=1, line_color=\"black\")\n",
    "\n",
    "plot_ego.renderers.append(graph_ego)\n",
    "\n",
    "show(plot_ego)\n"
   ]
  },
  {
   "cell_type": "markdown",
   "metadata": {},
   "source": [
    "### ATLA"
   ]
  },
  {
   "cell_type": "markdown",
   "metadata": {},
   "source": [
    "Radius = 2 has only 6 nodes including the ego. Raising it to 3"
   ]
  },
  {
   "cell_type": "code",
   "execution_count": 388,
   "metadata": {},
   "outputs": [
    {
     "name": "stdout",
     "output_type": "stream",
     "text": [
      "Number of nodes in ego graph: 25\n",
      "Number of edges in ego graph: 49\n"
     ]
    }
   ],
   "source": [
    "ego_fandom = 65\n",
    "ego_graph = nx.ego_graph(G_ego, ego_fandom, radius=3, distance=custom_distance)\n",
    "\n",
    "# Check the number of nodes and edges\n",
    "print(f\"Number of nodes in ego graph: {ego_graph.number_of_nodes()}\")\n",
    "print(f\"Number of edges in ego graph: {ego_graph.number_of_edges()}\")"
   ]
  },
  {
   "cell_type": "code",
   "execution_count": 390,
   "metadata": {},
   "outputs": [
    {
     "data": {
      "text/html": [
       "\n",
       "  <div id=\"f5a2b71f-6105-458e-b8c1-f6a50f06a527\" data-root-id=\"p18201\" style=\"display: contents;\"></div>\n"
      ]
     },
     "metadata": {},
     "output_type": "display_data"
    },
    {
     "data": {
      "application/javascript": "(function(root) {\n  function embed_document(root) {\n  const docs_json = {\"add0f695-41ba-43f4-afc6-4839805e1ad7\":{\"version\":\"3.4.1\",\"title\":\"Bokeh Application\",\"roots\":[{\"type\":\"object\",\"name\":\"Figure\",\"id\":\"p18201\",\"attributes\":{\"x_range\":{\"type\":\"object\",\"name\":\"Range1d\",\"id\":\"p18199\",\"attributes\":{\"start\":-3.5,\"end\":3.5}},\"y_range\":{\"type\":\"object\",\"name\":\"Range1d\",\"id\":\"p18200\",\"attributes\":{\"start\":-3.5,\"end\":3.5}},\"x_scale\":{\"type\":\"object\",\"name\":\"LinearScale\",\"id\":\"p18211\"},\"y_scale\":{\"type\":\"object\",\"name\":\"LinearScale\",\"id\":\"p18212\"},\"title\":{\"type\":\"object\",\"name\":\"Title\",\"id\":\"p18204\",\"attributes\":{\"text\":\"Ego Network of Avatar: The Last Airbender\"}},\"renderers\":[{\"type\":\"object\",\"name\":\"GraphRenderer\",\"id\":\"p18228\",\"attributes\":{\"layout_provider\":{\"type\":\"object\",\"name\":\"StaticLayoutProvider\",\"id\":\"p18245\",\"attributes\":{\"graph_layout\":{\"type\":\"map\",\"entries\":[[2692,{\"type\":\"ndarray\",\"array\":{\"type\":\"bytes\",\"data\":\"ndvtZMfJ678y4+28N/DBPw==\"},\"shape\":[2],\"dtype\":\"float64\",\"order\":\"little\"}],[414093,{\"type\":\"ndarray\",\"array\":{\"type\":\"bytes\",\"data\":\"+ExMdkUe1L/4N8gFQ27lvw==\"},\"shape\":[2],\"dtype\":\"float64\",\"order\":\"little\"}],[448284,{\"type\":\"ndarray\",\"array\":{\"type\":\"bytes\",\"data\":\"z3RM0VQE9b/VdBAYcGriPw==\"},\"shape\":[2],\"dtype\":\"float64\",\"order\":\"little\"}],[14621,{\"type\":\"ndarray\",\"array\":{\"type\":\"bytes\",\"data\":\"w5s98XYn679iPuxwSkcHwA==\"},\"shape\":[2],\"dtype\":\"float64\",\"order\":\"little\"}],[9892,{\"type\":\"ndarray\",\"array\":{\"type\":\"bytes\",\"data\":\"7wLlgXIWAMAql14Jp10CwA==\"},\"shape\":[2],\"dtype\":\"float64\",\"order\":\"little\"}],[3828398,{\"type\":\"ndarray\",\"array\":{\"type\":\"bytes\",\"data\":\"u1CTdY1O079SW4cI40LhPw==\"},\"shape\":[2],\"dtype\":\"float64\",\"order\":\"little\"}],[13999,{\"type\":\"ndarray\",\"array\":{\"type\":\"bytes\",\"data\":\"lr4z2WRhvD9jRNs+HIPsPw==\"},\"shape\":[2],\"dtype\":\"float64\",\"order\":\"little\"}],[969647,{\"type\":\"ndarray\",\"array\":{\"type\":\"bytes\",\"data\":\"FBD1frtm7b/V4S3aRAr7vw==\"},\"shape\":[2],\"dtype\":\"float64\",\"order\":\"little\"}],[1091121,{\"type\":\"ndarray\",\"array\":{\"type\":\"bytes\",\"data\":\"AAAAAAAAEEApCrxdNBDwPw==\"},\"shape\":[2],\"dtype\":\"float64\",\"order\":\"little\"}],[9799345,{\"type\":\"ndarray\",\"array\":{\"type\":\"bytes\",\"data\":\"m6WKAmN+8T/R+fZv3ywIQA==\"},\"shape\":[2],\"dtype\":\"float64\",\"order\":\"little\"}],[873394,{\"type\":\"ndarray\",\"array\":{\"type\":\"bytes\",\"data\":\"AxnhqVTwBcD0T1lrLXPyvw==\"},\"shape\":[2],\"dtype\":\"float64\",\"order\":\"little\"}],[136512,{\"type\":\"ndarray\",\"array\":{\"type\":\"bytes\",\"data\":\"e+UauYgvzr/4aV4j8lvXvw==\"},\"shape\":[2],\"dtype\":\"float64\",\"order\":\"little\"}],[65,[0,0]],[758208,{\"type\":\"ndarray\",\"array\":{\"type\":\"bytes\",\"data\":\"kTb/Tl7X579K/bpUZtrzPw==\"},\"shape\":[2],\"dtype\":\"float64\",\"order\":\"little\"}],[55873,{\"type\":\"ndarray\",\"array\":{\"type\":\"bytes\",\"data\":\"3H5ul2me5T8XBkFlyrH0Pw==\"},\"shape\":[2],\"dtype\":\"float64\",\"order\":\"little\"}],[582724,{\"type\":\"ndarray\",\"array\":{\"type\":\"bytes\",\"data\":\"wS03Uw1q978HpA9yiFDjvw==\"},\"shape\":[2],\"dtype\":\"float64\",\"order\":\"little\"}],[10729669,{\"type\":\"ndarray\",\"array\":{\"type\":\"bytes\",\"data\":\"T0GPCMiGvr+krjsSCQULQA==\"},\"shape\":[2],\"dtype\":\"float64\",\"order\":\"little\"}],[131277,{\"type\":\"ndarray\",\"array\":{\"type\":\"bytes\",\"data\":\"UVs44YHtBsBLaDIMoAjTPw==\"},\"shape\":[2],\"dtype\":\"float64\",\"order\":\"little\"}],[130638,{\"type\":\"ndarray\",\"array\":{\"type\":\"bytes\",\"data\":\"o+aSOj65zr9EBwjWi6zuvw==\"},\"shape\":[2],\"dtype\":\"float64\",\"order\":\"little\"}],[767851,{\"type\":\"ndarray\",\"array\":{\"type\":\"bytes\",\"data\":\"RX4h0g8l6L/O2XGyDdoBQA==\"},\"shape\":[2],\"dtype\":\"float64\",\"order\":\"little\"}],[33849196,{\"type\":\"ndarray\",\"array\":{\"type\":\"bytes\",\"data\":\"BoV/CFwaDEBl0YWvILgBQA==\"},\"shape\":[2],\"dtype\":\"float64\",\"order\":\"little\"}],[47474,{\"type\":\"ndarray\",\"array\":{\"type\":\"bytes\",\"data\":\"E76rQXbC9j88380/Fr0CwA==\"},\"shape\":[2],\"dtype\":\"float64\",\"order\":\"little\"}],[6637939,{\"type\":\"ndarray\",\"array\":{\"type\":\"bytes\",\"data\":\"s52kl0CFAUADROyuaHf2vw==\"},\"shape\":[2],\"dtype\":\"float64\",\"order\":\"little\"}],[287734,{\"type\":\"ndarray\",\"array\":{\"type\":\"bytes\",\"data\":\"gA56srsz3T9cBWbxTooHwA==\"},\"shape\":[2],\"dtype\":\"float64\",\"order\":\"little\"}],[101375,{\"type\":\"ndarray\",\"array\":{\"type\":\"bytes\",\"data\":\"Zbi00QLF4T/kaxsIRtDWvw==\"},\"shape\":[2],\"dtype\":\"float64\",\"order\":\"little\"}]]}}},\"node_renderer\":{\"type\":\"object\",\"name\":\"GlyphRenderer\",\"id\":\"p18233\",\"attributes\":{\"data_source\":{\"type\":\"object\",\"name\":\"ColumnDataSource\",\"id\":\"p18230\",\"attributes\":{\"selected\":{\"type\":\"object\",\"name\":\"Selection\",\"id\":\"p18231\",\"attributes\":{\"indices\":[],\"line_indices\":[]}},\"selection_policy\":{\"type\":\"object\",\"name\":\"UnionRenderers\",\"id\":\"p18232\"},\"data\":{\"type\":\"map\",\"entries\":[[\"adjusted_cached_count\",[11.570826380865066,12.390629202848693,9.788637710857186,8.172729104865471,10.139191885895196,12.22635065001279,11.562753185929502,10.14419593502981,5.272999558563747,6.2422232654551655,9.745194973541535,12.799178471909892,10.413522864087675,11.782334090333578,9.816894269951032,10.931248100232287,4.890349128221754,6.854354502255021,10.06951033636058,10.280587479087396,4.852030263919617,9.174609562020384,9.910314197878405,7.8928255262511176,11.472113887062386]],[\"fandom\",[\"Original Work\",\"Marvel Cinematic Universe\",\"Pocket Monsters | Pokemon - All Media Types\",\"Labyrinth (1986)\",\"Criminal Minds\",\"\\u50d5\\u306e\\u30d2\\u30fc\\u30ed\\u30fc\\u30a2\\u30ab\\u30c7\\u30df\\u30a2 | Boku no Hero Academia | My Hero Academia\",\"Naruto\",\"DCU (Comics)\",\"Avatar (TV)\",\"Dreaming of Sunshine - Silver Queen\",\"The Hobbit (Jackson Movies)\",\"Harry Potter - J. K. Rowling\",\"Avatar: The Last Airbender\",\"Haikyuu!!\",\"Fairy Tail\",\"Miraculous Ladybug\",\"Sasusaku - Fandom\",\"Anita Blake: Vampire Hunter - Laurell K. Hamilton\",\"Spider-Man - All Media Types\",\"RWBY\",\"The Rise of Kyoshi\",\"Danny Phantom\",\"Hamilton - Miranda\",\"Chronicles of Narnia - All Media Types\",\"Star Wars - All Media Types\"]],[\"adjusted_node_size\",[3.0,12.8,2.6,0.1,0.5,2.9,2.2,6.3,0.1,0.1,1.0,9.7,0.6,1.1,0.4,0.8,0.1,0.2,4.0,0.2,0.1,0.3,0.8,0.4,4.8]],[\"degree\",[30,128,26,1,5,29,22,63,1,1,10,97,6,11,4,8,1,2,40,2,1,3,8,4,48]],[\"cached_count\",[105960,240536,17829,3542,25315,204096,105108,25442,194,513,17071,361919,33306,130918,18340,55895,132,947,23611,29160,127,9648,20136,2677,96000]],[\"index\",[2692,414093,448284,14621,9892,3828398,13999,969647,1091121,9799345,873394,136512,65,758208,55873,582724,10729669,131277,130638,767851,33849196,47474,6637939,287734,101375]]]}}},\"view\":{\"type\":\"object\",\"name\":\"CDSView\",\"id\":\"p18234\",\"attributes\":{\"filter\":{\"type\":\"object\",\"name\":\"AllIndices\",\"id\":\"p18235\"}}},\"glyph\":{\"type\":\"object\",\"name\":\"Circle\",\"id\":\"p18247\",\"attributes\":{\"radius\":{\"type\":\"value\",\"value\":0.3},\"fill_color\":{\"type\":\"field\",\"field\":\"adjusted_cached_count\",\"transform\":{\"type\":\"object\",\"name\":\"LinearColorMapper\",\"id\":\"p18246\",\"attributes\":{\"palette\":[\"#99000d\",\"#cb181d\",\"#ef3b2c\",\"#fb6a4a\",\"#fc9272\",\"#fcbba1\",\"#fee0d2\",\"#fff5f0\"],\"low\":12.799178471909892,\"high\":4.852030263919617}}},\"fill_alpha\":{\"type\":\"value\",\"value\":0.7}}}}},\"edge_renderer\":{\"type\":\"object\",\"name\":\"GlyphRenderer\",\"id\":\"p18240\",\"attributes\":{\"data_source\":{\"type\":\"object\",\"name\":\"ColumnDataSource\",\"id\":\"p18237\",\"attributes\":{\"selected\":{\"type\":\"object\",\"name\":\"Selection\",\"id\":\"p18238\",\"attributes\":{\"indices\":[],\"line_indices\":[]}},\"selection_policy\":{\"type\":\"object\",\"name\":\"UnionRenderers\",\"id\":\"p18239\"},\"data\":{\"type\":\"map\",\"entries\":[[\"count\",[314,130,181,164,107,2270,305,7820,106,338,186,121,103,233,168,110,112,109,547,401,170,333,192,154,102,104,213,850,106,129,110,112,170,110,106,118,113,107,107,114,149,543,103,187,112,104,109,109,120]],[\"weight\",[314,130,181,164,107,2270,305,7820,106,338,186,121,103,233,168,110,112,109,547,401,170,333,192,154,102,104,213,850,106,129,110,112,170,110,106,118,113,107,107,114,149,543,103,187,112,104,109,109,120]],[\"start\",[2692,2692,2692,2692,2692,414093,414093,414093,414093,414093,414093,414093,448284,448284,448284,448284,14621,9892,3828398,3828398,3828398,3828398,3828398,3828398,3828398,3828398,13999,13999,13999,13999,13999,13999,13999,13999,969647,969647,1091121,873394,136512,136512,136512,136512,136512,136512,136512,136512,136512,136512,65]],[\"end\",[136512,13999,3828398,414093,448284,136512,969647,130638,582724,101375,3828398,13999,582724,3828398,136512,13999,136512,136512,13999,758208,55873,136512,65,767851,582724,130638,55873,136512,758208,101375,767851,9799345,65,10729669,136512,582724,65,136512,131277,582724,758208,101375,6637939,65,130638,55873,287734,47474,33849196]]]}}},\"view\":{\"type\":\"object\",\"name\":\"CDSView\",\"id\":\"p18241\",\"attributes\":{\"filter\":{\"type\":\"object\",\"name\":\"AllIndices\",\"id\":\"p18242\"}}},\"glyph\":{\"type\":\"object\",\"name\":\"MultiLine\",\"id\":\"p18248\"}}},\"selection_policy\":{\"type\":\"object\",\"name\":\"NodesOnly\",\"id\":\"p18243\"},\"inspection_policy\":{\"type\":\"object\",\"name\":\"NodesOnly\",\"id\":\"p18244\"}}}],\"toolbar\":{\"type\":\"object\",\"name\":\"Toolbar\",\"id\":\"p18210\",\"attributes\":{\"tools\":[{\"type\":\"object\",\"name\":\"PanTool\",\"id\":\"p18223\"},{\"type\":\"object\",\"name\":\"WheelZoomTool\",\"id\":\"p18224\",\"attributes\":{\"renderers\":\"auto\"}},{\"type\":\"object\",\"name\":\"SaveTool\",\"id\":\"p18225\"},{\"type\":\"object\",\"name\":\"ResetTool\",\"id\":\"p18226\"},{\"type\":\"object\",\"name\":\"HoverTool\",\"id\":\"p18227\",\"attributes\":{\"renderers\":\"auto\",\"tooltips\":[[\"Fandom\",\"@fandom\"],[\"Degree\",\"@degree\"],[\"Count\",\"@cached_count\"]]}}],\"active_scroll\":{\"id\":\"p18224\"}}},\"left\":[{\"type\":\"object\",\"name\":\"LinearAxis\",\"id\":\"p18218\",\"attributes\":{\"ticker\":{\"type\":\"object\",\"name\":\"BasicTicker\",\"id\":\"p18219\",\"attributes\":{\"mantissas\":[1,2,5]}},\"formatter\":{\"type\":\"object\",\"name\":\"BasicTickFormatter\",\"id\":\"p18220\"},\"major_label_policy\":{\"type\":\"object\",\"name\":\"AllLabels\",\"id\":\"p18221\"}}}],\"below\":[{\"type\":\"object\",\"name\":\"LinearAxis\",\"id\":\"p18213\",\"attributes\":{\"ticker\":{\"type\":\"object\",\"name\":\"BasicTicker\",\"id\":\"p18214\",\"attributes\":{\"mantissas\":[1,2,5]}},\"formatter\":{\"type\":\"object\",\"name\":\"BasicTickFormatter\",\"id\":\"p18215\"},\"major_label_policy\":{\"type\":\"object\",\"name\":\"AllLabels\",\"id\":\"p18216\"}}}],\"center\":[{\"type\":\"object\",\"name\":\"Grid\",\"id\":\"p18217\",\"attributes\":{\"axis\":{\"id\":\"p18213\"}}},{\"type\":\"object\",\"name\":\"Grid\",\"id\":\"p18222\",\"attributes\":{\"dimension\":1,\"axis\":{\"id\":\"p18218\"}}}]}}]}};\n  const render_items = [{\"docid\":\"add0f695-41ba-43f4-afc6-4839805e1ad7\",\"roots\":{\"p18201\":\"f5a2b71f-6105-458e-b8c1-f6a50f06a527\"},\"root_ids\":[\"p18201\"]}];\n  void root.Bokeh.embed.embed_items_notebook(docs_json, render_items);\n  }\n  if (root.Bokeh !== undefined) {\n    embed_document(root);\n  } else {\n    let attempts = 0;\n    const timer = setInterval(function(root) {\n      if (root.Bokeh !== undefined) {\n        clearInterval(timer);\n        embed_document(root);\n      } else {\n        attempts++;\n        if (attempts > 100) {\n          clearInterval(timer);\n          console.log(\"Bokeh: ERROR: Unable to run BokehJS code because BokehJS library is missing\");\n        }\n      }\n    }, 10, root)\n  }\n})(window);",
      "application/vnd.bokehjs_exec.v0+json": ""
     },
     "metadata": {
      "application/vnd.bokehjs_exec.v0+json": {
       "id": "p18201"
      }
     },
     "output_type": "display_data"
    }
   ],
   "source": [
    "#Choose a title!\n",
    "title = 'Ego Network of ' + edgelist_df_small[edgelist_df_small['integer_1'] == ego_fandom]['name_1'].iloc[0]\n",
    "\n",
    "#Create a plot — set dimensions, toolbar, and title\n",
    "plot_ego = figure(tooltips = HOVER_TOOLTIPS,\n",
    "              tools=\"pan,wheel_zoom,save,reset\", active_scroll='wheel_zoom',\n",
    "            x_range=Range1d(-3.5, 3.5), y_range=Range1d(-3.5, 3.5), title=title)\n",
    "\n",
    "# Define the layout\n",
    "pos_ego = nx.spring_layout(ego_graph, scale=4, center=(0, 0))\n",
    "pos_ego[ego_fandom] = (0, 0)\n",
    "\n",
    "# Convert the NetworkX graph to a Bokeh graph\n",
    "graph_ego = from_networkx(ego_graph, pos_ego)\n",
    "\n",
    "#Set node sizes and colors according to node degree (color as spectrum of color palette)\n",
    "minimum_value_color_ego = min(graph_ego.node_renderer.data_source.data[color_by_this_attribute])\n",
    "maximum_value_color_ego = max(graph_ego.node_renderer.data_source.data[color_by_this_attribute])\n",
    "graph_ego.node_renderer.glyph = Circle(radius=0.3, fill_color=linear_cmap(color_by_this_attribute, color_palette, maximum_value_color_ego, minimum_value_color_ego), fill_alpha=0.7)\n",
    "graph_ego.edge_renderer.glyph = MultiLine(line_alpha=1, line_width=1, line_color=\"black\")\n",
    "\n",
    "plot_ego.renderers.append(graph_ego)\n",
    "\n",
    "show(plot_ego)\n"
   ]
  },
  {
   "cell_type": "markdown",
   "metadata": {},
   "source": [
    "### Naruto"
   ]
  },
  {
   "cell_type": "markdown",
   "metadata": {},
   "source": [
    "Radius = 2, nodes = 13. Going for 3 but will need to scale up"
   ]
  },
  {
   "cell_type": "code",
   "execution_count": 393,
   "metadata": {},
   "outputs": [
    {
     "name": "stdout",
     "output_type": "stream",
     "text": [
      "Number of nodes in ego graph: 99\n",
      "Number of edges in ego graph: 194\n"
     ]
    }
   ],
   "source": [
    "ego_fandom = 13999\n",
    "ego_graph = nx.ego_graph(G_ego, ego_fandom, radius=3, distance=custom_distance)\n",
    "\n",
    "# Check the number of nodes and edges\n",
    "print(f\"Number of nodes in ego graph: {ego_graph.number_of_nodes()}\")\n",
    "print(f\"Number of edges in ego graph: {ego_graph.number_of_edges()}\")"
   ]
  },
  {
   "cell_type": "code",
   "execution_count": 394,
   "metadata": {},
   "outputs": [
    {
     "data": {
      "text/html": [
       "\n",
       "  <div id=\"bf6863b9-aad5-4d04-95a9-a31efe7030f2\" data-root-id=\"p18275\" style=\"display: contents;\"></div>\n"
      ]
     },
     "metadata": {},
     "output_type": "display_data"
    },
    {
     "data": {
      "application/javascript": "(function(root) {\n  function embed_document(root) {\n  const docs_json = {\"7bfffcfb-0bcb-4c80-8936-50cea7d50c9f\":{\"version\":\"3.4.1\",\"title\":\"Bokeh Application\",\"roots\":[{\"type\":\"object\",\"name\":\"Figure\",\"id\":\"p18275\",\"attributes\":{\"x_range\":{\"type\":\"object\",\"name\":\"Range1d\",\"id\":\"p18273\",\"attributes\":{\"start\":-3.5,\"end\":3.5}},\"y_range\":{\"type\":\"object\",\"name\":\"Range1d\",\"id\":\"p18274\",\"attributes\":{\"start\":-3.5,\"end\":3.5}},\"x_scale\":{\"type\":\"object\",\"name\":\"LinearScale\",\"id\":\"p18285\"},\"y_scale\":{\"type\":\"object\",\"name\":\"LinearScale\",\"id\":\"p18286\"},\"title\":{\"type\":\"object\",\"name\":\"Title\",\"id\":\"p18278\",\"attributes\":{\"text\":\"Ego Network of Naruto\"}},\"renderers\":[{\"type\":\"object\",\"name\":\"GraphRenderer\",\"id\":\"p18302\",\"attributes\":{\"layout_provider\":{\"type\":\"object\",\"name\":\"StaticLayoutProvider\",\"id\":\"p18319\",\"attributes\":{\"graph_layout\":{\"type\":\"map\",\"entries\":[[730115,{\"type\":\"ndarray\",\"array\":{\"type\":\"bytes\",\"data\":\"/ZyGk9qw/D8gHUfWX4n2Pw==\"},\"shape\":[2],\"dtype\":\"float64\",\"order\":\"little\"}],[13045252,{\"type\":\"ndarray\",\"array\":{\"type\":\"bytes\",\"data\":\"YWKmxx7BgD+hVnfRAZQGwA==\"},\"shape\":[2],\"dtype\":\"float64\",\"order\":\"little\"}],[10767,{\"type\":\"ndarray\",\"array\":{\"type\":\"bytes\",\"data\":\"5Db4Zkkkcj8qB0Q4rifwvw==\"},\"shape\":[2],\"dtype\":\"float64\",\"order\":\"little\"}],[12358675,{\"type\":\"ndarray\",\"array\":{\"type\":\"bytes\",\"data\":\"YPaxzdn+DEBvZ2hIgOTGvw==\"},\"shape\":[2],\"dtype\":\"float64\",\"order\":\"little\"}],[45591,{\"type\":\"ndarray\",\"array\":{\"type\":\"bytes\",\"data\":\"+YyNC4qe9j81ie/JIhMNwA==\"},\"shape\":[2],\"dtype\":\"float64\",\"order\":\"little\"}],[1486363,{\"type\":\"ndarray\",\"array\":{\"type\":\"bytes\",\"data\":\"hetrTbMJB8D2axXvT4YBwA==\"},\"shape\":[2],\"dtype\":\"float64\",\"order\":\"little\"}],[27,{\"type\":\"ndarray\",\"array\":{\"type\":\"bytes\",\"data\":\"OojE6ebPoj9/AZf0FFfmPw==\"},\"shape\":[2],\"dtype\":\"float64\",\"order\":\"little\"}],[6599711,{\"type\":\"ndarray\",\"array\":{\"type\":\"bytes\",\"data\":\"b2A2uBVGC0CYUvGKmyvnvw==\"},\"shape\":[2],\"dtype\":\"float64\",\"order\":\"little\"}],[244259,{\"type\":\"ndarray\",\"array\":{\"type\":\"bytes\",\"data\":\"LEg+J+YPur+bAOAV/l/gvw==\"},\"shape\":[2],\"dtype\":\"float64\",\"order\":\"little\"}],[117807,{\"type\":\"ndarray\",\"array\":{\"type\":\"bytes\",\"data\":\"z2FU55Cv9b/1Cvn2ZY/pPw==\"},\"shape\":[2],\"dtype\":\"float64\",\"order\":\"little\"}],[1091121,{\"type\":\"ndarray\",\"array\":{\"type\":\"bytes\",\"data\":\"FJkRfxOS9b+0CEn/cVwQwA==\"},\"shape\":[2],\"dtype\":\"float64\",\"order\":\"little\"}],[603701,{\"type\":\"ndarray\",\"array\":{\"type\":\"bytes\",\"data\":\"IUdi8oli6T8AAAAAAAAYwA==\"},\"shape\":[2],\"dtype\":\"float64\",\"order\":\"little\"}],[741433,{\"type\":\"ndarray\",\"array\":{\"type\":\"bytes\",\"data\":\"BTQz0oNi8T+A99+tomm1vw==\"},\"shape\":[2],\"dtype\":\"float64\",\"order\":\"little\"}],[65,{\"type\":\"ndarray\",\"array\":{\"type\":\"bytes\",\"data\":\"vF1h5hDI37+r22j706AAwA==\"},\"shape\":[2],\"dtype\":\"float64\",\"order\":\"little\"}],[55873,{\"type\":\"ndarray\",\"array\":{\"type\":\"bytes\",\"data\":\"192BJgKp0r8bS+V9pRX3vw==\"},\"shape\":[2],\"dtype\":\"float64\",\"order\":\"little\"}],[582724,{\"type\":\"ndarray\",\"array\":{\"type\":\"bytes\",\"data\":\"0dSBe3a65D/SZLSHJ1/pvw==\"},\"shape\":[2],\"dtype\":\"float64\",\"order\":\"little\"}],[70,{\"type\":\"ndarray\",\"array\":{\"type\":\"bytes\",\"data\":\"My+jzu9o3b88U/MbUwbxPw==\"},\"shape\":[2],\"dtype\":\"float64\",\"order\":\"little\"}],[35505737,{\"type\":\"ndarray\",\"array\":{\"type\":\"bytes\",\"data\":\"gDNz/LmayT+bS50KEQYLwA==\"},\"shape\":[2],\"dtype\":\"float64\",\"order\":\"little\"}],[31695445,{\"type\":\"ndarray\",\"array\":{\"type\":\"bytes\",\"data\":\"CrvXZFa4DcDoh1H96Y3uPw==\"},\"shape\":[2],\"dtype\":\"float64\",\"order\":\"little\"}],[30815,{\"type\":\"ndarray\",\"array\":{\"type\":\"bytes\",\"data\":\"TKfzvI8lBECeC97ENVjePw==\"},\"shape\":[2],\"dtype\":\"float64\",\"order\":\"little\"}],[379999,{\"type\":\"ndarray\",\"array\":{\"type\":\"bytes\",\"data\":\"kJPyHNBupT+pFj1Lj/j2Pw==\"},\"shape\":[2],\"dtype\":\"float64\",\"order\":\"little\"}],[6541412,{\"type\":\"ndarray\",\"array\":{\"type\":\"bytes\",\"data\":\"Rd70mwRG9r9Z7VTCdCKavw==\"},\"shape\":[2],\"dtype\":\"float64\",\"order\":\"little\"}],[1719400,{\"type\":\"ndarray\",\"array\":{\"type\":\"bytes\",\"data\":\"EHuH1S+Q/j9cEa+jx7ECQA==\"},\"shape\":[2],\"dtype\":\"float64\",\"order\":\"little\"}],[1530988,{\"type\":\"ndarray\",\"array\":{\"type\":\"bytes\",\"data\":\"66+3iBxIAUC5dCREsl8JQA==\"},\"shape\":[2],\"dtype\":\"float64\",\"order\":\"little\"}],[567409,{\"type\":\"ndarray\",\"array\":{\"type\":\"bytes\",\"data\":\"/dOSuB8E5b9gfBiaq5oHQA==\"},\"shape\":[2],\"dtype\":\"float64\",\"order\":\"little\"}],[988797,{\"type\":\"ndarray\",\"array\":{\"type\":\"bytes\",\"data\":\"l/IETlXQAMBf/uyFcZwIwA==\"},\"shape\":[2],\"dtype\":\"float64\",\"order\":\"little\"}],[2129537,{\"type\":\"ndarray\",\"array\":{\"type\":\"bytes\",\"data\":\"Z/NeXRc2/L9cmcIAAakAwA==\"},\"shape\":[2],\"dtype\":\"float64\",\"order\":\"little\"}],[5795969,{\"type\":\"ndarray\",\"array\":{\"type\":\"bytes\",\"data\":\"JPquKvrWEMDfT+FRmhXfvw==\"},\"shape\":[2],\"dtype\":\"float64\",\"order\":\"little\"}],[2692,{\"type\":\"ndarray\",\"array\":{\"type\":\"bytes\",\"data\":\"0qFZvgAvAMA6u4mgidjJPw==\"},\"shape\":[2],\"dtype\":\"float64\",\"order\":\"little\"}],[725640,{\"type\":\"ndarray\",\"array\":{\"type\":\"bytes\",\"data\":\"8uHFrDSzD8Ck5wUSpLPdPw==\"},\"shape\":[2],\"dtype\":\"float64\",\"order\":\"little\"}],[1052814,{\"type\":\"ndarray\",\"array\":{\"type\":\"bytes\",\"data\":\"W3UWUwMODsBmHSUf8sP4Pw==\"},\"shape\":[2],\"dtype\":\"float64\",\"order\":\"little\"}],[82576,{\"type\":\"ndarray\",\"array\":{\"type\":\"bytes\",\"data\":\"MjgdeYSEBUAEylmr0mPUPw==\"},\"shape\":[2],\"dtype\":\"float64\",\"order\":\"little\"}],[721553,{\"type\":\"ndarray\",\"array\":{\"type\":\"bytes\",\"data\":\"MqTn6nlm9L8lTAiRgSr6vw==\"},\"shape\":[2],\"dtype\":\"float64\",\"order\":\"little\"}],[7316,{\"type\":\"ndarray\",\"array\":{\"type\":\"bytes\",\"data\":\"x5US8p3tD8CZqza6qMbrvw==\"},\"shape\":[2],\"dtype\":\"float64\",\"order\":\"little\"}],[8292505,{\"type\":\"ndarray\",\"array\":{\"type\":\"bytes\",\"data\":\"i3jBZ+lRAUC68/RA7YQMwA==\"},\"shape\":[2],\"dtype\":\"float64\",\"order\":\"little\"}],[453786,{\"type\":\"ndarray\",\"array\":{\"type\":\"bytes\",\"data\":\"2rBh0EWiBkDAoxL3KTgDQA==\"},\"shape\":[2],\"dtype\":\"float64\",\"order\":\"little\"}],[8513701,{\"type\":\"ndarray\",\"array\":{\"type\":\"bytes\",\"data\":\"7v0mP5L4BMBKVfK//cEIwA==\"},\"shape\":[2],\"dtype\":\"float64\",\"order\":\"little\"}],[3828398,{\"type\":\"ndarray\",\"array\":{\"type\":\"bytes\",\"data\":\"tiE+NQ3B478oSdjUTajsvw==\"},\"shape\":[2],\"dtype\":\"float64\",\"order\":\"little\"}],[13999,[0,0]],[9799345,{\"type\":\"ndarray\",\"array\":{\"type\":\"bytes\",\"data\":\"oXVDJmpN7D8jMDbVuDgJwA==\"},\"shape\":[2],\"dtype\":\"float64\",\"order\":\"little\"}],[245434,{\"type\":\"ndarray\",\"array\":{\"type\":\"bytes\",\"data\":\"zQmG58BGsT9eI7P2tdYHQA==\"},\"shape\":[2],\"dtype\":\"float64\",\"order\":\"little\"}],[10729669,{\"type\":\"ndarray\",\"array\":{\"type\":\"bytes\",\"data\":\"S9CF0LH64L/TXxuoHK0KwA==\"},\"shape\":[2],\"dtype\":\"float64\",\"order\":\"little\"}],[601802,{\"type\":\"ndarray\",\"array\":{\"type\":\"bytes\",\"data\":\"5olNYbcYub9RhgJty3rWPw==\"},\"shape\":[2],\"dtype\":\"float64\",\"order\":\"little\"}],[203,{\"type\":\"ndarray\",\"array\":{\"type\":\"bytes\",\"data\":\"ScgYV2uYwr8IKepN1UDxPw==\"},\"shape\":[2],\"dtype\":\"float64\",\"order\":\"little\"}],[35487464,{\"type\":\"ndarray\",\"array\":{\"type\":\"bytes\",\"data\":\"cuPW4rLB/D+C1fzWFxgQwA==\"},\"shape\":[2],\"dtype\":\"float64\",\"order\":\"little\"}],[915695,{\"type\":\"ndarray\",\"array\":{\"type\":\"bytes\",\"data\":\"yY1h/gjsBsCBqTHqatMDwA==\"},\"shape\":[2],\"dtype\":\"float64\",\"order\":\"little\"}],[498940,{\"type\":\"ndarray\",\"array\":{\"type\":\"bytes\",\"data\":\"rqrr+VD34z9aSZvdgHAFQA==\"},\"shape\":[2],\"dtype\":\"float64\",\"order\":\"little\"}],[282367,{\"type\":\"ndarray\",\"array\":{\"type\":\"bytes\",\"data\":\"5lKDxXLIC8BWIPjKPx79Pw==\"},\"shape\":[2],\"dtype\":\"float64\",\"order\":\"little\"}],[29586179,{\"type\":\"ndarray\",\"array\":{\"type\":\"bytes\",\"data\":\"XYeWSdpOEsCyY4D+1aU1Pw==\"},\"shape\":[2],\"dtype\":\"float64\",\"order\":\"little\"}],[1801,{\"type\":\"ndarray\",\"array\":{\"type\":\"bytes\",\"data\":\"IN4xrthgsL8D7ySe5JHLPw==\"},\"shape\":[2],\"dtype\":\"float64\",\"order\":\"little\"}],[21258,{\"type\":\"ndarray\",\"array\":{\"type\":\"bytes\",\"data\":\"EEQ+K8O8+D9j6kyNhXsIQA==\"},\"shape\":[2],\"dtype\":\"float64\",\"order\":\"little\"}],[448284,{\"type\":\"ndarray\",\"array\":{\"type\":\"bytes\",\"data\":\"zZMQT9fS4j/1NiJ8cGn/vw==\"},\"shape\":[2],\"dtype\":\"float64\",\"order\":\"little\"}],[242462,{\"type\":\"ndarray\",\"array\":{\"type\":\"bytes\",\"data\":\"jcMm24Dm6D+WumaDNTDSPw==\"},\"shape\":[2],\"dtype\":\"float64\",\"order\":\"little\"}],[6943,{\"type\":\"ndarray\",\"array\":{\"type\":\"bytes\",\"data\":\"R8eO2l1Y8L/4yMLnlhL3Pw==\"},\"shape\":[2],\"dtype\":\"float64\",\"order\":\"little\"}],[513824,{\"type\":\"ndarray\",\"array\":{\"type\":\"bytes\",\"data\":\"TY3YK/NnCUDHR7BQ0xb+Pw==\"},\"shape\":[2],\"dtype\":\"float64\",\"order\":\"little\"}],[27779377,{\"type\":\"ndarray\",\"array\":{\"type\":\"bytes\",\"data\":\"wXVddCNvDcAGRRSXwgjMvw==\"},\"shape\":[2],\"dtype\":\"float64\",\"order\":\"little\"}],[2282814,{\"type\":\"ndarray\",\"array\":{\"type\":\"bytes\",\"data\":\"MFLvJ7pJ4z9TBuxL/qn1Pw==\"},\"shape\":[2],\"dtype\":\"float64\",\"order\":\"little\"}],[155456,{\"type\":\"ndarray\",\"array\":{\"type\":\"bytes\",\"data\":\"Q601f9g49b/GxMhP9oDgvw==\"},\"shape\":[2],\"dtype\":\"float64\",\"order\":\"little\"}],[136512,{\"type\":\"ndarray\",\"array\":{\"type\":\"bytes\",\"data\":\"8ZtOV5y5tT/5X3egjCHBPw==\"},\"shape\":[2],\"dtype\":\"float64\",\"order\":\"little\"}],[232768,{\"type\":\"ndarray\",\"array\":{\"type\":\"bytes\",\"data\":\"KLGoVpJE3T9HwZlEUQngPw==\"},\"shape\":[2],\"dtype\":\"float64\",\"order\":\"little\"}],[1346,{\"type\":\"ndarray\",\"array\":{\"type\":\"bytes\",\"data\":\"Jk6Nuovawb9mFWWqM2/oPw==\"},\"shape\":[2],\"dtype\":\"float64\",\"order\":\"little\"}],[8114503,{\"type\":\"ndarray\",\"array\":{\"type\":\"bytes\",\"data\":\"Tmiv+iUT3797e8rheSf/Pw==\"},\"shape\":[2],\"dtype\":\"float64\",\"order\":\"little\"}],[14073161,{\"type\":\"ndarray\",\"array\":{\"type\":\"bytes\",\"data\":\"e4MuunKPDkBh7oOzqi3SPw==\"},\"shape\":[2],\"dtype\":\"float64\",\"order\":\"little\"}],[3231575,{\"type\":\"ndarray\",\"array\":{\"type\":\"bytes\",\"data\":\"pSz2iaqeD0D3efgFTu/lvw==\"},\"shape\":[2],\"dtype\":\"float64\",\"order\":\"little\"}],[141656,{\"type\":\"ndarray\",\"array\":{\"type\":\"bytes\",\"data\":\"6sLv24Qg+z/pf8qjBYbxPw==\"},\"shape\":[2],\"dtype\":\"float64\",\"order\":\"little\"}],[306014,{\"type\":\"ndarray\",\"array\":{\"type\":\"bytes\",\"data\":\"fsMlKYlb4z8SsitOLDsFwA==\"},\"shape\":[2],\"dtype\":\"float64\",\"order\":\"little\"}],[13154,{\"type\":\"ndarray\",\"array\":{\"type\":\"bytes\",\"data\":\"tCqIpsw7yj+0QV26QZn1Pw==\"},\"shape\":[2],\"dtype\":\"float64\",\"order\":\"little\"}],[432483,{\"type\":\"ndarray\",\"array\":{\"type\":\"bytes\",\"data\":\"yZgS9XnvAkDKoravgmEGQA==\"},\"shape\":[2],\"dtype\":\"float64\",\"order\":\"little\"}],[13155,{\"type\":\"ndarray\",\"array\":{\"type\":\"bytes\",\"data\":\"angsxD3ZC8BiDzsps4HQPw==\"},\"shape\":[2],\"dtype\":\"float64\",\"order\":\"little\"}],[767851,{\"type\":\"ndarray\",\"array\":{\"type\":\"bytes\",\"data\":\"jj28LMlB7r/WE9Lz2GcBwA==\"},\"shape\":[2],\"dtype\":\"float64\",\"order\":\"little\"}],[3549548,{\"type\":\"ndarray\",\"array\":{\"type\":\"bytes\",\"data\":\"+K+9MFT+07+uhaQelQwHQA==\"},\"shape\":[2],\"dtype\":\"float64\",\"order\":\"little\"}],[33849196,{\"type\":\"ndarray\",\"array\":{\"type\":\"bytes\",\"data\":\"FmHJTXtA7L99hc+tw3EQwA==\"},\"shape\":[2],\"dtype\":\"float64\",\"order\":\"little\"}],[253298,{\"type\":\"ndarray\",\"array\":{\"type\":\"bytes\",\"data\":\"Glmw/N0EAkDL69UCn5wAQA==\"},\"shape\":[2],\"dtype\":\"float64\",\"order\":\"little\"}],[957299,{\"type\":\"ndarray\",\"array\":{\"type\":\"bytes\",\"data\":\"Rgkv6w6lB0BKN11InIr1Pw==\"},\"shape\":[2],\"dtype\":\"float64\",\"order\":\"little\"}],[13184,{\"type\":\"ndarray\",\"array\":{\"type\":\"bytes\",\"data\":\"FOvQNAtk5j/2Hlb9OR3zvw==\"},\"shape\":[2],\"dtype\":\"float64\",\"order\":\"little\"}],[31108,{\"type\":\"ndarray\",\"array\":{\"type\":\"bytes\",\"data\":\"sxwERnhC9D969VBQYtX7Pw==\"},\"shape\":[2],\"dtype\":\"float64\",\"order\":\"little\"}],[414093,{\"type\":\"ndarray\",\"array\":{\"type\":\"bytes\",\"data\":\"WKOVBOxR5T9ysuU6ocrwPw==\"},\"shape\":[2],\"dtype\":\"float64\",\"order\":\"little\"}],[21830556,{\"type\":\"ndarray\",\"array\":{\"type\":\"bytes\",\"data\":\"LNSUxk3yCMAhXoDrf0DxPw==\"},\"shape\":[2],\"dtype\":\"float64\",\"order\":\"little\"}],[428957,{\"type\":\"ndarray\",\"array\":{\"type\":\"bytes\",\"data\":\"nLWEavH9A0BSKUy5G1r5Pw==\"},\"shape\":[2],\"dtype\":\"float64\",\"order\":\"little\"}],[11444638,{\"type\":\"ndarray\",\"array\":{\"type\":\"bytes\",\"data\":\"A9ng/cAG8b+ysR7YT5zovw==\"},\"shape\":[2],\"dtype\":\"float64\",\"order\":\"little\"}],[19877,{\"type\":\"ndarray\",\"array\":{\"type\":\"bytes\",\"data\":\"AcgtoKlI3D9waHGDNkUQwA==\"},\"shape\":[2],\"dtype\":\"float64\",\"order\":\"little\"}],[7367603,{\"type\":\"ndarray\",\"array\":{\"type\":\"bytes\",\"data\":\"EsHky86rzz9w8yc+/+QIQA==\"},\"shape\":[2],\"dtype\":\"float64\",\"order\":\"little\"}],[27945909,{\"type\":\"ndarray\",\"array\":{\"type\":\"bytes\",\"data\":\"3prpfSqu5j9EHqPx8w0MQA==\"},\"shape\":[2],\"dtype\":\"float64\",\"order\":\"little\"}],[951,{\"type\":\"ndarray\",\"array\":{\"type\":\"bytes\",\"data\":\"hQm78Qhv4r+jZOwoGHrwPw==\"},\"shape\":[2],\"dtype\":\"float64\",\"order\":\"little\"}],[3244985,{\"type\":\"ndarray\",\"array\":{\"type\":\"bytes\",\"data\":\"KRm0QDlJCEA6IyvW9rjwvw==\"},\"shape\":[2],\"dtype\":\"float64\",\"order\":\"little\"}],[313277,{\"type\":\"ndarray\",\"array\":{\"type\":\"bytes\",\"data\":\"TxtltXBvCEAfZt/u12fwPw==\"},\"shape\":[2],\"dtype\":\"float64\",\"order\":\"little\"}],[758208,{\"type\":\"ndarray\",\"array\":{\"type\":\"bytes\",\"data\":\"4Ab1eSJa97+GE6P+LRv2vw==\"},\"shape\":[2],\"dtype\":\"float64\",\"order\":\"little\"}],[576450,{\"type\":\"ndarray\",\"array\":{\"type\":\"bytes\",\"data\":\"ReLoNcBlEcBqgrbXQuzePw==\"},\"shape\":[2],\"dtype\":\"float64\",\"order\":\"little\"}],[1001939,{\"type\":\"ndarray\",\"array\":{\"type\":\"bytes\",\"data\":\"LJEHyJJI5D/q36YlBo7uPw==\"},\"shape\":[2],\"dtype\":\"float64\",\"order\":\"little\"}],[8374741,{\"type\":\"ndarray\",\"array\":{\"type\":\"bytes\",\"data\":\"BTZk7UOa9D98eDDmJ4YLQA==\"},\"shape\":[2],\"dtype\":\"float64\",\"order\":\"little\"}],[1633246,{\"type\":\"ndarray\",\"array\":{\"type\":\"bytes\",\"data\":\"Bdzdame6AcCw8h+pfgLsvw==\"},\"shape\":[2],\"dtype\":\"float64\",\"order\":\"little\"}],[4210142,{\"type\":\"ndarray\",\"array\":{\"type\":\"bytes\",\"data\":\"g9P+uT2t+T+dv5fsyhEEQA==\"},\"shape\":[2],\"dtype\":\"float64\",\"order\":\"little\"}],[213477,{\"type\":\"ndarray\",\"array\":{\"type\":\"bytes\",\"data\":\"1YYhTDOl+j/Al462pK/lPw==\"},\"shape\":[2],\"dtype\":\"float64\",\"order\":\"little\"}],[777705,{\"type\":\"ndarray\",\"array\":{\"type\":\"bytes\",\"data\":\"T8U+PVNG6D8KdqjAHbkIQA==\"},\"shape\":[2],\"dtype\":\"float64\",\"order\":\"little\"}],[138219,{\"type\":\"ndarray\",\"array\":{\"type\":\"bytes\",\"data\":\"/1gBO+BU8z/1EL+w/Wv+Pw==\"},\"shape\":[2],\"dtype\":\"float64\",\"order\":\"little\"}],[24557,{\"type\":\"ndarray\",\"array\":{\"type\":\"bytes\",\"data\":\"ZkXoOI6++z+OhS1mjAgIwA==\"},\"shape\":[2],\"dtype\":\"float64\",\"order\":\"little\"}],[51194355,{\"type\":\"ndarray\",\"array\":{\"type\":\"bytes\",\"data\":\"QcXO/G6BEMCwldB/9K7vPw==\"},\"shape\":[2],\"dtype\":\"float64\",\"order\":\"little\"}],[1079805,{\"type\":\"ndarray\",\"array\":{\"type\":\"bytes\",\"data\":\"/Pt7k5C98T8XHqCGnVMFQA==\"},\"shape\":[2],\"dtype\":\"float64\",\"order\":\"little\"}],[101375,{\"type\":\"ndarray\",\"array\":{\"type\":\"bytes\",\"data\":\"iEJ7OLro+D/NBwQn/dGgvw==\"},\"shape\":[2],\"dtype\":\"float64\",\"order\":\"little\"}]]}}},\"node_renderer\":{\"type\":\"object\",\"name\":\"GlyphRenderer\",\"id\":\"p18307\",\"attributes\":{\"data_source\":{\"type\":\"object\",\"name\":\"ColumnDataSource\",\"id\":\"p18304\",\"attributes\":{\"selected\":{\"type\":\"object\",\"name\":\"Selection\",\"id\":\"p18305\",\"attributes\":{\"indices\":[],\"line_indices\":[]}},\"selection_policy\":{\"type\":\"object\",\"name\":\"UnionRenderers\",\"id\":\"p18306\"},\"data\":{\"type\":\"map\",\"entries\":[[\"adjusted_cached_count\",[5.517452896464707,5.973809611869261,10.518186586766932,5.187385805840755,7.977625098784593,9.169518377455928,12.645298073119001,5.225746673713202,9.806205429729575,11.1154434073529,5.272999558563747,5.0238805208462765,9.540650806483587,10.413522864087675,9.816894269951032,10.931248100232287,10.537150086261182,4.962844630259907,7.645875825184813,8.20166019080868,10.870186186954129,10.591169827665006,6.61338421837956,5.25227342804663,5.568344503761097,7.430114138561801,9.13227071655426,5.831882477283517,11.570826380865066,7.807510042216193,5.634789603169249,10.140849541087894,11.002249829955362,7.8567067930958405,5.111987788356544,6.366470447731438,5.0689042022202315,12.22635065001279,11.562753185929502,6.2422232654551655,8.31238059678675,4.890349128221754,10.422430144404066,9.89495122151384,4.962844630259907,9.461332526110132,5.834810737062605,5.730099782973574,4.787491742782046,10.493992741124194,7.9211727215870145,9.788637710857186,10.909417871295242,9.453600226875217,6.583409222158765,5.272999558563747,10.204073510592933,9.296334565143043,12.799178471909892,11.007336107999484,10.232179601838379,9.397400683117311,5.497168225293202,4.882801922586371,7.061334366910438,5.805134968916488,10.771428023469236,6.97166860472579,8.076204527239026,10.280587479087396,5.780743515792329,4.852030263919617,9.60393530751386,6.659293919683638,9.2605580881368,7.485491608030754,12.390629202848693,7.974532844130228,5.497168225293202,10.782263315647524,9.26955223160803,7.64826303090192,5.123963979403259,10.333027196085467,5.937536205082426,7.138866999945524,11.782334090333578,7.444833273892193,11.96917240335714,6.645090969505644,9.996932357245992,7.316548177182976,6.359573868672378,6.274762021241939,7.411556287811163,7.845416036592485,5.375278407684165,6.911747300251674,11.472113887062386]],[\"fandom\",[\"The Incredible Hulk (Comics)\",\"\\u706b\\u5f71\\u5fcd\\u8005\",\"One Piece\",\"Catalyst: A Rogue One Novel - James Luceno\",\"Super Smash Brothers\",\"\\u30c0\\u30a4\\u30e4\\u306eA | Daiya no A | Ace of Diamond\",\"Supernatural\",\"Star Wars (Marvel Comics)\",\"Katekyou Hitman Reborn!\",\"Homestuck\",\"Avatar (TV)\",\"DBZ - Fandom\",\"The Lord of the Rings - All Media Types\",\"Avatar: The Last Airbender\",\"Fairy Tail\",\"Miraculous Ladybug\",\"Stargate Atlantis\",\"Naruto (Anime) RPF\",\"Ancient Greek Religion & Lore\",\"Batman (Movies - Nolan)\",\"Once Upon a Time (TV)\",\"Undertale (Video Game)\",\"Sebastian Stan - Fandom\",\"the winter soldier - Fandom\",\"Black Panther (Comics)\",\"Attack on Titan\",\"Tokyo Ghoul\",\"Pathfinder (Roleplaying Game)\",\"Original Work\",\"Creepypasta - Fandom\",\"Monster Girls | Monster Boys\",\"Batman (Comics)\",\"Shingeki no Kyojin | Attack on Titan\",\"Historical RPF\",\"Pocket Monsters: FireRed & LeafGreen | Pokemon FireRed & LeafGreen Versions\",\"Ultimate Spider-Man (Cartoon)\",\"\\u9032\\u6483\\uff01\\u5de8\\u4eba\\u4e2d\\u5b66\\u6821 | Shingeki! Kyojin Chuugakkou | Attack on Titan: Junior High\",\"\\u50d5\\u306e\\u30d2\\u30fc\\u30ed\\u30fc\\u30a2\\u30ab\\u30c7\\u30df\\u30a2 | Boku no Hero Academia | My Hero Academia\",\"Naruto\",\"Dreaming of Sunshine - Silver Queen\",\"Thor (2011)\",\"Sasusaku - Fandom\",\"Star Trek: Alternate Original Series (Movies)\",\"Torchwood\",\"\\u30dd\\u30b1\\u30e2\\u30f3\\u30de\\u30b9\\u30bf\\u30fc\\u30ba | Pokemon Masters\",\"haikyuu\",\"Steve Rogers - Fandom\",\"Fantasy - Fandom\",\"2770 ab urbe condita - Fandom\",\"Star Trek\",\"Young Avengers\",\"Pocket Monsters | Pokemon - All Media Types\",\"Game of Thrones (TV)\",\"Real Person Fiction\",\"Political Animals\",\"exophilia - Fandom\",\"The Flash (TV 2014)\",\"Kuroshitsuji | Black Butler\",\"Harry Potter - J. K. Rowling\",\"Merlin (TV)\",\"Buffy the Vampire Slayer\",\"Lucifer (TV)\",\"The Last Jedi\",\"Star Wars Legends: Outbound Flight - Timothy Zahn\",\"Thor - Fandom\",\"Naruto Shippuden\",\"Glee\",\"Venom (Comics)\",\"Greek and Roman Mythology\",\"RWBY\",\"Fantastic Four (Movies 2005-2007)\",\"The Rise of Kyoshi\",\"X-Men: First Class (2011) - Fandom\",\"Chris Evans - Fandom\",\"InuYasha - A Feudal Fairy Tale\",\"Spider-Man (Comicverse)\",\"Marvel Cinematic Universe\",\"SKAM (Norway)\",\"Winter Soldier - Fandom\",\"Yuri!!! on Ice (Anime)\",\"Dragon Ball\",\"DC Extended Universe\",\"Avengers: Endgame - Fandom\",\"NCIS\",\"Star Wars Legends: Republic Commando Series - Karen Traviss\",\"Avengers (Marvel) - All Media Types\",\"Haikyuu!!\",\"Multi-Fandom\",\"The Avengers (Marvel Movies)\",\"Avengers Academy (Video Game)\",\"Dangan Ronpa - All Media Types\",\"DC Cinematic Universe\",\"Avengers: Earth's Mightiest Heroes\",\"Guardians of the Galaxy (Comics)\",\"Deadpool (Comics)\",\"Pokemon - Fandom\",\"r/gonewildaudio\",\"Young Avengers (Comics)\",\"Star Wars - All Media Types\"]],[\"adjusted_node_size\",[0.2,0.1,0.5,0.2,1.2,0.1,6.4,0.1,0.4,0.6,0.1,0.1,1.1,0.6,0.4,0.8,1.1,0.1,0.3,0.9,0.9,0.9,0.1,0.1,0.2,0.2,0.4,0.2,3.0,0.3,0.1,5.3,0.9,0.8,0.2,0.1,0.1,2.9,2.2,0.1,0.8,0.1,1.3,1.1,0.1,0.1,0.5,0.1,0.1,1.5,0.6,2.6,0.8,2.7,0.2,0.1,1.5,0.3,9.7,1.2,2.0,0.5,0.2,0.1,0.6,0.1,0.9,0.5,0.4,0.2,0.1,0.1,0.7,0.1,0.5,1.2,12.8,0.4,0.2,0.3,0.4,0.9,0.1,1.3,0.2,0.4,1.1,0.2,9.2,0.3,1.0,1.0,0.3,0.5,1.1,0.2,0.1,0.5,4.8]],[\"degree\",[2,1,5,2,12,1,64,1,4,6,1,1,11,6,4,8,11,1,3,9,9,9,1,1,2,2,4,2,30,3,1,53,9,8,2,1,1,29,22,1,8,1,13,11,1,1,5,1,1,15,6,26,8,27,2,1,15,3,97,12,20,5,2,1,6,1,9,5,4,2,1,1,7,1,5,12,128,4,2,3,4,9,1,13,2,4,11,2,92,3,10,10,3,5,11,2,1,5,48]],[\"cached_count\",[248,392,36981,178,2914,9599,310300,185,18145,67200,194,151,13913,33306,18340,55895,37689,142,2091,3646,52584,39781,744,190,261,1685,9248,340,105960,2458,279,25357,60008,2582,165,581,158,204096,105108,513,4073,132,33604,19829,142,12852,341,307,119,36097,2754,17829,54688,12753,722,194,27012,10897,361919,60314,27782,12056,243,131,1165,331,47639,1065,3216,29160,323,127,14822,779,10514,1781,240536,2905,243,48158,10609,2096,167,30730,378,1259,130918,1710,157813,768,21958,1504,577,530,1654,2553,215,1003,96000]],[\"index\",[730115,13045252,10767,12358675,45591,1486363,27,6599711,244259,117807,1091121,603701,741433,65,55873,582724,70,35505737,31695445,30815,379999,6541412,1719400,1530988,567409,988797,2129537,5795969,2692,725640,1052814,82576,721553,7316,8292505,453786,8513701,3828398,13999,9799345,245434,10729669,601802,203,35487464,915695,498940,282367,29586179,1801,21258,448284,242462,6943,513824,27779377,2282814,155456,136512,232768,1346,8114503,14073161,3231575,141656,306014,13154,432483,13155,767851,3549548,33849196,253298,957299,13184,31108,414093,21830556,428957,11444638,19877,7367603,27945909,951,3244985,313277,758208,576450,1001939,8374741,1633246,4210142,213477,777705,138219,24557,51194355,1079805,101375]]]}}},\"view\":{\"type\":\"object\",\"name\":\"CDSView\",\"id\":\"p18308\",\"attributes\":{\"filter\":{\"type\":\"object\",\"name\":\"AllIndices\",\"id\":\"p18309\"}}},\"glyph\":{\"type\":\"object\",\"name\":\"Circle\",\"id\":\"p18321\",\"attributes\":{\"radius\":{\"type\":\"value\",\"value\":0.3},\"fill_color\":{\"type\":\"field\",\"field\":\"adjusted_cached_count\",\"transform\":{\"type\":\"object\",\"name\":\"LinearColorMapper\",\"id\":\"p18320\",\"attributes\":{\"palette\":[\"#99000d\",\"#cb181d\",\"#ef3b2c\",\"#fb6a4a\",\"#fc9272\",\"#fcbba1\",\"#fee0d2\",\"#fff5f0\"],\"low\":12.799178471909892,\"high\":4.787491742782046}}},\"fill_alpha\":{\"type\":\"value\",\"value\":0.7}}}}},\"edge_renderer\":{\"type\":\"object\",\"name\":\"GlyphRenderer\",\"id\":\"p18314\",\"attributes\":{\"data_source\":{\"type\":\"object\",\"name\":\"ColumnDataSource\",\"id\":\"p18311\",\"attributes\":{\"selected\":{\"type\":\"object\",\"name\":\"Selection\",\"id\":\"p18312\",\"attributes\":{\"indices\":[],\"line_indices\":[]}},\"selection_policy\":{\"type\":\"object\",\"name\":\"UnionRenderers\",\"id\":\"p18313\"},\"data\":{\"type\":\"map\",\"entries\":[[\"count\",[129,127,217,293,234,121,179,130,146,154,214,1546,110,919,726,134,352,168,168,285,321,178,825,397,148,107,127,101,137,250,564,254,115,141,113,107,304,101,108,192,120,187,170,170,213,104,114,103,102,106,217,108,211,114,137,136,123,379,147,150,304,119,115,141,107,130,101,117,150,116,124,111,102,109,122,314,133,105,105,130,181,153,134,164,111,112,107,169,102,152,102,139,231,164,122,133,153,115,109,547,401,175,333,154,186,233,109,850,106,129,137,231,110,112,110,256,121,110,126,6753,128,147,107,290,140,106,194,108,132,130,122,121,129,178,168,495,114,187,113,213,101,254,153,179,146,150,2270,1599,170,149,132,805,543,161,261,527,121,149,158,119,135,115,102,118,103,176,107,114,145,104,142,145,116,299,132,173,83981,143,178,128,338,103,123,124,124,166,119,161,110,169,168,120,126,163]],[\"weight\",[129,127,217,293,234,121,179,130,146,154,214,1546,110,919,726,134,352,168,168,285,321,178,825,397,148,107,127,101,137,250,564,254,115,141,113,107,304,101,108,192,120,187,170,170,213,104,114,103,102,106,217,108,211,114,137,136,123,379,147,150,304,119,115,141,107,130,101,117,150,116,124,111,102,109,122,314,133,105,105,130,181,153,134,164,111,112,107,169,102,152,102,139,231,164,122,133,153,115,109,547,401,175,333,154,186,233,109,850,106,129,137,231,110,112,110,256,121,110,126,6753,128,147,107,290,140,106,194,108,132,130,122,121,129,178,168,495,114,187,113,213,101,254,153,179,146,150,2270,1599,170,149,132,805,543,161,261,527,121,149,158,119,135,115,102,118,103,176,107,114,145,104,142,145,116,299,132,173,83981,143,178,128,338,103,123,124,124,166,119,161,110,169,168,120,126,163]],[\"start\",[730115,730115,13045252,10767,10767,10767,10767,12358675,45591,1486363,27,27,27,27,27,27,27,27,27,27,27,27,27,27,27,27,27,27,6599711,244259,244259,244259,117807,117807,1091121,603701,741433,741433,741433,65,65,65,65,55873,55873,55873,582724,582724,582724,582724,70,70,70,70,70,35505737,31695445,30815,30815,379999,379999,379999,6541412,6541412,6541412,1719400,1530988,567409,988797,2129537,2129537,2129537,5795969,2692,2692,2692,2692,2692,2692,2692,2692,2692,2692,2692,2692,2692,2692,2692,2692,2692,82576,721553,721553,721553,721553,721553,721553,8292505,453786,3828398,3828398,3828398,3828398,3828398,3828398,3828398,3828398,13999,13999,13999,13999,13999,13999,13999,13999,13999,13999,13999,245434,601802,601802,601802,601802,203,203,203,203,35487464,915695,498940,1801,1801,21258,448284,448284,242462,242462,242462,242462,6943,513824,2282814,2282814,2282814,2282814,155456,136512,136512,136512,136512,136512,136512,136512,136512,136512,136512,232768,232768,1346,1346,1346,1346,8114503,14073161,3231575,141656,141656,13154,13154,432483,3549548,253298,957299,31108,31108,31108,414093,414093,414093,414093,414093,414093,414093,414093,414093,414093,414093,414093,414093,11444638,3244985,1001939,1001939,1001939]],[\"end\",[414093,1001939,13999,13999,136512,55873,3828398,101375,448284,758208,8114503,136512,2282814,414093,1001939,101375,232768,2692,13154,70,951,379999,1346,203,601802,1801,242462,117807,101375,3828398,136512,13999,2692,136512,65,19877,136512,101375,414093,3828398,33849196,136512,13999,3828398,13999,136512,136512,448284,3828398,414093,136512,414093,951,203,1346,13999,2692,82576,414093,414093,136512,1001939,3828398,136512,2692,414093,414093,414093,721553,3828398,721553,758208,2692,576450,725640,136512,1633246,282367,6943,13999,3828398,27779377,1052814,414093,51194355,7316,448284,21830556,29586179,13155,414093,8513701,3828398,758208,155456,13999,136512,448284,414093,13999,758208,1633246,136512,767851,414093,448284,11444638,136512,758208,101375,19877,306014,767851,9799345,448284,13184,414093,10729669,414093,1801,414093,136512,1001939,136512,414093,1001939,1346,448284,758208,414093,101375,136512,414093,24557,136512,136512,101375,414093,1001939,414093,414093,13154,136512,414093,1001939,136512,414093,1001939,951,758208,11444638,232768,101375,13184,13154,1346,1001939,414093,414093,1001939,951,13154,414093,101375,101375,414093,1001939,414093,1001939,414093,414093,414093,414093,138219,1001939,414093,1001939,7367603,1079805,8374741,101375,951,428957,213477,27945909,138219,777705,4210142,313277,758208,101375,138219,101375,213477]]]}}},\"view\":{\"type\":\"object\",\"name\":\"CDSView\",\"id\":\"p18315\",\"attributes\":{\"filter\":{\"type\":\"object\",\"name\":\"AllIndices\",\"id\":\"p18316\"}}},\"glyph\":{\"type\":\"object\",\"name\":\"MultiLine\",\"id\":\"p18322\"}}},\"selection_policy\":{\"type\":\"object\",\"name\":\"NodesOnly\",\"id\":\"p18317\"},\"inspection_policy\":{\"type\":\"object\",\"name\":\"NodesOnly\",\"id\":\"p18318\"}}}],\"toolbar\":{\"type\":\"object\",\"name\":\"Toolbar\",\"id\":\"p18284\",\"attributes\":{\"tools\":[{\"type\":\"object\",\"name\":\"PanTool\",\"id\":\"p18297\"},{\"type\":\"object\",\"name\":\"WheelZoomTool\",\"id\":\"p18298\",\"attributes\":{\"renderers\":\"auto\"}},{\"type\":\"object\",\"name\":\"SaveTool\",\"id\":\"p18299\"},{\"type\":\"object\",\"name\":\"ResetTool\",\"id\":\"p18300\"},{\"type\":\"object\",\"name\":\"HoverTool\",\"id\":\"p18301\",\"attributes\":{\"renderers\":\"auto\",\"tooltips\":[[\"Fandom\",\"@fandom\"],[\"Degree\",\"@degree\"],[\"Count\",\"@cached_count\"]]}}],\"active_scroll\":{\"id\":\"p18298\"}}},\"left\":[{\"type\":\"object\",\"name\":\"LinearAxis\",\"id\":\"p18292\",\"attributes\":{\"ticker\":{\"type\":\"object\",\"name\":\"BasicTicker\",\"id\":\"p18293\",\"attributes\":{\"mantissas\":[1,2,5]}},\"formatter\":{\"type\":\"object\",\"name\":\"BasicTickFormatter\",\"id\":\"p18294\"},\"major_label_policy\":{\"type\":\"object\",\"name\":\"AllLabels\",\"id\":\"p18295\"}}}],\"below\":[{\"type\":\"object\",\"name\":\"LinearAxis\",\"id\":\"p18287\",\"attributes\":{\"ticker\":{\"type\":\"object\",\"name\":\"BasicTicker\",\"id\":\"p18288\",\"attributes\":{\"mantissas\":[1,2,5]}},\"formatter\":{\"type\":\"object\",\"name\":\"BasicTickFormatter\",\"id\":\"p18289\"},\"major_label_policy\":{\"type\":\"object\",\"name\":\"AllLabels\",\"id\":\"p18290\"}}}],\"center\":[{\"type\":\"object\",\"name\":\"Grid\",\"id\":\"p18291\",\"attributes\":{\"axis\":{\"id\":\"p18287\"}}},{\"type\":\"object\",\"name\":\"Grid\",\"id\":\"p18296\",\"attributes\":{\"dimension\":1,\"axis\":{\"id\":\"p18292\"}}}]}}]}};\n  const render_items = [{\"docid\":\"7bfffcfb-0bcb-4c80-8936-50cea7d50c9f\",\"roots\":{\"p18275\":\"bf6863b9-aad5-4d04-95a9-a31efe7030f2\"},\"root_ids\":[\"p18275\"]}];\n  void root.Bokeh.embed.embed_items_notebook(docs_json, render_items);\n  }\n  if (root.Bokeh !== undefined) {\n    embed_document(root);\n  } else {\n    let attempts = 0;\n    const timer = setInterval(function(root) {\n      if (root.Bokeh !== undefined) {\n        clearInterval(timer);\n        embed_document(root);\n      } else {\n        attempts++;\n        if (attempts > 100) {\n          clearInterval(timer);\n          console.log(\"Bokeh: ERROR: Unable to run BokehJS code because BokehJS library is missing\");\n        }\n      }\n    }, 10, root)\n  }\n})(window);",
      "application/vnd.bokehjs_exec.v0+json": ""
     },
     "metadata": {
      "application/vnd.bokehjs_exec.v0+json": {
       "id": "p18275"
      }
     },
     "output_type": "display_data"
    }
   ],
   "source": [
    "#Choose a title!\n",
    "title = 'Ego Network of ' + edgelist_df_small[edgelist_df_small['integer_1'] == ego_fandom]['name_1'].iloc[0]\n",
    "\n",
    "#Create a plot — set dimensions, toolbar, and title\n",
    "plot_ego = figure(tooltips = HOVER_TOOLTIPS,\n",
    "              tools=\"pan,wheel_zoom,save,reset\", active_scroll='wheel_zoom',\n",
    "            x_range=Range1d(-3.5, 3.5), y_range=Range1d(-3.5, 3.5), title=title)\n",
    "\n",
    "# Define the layout\n",
    "pos_ego = nx.spring_layout(ego_graph, scale=6, center=(0, 0))\n",
    "pos_ego[ego_fandom] = (0, 0)\n",
    "\n",
    "# Convert the NetworkX graph to a Bokeh graph\n",
    "graph_ego = from_networkx(ego_graph, pos_ego)\n",
    "\n",
    "#Set node sizes and colors according to node degree (color as spectrum of color palette)\n",
    "minimum_value_color_ego = min(graph_ego.node_renderer.data_source.data[color_by_this_attribute])\n",
    "maximum_value_color_ego = max(graph_ego.node_renderer.data_source.data[color_by_this_attribute])\n",
    "graph_ego.node_renderer.glyph = Circle(radius=0.3, fill_color=linear_cmap(color_by_this_attribute, color_palette, maximum_value_color_ego, minimum_value_color_ego), fill_alpha=0.7)\n",
    "graph_ego.edge_renderer.glyph = MultiLine(line_alpha=1, line_width=1, line_color=\"black\")\n",
    "\n",
    "plot_ego.renderers.append(graph_ego)\n",
    "\n",
    "show(plot_ego)\n"
   ]
  },
  {
   "cell_type": "markdown",
   "metadata": {},
   "source": [
    "### Haikyuu!!"
   ]
  },
  {
   "cell_type": "code",
   "execution_count": 397,
   "metadata": {},
   "outputs": [
    {
     "name": "stdout",
     "output_type": "stream",
     "text": [
      "Number of nodes in ego graph: 52\n",
      "Number of edges in ego graph: 97\n"
     ]
    }
   ],
   "source": [
    "ego_fandom = 758208\n",
    "ego_graph = nx.ego_graph(G_ego, ego_fandom, radius=3, distance=custom_distance)\n",
    "\n",
    "# Check the number of nodes and edges\n",
    "print(f\"Number of nodes in ego graph: {ego_graph.number_of_nodes()}\")\n",
    "print(f\"Number of edges in ego graph: {ego_graph.number_of_edges()}\")"
   ]
  },
  {
   "cell_type": "code",
   "execution_count": 403,
   "metadata": {},
   "outputs": [
    {
     "data": {
      "text/html": [
       "\n",
       "  <div id=\"d6a89ca9-2eda-4c1b-b82d-1c50f7d1f999\" data-root-id=\"p18985\" style=\"display: contents;\"></div>\n"
      ]
     },
     "metadata": {},
     "output_type": "display_data"
    },
    {
     "data": {
      "application/javascript": "(function(root) {\n  function embed_document(root) {\n  const docs_json = {\"49644c97-30cc-4ae0-9390-b8c878223fae\":{\"version\":\"3.4.1\",\"title\":\"Bokeh Application\",\"roots\":[{\"type\":\"object\",\"name\":\"Figure\",\"id\":\"p18985\",\"attributes\":{\"x_range\":{\"type\":\"object\",\"name\":\"Range1d\",\"id\":\"p18983\",\"attributes\":{\"start\":-4,\"end\":4}},\"y_range\":{\"type\":\"object\",\"name\":\"Range1d\",\"id\":\"p18984\",\"attributes\":{\"start\":-4,\"end\":4}},\"x_scale\":{\"type\":\"object\",\"name\":\"LinearScale\",\"id\":\"p18995\"},\"y_scale\":{\"type\":\"object\",\"name\":\"LinearScale\",\"id\":\"p18996\"},\"title\":{\"type\":\"object\",\"name\":\"Title\",\"id\":\"p18988\",\"attributes\":{\"text\":\"Ego Network of Haikyuu!!\"}},\"renderers\":[{\"type\":\"object\",\"name\":\"GraphRenderer\",\"id\":\"p19012\",\"attributes\":{\"layout_provider\":{\"type\":\"object\",\"name\":\"StaticLayoutProvider\",\"id\":\"p19029\",\"attributes\":{\"graph_layout\":{\"type\":\"map\",\"entries\":[[2129537,{\"type\":\"ndarray\",\"array\":{\"type\":\"bytes\",\"data\":\"Lrgw7L0iB0B+lrBuNbMCwA==\"},\"shape\":[2],\"dtype\":\"float64\",\"order\":\"little\"}],[865923,{\"type\":\"ndarray\",\"array\":{\"type\":\"bytes\",\"data\":\"ZKRybC9PEEASionUOsbwvw==\"},\"shape\":[2],\"dtype\":\"float64\",\"order\":\"little\"}],[2692,{\"type\":\"ndarray\",\"array\":{\"type\":\"bytes\",\"data\":\"mSIAUgiccj+APSWNsqjFvw==\"},\"shape\":[2],\"dtype\":\"float64\",\"order\":\"little\"}],[22073991,{\"type\":\"ndarray\",\"array\":{\"type\":\"bytes\",\"data\":\"NSUdiVIpCMB/e02AK+LTPw==\"},\"shape\":[2],\"dtype\":\"float64\",\"order\":\"little\"}],[1801,{\"type\":\"ndarray\",\"array\":{\"type\":\"bytes\",\"data\":\"O0xCcN1/xr8+gqsKOR0DwA==\"},\"shape\":[2],\"dtype\":\"float64\",\"order\":\"little\"}],[5148298,{\"type\":\"ndarray\",\"array\":{\"type\":\"bytes\",\"data\":\"upr9UcP+87+mlv6qetn5Pw==\"},\"shape\":[2],\"dtype\":\"float64\",\"order\":\"little\"}],[414093,{\"type\":\"ndarray\",\"array\":{\"type\":\"bytes\",\"data\":\"XHpTWOfP2r9KbDH+D1DVPw==\"},\"shape\":[2],\"dtype\":\"float64\",\"order\":\"little\"}],[587792,{\"type\":\"ndarray\",\"array\":{\"type\":\"bytes\",\"data\":\"6OyDzmJj9L+hhatkBrz1Pw==\"},\"shape\":[2],\"dtype\":\"float64\",\"order\":\"little\"}],[721553,{\"type\":\"ndarray\",\"array\":{\"type\":\"bytes\",\"data\":\"OGeC7aev+D+v4ah4L5Xyvw==\"},\"shape\":[2],\"dtype\":\"float64\",\"order\":\"little\"}],[1486363,{\"type\":\"ndarray\",\"array\":{\"type\":\"bytes\",\"data\":\"5TelMYswEUDpt+3yhk4BwA==\"},\"shape\":[2],\"dtype\":\"float64\",\"order\":\"little\"}],[448284,{\"type\":\"ndarray\",\"array\":{\"type\":\"bytes\",\"data\":\"hdktg3/x4T+DKFTO61yvPw==\"},\"shape\":[2],\"dtype\":\"float64\",\"order\":\"little\"}],[14621,{\"type\":\"ndarray\",\"array\":{\"type\":\"bytes\",\"data\":\"IHHtBK9d978MnIx1JYQIQA==\"},\"shape\":[2],\"dtype\":\"float64\",\"order\":\"little\"}],[11444638,{\"type\":\"ndarray\",\"array\":{\"type\":\"bytes\",\"data\":\"MYmgVunQ/T+xj7k75RHTvw==\"},\"shape\":[2],\"dtype\":\"float64\",\"order\":\"little\"}],[131997,{\"type\":\"ndarray\",\"array\":{\"type\":\"bytes\",\"data\":\"RJB1N7eB/78EcaWDZtADQA==\"},\"shape\":[2],\"dtype\":\"float64\",\"order\":\"little\"}],[6856609,{\"type\":\"ndarray\",\"array\":{\"type\":\"bytes\",\"data\":\"A/bMaHX3CMCygsXlMHH6vw==\"},\"shape\":[2],\"dtype\":\"float64\",\"order\":\"little\"}],[9892,{\"type\":\"ndarray\",\"array\":{\"type\":\"bytes\",\"data\":\"VRhmtUlVDcC5gngoagnyvw==\"},\"shape\":[2],\"dtype\":\"float64\",\"order\":\"little\"}],[19877,{\"type\":\"ndarray\",\"array\":{\"type\":\"bytes\",\"data\":\"IQZUN2X5DECzYsvnk+jvPw==\"},\"shape\":[2],\"dtype\":\"float64\",\"order\":\"little\"}],[934,{\"type\":\"ndarray\",\"array\":{\"type\":\"bytes\",\"data\":\"HzhzfWhA97+MEqdRpr4DwA==\"},\"shape\":[2],\"dtype\":\"float64\",\"order\":\"little\"}],[3828398,{\"type\":\"ndarray\",\"array\":{\"type\":\"bytes\",\"data\":\"Z027tikA8D/CSjg1GE3Qvw==\"},\"shape\":[2],\"dtype\":\"float64\",\"order\":\"little\"}],[13999,{\"type\":\"ndarray\",\"array\":{\"type\":\"bytes\",\"data\":\"GSlRmzkn7z9+X5u/D+PYPw==\"},\"shape\":[2],\"dtype\":\"float64\",\"order\":\"little\"}],[969647,{\"type\":\"ndarray\",\"array\":{\"type\":\"bytes\",\"data\":\"Kbg+SRCh4r+t+rcd+Kr4Pw==\"},\"shape\":[2],\"dtype\":\"float64\",\"order\":\"little\"}],[9799345,{\"type\":\"ndarray\",\"array\":{\"type\":\"bytes\",\"data\":\"qkCyTFuBBEDwXCHwYzYIQA==\"},\"shape\":[2],\"dtype\":\"float64\",\"order\":\"little\"}],[873394,{\"type\":\"ndarray\",\"array\":{\"type\":\"bytes\",\"data\":\"EYMIWloE/b9t++MMpWgIwA==\"},\"shape\":[2],\"dtype\":\"float64\",\"order\":\"little\"}],[223664,{\"type\":\"ndarray\",\"array\":{\"type\":\"bytes\",\"data\":\"j/Dg7C64BcAhBIBYYN75Pw==\"},\"shape\":[2],\"dtype\":\"float64\",\"order\":\"little\"}],[117807,{\"type\":\"ndarray\",\"array\":{\"type\":\"bytes\",\"data\":\"dpaFltWk+78Msik27RDrvw==\"},\"shape\":[2],\"dtype\":\"float64\",\"order\":\"little\"}],[2207797,{\"type\":\"ndarray\",\"array\":{\"type\":\"bytes\",\"data\":\"mYtND8PMCMDFWARnpzTyPw==\"},\"shape\":[2],\"dtype\":\"float64\",\"order\":\"little\"}],[758208,[0,0]],[136512,{\"type\":\"ndarray\",\"array\":{\"type\":\"bytes\",\"data\":\"81RQdKOF5b/Ky87PELuyPw==\"},\"shape\":[2],\"dtype\":\"float64\",\"order\":\"little\"}],[55873,{\"type\":\"ndarray\",\"array\":{\"type\":\"bytes\",\"data\":\"gE49ZuvT7j9rZ9SDZxfqvw==\"},\"shape\":[2],\"dtype\":\"float64\",\"order\":\"little\"}],[65,{\"type\":\"ndarray\",\"array\":{\"type\":\"bytes\",\"data\":\"0vR8Z0ftxL/YMl2NHBDlvw==\"},\"shape\":[2],\"dtype\":\"float64\",\"order\":\"little\"}],[582724,{\"type\":\"ndarray\",\"array\":{\"type\":\"bytes\",\"data\":\"YefmpACi0z94juq2FELzPw==\"},\"shape\":[2],\"dtype\":\"float64\",\"order\":\"little\"}],[10729669,{\"type\":\"ndarray\",\"array\":{\"type\":\"bytes\",\"data\":\"6N1f52ItDEBQ3pBqQgAAQA==\"},\"shape\":[2],\"dtype\":\"float64\",\"order\":\"little\"}],[367430,{\"type\":\"ndarray\",\"array\":{\"type\":\"bytes\",\"data\":\"0qSBEbgaBsCOPTV1ankDQA==\"},\"shape\":[2],\"dtype\":\"float64\",\"order\":\"little\"}],[741444,{\"type\":\"ndarray\",\"array\":{\"type\":\"bytes\",\"data\":\"SJivBFY4AMDuRbJzmOwFwA==\"},\"shape\":[2],\"dtype\":\"float64\",\"order\":\"little\"}],[155456,{\"type\":\"ndarray\",\"array\":{\"type\":\"bytes\",\"data\":\"P3CAKejS7j9DV7SN5PkAwA==\"},\"shape\":[2],\"dtype\":\"float64\",\"order\":\"little\"}],[35505737,{\"type\":\"ndarray\",\"array\":{\"type\":\"bytes\",\"data\":\"nuKXWnIc+T80J6l7pQIJQA==\"},\"shape\":[2],\"dtype\":\"float64\",\"order\":\"little\"}],[601802,{\"type\":\"ndarray\",\"array\":{\"type\":\"bytes\",\"data\":\"EFW9SJfzyL9uunzIIE4BwA==\"},\"shape\":[2],\"dtype\":\"float64\",\"order\":\"little\"}],[131277,{\"type\":\"ndarray\",\"array\":{\"type\":\"bytes\",\"data\":\"XTl2bVdeD8CTHSY02r/Rvw==\"},\"shape\":[2],\"dtype\":\"float64\",\"order\":\"little\"}],[130638,{\"type\":\"ndarray\",\"array\":{\"type\":\"bytes\",\"data\":\"eLehbf841r/y2vJYdk3ePw==\"},\"shape\":[2],\"dtype\":\"float64\",\"order\":\"little\"}],[116314,{\"type\":\"ndarray\",\"array\":{\"type\":\"bytes\",\"data\":\"UE1RYLo0078wg53+qnEFQA==\"},\"shape\":[2],\"dtype\":\"float64\",\"order\":\"little\"}],[613602,{\"type\":\"ndarray\",\"array\":{\"type\":\"bytes\",\"data\":\"3V0elEdC5z9gcQ6WHVcDQA==\"},\"shape\":[2],\"dtype\":\"float64\",\"order\":\"little\"}],[6541412,{\"type\":\"ndarray\",\"array\":{\"type\":\"bytes\",\"data\":\"IrTDNrFj7z/WNGfjPNvtPw==\"},\"shape\":[2],\"dtype\":\"float64\",\"order\":\"little\"}],[767851,{\"type\":\"ndarray\",\"array\":{\"type\":\"bytes\",\"data\":\"8CfTSDT9BUC+EKWDvcfdPw==\"},\"shape\":[2],\"dtype\":\"float64\",\"order\":\"little\"}],[915695,{\"type\":\"ndarray\",\"array\":{\"type\":\"bytes\",\"data\":\"AAAAAAAAFECZoeMupoT5vw==\"},\"shape\":[2],\"dtype\":\"float64\",\"order\":\"little\"}],[3203183,{\"type\":\"ndarray\",\"array\":{\"type\":\"bytes\",\"data\":\"JBwQ6E8kEECGvRtTvhIQwA==\"},\"shape\":[2],\"dtype\":\"float64\",\"order\":\"little\"}],[17792625,{\"type\":\"ndarray\",\"array\":{\"type\":\"bytes\",\"data\":\"WrXMzq2TB8DuAcatdrLfvw==\"},\"shape\":[2],\"dtype\":\"float64\",\"order\":\"little\"}],[47474,{\"type\":\"ndarray\",\"array\":{\"type\":\"bytes\",\"data\":\"SYJAAZ4++j/zNPCAbWj9Pw==\"},\"shape\":[2],\"dtype\":\"float64\",\"order\":\"little\"}],[6637939,{\"type\":\"ndarray\",\"array\":{\"type\":\"bytes\",\"data\":\"6jIR3xKh47/PWpiBKAoLQA==\"},\"shape\":[2],\"dtype\":\"float64\",\"order\":\"little\"}],[6048501,{\"type\":\"ndarray\",\"array\":{\"type\":\"bytes\",\"data\":\"jfFH4SVNs7/5d7R7K4X5vw==\"},\"shape\":[2],\"dtype\":\"float64\",\"order\":\"little\"}],[287734,{\"type\":\"ndarray\",\"array\":{\"type\":\"bytes\",\"data\":\"3V6H/P6MD8C9zscoFwfnPw==\"},\"shape\":[2],\"dtype\":\"float64\",\"order\":\"little\"}],[824702,{\"type\":\"ndarray\",\"array\":{\"type\":\"bytes\",\"data\":\"C6bBxCcWBMD/YFpWegb+vw==\"},\"shape\":[2],\"dtype\":\"float64\",\"order\":\"little\"}],[101375,{\"type\":\"ndarray\",\"array\":{\"type\":\"bytes\",\"data\":\"iemlizCHsL9+dwpgHr/2vw==\"},\"shape\":[2],\"dtype\":\"float64\",\"order\":\"little\"}]]}}},\"node_renderer\":{\"type\":\"object\",\"name\":\"GlyphRenderer\",\"id\":\"p19017\",\"attributes\":{\"data_source\":{\"type\":\"object\",\"name\":\"ColumnDataSource\",\"id\":\"p19014\",\"attributes\":{\"selected\":{\"type\":\"object\",\"name\":\"Selection\",\"id\":\"p19015\",\"attributes\":{\"indices\":[],\"line_indices\":[]}},\"selection_policy\":{\"type\":\"object\",\"name\":\"UnionRenderers\",\"id\":\"p19016\"},\"data\":{\"type\":\"map\",\"entries\":[[\"adjusted_cached_count\",[9.13227071655426,10.029459192098065,11.570826380865066,4.955827057601261,10.493992741124194,10.544525316297522,12.390629202848693,10.11480140809676,11.002249829955362,9.169518377455928,9.788637710857186,8.172729104865471,10.782263315647524,8.030409562130485,10.527606146685637,10.139191885895196,9.26955223160803,9.346268889200427,12.22635065001279,11.562753185929502,10.14419593502981,6.2422232654551655,9.745194973541535,8.387539983189367,11.1154434073529,9.023408202624545,11.782334090333578,12.799178471909892,9.816894269951032,10.413522864087675,10.931248100232287,4.890349128221754,5.25227342804663,8.528528701079983,9.296334565143043,4.962844630259907,10.422430144404066,6.854354502255021,10.06951033636058,9.201501423308978,9.320449594656212,10.591169827665006,10.280587479087396,9.461332526110132,5.117993812416755,9.439306936593182,9.174609562020384,9.910314197878405,10.686909529335855,7.8928255262511176,9.295140973668648,11.472113887062386]],[\"fandom\",[\"Tokyo Ghoul\",\"Free!\",\"Original Work\",\"Harry Potter: Hogwarts Mystery\",\"Star Trek\",\"Supergirl (TV 2015)\",\"Marvel Cinematic Universe\",\"Arrow (TV 2012)\",\"Shingeki no Kyojin | Attack on Titan\",\"\\u30c0\\u30a4\\u30e4\\u306eA | Daiya no A | Ace of Diamond\",\"Pocket Monsters | Pokemon - All Media Types\",\"Labyrinth (1986)\",\"Yuri!!! on Ice (Anime)\",\"Discworld - Terry Pratchett\",\"Shadowhunters (TV)\",\"Criminal Minds\",\"Dragon Ball\",\"Angel: the Series\",\"\\u50d5\\u306e\\u30d2\\u30fc\\u30ed\\u30fc\\u30a2\\u30ab\\u30c7\\u30df\\u30a2 | Boku no Hero Academia | My Hero Academia\",\"Naruto\",\"DCU (Comics)\",\"Dreaming of Sunshine - Silver Queen\",\"The Hobbit (Jackson Movies)\",\"Pirates of the Caribbean (Movies)\",\"Homestuck\",\"How to Train Your Dragon (Movies)\",\"Haikyuu!!\",\"Harry Potter - J. K. Rowling\",\"Fairy Tail\",\"Avatar: The Last Airbender\",\"Miraculous Ladybug\",\"Sasusaku - Fandom\",\"Marauders - Fandom\",\"The Lord of the Rings (Movies)\",\"Kuroshitsuji | Black Butler\",\"Naruto (Anime) RPF\",\"Star Trek: Alternate Original Series (Movies)\",\"Anita Blake: Vampire Hunter - Laurell K. Hamilton\",\"Spider-Man - All Media Types\",\"Hunger Games Trilogy - Suzanne Collins\",\"James Bond (Craig movies)\",\"Undertale (Video Game)\",\"RWBY\",\"haikyuu\",\"Tokyo Ghoul:re\",\"Criminal Minds (US TV)\",\"Danny Phantom\",\"Hamilton - Miranda\",\"Star Wars Sequel Trilogy\",\"Chronicles of Narnia - All Media Types\",\"Fullmetal Alchemist: Brotherhood & Manga\",\"Star Wars - All Media Types\"]],[\"adjusted_node_size\",[0.4,0.4,3.0,0.1,1.5,1.7,12.8,1.9,0.9,0.1,2.6,0.1,0.3,0.1,1.4,0.5,0.4,0.6,2.9,2.2,6.3,0.1,1.0,0.4,0.6,0.8,1.1,9.7,0.4,0.6,0.8,0.1,0.1,0.8,0.3,0.1,1.3,0.2,4.0,0.4,0.8,0.9,0.2,0.1,0.1,0.3,0.3,0.8,1.9,0.4,0.4,4.8]],[\"degree\",[4,4,30,1,15,17,128,19,9,1,26,1,3,1,14,5,4,6,29,22,63,1,10,4,6,8,11,97,4,6,8,1,1,8,3,1,13,2,40,4,8,9,2,1,1,3,3,8,19,4,4,48]],[\"cached_count\",[9248,22684,105960,141,36097,37968,240536,24705,60008,9599,17829,3542,48158,3072,37331,25315,10609,11455,204096,105108,25442,513,17071,4391,67200,8294,130918,361919,18340,33306,55895,132,190,5056,10897,142,33604,947,23611,9911,11163,39781,29160,12852,166,12572,9648,20136,43778,2677,10884,96000]],[\"index\",[2129537,865923,2692,22073991,1801,5148298,414093,587792,721553,1486363,448284,14621,11444638,131997,6856609,9892,19877,934,3828398,13999,969647,9799345,873394,223664,117807,2207797,758208,136512,55873,65,582724,10729669,367430,741444,155456,35505737,601802,131277,130638,116314,613602,6541412,767851,915695,3203183,17792625,47474,6637939,6048501,287734,824702,101375]]]}}},\"view\":{\"type\":\"object\",\"name\":\"CDSView\",\"id\":\"p19018\",\"attributes\":{\"filter\":{\"type\":\"object\",\"name\":\"AllIndices\",\"id\":\"p19019\"}}},\"glyph\":{\"type\":\"object\",\"name\":\"Circle\",\"id\":\"p19031\",\"attributes\":{\"radius\":{\"type\":\"value\",\"value\":0.3},\"fill_color\":{\"type\":\"field\",\"field\":\"adjusted_cached_count\",\"transform\":{\"type\":\"object\",\"name\":\"LinearColorMapper\",\"id\":\"p19030\",\"attributes\":{\"palette\":[\"#99000d\",\"#cb181d\",\"#ef3b2c\",\"#fb6a4a\",\"#fc9272\",\"#fcbba1\",\"#fee0d2\",\"#fff5f0\"],\"low\":12.799178471909892,\"high\":4.890349128221754}}},\"fill_alpha\":{\"type\":\"value\",\"value\":0.7}}}}},\"edge_renderer\":{\"type\":\"object\",\"name\":\"GlyphRenderer\",\"id\":\"p19024\",\"attributes\":{\"data_source\":{\"type\":\"object\",\"name\":\"ColumnDataSource\",\"id\":\"p19021\",\"attributes\":{\"selected\":{\"type\":\"object\",\"name\":\"Selection\",\"id\":\"p19022\",\"attributes\":{\"indices\":[],\"line_indices\":[]}},\"selection_policy\":{\"type\":\"object\",\"name\":\"UnionRenderers\",\"id\":\"p19023\"},\"data\":{\"type\":\"map\",\"entries\":[[\"count\",[116,124,111,156,273,314,130,181,164,115,107,107,122,6753,122,121,1284,185,164,114,2270,305,7820,106,338,186,128,242,121,167,119,231,164,122,133,153,154,103,233,168,110,112,132,169,109,122,122,109,137,138,115,547,401,170,333,192,154,102,104,213,850,106,129,110,112,170,110,136,106,118,1012,107,141,141,137,149,132,107,135,114,141,150,543,131,114,103,187,124,112,104,109,123,109,135,147,117,23519]],[\"weight\",[116,124,111,156,273,314,130,181,164,115,107,107,122,6753,122,121,1284,185,164,114,2270,305,7820,106,338,186,128,242,121,167,119,231,164,122,133,153,154,103,233,168,110,112,132,169,109,122,122,109,137,138,115,547,401,170,333,192,154,102,104,213,850,106,129,110,112,170,110,136,106,118,1012,107,141,141,137,149,132,107,135,114,141,150,543,131,114,103,187,124,112,104,109,123,109,135,147,117,23519]],[\"start\",[2129537,2129537,2129537,2129537,865923,2692,2692,2692,2692,2692,2692,2692,22073991,1801,1801,1801,5148298,5148298,5148298,5148298,414093,414093,414093,414093,414093,414093,414093,414093,414093,587792,587792,721553,721553,721553,721553,721553,1486363,448284,448284,448284,448284,14621,11444638,11444638,11444638,131997,6856609,9892,19877,934,3828398,3828398,3828398,3828398,3828398,3828398,3828398,3828398,3828398,13999,13999,13999,13999,13999,13999,13999,13999,13999,969647,969647,873394,873394,223664,117807,2207797,758208,758208,136512,136512,136512,136512,136512,136512,136512,136512,136512,136512,136512,136512,136512,136512,136512,136512,136512,136512,136512,6048501]],[\"end\",[3828398,721553,758208,3203183,758208,136512,13999,3828398,414093,117807,448284,6541412,136512,601802,101375,136512,587792,414093,969647,136512,136512,969647,130638,582724,101375,3828398,601802,587792,13999,969647,136512,3828398,758208,155456,13999,136512,758208,582724,3828398,136512,13999,136512,136512,758208,3828398,136512,136512,136512,13999,136512,6541412,13999,758208,55873,136512,65,767851,582724,130638,55873,136512,758208,101375,767851,9799345,65,10729669,35505737,136512,582724,741444,136512,136512,136512,136512,136512,915695,131277,824702,582724,6541412,155456,101375,17792625,367430,6637939,65,116314,130638,55873,287734,741444,47474,6048501,601802,613602,101375]]]}}},\"view\":{\"type\":\"object\",\"name\":\"CDSView\",\"id\":\"p19025\",\"attributes\":{\"filter\":{\"type\":\"object\",\"name\":\"AllIndices\",\"id\":\"p19026\"}}},\"glyph\":{\"type\":\"object\",\"name\":\"MultiLine\",\"id\":\"p19032\"}}},\"selection_policy\":{\"type\":\"object\",\"name\":\"NodesOnly\",\"id\":\"p19027\"},\"inspection_policy\":{\"type\":\"object\",\"name\":\"NodesOnly\",\"id\":\"p19028\"}}}],\"toolbar\":{\"type\":\"object\",\"name\":\"Toolbar\",\"id\":\"p18994\",\"attributes\":{\"tools\":[{\"type\":\"object\",\"name\":\"PanTool\",\"id\":\"p19007\"},{\"type\":\"object\",\"name\":\"WheelZoomTool\",\"id\":\"p19008\",\"attributes\":{\"renderers\":\"auto\"}},{\"type\":\"object\",\"name\":\"SaveTool\",\"id\":\"p19009\"},{\"type\":\"object\",\"name\":\"ResetTool\",\"id\":\"p19010\"},{\"type\":\"object\",\"name\":\"HoverTool\",\"id\":\"p19011\",\"attributes\":{\"renderers\":\"auto\",\"tooltips\":[[\"Fandom\",\"@fandom\"],[\"Degree\",\"@degree\"],[\"Count\",\"@cached_count\"]]}}],\"active_scroll\":{\"id\":\"p19008\"}}},\"left\":[{\"type\":\"object\",\"name\":\"LinearAxis\",\"id\":\"p19002\",\"attributes\":{\"ticker\":{\"type\":\"object\",\"name\":\"BasicTicker\",\"id\":\"p19003\",\"attributes\":{\"mantissas\":[1,2,5]}},\"formatter\":{\"type\":\"object\",\"name\":\"BasicTickFormatter\",\"id\":\"p19004\"},\"major_label_policy\":{\"type\":\"object\",\"name\":\"AllLabels\",\"id\":\"p19005\"}}}],\"below\":[{\"type\":\"object\",\"name\":\"LinearAxis\",\"id\":\"p18997\",\"attributes\":{\"ticker\":{\"type\":\"object\",\"name\":\"BasicTicker\",\"id\":\"p18998\",\"attributes\":{\"mantissas\":[1,2,5]}},\"formatter\":{\"type\":\"object\",\"name\":\"BasicTickFormatter\",\"id\":\"p18999\"},\"major_label_policy\":{\"type\":\"object\",\"name\":\"AllLabels\",\"id\":\"p19000\"}}}],\"center\":[{\"type\":\"object\",\"name\":\"Grid\",\"id\":\"p19001\",\"attributes\":{\"axis\":{\"id\":\"p18997\"}}},{\"type\":\"object\",\"name\":\"Grid\",\"id\":\"p19006\",\"attributes\":{\"dimension\":1,\"axis\":{\"id\":\"p19002\"}}}]}}]}};\n  const render_items = [{\"docid\":\"49644c97-30cc-4ae0-9390-b8c878223fae\",\"roots\":{\"p18985\":\"d6a89ca9-2eda-4c1b-b82d-1c50f7d1f999\"},\"root_ids\":[\"p18985\"]}];\n  void root.Bokeh.embed.embed_items_notebook(docs_json, render_items);\n  }\n  if (root.Bokeh !== undefined) {\n    embed_document(root);\n  } else {\n    let attempts = 0;\n    const timer = setInterval(function(root) {\n      if (root.Bokeh !== undefined) {\n        clearInterval(timer);\n        embed_document(root);\n      } else {\n        attempts++;\n        if (attempts > 100) {\n          clearInterval(timer);\n          console.log(\"Bokeh: ERROR: Unable to run BokehJS code because BokehJS library is missing\");\n        }\n      }\n    }, 10, root)\n  }\n})(window);",
      "application/vnd.bokehjs_exec.v0+json": ""
     },
     "metadata": {
      "application/vnd.bokehjs_exec.v0+json": {
       "id": "p18985"
      }
     },
     "output_type": "display_data"
    }
   ],
   "source": [
    "#Choose a title!\n",
    "title = 'Ego Network of ' + edgelist_df_small[edgelist_df_small['integer_1'] == ego_fandom]['name_1'].iloc[0]\n",
    "\n",
    "#Create a plot — set dimensions, toolbar, and title\n",
    "plot_ego = figure(tooltips = HOVER_TOOLTIPS,\n",
    "              tools=\"pan,wheel_zoom,save,reset\", active_scroll='wheel_zoom',\n",
    "            x_range=Range1d(-4, 4), y_range=Range1d(-4, 4), title=title)\n",
    "\n",
    "# Define the layout\n",
    "pos_ego = nx.spring_layout(ego_graph, scale=5, center=(0, 0))\n",
    "pos_ego[ego_fandom] = (0, 0)\n",
    "\n",
    "# Convert the NetworkX graph to a Bokeh graph\n",
    "graph_ego = from_networkx(ego_graph, pos_ego)\n",
    "\n",
    "#Set node sizes and colors according to node degree (color as spectrum of color palette)\n",
    "minimum_value_color_ego = min(graph_ego.node_renderer.data_source.data[color_by_this_attribute])\n",
    "maximum_value_color_ego = max(graph_ego.node_renderer.data_source.data[color_by_this_attribute])\n",
    "graph_ego.node_renderer.glyph = Circle(radius=0.3, fill_color=linear_cmap(color_by_this_attribute, color_palette, maximum_value_color_ego, minimum_value_color_ego), fill_alpha=0.7)\n",
    "graph_ego.edge_renderer.glyph = MultiLine(line_alpha=1, line_width=1, line_color=\"black\")\n",
    "\n",
    "plot_ego.renderers.append(graph_ego)\n",
    "\n",
    "show(plot_ego)\n"
   ]
  },
  {
   "cell_type": "code",
   "execution_count": 405,
   "metadata": {},
   "outputs": [
    {
     "name": "stdout",
     "output_type": "stream",
     "text": [
      "Number of nodes in ego graph: 8\n",
      "Number of edges in ego graph: 12\n"
     ]
    }
   ],
   "source": [
    "ego_fandom = 758208\n",
    "ego_graph = nx.ego_graph(G_ego, ego_fandom, radius=2, distance=custom_distance)\n",
    "\n",
    "# Check the number of nodes and edges\n",
    "print(f\"Number of nodes in ego graph: {ego_graph.number_of_nodes()}\")\n",
    "print(f\"Number of edges in ego graph: {ego_graph.number_of_edges()}\")"
   ]
  },
  {
   "cell_type": "code",
   "execution_count": 406,
   "metadata": {},
   "outputs": [
    {
     "data": {
      "text/html": [
       "\n",
       "  <div id=\"edee42aa-50ef-4601-8ac7-b53f874d9ae7\" data-root-id=\"p19187\" style=\"display: contents;\"></div>\n"
      ]
     },
     "metadata": {},
     "output_type": "display_data"
    },
    {
     "data": {
      "application/javascript": "(function(root) {\n  function embed_document(root) {\n  const docs_json = {\"82fea91f-1a41-4ffc-8451-67e06fb547fe\":{\"version\":\"3.4.1\",\"title\":\"Bokeh Application\",\"roots\":[{\"type\":\"object\",\"name\":\"Figure\",\"id\":\"p19187\",\"attributes\":{\"x_range\":{\"type\":\"object\",\"name\":\"Range1d\",\"id\":\"p19185\",\"attributes\":{\"start\":-4,\"end\":4}},\"y_range\":{\"type\":\"object\",\"name\":\"Range1d\",\"id\":\"p19186\",\"attributes\":{\"start\":-4,\"end\":4}},\"x_scale\":{\"type\":\"object\",\"name\":\"LinearScale\",\"id\":\"p19197\"},\"y_scale\":{\"type\":\"object\",\"name\":\"LinearScale\",\"id\":\"p19198\"},\"title\":{\"type\":\"object\",\"name\":\"Title\",\"id\":\"p19190\",\"attributes\":{\"text\":\"Ego Network of Haikyuu!!\"}},\"renderers\":[{\"type\":\"object\",\"name\":\"GraphRenderer\",\"id\":\"p19214\",\"attributes\":{\"layout_provider\":{\"type\":\"object\",\"name\":\"StaticLayoutProvider\",\"id\":\"p19231\",\"attributes\":{\"graph_layout\":{\"type\":\"map\",\"entries\":[[758208,[0,0]],[2129537,{\"type\":\"ndarray\",\"array\":{\"type\":\"bytes\",\"data\":\"TjHqlqubv79EMrZ4jsoDQA==\"},\"shape\":[2],\"dtype\":\"float64\",\"order\":\"little\"}],[136512,{\"type\":\"ndarray\",\"array\":{\"type\":\"bytes\",\"data\":\"GbPconbS+D/FlwhPI1Xsvw==\"},\"shape\":[2],\"dtype\":\"float64\",\"order\":\"little\"}],[915695,{\"type\":\"ndarray\",\"array\":{\"type\":\"bytes\",\"data\":\"AAAAAAAACMAJAM1abv/pPw==\"},\"shape\":[2],\"dtype\":\"float64\",\"order\":\"little\"}],[13999,{\"type\":\"ndarray\",\"array\":{\"type\":\"bytes\",\"data\":\"a/Zal8AB8T/LpFYvz9r5vw==\"},\"shape\":[2],\"dtype\":\"float64\",\"order\":\"little\"}],[721553,{\"type\":\"ndarray\",\"array\":{\"type\":\"bytes\",\"data\":\"jJ4fBkeA6T+Q/2d/gXblPw==\"},\"shape\":[2],\"dtype\":\"float64\",\"order\":\"little\"}],[1486363,{\"type\":\"ndarray\",\"array\":{\"type\":\"bytes\",\"data\":\"NW/rHi7BAcAvLXHC9s/9vw==\"},\"shape\":[2],\"dtype\":\"float64\",\"order\":\"little\"}],[11444638,{\"type\":\"ndarray\",\"array\":{\"type\":\"bytes\",\"data\":\"Z/CyVBWoAkCmTT63xy7dPw==\"},\"shape\":[2],\"dtype\":\"float64\",\"order\":\"little\"}]]}}},\"node_renderer\":{\"type\":\"object\",\"name\":\"GlyphRenderer\",\"id\":\"p19219\",\"attributes\":{\"data_source\":{\"type\":\"object\",\"name\":\"ColumnDataSource\",\"id\":\"p19216\",\"attributes\":{\"selected\":{\"type\":\"object\",\"name\":\"Selection\",\"id\":\"p19217\",\"attributes\":{\"indices\":[],\"line_indices\":[]}},\"selection_policy\":{\"type\":\"object\",\"name\":\"UnionRenderers\",\"id\":\"p19218\"},\"data\":{\"type\":\"map\",\"entries\":[[\"adjusted_cached_count\",[11.782334090333578,9.13227071655426,12.799178471909892,9.461332526110132,11.562753185929502,11.002249829955362,9.169518377455928,10.782263315647524]],[\"fandom\",[\"Haikyuu!!\",\"Tokyo Ghoul\",\"Harry Potter - J. K. Rowling\",\"haikyuu\",\"Naruto\",\"Shingeki no Kyojin | Attack on Titan\",\"\\u30c0\\u30a4\\u30e4\\u306eA | Daiya no A | Ace of Diamond\",\"Yuri!!! on Ice (Anime)\"]],[\"adjusted_node_size\",[1.1,0.4,9.7,0.1,2.2,0.9,0.1,0.3]],[\"degree\",[11,4,97,1,22,9,1,3]],[\"cached_count\",[130918,9248,361919,12852,105108,60008,9599,48158]],[\"index\",[758208,2129537,136512,915695,13999,721553,1486363,11444638]]]}}},\"view\":{\"type\":\"object\",\"name\":\"CDSView\",\"id\":\"p19220\",\"attributes\":{\"filter\":{\"type\":\"object\",\"name\":\"AllIndices\",\"id\":\"p19221\"}}},\"glyph\":{\"type\":\"object\",\"name\":\"Circle\",\"id\":\"p19233\",\"attributes\":{\"radius\":{\"type\":\"value\",\"value\":0.3},\"fill_color\":{\"type\":\"field\",\"field\":\"adjusted_cached_count\",\"transform\":{\"type\":\"object\",\"name\":\"LinearColorMapper\",\"id\":\"p19232\",\"attributes\":{\"palette\":[\"#99000d\",\"#cb181d\",\"#ef3b2c\",\"#fb6a4a\",\"#fc9272\",\"#fcbba1\",\"#fee0d2\",\"#fff5f0\"],\"low\":12.799178471909892,\"high\":9.13227071655426}}},\"fill_alpha\":{\"type\":\"value\",\"value\":0.7}}}}},\"edge_renderer\":{\"type\":\"object\",\"name\":\"GlyphRenderer\",\"id\":\"p19226\",\"attributes\":{\"data_source\":{\"type\":\"object\",\"name\":\"ColumnDataSource\",\"id\":\"p19223\",\"attributes\":{\"selected\":{\"type\":\"object\",\"name\":\"Selection\",\"id\":\"p19224\",\"attributes\":{\"indices\":[],\"line_indices\":[]}},\"selection_policy\":{\"type\":\"object\",\"name\":\"UnionRenderers\",\"id\":\"p19225\"},\"data\":{\"type\":\"map\",\"entries\":[[\"count\",[164,149,106,111,132,169,154,124,850,132,153,133]],[\"weight\",[164,149,106,111,132,169,154,124,850,132,153,133]],[\"start\",[758208,758208,758208,758208,758208,758208,758208,2129537,136512,136512,136512,13999]],[\"end\",[721553,136512,13999,2129537,915695,11444638,1486363,721553,13999,11444638,721553,721553]]]}}},\"view\":{\"type\":\"object\",\"name\":\"CDSView\",\"id\":\"p19227\",\"attributes\":{\"filter\":{\"type\":\"object\",\"name\":\"AllIndices\",\"id\":\"p19228\"}}},\"glyph\":{\"type\":\"object\",\"name\":\"MultiLine\",\"id\":\"p19234\"}}},\"selection_policy\":{\"type\":\"object\",\"name\":\"NodesOnly\",\"id\":\"p19229\"},\"inspection_policy\":{\"type\":\"object\",\"name\":\"NodesOnly\",\"id\":\"p19230\"}}}],\"toolbar\":{\"type\":\"object\",\"name\":\"Toolbar\",\"id\":\"p19196\",\"attributes\":{\"tools\":[{\"type\":\"object\",\"name\":\"PanTool\",\"id\":\"p19209\"},{\"type\":\"object\",\"name\":\"WheelZoomTool\",\"id\":\"p19210\",\"attributes\":{\"renderers\":\"auto\"}},{\"type\":\"object\",\"name\":\"SaveTool\",\"id\":\"p19211\"},{\"type\":\"object\",\"name\":\"ResetTool\",\"id\":\"p19212\"},{\"type\":\"object\",\"name\":\"HoverTool\",\"id\":\"p19213\",\"attributes\":{\"renderers\":\"auto\",\"tooltips\":[[\"Fandom\",\"@fandom\"],[\"Degree\",\"@degree\"],[\"Count\",\"@cached_count\"]]}}],\"active_scroll\":{\"id\":\"p19210\"}}},\"left\":[{\"type\":\"object\",\"name\":\"LinearAxis\",\"id\":\"p19204\",\"attributes\":{\"ticker\":{\"type\":\"object\",\"name\":\"BasicTicker\",\"id\":\"p19205\",\"attributes\":{\"mantissas\":[1,2,5]}},\"formatter\":{\"type\":\"object\",\"name\":\"BasicTickFormatter\",\"id\":\"p19206\"},\"major_label_policy\":{\"type\":\"object\",\"name\":\"AllLabels\",\"id\":\"p19207\"}}}],\"below\":[{\"type\":\"object\",\"name\":\"LinearAxis\",\"id\":\"p19199\",\"attributes\":{\"ticker\":{\"type\":\"object\",\"name\":\"BasicTicker\",\"id\":\"p19200\",\"attributes\":{\"mantissas\":[1,2,5]}},\"formatter\":{\"type\":\"object\",\"name\":\"BasicTickFormatter\",\"id\":\"p19201\"},\"major_label_policy\":{\"type\":\"object\",\"name\":\"AllLabels\",\"id\":\"p19202\"}}}],\"center\":[{\"type\":\"object\",\"name\":\"Grid\",\"id\":\"p19203\",\"attributes\":{\"axis\":{\"id\":\"p19199\"}}},{\"type\":\"object\",\"name\":\"Grid\",\"id\":\"p19208\",\"attributes\":{\"dimension\":1,\"axis\":{\"id\":\"p19204\"}}}]}}]}};\n  const render_items = [{\"docid\":\"82fea91f-1a41-4ffc-8451-67e06fb547fe\",\"roots\":{\"p19187\":\"edee42aa-50ef-4601-8ac7-b53f874d9ae7\"},\"root_ids\":[\"p19187\"]}];\n  void root.Bokeh.embed.embed_items_notebook(docs_json, render_items);\n  }\n  if (root.Bokeh !== undefined) {\n    embed_document(root);\n  } else {\n    let attempts = 0;\n    const timer = setInterval(function(root) {\n      if (root.Bokeh !== undefined) {\n        clearInterval(timer);\n        embed_document(root);\n      } else {\n        attempts++;\n        if (attempts > 100) {\n          clearInterval(timer);\n          console.log(\"Bokeh: ERROR: Unable to run BokehJS code because BokehJS library is missing\");\n        }\n      }\n    }, 10, root)\n  }\n})(window);",
      "application/vnd.bokehjs_exec.v0+json": ""
     },
     "metadata": {
      "application/vnd.bokehjs_exec.v0+json": {
       "id": "p19187"
      }
     },
     "output_type": "display_data"
    }
   ],
   "source": [
    "#Choose a title!\n",
    "title = 'Ego Network of ' + edgelist_df_small[edgelist_df_small['integer_1'] == ego_fandom]['name_1'].iloc[0]\n",
    "\n",
    "#Create a plot — set dimensions, toolbar, and title\n",
    "plot_ego = figure(tooltips = HOVER_TOOLTIPS,\n",
    "              tools=\"pan,wheel_zoom,save,reset\", active_scroll='wheel_zoom',\n",
    "            x_range=Range1d(-4, 4), y_range=Range1d(-4, 4), title=title)\n",
    "\n",
    "# Define the layout\n",
    "pos_ego = nx.spring_layout(ego_graph, scale=3, center=(0, 0))\n",
    "pos_ego[ego_fandom] = (0, 0)\n",
    "\n",
    "# Convert the NetworkX graph to a Bokeh graph\n",
    "graph_ego = from_networkx(ego_graph, pos_ego)\n",
    "\n",
    "#Set node sizes and colors according to node degree (color as spectrum of color palette)\n",
    "minimum_value_color_ego = min(graph_ego.node_renderer.data_source.data[color_by_this_attribute])\n",
    "maximum_value_color_ego = max(graph_ego.node_renderer.data_source.data[color_by_this_attribute])\n",
    "graph_ego.node_renderer.glyph = Circle(radius=0.3, fill_color=linear_cmap(color_by_this_attribute, color_palette, maximum_value_color_ego, minimum_value_color_ego), fill_alpha=0.7)\n",
    "graph_ego.edge_renderer.glyph = MultiLine(line_alpha=1, line_width=1, line_color=\"black\")\n",
    "\n",
    "plot_ego.renderers.append(graph_ego)\n",
    "\n",
    "show(plot_ego)\n"
   ]
  },
  {
   "cell_type": "markdown",
   "metadata": {},
   "source": [
    "### Thoughts"
   ]
  },
  {
   "cell_type": "markdown",
   "metadata": {},
   "source": [
    "* Why does HP / MCU supplant the ego network all the time??\n",
    "--> omg can i make a game like the Bacon Number one??"
   ]
  }
 ],
 "metadata": {
  "kernelspec": {
   "display_name": "Python 3",
   "language": "python",
   "name": "python3"
  },
  "language_info": {
   "codemirror_mode": {
    "name": "ipython",
    "version": 3
   },
   "file_extension": ".py",
   "mimetype": "text/x-python",
   "name": "python",
   "nbconvert_exporter": "python",
   "pygments_lexer": "ipython3",
   "version": "3.12.4"
  }
 },
 "nbformat": 4,
 "nbformat_minor": 2
}
