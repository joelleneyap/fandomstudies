{
 "cells": [
  {
   "cell_type": "code",
   "execution_count": 1,
   "metadata": {},
   "outputs": [],
   "source": [
    "import numpy as np\n",
    "import pandas as pd\n",
    "import networkx as nx\n",
    "import seaborn as sns\n",
    "import matplotlib.pyplot as plt\n",
    "from itertools import combinations\n",
    "import scipy\n",
    "from pyvis.network import Network\n"
   ]
  },
  {
   "cell_type": "code",
   "execution_count": 48,
   "metadata": {},
   "outputs": [],
   "source": [
    "# narrowed down: only edges with >100 count\n",
    "edgelist_df_small = pd.read_csv(\"edgelist_df_small_fandoms.csv\")\n",
    "fandoms_small = pd.read_csv(\"fandoms_small.csv\")"
   ]
  },
  {
   "cell_type": "code",
   "execution_count": 49,
   "metadata": {},
   "outputs": [
    {
     "data": {
      "text/plain": [
       "3444"
      ]
     },
     "execution_count": 49,
     "metadata": {},
     "output_type": "execute_result"
    }
   ],
   "source": [
    "len(edgelist_df_small)"
   ]
  },
  {
   "cell_type": "code",
   "execution_count": 50,
   "metadata": {},
   "outputs": [],
   "source": [
    "# create dict mapping of ids to fandom names to secure node attributes\n",
    "id_fandom_mapping = dict(fandoms_small[['id', 'name']].values)\n",
    "\n",
    "# create dict mapping of id to fandom cached_count for nodes\n",
    "id_cached_count_mapping = dict(fandoms_small[['id', 'cached_count']].values)\n",
    "\n",
    "# need to adjust cached_count because too big distance between numbers\n",
    "adjusted_cached_count_mapping = {k: np.log1p(v) for k, v in id_cached_count_mapping.items()}"
   ]
  },
  {
   "cell_type": "code",
   "execution_count": 51,
   "metadata": {},
   "outputs": [],
   "source": [
    "G_ego = nx.from_pandas_edgelist(edgelist_df_small, source='integer_1', target='integer_2', edge_attr='count')\n"
   ]
  },
  {
   "cell_type": "code",
   "execution_count": 52,
   "metadata": {},
   "outputs": [],
   "source": [
    "# set node attribudes for fandom names\n",
    "nx.set_node_attributes(G_ego, name='fandom', values=id_fandom_mapping)\n",
    "\n",
    "# i want to color by cached_count of each fandom\n",
    "nx.set_node_attributes(G_ego, name='cached_count', values=id_cached_count_mapping)\n",
    "\n",
    "# need to adjust cached_count because too big distance between numbers\n",
    "nx.set_node_attributes(G_ego, name='adjusted_cached_count', values=adjusted_cached_count_mapping)\n",
    "\n",
    "# node attributes for degree \n",
    "degrees_all = dict(nx.degree(G_ego))\n",
    "nx.set_node_attributes(G_ego, name='degree', values=degrees_all)\n",
    "\n",
    "# Slightly adjust degree so that the nodes with very small degrees are still visible\n",
    "number_to_adjust_by = 10\n",
    "adjusted_node_size = dict([(node, degree/number_to_adjust_by) for node, degree in nx.degree(G_ego)])\n",
    "nx.set_node_attributes(G_ego, name='adjusted_node_size', values=adjusted_node_size)"
   ]
  },
  {
   "cell_type": "code",
   "execution_count": 57,
   "metadata": {},
   "outputs": [],
   "source": [
    "# edge weights / distance\n",
    "nx.set_edge_attributes(G_ego, nx.get_edge_attributes(G_ego, 'count'), 'weight')\n",
    "def custom_distance(u, v, edge_data):\n",
    "    return edge_data['weight'] * 0.01"
   ]
  },
  {
   "cell_type": "code",
   "execution_count": 58,
   "metadata": {},
   "outputs": [],
   "source": [
    "# GRAPH: CHOOSE EGO FANDOM\n",
    "ego_fandom = 65\n",
    "ego_graph = nx.ego_graph(G_ego, ego_fandom, radius=2, distance=custom_distance)\n",
    "degrees_ego = dict(nx.degree(G_ego))"
   ]
  },
  {
   "cell_type": "code",
   "execution_count": 78,
   "metadata": {},
   "outputs": [],
   "source": [
    "# Initialize Pyvis Network\n",
    "net = Network(notebook=True, height=\"750px\", width=\"100%\", bgcolor=\"white\", font_color=\"black\", cdn_resources='in_line')\n",
    "\n",
    "# Set the layout\n",
    "pos_ego = nx.circular_layout(ego_graph, scale=1, center=(0, 0))\n",
    "net.repulsion(node_distance=420, central_gravity=0.33, spring_length=110, spring_strength=0.10, damping=0.95)\n",
    "\n",
    "ego_graph_limited = ego_graph.subgraph(list(ego_graph.nodes())[:50])\n"
   ]
  },
  {
   "cell_type": "code",
   "execution_count": 79,
   "metadata": {},
   "outputs": [],
   "source": [
    "# net.from_nx(ego_graph)\n",
    "# print(net)"
   ]
  },
  {
   "cell_type": "code",
   "execution_count": 80,
   "metadata": {},
   "outputs": [
    {
     "name": "stdout",
     "output_type": "stream",
     "text": [
      "Number of nodes in ego graph: 6\n",
      "Number of edges in ego graph: 8\n"
     ]
    }
   ],
   "source": [
    "# Check the number of nodes and edges\n",
    "print(f\"Number of nodes in ego graph: {ego_graph.number_of_nodes()}\")\n",
    "print(f\"Number of edges in ego graph: {ego_graph.number_of_edges()}\")"
   ]
  },
  {
   "cell_type": "code",
   "execution_count": 81,
   "metadata": {},
   "outputs": [],
   "source": [
    "# Example: Precompute values outside the loop\n",
    "sizes = {node: data['adjusted_node_size'] for node, data in ego_graph_limited.nodes(data=True)}\n",
    "fandom_name = {node: data['fandom'] for node, data in ego_graph_limited.nodes(data=True)}\n",
    "colors = {node: 'red' if node == ego_fandom else 'black' for node in ego_graph_limited.nodes()}"
   ]
  },
  {
   "cell_type": "code",
   "execution_count": 93,
   "metadata": {},
   "outputs": [],
   "source": [
    "# Add nodes with attributes\n",
    "for node, data in ego_graph_limited.nodes(data=True):\n",
    "    size = sizes[node]  # Adjust node size\n",
    "    # color = colors[node]  # Ego node color vs others\n",
    "    title = fandom_name[node]\n",
    "    net.add_node(node, label=data['fandom'], title=title, size=size)\n",
    "\n",
    "# Add edges with weights\n",
    "for source, target, data in ego_graph_limited.edges(data=True):\n",
    "    net.add_edge(source, target, value=data['count'])\n",
    "\n",
    "# net.prep_notebook()\n",
    "# net.show(\"net.html\")\n",
    "# display(HTML('net.html'))"
   ]
  },
  {
   "cell_type": "code",
   "execution_count": null,
   "metadata": {},
   "outputs": [],
   "source": [
    "#Choose a title!\n",
    "title = 'Ego Network of ' + edgelist_df_small[edgelist_df_small['integer_1'] == ego_fandom]['name_1'].iloc[0]\n",
    "\n",
    "#Establish which categories will appear when hovering over each node\n",
    "HOVER_TOOLTIPS = [\n",
    "        (\"Fandom\", \"@fandom\"),\n",
    "        (\"Degree\", \"@degree\"),\n",
    "        (\"Count\", \"@cached_count\")\n",
    "]\n",
    "\n",
    "size_by_this_attribute = 'adjusted_node_size'\n",
    "color_by_this_attribute = 'adjusted_cached_count'\n",
    "\n",
    "#Pick a color palette — Blues8, Reds8, Purples8, Oranges8, Viridis8\n",
    "color_palette = Reds8\n",
    "\n",
    "#Create a plot — set dimensions, toolbar, and title\n",
    "plot_ego = figure(tooltips = HOVER_TOOLTIPS,\n",
    "            #   tools=\"pan,wheel_zoom,save,reset\", active_scroll='wheel_zoom',\n",
    "            x_range=Range1d(-3.5, 3.5), y_range=Range1d(-3.5, 3.5), title=title)\n",
    "\n",
    "# Define the layout\n",
    "pos_ego = nx.spring_layout(ego_graph, scale=3, center=(0, 0))\n",
    "pos_ego[ego_fandom] = (0, 0)\n",
    "\n",
    "# Convert the NetworkX graph to a Bokeh graph\n",
    "graph_ego = from_networkx(ego_graph, pos_ego)\n",
    "\n",
    "#Set node sizes and colors according to node degree (color as spectrum of color palette)\n",
    "minimum_value_color_ego = min(graph_ego.node_renderer.data_source.data[color_by_this_attribute])\n",
    "maximum_value_color_ego = max(graph_ego.node_renderer.data_source.data[color_by_this_attribute])\n",
    "color_map = linear_cmap(color_by_this_attribute, color_palette, maximum_value_color_ego, minimum_value_color_ego)\n",
    "# node_colors = ['blue' if node == ego_fandom else color_map[degrees_ego[node]] for node in ego_graph.nodes()]\n",
    "\n",
    "graph_ego.node_renderer.glyph = Circle(radius=0.3, fill_color=color_map, fill_alpha=0.7)\n",
    "graph_ego.edge_renderer.glyph = MultiLine(line_alpha=1, line_width=1, line_color=\"black\")\n",
    "\n",
    "plot_ego.renderers.append(graph_ego)\n",
    "show(plot_ego)\n"
   ]
  }
 ],
 "metadata": {
  "kernelspec": {
   "display_name": "base",
   "language": "python",
   "name": "python3"
  },
  "language_info": {
   "codemirror_mode": {
    "name": "ipython",
    "version": 3
   },
   "file_extension": ".py",
   "mimetype": "text/x-python",
   "name": "python",
   "nbconvert_exporter": "python",
   "pygments_lexer": "ipython3",
   "version": "3.12.4"
  }
 },
 "nbformat": 4,
 "nbformat_minor": 2
}
