{
 "cells": [
  {
   "cell_type": "code",
   "execution_count": 1,
   "metadata": {},
   "outputs": [],
   "source": [
    "import numpy as np\n",
    "import pandas as pd\n",
    "import networkx as nx\n",
    "import seaborn as sns\n",
    "import matplotlib.pyplot as plt\n",
    "from itertools import combinations\n",
    "import scipy\n",
    "from pyvis.network import Network\n"
   ]
  },
  {
   "cell_type": "code",
   "execution_count": 120,
   "metadata": {},
   "outputs": [],
   "source": [
    "# narrowed down: only edges with >100 count\n",
    "edgelist_df_small = pd.read_csv(\"edgelist_df_small_fandoms.csv\")\n",
    "fandoms_small = pd.read_csv(\"fandoms_small.csv\")"
   ]
  },
  {
   "cell_type": "code",
   "execution_count": 160,
   "metadata": {},
   "outputs": [
    {
     "data": {
      "text/html": [
       "<div>\n",
       "<style scoped>\n",
       "    .dataframe tbody tr th:only-of-type {\n",
       "        vertical-align: middle;\n",
       "    }\n",
       "\n",
       "    .dataframe tbody tr th {\n",
       "        vertical-align: top;\n",
       "    }\n",
       "\n",
       "    .dataframe thead th {\n",
       "        text-align: right;\n",
       "    }\n",
       "</style>\n",
       "<table border=\"1\" class=\"dataframe\">\n",
       "  <thead>\n",
       "    <tr style=\"text-align: right;\">\n",
       "      <th></th>\n",
       "      <th>Unnamed: 0</th>\n",
       "      <th>count</th>\n",
       "      <th>integer_1</th>\n",
       "      <th>integer_2</th>\n",
       "      <th>name_1</th>\n",
       "      <th>name_2</th>\n",
       "    </tr>\n",
       "  </thead>\n",
       "  <tbody>\n",
       "    <tr>\n",
       "      <th>0</th>\n",
       "      <td>0</td>\n",
       "      <td>83981</td>\n",
       "      <td>414093</td>\n",
       "      <td>1001939</td>\n",
       "      <td>Marvel Cinematic Universe</td>\n",
       "      <td>The Avengers (Marvel Movies)</td>\n",
       "    </tr>\n",
       "    <tr>\n",
       "      <th>1</th>\n",
       "      <td>7</td>\n",
       "      <td>17742</td>\n",
       "      <td>11987966</td>\n",
       "      <td>33035890</td>\n",
       "      <td>魔道祖师 - 墨香铜臭 | Módào Zǔshī - Mòxiāng Tóngxiù</td>\n",
       "      <td>陈情令 | The Untamed (TV)</td>\n",
       "    </tr>\n",
       "    <tr>\n",
       "      <th>2</th>\n",
       "      <td>9</td>\n",
       "      <td>4084</td>\n",
       "      <td>1633246</td>\n",
       "      <td>14988696</td>\n",
       "      <td>Dangan Ronpa - All Media Types</td>\n",
       "      <td>Dangan Ronpa: Trigger Happy Havoc</td>\n",
       "    </tr>\n",
       "    <tr>\n",
       "      <th>3</th>\n",
       "      <td>10</td>\n",
       "      <td>16448</td>\n",
       "      <td>218280</td>\n",
       "      <td>254648</td>\n",
       "      <td>Video Blogging RPF</td>\n",
       "      <td>Minecraft (Video Game)</td>\n",
       "    </tr>\n",
       "    <tr>\n",
       "      <th>4</th>\n",
       "      <td>11</td>\n",
       "      <td>140</td>\n",
       "      <td>51823</td>\n",
       "      <td>251062</td>\n",
       "      <td>Forgotten Realms</td>\n",
       "      <td>Dungeons &amp; Dragons (Roleplaying Game)</td>\n",
       "    </tr>\n",
       "  </tbody>\n",
       "</table>\n",
       "</div>"
      ],
      "text/plain": [
       "   Unnamed: 0  count  integer_1  integer_2  \\\n",
       "0           0  83981     414093    1001939   \n",
       "1           7  17742   11987966   33035890   \n",
       "2           9   4084    1633246   14988696   \n",
       "3          10  16448     218280     254648   \n",
       "4          11    140      51823     251062   \n",
       "\n",
       "                                        name_1  \\\n",
       "0                    Marvel Cinematic Universe   \n",
       "1  魔道祖师 - 墨香铜臭 | Módào Zǔshī - Mòxiāng Tóngxiù   \n",
       "2               Dangan Ronpa - All Media Types   \n",
       "3                           Video Blogging RPF   \n",
       "4                             Forgotten Realms   \n",
       "\n",
       "                                  name_2  \n",
       "0           The Avengers (Marvel Movies)  \n",
       "1                 陈情令 | The Untamed (TV)  \n",
       "2      Dangan Ronpa: Trigger Happy Havoc  \n",
       "3                 Minecraft (Video Game)  \n",
       "4  Dungeons & Dragons (Roleplaying Game)  "
      ]
     },
     "execution_count": 160,
     "metadata": {},
     "output_type": "execute_result"
    }
   ],
   "source": [
    "edgelist_df_small.head()"
   ]
  },
  {
   "cell_type": "code",
   "execution_count": 155,
   "metadata": {},
   "outputs": [],
   "source": [
    "def convert_int(d):\n",
    "    # result = {}\n",
    "    # Convert all values to Python int\n",
    "    for key, value in d.items():\n",
    "        if isinstance(value, np.int64):  # Check if the value is numpy.int64\n",
    "            d[key] = int(value)  # Convert to Python int\n",
    "    return d\n"
   ]
  },
  {
   "cell_type": "code",
   "execution_count": 162,
   "metadata": {},
   "outputs": [],
   "source": [
    "# create dict mapping of ids to fandom names to secure node attributes\n",
    "id_fandom_mapping = dict(fandoms_small[['id', 'name']].values)\n",
    "\n",
    "# create dict mapping of id to fandom cached_count for nodes\n",
    "id_cached_count_mapping = dict(fandoms_small[['name', 'cached_count']].values)\n",
    "\n",
    "# need to adjust cached_count because too big distance between numbers\n",
    "adjusted_cached_count_mapping = {k: np.log1p(v) for k, v in id_cached_count_mapping.items()}"
   ]
  },
  {
   "cell_type": "code",
   "execution_count": 164,
   "metadata": {},
   "outputs": [
    {
     "name": "stdout",
     "output_type": "stream",
     "text": [
      "Conversion failed for key: Supernatural, value: 12.645298073119001 (<class 'numpy.float64'>)\n"
     ]
    }
   ],
   "source": [
    "id_fandom_mapping = convert_int(id_fandom_mapping)\n",
    "id_cached_count_mapping = convert_int(id_cached_count_mapping)\n",
    "adjusted_cached_count_mapping = convert_int(adjusted_cached_count_mapping)\n",
    "\n",
    "\n",
    "for key, value in adjusted_cached_count_mapping.items():\n",
    "    if not isinstance(value, int):  # If any value is not a Python int\n",
    "        conversion_successful = False\n",
    "        print(f\"Conversion failed for key: {key}, value: {value} ({type(value)})\")\n",
    "        break"
   ]
  },
  {
   "cell_type": "code",
   "execution_count": 165,
   "metadata": {},
   "outputs": [
    {
     "data": {
      "text/plain": [
       "204858"
      ]
     },
     "execution_count": 165,
     "metadata": {},
     "output_type": "execute_result"
    }
   ],
   "source": [
    "len(id_fandom_mapping)"
   ]
  },
  {
   "cell_type": "code",
   "execution_count": 166,
   "metadata": {},
   "outputs": [],
   "source": [
    "G_ego = nx.from_pandas_edgelist(edgelist_df_small, source='name_1', target='name_2', edge_attr='count')\n"
   ]
  },
  {
   "cell_type": "code",
   "execution_count": 167,
   "metadata": {},
   "outputs": [],
   "source": [
    "# set node attribudes for fandom names\n",
    "nx.set_node_attributes(G_ego, name='fandom', values=id_fandom_mapping)\n",
    "\n",
    "# i want to color by cached_count of each fandom\n",
    "nx.set_node_attributes(G_ego, name='cached_count', values=id_cached_count_mapping)\n",
    "\n",
    "# need to adjust cached_count because too big distance between numbers\n",
    "nx.set_node_attributes(G_ego, name='adjusted_cached_count', values=adjusted_cached_count_mapping)\n",
    "\n",
    "# node attributes for degree \n",
    "degrees_all = dict(nx.degree(G_ego))\n",
    "nx.set_node_attributes(G_ego, name='degree', values=degrees_all)\n",
    "\n",
    "# Slightly adjust degree so that the nodes with very small degrees are still visible\n",
    "number_to_adjust_by = 10\n",
    "adjusted_node_size = dict([(node, degree/number_to_adjust_by) for node, degree in nx.degree(G_ego)])\n",
    "nx.set_node_attributes(G_ego, name='adjusted_node_size', values=adjusted_node_size)"
   ]
  },
  {
   "cell_type": "code",
   "execution_count": 168,
   "metadata": {},
   "outputs": [],
   "source": [
    "# edge weights / distance\n",
    "nx.set_edge_attributes(G_ego, nx.get_edge_attributes(G_ego, 'count'), 'weight')\n",
    "def custom_distance(u, v, edge_data):\n",
    "    return edge_data['weight'] * 0.01"
   ]
  },
  {
   "cell_type": "code",
   "execution_count": 171,
   "metadata": {},
   "outputs": [],
   "source": [
    "# GRAPH: CHOOSE EGO FANDOM\n",
    "ego_fandom = \"Haikyuu!!\"\n",
    "ego_graph = nx.ego_graph(G_ego, ego_fandom, radius=2, distance=custom_distance)\n",
    "degrees_ego = dict(nx.degree(G_ego))"
   ]
  },
  {
   "cell_type": "code",
   "execution_count": 172,
   "metadata": {},
   "outputs": [],
   "source": [
    "# Set the layout\n",
    "pos_ego = nx.circular_layout(ego_graph, scale=1, center=(0, 0))\n",
    "# net.repulsion(node_distance=420, central_gravity=0.33, spring_length=110, spring_strength=0.10, damping=0.95)\n",
    "\n",
    "ego_graph_limited = ego_graph.subgraph(list(ego_graph.nodes())[:50])\n"
   ]
  },
  {
   "cell_type": "code",
   "execution_count": 173,
   "metadata": {},
   "outputs": [
    {
     "name": "stdout",
     "output_type": "stream",
     "text": [
      "Number of nodes in ego graph: 8\n",
      "Number of edges in ego graph: 12\n"
     ]
    }
   ],
   "source": [
    "# Check the number of nodes and edges\n",
    "print(f\"Number of nodes in ego graph: {ego_graph.number_of_nodes()}\")\n",
    "print(f\"Number of edges in ego graph: {ego_graph.number_of_edges()}\")"
   ]
  },
  {
   "cell_type": "code",
   "execution_count": 174,
   "metadata": {},
   "outputs": [],
   "source": [
    "# Initialize Pyvis Network\n",
    "net = Network(notebook = True ,width = '100%',height = '1000px',bgcolor ='#222222',font_color = 'white',filter_menu=True,cdn_resources='remote')"
   ]
  },
  {
   "cell_type": "code",
   "execution_count": 190,
   "metadata": {},
   "outputs": [
    {
     "data": {
      "text/plain": [
       "[9.13227071655426,\n",
       " 12.799178471909892,\n",
       " 11.002249829955362,\n",
       " 10.782263315647524,\n",
       " 11.562753185929502,\n",
       " 9.169518377455928,\n",
       " 11.782334090333578,\n",
       " 9.461332526110132]"
      ]
     },
     "execution_count": 190,
     "metadata": {},
     "output_type": "execute_result"
    }
   ],
   "source": [
    "# ego_graph = nx.relabel_nodes(ego_graph, lambda x: str(x))\n",
    "[f['adjusted_cached_count'] for f in dict(ego_graph.nodes(data=True)).values()]"
   ]
  },
  {
   "cell_type": "code",
   "execution_count": 141,
   "metadata": {},
   "outputs": [
    {
     "name": "stdout",
     "output_type": "stream",
     "text": [
      "test.html\n"
     ]
    },
    {
     "data": {
      "text/html": [
       "\n",
       "        <iframe\n",
       "            width=\"100%\"\n",
       "            height=\"1000px\"\n",
       "            src=\"test.html\"\n",
       "            frameborder=\"0\"\n",
       "            allowfullscreen\n",
       "            \n",
       "        ></iframe>\n",
       "        "
      ],
      "text/plain": [
       "<IPython.lib.display.IFrame at 0x1353b2ae0>"
      ]
     },
     "execution_count": 141,
     "metadata": {},
     "output_type": "execute_result"
    }
   ],
   "source": [
    "net.from_nx(ego_graph)\n",
    "net.show_buttons()\n",
    "net.show('test.html')"
   ]
  },
  {
   "cell_type": "code",
   "execution_count": 81,
   "metadata": {},
   "outputs": [],
   "source": [
    "# Example: Precompute values outside the loop\n",
    "sizes = {node: data['adjusted_node_size'] for node, data in ego_graph_limited.nodes(data=True)}\n",
    "fandom_name = {node: data['fandom'] for node, data in ego_graph_limited.nodes(data=True)}\n",
    "colors = {node: 'red' if node == ego_fandom else 'black' for node in ego_graph_limited.nodes()}"
   ]
  },
  {
   "cell_type": "code",
   "execution_count": 94,
   "metadata": {},
   "outputs": [],
   "source": [
    "# Add nodes with attributes\n",
    "for node, data in ego_graph_limited.nodes(data=True):\n",
    "    size = adjusted_node_size[node]  # Adjust node size\n",
    "    # color = colors[node]  # Ego node color vs others\n",
    "    title = id_fandom_mapping[node]\n",
    "    net.add_node(node, label=data['fandom'], title=title, size=size)\n",
    "\n",
    "# Add edges with weights\n",
    "for source, target, data in ego_graph_limited.edges(data=True):\n",
    "    net.add_edge(source, target, value=data['count'])\n",
    "\n",
    "# net.prep_notebook()\n",
    "# net.show(\"net.html\")\n",
    "# display(HTML('net.html'))"
   ]
  },
  {
   "cell_type": "code",
   "execution_count": null,
   "metadata": {},
   "outputs": [],
   "source": [
    "# #Choose a title!\n",
    "# title = 'Ego Network of ' + edgelist_df_small[edgelist_df_small['integer_1'] == ego_fandom]['name_1'].iloc[0]\n",
    "\n",
    "# #Establish which categories will appear when hovering over each node\n",
    "# HOVER_TOOLTIPS = [\n",
    "#         (\"Fandom\", \"@fandom\"),\n",
    "#         (\"Degree\", \"@degree\"),\n",
    "#         (\"Count\", \"@cached_count\")\n",
    "# ]\n",
    "\n",
    "# size_by_this_attribute = 'adjusted_node_size'\n",
    "# color_by_this_attribute = 'adjusted_cached_count'\n",
    "\n",
    "# #Pick a color palette — Blues8, Reds8, Purples8, Oranges8, Viridis8\n",
    "# color_palette = Reds8\n",
    "\n",
    "# #Create a plot — set dimensions, toolbar, and title\n",
    "# plot_ego = figure(tooltips = HOVER_TOOLTIPS,\n",
    "#             #   tools=\"pan,wheel_zoom,save,reset\", active_scroll='wheel_zoom',\n",
    "#             x_range=Range1d(-3.5, 3.5), y_range=Range1d(-3.5, 3.5), title=title)\n",
    "\n",
    "# # Define the layout\n",
    "# pos_ego = nx.spring_layout(ego_graph, scale=3, center=(0, 0))\n",
    "# pos_ego[ego_fandom] = (0, 0)\n",
    "\n",
    "# # Convert the NetworkX graph to a Bokeh graph\n",
    "# graph_ego = from_networkx(ego_graph, pos_ego)\n",
    "\n",
    "# #Set node sizes and colors according to node degree (color as spectrum of color palette)\n",
    "# minimum_value_color_ego = min(graph_ego.node_renderer.data_source.data[color_by_this_attribute])\n",
    "# maximum_value_color_ego = max(graph_ego.node_renderer.data_source.data[color_by_this_attribute])\n",
    "# color_map = linear_cmap(color_by_this_attribute, color_palette, maximum_value_color_ego, minimum_value_color_ego)\n",
    "# # node_colors = ['blue' if node == ego_fandom else color_map[degrees_ego[node]] for node in ego_graph.nodes()]\n",
    "\n",
    "# graph_ego.node_renderer.glyph = Circle(radius=0.3, fill_color=color_map, fill_alpha=0.7)\n",
    "# graph_ego.edge_renderer.glyph = MultiLine(line_alpha=1, line_width=1, line_color=\"black\")\n",
    "\n",
    "# plot_ego.renderers.append(graph_ego)\n",
    "# show(plot_ego)\n"
   ]
  }
 ],
 "metadata": {
  "kernelspec": {
   "display_name": "base",
   "language": "python",
   "name": "python3"
  },
  "language_info": {
   "codemirror_mode": {
    "name": "ipython",
    "version": 3
   },
   "file_extension": ".py",
   "mimetype": "text/x-python",
   "name": "python",
   "nbconvert_exporter": "python",
   "pygments_lexer": "ipython3",
   "version": "3.12.4"
  }
 },
 "nbformat": 4,
 "nbformat_minor": 2
}
