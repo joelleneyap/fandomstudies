{
 "cells": [
  {
   "cell_type": "markdown",
   "metadata": {},
   "source": [
    "# scatter plot of average fic length for various ships/fandoms"
   ]
  },
  {
   "cell_type": "markdown",
   "metadata": {},
   "source": [
    "public deepnote file here: https://deepnote.com/workspace/ao3-cdb24469-2834-4827-96fb-17793ac7554f/project/AO3-x-NetworkX-ebe988dc-072f-4e99-a43e-95707726522c/notebook/AO3%3A%20fic%20lengths-d038f08f2cd04613a0e30b8df5daeeea"
   ]
  },
  {
   "cell_type": "markdown",
   "metadata": {},
   "source": [
    "## Set up"
   ]
  },
  {
   "cell_type": "code",
   "execution_count": 127,
   "metadata": {},
   "outputs": [],
   "source": [
    "import numpy as np\n",
    "import pandas as pd\n",
    "import networkx as nx\n",
    "import seaborn as sns\n",
    "import matplotlib.pyplot as plt\n",
    "from itertools import combinations\n",
    "import scipy\n",
    "from bokeh.io import show, output_notebook\n",
    "from bokeh.plotting import figure, from_networkx, output_file, save\n",
    "from bokeh.models import HoverTool, ColorBar, LinearColorMapper, ColumnDataSource\n",
    "from bokeh.transform import linear_cmap\n",
    "from bokeh.layouts import column\n",
    "import matplotlib.colors as mcolors\n",
    "from bokeh.embed import file_html\n",
    "from bokeh.resources import CDN\n",
    "import matplotlib.dates as mdates\n",
    "\n",
    "# FOR FIGURES\n",
    "sns.set_context(\"paper\")\n",
    "sns.set_palette(\"deep\")\n",
    "sns.set_style(\"white\")\n",
    "\n",
    "plt.rcParams['font.family'] = 'sans-serif'\n",
    "plt.rcParams['axes.facecolor'] = '#EBE9E1'\n",
    "plt.rcParams['figure.facecolor'] = '#EBE9E1'\n",
    "\n",
    "# plt.rcParams['font.sans-serif'] = ['Courier']\n",
    "\n",
    "# set random seed\n",
    "# np.random.seed(seed=42)"
   ]
  },
  {
   "cell_type": "code",
   "execution_count": 3,
   "metadata": {},
   "outputs": [],
   "source": [
    "tags = pd.read_csv(\"tags-20210226.csv\")\n",
    "works = pd.read_csv(\"works-20210226.csv\")"
   ]
  },
  {
   "cell_type": "code",
   "execution_count": 4,
   "metadata": {},
   "outputs": [],
   "source": [
    "# process tags\n",
    "works['tags'] = works['tags'].astype(str).apply(lambda tags: tags.split('+'))"
   ]
  },
  {
   "cell_type": "code",
   "execution_count": 5,
   "metadata": {},
   "outputs": [],
   "source": [
    "fandoms = tags[tags['type'] == \"Fandom\"]"
   ]
  },
  {
   "cell_type": "markdown",
   "metadata": {},
   "source": [
    "## Prep"
   ]
  },
  {
   "cell_type": "code",
   "execution_count": 14,
   "metadata": {},
   "outputs": [
    {
     "data": {
      "text/html": [
       "<div>\n",
       "<style scoped>\n",
       "    .dataframe tbody tr th:only-of-type {\n",
       "        vertical-align: middle;\n",
       "    }\n",
       "\n",
       "    .dataframe tbody tr th {\n",
       "        vertical-align: top;\n",
       "    }\n",
       "\n",
       "    .dataframe thead th {\n",
       "        text-align: right;\n",
       "    }\n",
       "</style>\n",
       "<table border=\"1\" class=\"dataframe\">\n",
       "  <thead>\n",
       "    <tr style=\"text-align: right;\">\n",
       "      <th></th>\n",
       "      <th>tags</th>\n",
       "      <th>word_count</th>\n",
       "    </tr>\n",
       "  </thead>\n",
       "  <tbody>\n",
       "    <tr>\n",
       "      <th>0</th>\n",
       "      <td>[10, 414093, 1001939, 4577144, 1499536, 110, 4...</td>\n",
       "      <td>388.0</td>\n",
       "    </tr>\n",
       "    <tr>\n",
       "      <th>1</th>\n",
       "      <td>[10, 20350917, 34816907, 23666027, 23269305, 2...</td>\n",
       "      <td>1638.0</td>\n",
       "    </tr>\n",
       "    <tr>\n",
       "      <th>2</th>\n",
       "      <td>[10, 10613413, 9780526, 3763877, 3741104, 7657...</td>\n",
       "      <td>1502.0</td>\n",
       "    </tr>\n",
       "    <tr>\n",
       "      <th>3</th>\n",
       "      <td>[10, 15322, 54862755, 20595867, 32994286, 663,...</td>\n",
       "      <td>100.0</td>\n",
       "    </tr>\n",
       "    <tr>\n",
       "      <th>4</th>\n",
       "      <td>[11, 721553, 54604, 1439500, 3938423, 53483274...</td>\n",
       "      <td>994.0</td>\n",
       "    </tr>\n",
       "    <tr>\n",
       "      <th>...</th>\n",
       "      <td>...</td>\n",
       "      <td>...</td>\n",
       "    </tr>\n",
       "    <tr>\n",
       "      <th>7269688</th>\n",
       "      <td>[78, 77, 84, 101, 104, 105, 106, 23, 13, 16, 7...</td>\n",
       "      <td>705.0</td>\n",
       "    </tr>\n",
       "    <tr>\n",
       "      <th>7269689</th>\n",
       "      <td>[78, 77, 84, 107, 23, 10, 16, 70, 933, 616]</td>\n",
       "      <td>1392.0</td>\n",
       "    </tr>\n",
       "    <tr>\n",
       "      <th>7269690</th>\n",
       "      <td>[77, 78, 69, 108, 109, 62, 110, 23, 9, 111, 16...</td>\n",
       "      <td>1755.0</td>\n",
       "    </tr>\n",
       "    <tr>\n",
       "      <th>7269691</th>\n",
       "      <td>[112, 113, 13, 114, 16, 115, 101, 117, 118, 11...</td>\n",
       "      <td>1338.0</td>\n",
       "    </tr>\n",
       "    <tr>\n",
       "      <th>7269692</th>\n",
       "      <td>[123, 124, 125, 127, 128, 13, 129, 14, 130, 13...</td>\n",
       "      <td>1836.0</td>\n",
       "    </tr>\n",
       "  </tbody>\n",
       "</table>\n",
       "<p>7269693 rows × 2 columns</p>\n",
       "</div>"
      ],
      "text/plain": [
       "                                                      tags  word_count\n",
       "0        [10, 414093, 1001939, 4577144, 1499536, 110, 4...       388.0\n",
       "1        [10, 20350917, 34816907, 23666027, 23269305, 2...      1638.0\n",
       "2        [10, 10613413, 9780526, 3763877, 3741104, 7657...      1502.0\n",
       "3        [10, 15322, 54862755, 20595867, 32994286, 663,...       100.0\n",
       "4        [11, 721553, 54604, 1439500, 3938423, 53483274...       994.0\n",
       "...                                                    ...         ...\n",
       "7269688  [78, 77, 84, 101, 104, 105, 106, 23, 13, 16, 7...       705.0\n",
       "7269689        [78, 77, 84, 107, 23, 10, 16, 70, 933, 616]      1392.0\n",
       "7269690  [77, 78, 69, 108, 109, 62, 110, 23, 9, 111, 16...      1755.0\n",
       "7269691  [112, 113, 13, 114, 16, 115, 101, 117, 118, 11...      1338.0\n",
       "7269692  [123, 124, 125, 127, 128, 13, 129, 14, 130, 13...      1836.0\n",
       "\n",
       "[7269693 rows x 2 columns]"
      ]
     },
     "execution_count": 14,
     "metadata": {},
     "output_type": "execute_result"
    }
   ],
   "source": [
    "# Filter to only columns that are needed - merge will need a lot of compute\n",
    "works_small = works[[\"tags\", \"word_count\"]]\n",
    "fandoms_small = fandoms[['id', 'name', 'cached_count']]\n",
    "works_small"
   ]
  },
  {
   "cell_type": "code",
   "execution_count": 15,
   "metadata": {},
   "outputs": [
    {
     "data": {
      "text/html": [
       "<div>\n",
       "<style scoped>\n",
       "    .dataframe tbody tr th:only-of-type {\n",
       "        vertical-align: middle;\n",
       "    }\n",
       "\n",
       "    .dataframe tbody tr th {\n",
       "        vertical-align: top;\n",
       "    }\n",
       "\n",
       "    .dataframe thead th {\n",
       "        text-align: right;\n",
       "    }\n",
       "</style>\n",
       "<table border=\"1\" class=\"dataframe\">\n",
       "  <thead>\n",
       "    <tr style=\"text-align: right;\">\n",
       "      <th></th>\n",
       "      <th>index</th>\n",
       "      <th>tags</th>\n",
       "      <th>word_count</th>\n",
       "    </tr>\n",
       "  </thead>\n",
       "  <tbody>\n",
       "    <tr>\n",
       "      <th>0</th>\n",
       "      <td>0</td>\n",
       "      <td>10</td>\n",
       "      <td>388.0</td>\n",
       "    </tr>\n",
       "    <tr>\n",
       "      <th>1</th>\n",
       "      <td>0</td>\n",
       "      <td>414093</td>\n",
       "      <td>388.0</td>\n",
       "    </tr>\n",
       "    <tr>\n",
       "      <th>2</th>\n",
       "      <td>0</td>\n",
       "      <td>1001939</td>\n",
       "      <td>388.0</td>\n",
       "    </tr>\n",
       "    <tr>\n",
       "      <th>3</th>\n",
       "      <td>0</td>\n",
       "      <td>4577144</td>\n",
       "      <td>388.0</td>\n",
       "    </tr>\n",
       "    <tr>\n",
       "      <th>4</th>\n",
       "      <td>0</td>\n",
       "      <td>1499536</td>\n",
       "      <td>388.0</td>\n",
       "    </tr>\n",
       "    <tr>\n",
       "      <th>...</th>\n",
       "      <td>...</td>\n",
       "      <td>...</td>\n",
       "      <td>...</td>\n",
       "    </tr>\n",
       "    <tr>\n",
       "      <th>119146247</th>\n",
       "      <td>7269692</td>\n",
       "      <td>2246</td>\n",
       "      <td>1836.0</td>\n",
       "    </tr>\n",
       "    <tr>\n",
       "      <th>119146248</th>\n",
       "      <td>7269692</td>\n",
       "      <td>2832</td>\n",
       "      <td>1836.0</td>\n",
       "    </tr>\n",
       "    <tr>\n",
       "      <th>119146249</th>\n",
       "      <td>7269692</td>\n",
       "      <td>2831</td>\n",
       "      <td>1836.0</td>\n",
       "    </tr>\n",
       "    <tr>\n",
       "      <th>119146250</th>\n",
       "      <td>7269692</td>\n",
       "      <td>968</td>\n",
       "      <td>1836.0</td>\n",
       "    </tr>\n",
       "    <tr>\n",
       "      <th>119146251</th>\n",
       "      <td>7269692</td>\n",
       "      <td>39120</td>\n",
       "      <td>1836.0</td>\n",
       "    </tr>\n",
       "  </tbody>\n",
       "</table>\n",
       "<p>119146252 rows × 3 columns</p>\n",
       "</div>"
      ],
      "text/plain": [
       "             index     tags  word_count\n",
       "0                0       10       388.0\n",
       "1                0   414093       388.0\n",
       "2                0  1001939       388.0\n",
       "3                0  4577144       388.0\n",
       "4                0  1499536       388.0\n",
       "...            ...      ...         ...\n",
       "119146247  7269692     2246      1836.0\n",
       "119146248  7269692     2832      1836.0\n",
       "119146249  7269692     2831      1836.0\n",
       "119146250  7269692      968      1836.0\n",
       "119146251  7269692    39120      1836.0\n",
       "\n",
       "[119146252 rows x 3 columns]"
      ]
     },
     "execution_count": 15,
     "metadata": {},
     "output_type": "execute_result"
    }
   ],
   "source": [
    "# Separate out the list of tags to individual rows\n",
    "works_small = works_small.explode('tags').reset_index()\n",
    "works_small = works_small.drop(columns=['index']).dropna()\n",
    "works_small"
   ]
  },
  {
   "cell_type": "code",
   "execution_count": 17,
   "metadata": {},
   "outputs": [],
   "source": [
    "#filter out the nans\n",
    "works_small = works_small[works_small['tags'] != 'nan']"
   ]
  },
  {
   "cell_type": "code",
   "execution_count": 18,
   "metadata": {},
   "outputs": [],
   "source": [
    "# change to int if not the matching won't work - still in str rn\n",
    "works_small['tags'] = works_small['tags'].astype(int)"
   ]
  },
  {
   "cell_type": "code",
   "execution_count": 20,
   "metadata": {},
   "outputs": [
    {
     "data": {
      "text/plain": [
       "9732905"
      ]
     },
     "execution_count": 20,
     "metadata": {},
     "output_type": "execute_result"
    }
   ],
   "source": [
    "# filter only for tags that correspond to fandoms, to further reduce df size\n",
    "works_small = works_small[works_small['tags'].isin(fandoms_small['id'])]\n",
    "\n",
    "len(works_small)"
   ]
  },
  {
   "cell_type": "markdown",
   "metadata": {},
   "source": [
    "## Merge"
   ]
  },
  {
   "cell_type": "code",
   "execution_count": 63,
   "metadata": {},
   "outputs": [],
   "source": [
    "all_works_merged = pd.merge(works_small, fandoms_small, left_on='tags', right_on='id', how='left')"
   ]
  },
  {
   "cell_type": "code",
   "execution_count": 73,
   "metadata": {},
   "outputs": [
    {
     "data": {
      "text/html": [
       "<div>\n",
       "<style scoped>\n",
       "    .dataframe tbody tr th:only-of-type {\n",
       "        vertical-align: middle;\n",
       "    }\n",
       "\n",
       "    .dataframe tbody tr th {\n",
       "        vertical-align: top;\n",
       "    }\n",
       "\n",
       "    .dataframe thead th {\n",
       "        text-align: right;\n",
       "    }\n",
       "</style>\n",
       "<table border=\"1\" class=\"dataframe\">\n",
       "  <thead>\n",
       "    <tr style=\"text-align: right;\">\n",
       "      <th></th>\n",
       "      <th>id</th>\n",
       "      <th>average_word_count</th>\n",
       "    </tr>\n",
       "  </thead>\n",
       "  <tbody>\n",
       "    <tr>\n",
       "      <th>0</th>\n",
       "      <td>27</td>\n",
       "      <td>6702.969641</td>\n",
       "    </tr>\n",
       "    <tr>\n",
       "      <th>1</th>\n",
       "      <td>31</td>\n",
       "      <td>2478.800000</td>\n",
       "    </tr>\n",
       "    <tr>\n",
       "      <th>2</th>\n",
       "      <td>37</td>\n",
       "      <td>4431.021739</td>\n",
       "    </tr>\n",
       "    <tr>\n",
       "      <th>3</th>\n",
       "      <td>46</td>\n",
       "      <td>3671.977899</td>\n",
       "    </tr>\n",
       "    <tr>\n",
       "      <th>4</th>\n",
       "      <td>56</td>\n",
       "      <td>2570.000000</td>\n",
       "    </tr>\n",
       "    <tr>\n",
       "      <th>...</th>\n",
       "      <td>...</td>\n",
       "      <td>...</td>\n",
       "    </tr>\n",
       "    <tr>\n",
       "      <th>150063</th>\n",
       "      <td>54949974</td>\n",
       "      <td>5381.000000</td>\n",
       "    </tr>\n",
       "    <tr>\n",
       "      <th>150064</th>\n",
       "      <td>54954141</td>\n",
       "      <td>16290.000000</td>\n",
       "    </tr>\n",
       "    <tr>\n",
       "      <th>150065</th>\n",
       "      <td>54956880</td>\n",
       "      <td>2190.750000</td>\n",
       "    </tr>\n",
       "    <tr>\n",
       "      <th>150066</th>\n",
       "      <td>55037796</td>\n",
       "      <td>5976.000000</td>\n",
       "    </tr>\n",
       "    <tr>\n",
       "      <th>150067</th>\n",
       "      <td>55078596</td>\n",
       "      <td>33123.000000</td>\n",
       "    </tr>\n",
       "  </tbody>\n",
       "</table>\n",
       "<p>150068 rows × 2 columns</p>\n",
       "</div>"
      ],
      "text/plain": [
       "              id  average_word_count\n",
       "0             27         6702.969641\n",
       "1             31         2478.800000\n",
       "2             37         4431.021739\n",
       "3             46         3671.977899\n",
       "4             56         2570.000000\n",
       "...          ...                 ...\n",
       "150063  54949974         5381.000000\n",
       "150064  54954141        16290.000000\n",
       "150065  54956880         2190.750000\n",
       "150066  55037796         5976.000000\n",
       "150067  55078596        33123.000000\n",
       "\n",
       "[150068 rows x 2 columns]"
      ]
     },
     "execution_count": 73,
     "metadata": {},
     "output_type": "execute_result"
    }
   ],
   "source": [
    "# group by to get average word count\n",
    "fandoms_word_count = all_works_merged.groupby('id')[['word_count']].mean().reset_index()\n",
    "fandoms_word_count = fandoms_word_count.rename(columns={\"word_count\": \"average_word_count\"})\n",
    "\n",
    "fandoms_word_count"
   ]
  },
  {
   "cell_type": "code",
   "execution_count": 74,
   "metadata": {},
   "outputs": [
    {
     "data": {
      "text/html": [
       "<div>\n",
       "<style scoped>\n",
       "    .dataframe tbody tr th:only-of-type {\n",
       "        vertical-align: middle;\n",
       "    }\n",
       "\n",
       "    .dataframe tbody tr th {\n",
       "        vertical-align: top;\n",
       "    }\n",
       "\n",
       "    .dataframe thead th {\n",
       "        text-align: right;\n",
       "    }\n",
       "</style>\n",
       "<table border=\"1\" class=\"dataframe\">\n",
       "  <thead>\n",
       "    <tr style=\"text-align: right;\">\n",
       "      <th></th>\n",
       "      <th>id</th>\n",
       "      <th>cached_count</th>\n",
       "      <th>name</th>\n",
       "    </tr>\n",
       "  </thead>\n",
       "  <tbody>\n",
       "    <tr>\n",
       "      <th>0</th>\n",
       "      <td>414093</td>\n",
       "      <td>240536</td>\n",
       "      <td>Marvel Cinematic Universe</td>\n",
       "    </tr>\n",
       "    <tr>\n",
       "      <th>1</th>\n",
       "      <td>1001939</td>\n",
       "      <td>157813</td>\n",
       "      <td>The Avengers (Marvel Movies)</td>\n",
       "    </tr>\n",
       "    <tr>\n",
       "      <th>2</th>\n",
       "      <td>20350917</td>\n",
       "      <td>2338</td>\n",
       "      <td>Rusty Quill Gaming (Podcast)</td>\n",
       "    </tr>\n",
       "    <tr>\n",
       "      <th>3</th>\n",
       "      <td>10613413</td>\n",
       "      <td>7393</td>\n",
       "      <td>mha</td>\n",
       "    </tr>\n",
       "    <tr>\n",
       "      <th>4</th>\n",
       "      <td>9780526</td>\n",
       "      <td>5078</td>\n",
       "      <td>My Hero Academia</td>\n",
       "    </tr>\n",
       "    <tr>\n",
       "      <th>...</th>\n",
       "      <td>...</td>\n",
       "      <td>...</td>\n",
       "      <td>...</td>\n",
       "    </tr>\n",
       "    <tr>\n",
       "      <th>9732742</th>\n",
       "      <td>809</td>\n",
       "      <td>1</td>\n",
       "      <td>Redacted</td>\n",
       "    </tr>\n",
       "    <tr>\n",
       "      <th>9732745</th>\n",
       "      <td>821</td>\n",
       "      <td>1</td>\n",
       "      <td>Redacted</td>\n",
       "    </tr>\n",
       "    <tr>\n",
       "      <th>9732754</th>\n",
       "      <td>851</td>\n",
       "      <td>1</td>\n",
       "      <td>Redacted</td>\n",
       "    </tr>\n",
       "    <tr>\n",
       "      <th>9732849</th>\n",
       "      <td>328</td>\n",
       "      <td>1</td>\n",
       "      <td>Redacted</td>\n",
       "    </tr>\n",
       "    <tr>\n",
       "      <th>9732871</th>\n",
       "      <td>403</td>\n",
       "      <td>1</td>\n",
       "      <td>Redacted</td>\n",
       "    </tr>\n",
       "  </tbody>\n",
       "</table>\n",
       "<p>150068 rows × 3 columns</p>\n",
       "</div>"
      ],
      "text/plain": [
       "               id  cached_count                          name\n",
       "0          414093        240536     Marvel Cinematic Universe\n",
       "1         1001939        157813  The Avengers (Marvel Movies)\n",
       "2        20350917          2338  Rusty Quill Gaming (Podcast)\n",
       "3        10613413          7393                           mha\n",
       "4         9780526          5078              My Hero Academia\n",
       "...           ...           ...                           ...\n",
       "9732742       809             1                      Redacted\n",
       "9732745       821             1                      Redacted\n",
       "9732754       851             1                      Redacted\n",
       "9732849       328             1                      Redacted\n",
       "9732871       403             1                      Redacted\n",
       "\n",
       "[150068 rows x 3 columns]"
      ]
     },
     "execution_count": 74,
     "metadata": {},
     "output_type": "execute_result"
    }
   ],
   "source": [
    "all_works_merged_for_merge = all_works_merged[['id', 'cached_count', 'name']]\n",
    "all_works_merged_for_merge = all_works_merged_for_merge.drop_duplicates()\n",
    "all_works_merged_for_merge"
   ]
  },
  {
   "cell_type": "code",
   "execution_count": 76,
   "metadata": {},
   "outputs": [
    {
     "data": {
      "text/html": [
       "<div>\n",
       "<style scoped>\n",
       "    .dataframe tbody tr th:only-of-type {\n",
       "        vertical-align: middle;\n",
       "    }\n",
       "\n",
       "    .dataframe tbody tr th {\n",
       "        vertical-align: top;\n",
       "    }\n",
       "\n",
       "    .dataframe thead th {\n",
       "        text-align: right;\n",
       "    }\n",
       "</style>\n",
       "<table border=\"1\" class=\"dataframe\">\n",
       "  <thead>\n",
       "    <tr style=\"text-align: right;\">\n",
       "      <th></th>\n",
       "      <th>id</th>\n",
       "      <th>average_word_count</th>\n",
       "      <th>cached_count</th>\n",
       "      <th>name</th>\n",
       "    </tr>\n",
       "  </thead>\n",
       "  <tbody>\n",
       "    <tr>\n",
       "      <th>0</th>\n",
       "      <td>27</td>\n",
       "      <td>6702.969641</td>\n",
       "      <td>310300</td>\n",
       "      <td>Supernatural</td>\n",
       "    </tr>\n",
       "    <tr>\n",
       "      <th>1</th>\n",
       "      <td>31</td>\n",
       "      <td>2478.800000</td>\n",
       "      <td>5</td>\n",
       "      <td>Redacted</td>\n",
       "    </tr>\n",
       "    <tr>\n",
       "      <th>2</th>\n",
       "      <td>37</td>\n",
       "      <td>4431.021739</td>\n",
       "      <td>47</td>\n",
       "      <td>Boondock Saints (1999)</td>\n",
       "    </tr>\n",
       "    <tr>\n",
       "      <th>3</th>\n",
       "      <td>46</td>\n",
       "      <td>3671.977899</td>\n",
       "      <td>3538</td>\n",
       "      <td>Lord of the Rings RPF</td>\n",
       "    </tr>\n",
       "    <tr>\n",
       "      <th>4</th>\n",
       "      <td>56</td>\n",
       "      <td>2570.000000</td>\n",
       "      <td>6</td>\n",
       "      <td>Gravitation (Anime)</td>\n",
       "    </tr>\n",
       "    <tr>\n",
       "      <th>...</th>\n",
       "      <td>...</td>\n",
       "      <td>...</td>\n",
       "      <td>...</td>\n",
       "      <td>...</td>\n",
       "    </tr>\n",
       "    <tr>\n",
       "      <th>150063</th>\n",
       "      <td>54949974</td>\n",
       "      <td>5381.000000</td>\n",
       "      <td>1</td>\n",
       "      <td>Redacted</td>\n",
       "    </tr>\n",
       "    <tr>\n",
       "      <th>150064</th>\n",
       "      <td>54954141</td>\n",
       "      <td>16290.000000</td>\n",
       "      <td>1</td>\n",
       "      <td>Redacted</td>\n",
       "    </tr>\n",
       "    <tr>\n",
       "      <th>150065</th>\n",
       "      <td>54956880</td>\n",
       "      <td>2190.750000</td>\n",
       "      <td>5</td>\n",
       "      <td>Redacted</td>\n",
       "    </tr>\n",
       "    <tr>\n",
       "      <th>150066</th>\n",
       "      <td>55037796</td>\n",
       "      <td>5976.000000</td>\n",
       "      <td>1</td>\n",
       "      <td>Redacted</td>\n",
       "    </tr>\n",
       "    <tr>\n",
       "      <th>150067</th>\n",
       "      <td>55078596</td>\n",
       "      <td>33123.000000</td>\n",
       "      <td>1</td>\n",
       "      <td>Redacted</td>\n",
       "    </tr>\n",
       "  </tbody>\n",
       "</table>\n",
       "<p>150068 rows × 4 columns</p>\n",
       "</div>"
      ],
      "text/plain": [
       "              id  average_word_count  cached_count                    name\n",
       "0             27         6702.969641        310300            Supernatural\n",
       "1             31         2478.800000             5                Redacted\n",
       "2             37         4431.021739            47  Boondock Saints (1999)\n",
       "3             46         3671.977899          3538   Lord of the Rings RPF\n",
       "4             56         2570.000000             6     Gravitation (Anime)\n",
       "...          ...                 ...           ...                     ...\n",
       "150063  54949974         5381.000000             1                Redacted\n",
       "150064  54954141        16290.000000             1                Redacted\n",
       "150065  54956880         2190.750000             5                Redacted\n",
       "150066  55037796         5976.000000             1                Redacted\n",
       "150067  55078596        33123.000000             1                Redacted\n",
       "\n",
       "[150068 rows x 4 columns]"
      ]
     },
     "execution_count": 76,
     "metadata": {},
     "output_type": "execute_result"
    }
   ],
   "source": [
    "word_cache_counts = pd.merge(fandoms_word_count, all_works_merged_for_merge, how='left', on='id')\n",
    "word_cache_counts"
   ]
  },
  {
   "cell_type": "code",
   "execution_count": 78,
   "metadata": {},
   "outputs": [
    {
     "data": {
      "text/plain": [
       "id                    0\n",
       "average_word_count    0\n",
       "cached_count          0\n",
       "name                  0\n",
       "dtype: int64"
      ]
     },
     "execution_count": 78,
     "metadata": {},
     "output_type": "execute_result"
    }
   ],
   "source": [
    "# check\n",
    "word_cache_counts.isna().sum()  "
   ]
  },
  {
   "cell_type": "code",
   "execution_count": 79,
   "metadata": {},
   "outputs": [
    {
     "data": {
      "text/plain": [
       "45716"
      ]
     },
     "execution_count": 79,
     "metadata": {},
     "output_type": "execute_result"
    }
   ],
   "source": [
    "# filter out redacted fandoms (why redacted?)\n",
    "word_cache_counts = word_cache_counts[word_cache_counts['name'] != \"Redacted\"]\n",
    "len(word_cache_counts)\n",
    "\n",
    "# woah huge diff"
   ]
  },
  {
   "cell_type": "code",
   "execution_count": 80,
   "metadata": {},
   "outputs": [
    {
     "data": {
      "text/html": [
       "<div>\n",
       "<style scoped>\n",
       "    .dataframe tbody tr th:only-of-type {\n",
       "        vertical-align: middle;\n",
       "    }\n",
       "\n",
       "    .dataframe tbody tr th {\n",
       "        vertical-align: top;\n",
       "    }\n",
       "\n",
       "    .dataframe thead th {\n",
       "        text-align: right;\n",
       "    }\n",
       "</style>\n",
       "<table border=\"1\" class=\"dataframe\">\n",
       "  <thead>\n",
       "    <tr style=\"text-align: right;\">\n",
       "      <th></th>\n",
       "      <th>id</th>\n",
       "      <th>average_word_count</th>\n",
       "      <th>cached_count</th>\n",
       "      <th>name</th>\n",
       "    </tr>\n",
       "  </thead>\n",
       "  <tbody>\n",
       "    <tr>\n",
       "      <th>0</th>\n",
       "      <td>27</td>\n",
       "      <td>6702.969641</td>\n",
       "      <td>310300</td>\n",
       "      <td>Supernatural</td>\n",
       "    </tr>\n",
       "    <tr>\n",
       "      <th>2</th>\n",
       "      <td>37</td>\n",
       "      <td>4431.021739</td>\n",
       "      <td>47</td>\n",
       "      <td>Boondock Saints (1999)</td>\n",
       "    </tr>\n",
       "    <tr>\n",
       "      <th>3</th>\n",
       "      <td>46</td>\n",
       "      <td>3671.977899</td>\n",
       "      <td>3538</td>\n",
       "      <td>Lord of the Rings RPF</td>\n",
       "    </tr>\n",
       "    <tr>\n",
       "      <th>4</th>\n",
       "      <td>56</td>\n",
       "      <td>2570.000000</td>\n",
       "      <td>6</td>\n",
       "      <td>Gravitation (Anime)</td>\n",
       "    </tr>\n",
       "    <tr>\n",
       "      <th>5</th>\n",
       "      <td>65</td>\n",
       "      <td>9533.997624</td>\n",
       "      <td>33306</td>\n",
       "      <td>Avatar: The Last Airbender</td>\n",
       "    </tr>\n",
       "    <tr>\n",
       "      <th>...</th>\n",
       "      <td>...</td>\n",
       "      <td>...</td>\n",
       "      <td>...</td>\n",
       "      <td>...</td>\n",
       "    </tr>\n",
       "    <tr>\n",
       "      <th>149882</th>\n",
       "      <td>54806220</td>\n",
       "      <td>20.000000</td>\n",
       "      <td>1</td>\n",
       "      <td>Балканский рубеж | The Balkan Line (2019)</td>\n",
       "    </tr>\n",
       "    <tr>\n",
       "      <th>149935</th>\n",
       "      <td>54847029</td>\n",
       "      <td>11034.363636</td>\n",
       "      <td>11</td>\n",
       "      <td>Tomb Raider (Trinity)</td>\n",
       "    </tr>\n",
       "    <tr>\n",
       "      <th>149993</th>\n",
       "      <td>54881538</td>\n",
       "      <td>31.000000</td>\n",
       "      <td>1</td>\n",
       "      <td>Captives (1994)</td>\n",
       "    </tr>\n",
       "    <tr>\n",
       "      <th>150036</th>\n",
       "      <td>54899295</td>\n",
       "      <td>2473.000000</td>\n",
       "      <td>1</td>\n",
       "      <td>Chroniric XIX (Video Game)</td>\n",
       "    </tr>\n",
       "    <tr>\n",
       "      <th>150049</th>\n",
       "      <td>54920628</td>\n",
       "      <td>18947.000000</td>\n",
       "      <td>6</td>\n",
       "      <td>Vthryl</td>\n",
       "    </tr>\n",
       "  </tbody>\n",
       "</table>\n",
       "<p>45716 rows × 4 columns</p>\n",
       "</div>"
      ],
      "text/plain": [
       "              id  average_word_count  cached_count  \\\n",
       "0             27         6702.969641        310300   \n",
       "2             37         4431.021739            47   \n",
       "3             46         3671.977899          3538   \n",
       "4             56         2570.000000             6   \n",
       "5             65         9533.997624         33306   \n",
       "...          ...                 ...           ...   \n",
       "149882  54806220           20.000000             1   \n",
       "149935  54847029        11034.363636            11   \n",
       "149993  54881538           31.000000             1   \n",
       "150036  54899295         2473.000000             1   \n",
       "150049  54920628        18947.000000             6   \n",
       "\n",
       "                                             name  \n",
       "0                                    Supernatural  \n",
       "2                          Boondock Saints (1999)  \n",
       "3                           Lord of the Rings RPF  \n",
       "4                             Gravitation (Anime)  \n",
       "5                      Avatar: The Last Airbender  \n",
       "...                                           ...  \n",
       "149882  Балканский рубеж | The Balkan Line (2019)  \n",
       "149935                      Tomb Raider (Trinity)  \n",
       "149993                            Captives (1994)  \n",
       "150036                 Chroniric XIX (Video Game)  \n",
       "150049                                     Vthryl  \n",
       "\n",
       "[45716 rows x 4 columns]"
      ]
     },
     "execution_count": 80,
     "metadata": {},
     "output_type": "execute_result"
    }
   ],
   "source": [
    "word_cache_counts"
   ]
  },
  {
   "cell_type": "markdown",
   "metadata": {},
   "source": [
    "# download for deepnote"
   ]
  },
  {
   "cell_type": "code",
   "execution_count": 125,
   "metadata": {},
   "outputs": [],
   "source": [
    "word_cache_counts.to_csv('word_cache_counts.csv', index=False)"
   ]
  },
  {
   "cell_type": "markdown",
   "metadata": {},
   "source": [
    "## Plot with bokeh"
   ]
  },
  {
   "cell_type": "markdown",
   "metadata": {},
   "source": [
    "Too many rows! Will randomly sample 50 rows using the sample method"
   ]
  },
  {
   "cell_type": "code",
   "execution_count": 92,
   "metadata": {},
   "outputs": [
    {
     "data": {
      "text/html": [
       "    <style>\n",
       "        .bk-notebook-logo {\n",
       "            display: block;\n",
       "            width: 20px;\n",
       "            height: 20px;\n",
       "            background-image: url(data:image/png;base64,iVBORw0KGgoAAAANSUhEUgAAABQAAAAUCAYAAACNiR0NAAAABHNCSVQICAgIfAhkiAAAAAlwSFlzAAALEgAACxIB0t1+/AAAABx0RVh0U29mdHdhcmUAQWRvYmUgRmlyZXdvcmtzIENTNui8sowAAAOkSURBVDiNjZRtaJVlGMd/1/08zzln5zjP1LWcU9N0NkN8m2CYjpgQYQXqSs0I84OLIC0hkEKoPtiH3gmKoiJDU7QpLgoLjLIQCpEsNJ1vqUOdO7ppbuec5+V+rj4ctwzd8IIbbi6u+8f1539dt3A78eXC7QizUF7gyV1fD1Yqg4JWz84yffhm0qkFqBogB9rM8tZdtwVsPUhWhGcFJngGeWrPzHm5oaMmkfEg1usvLFyc8jLRqDOMru7AyC8saQr7GG7f5fvDeH7Ej8CM66nIF+8yngt6HWaKh7k49Soy9nXurCi1o3qUbS3zWfrYeQDTB/Qj6kX6Ybhw4B+bOYoLKCC9H3Nu/leUTZ1JdRWkkn2ldcCamzrcf47KKXdAJllSlxAOkRgyHsGC/zRday5Qld9DyoM4/q/rUoy/CXh3jzOu3bHUVZeU+DEn8FInkPBFlu3+nW3Nw0mk6vCDiWg8CeJaxEwuHS3+z5RgY+YBR6V1Z1nxSOfoaPa4LASWxxdNp+VWTk7+4vzaou8v8PN+xo+KY2xsw6une2frhw05CTYOmQvsEhjhWjn0bmXPjpE1+kplmmkP3suftwTubK9Vq22qKmrBhpY4jvd5afdRA3wGjFAgcnTK2s4hY0/GPNIb0nErGMCRxWOOX64Z8RAC4oCXdklmEvcL8o0BfkNK4lUg9HTl+oPlQxdNo3Mg4Nv175e/1LDGzZen30MEjRUtmXSfiTVu1kK8W4txyV6BMKlbgk3lMwYCiusNy9fVfvvwMxv8Ynl6vxoByANLTWplvuj/nF9m2+PDtt1eiHPBr1oIfhCChQMBw6Aw0UulqTKZdfVvfG7VcfIqLG9bcldL/+pdWTLxLUy8Qq38heUIjh4XlzZxzQm19lLFlr8vdQ97rjZVOLf8nclzckbcD4wxXMidpX30sFd37Fv/GtwwhzhxGVAprjbg0gCAEeIgwCZyTV2Z1REEW8O4py0wsjeloKoMr6iCY6dP92H6Vw/oTyICIthibxjm/DfN9lVz8IqtqKYLUXfoKVMVQVVJOElGjrnnUt9T9wbgp8AyYKaGlqingHZU/uG2NTZSVqwHQTWkx9hxjkpWDaCg6Ckj5qebgBVbT3V3NNXMSiWSDdGV3hrtzla7J+duwPOToIg42ChPQOQjspnSlp1V+Gjdged7+8UN5CRAV7a5EdFNwCjEaBR27b3W890TE7g24NAP/mMDXRWrGoFPQI9ls/MWO2dWFAar/xcOIImbbpA3zgAAAABJRU5ErkJggg==);\n",
       "        }\n",
       "    </style>\n",
       "    <div>\n",
       "        <a href=\"https://bokeh.org\" target=\"_blank\" class=\"bk-notebook-logo\"></a>\n",
       "        <span id=\"af081823-35d3-41ec-b100-6005cd06da81\">Loading BokehJS ...</span>\n",
       "    </div>\n"
      ]
     },
     "metadata": {},
     "output_type": "display_data"
    },
    {
     "data": {
      "application/javascript": "'use strict';\n(function(root) {\n  function now() {\n    return new Date();\n  }\n\n  const force = true;\n\n  if (typeof root._bokeh_onload_callbacks === \"undefined\" || force === true) {\n    root._bokeh_onload_callbacks = [];\n    root._bokeh_is_loading = undefined;\n  }\n\nconst JS_MIME_TYPE = 'application/javascript';\n  const HTML_MIME_TYPE = 'text/html';\n  const EXEC_MIME_TYPE = 'application/vnd.bokehjs_exec.v0+json';\n  const CLASS_NAME = 'output_bokeh rendered_html';\n\n  /**\n   * Render data to the DOM node\n   */\n  function render(props, node) {\n    const script = document.createElement(\"script\");\n    node.appendChild(script);\n  }\n\n  /**\n   * Handle when an output is cleared or removed\n   */\n  function handleClearOutput(event, handle) {\n    function drop(id) {\n      const view = Bokeh.index.get_by_id(id)\n      if (view != null) {\n        view.model.document.clear()\n        Bokeh.index.delete(view)\n      }\n    }\n\n    const cell = handle.cell;\n\n    const id = cell.output_area._bokeh_element_id;\n    const server_id = cell.output_area._bokeh_server_id;\n\n    // Clean up Bokeh references\n    if (id != null) {\n      drop(id)\n    }\n\n    if (server_id !== undefined) {\n      // Clean up Bokeh references\n      const cmd_clean = \"from bokeh.io.state import curstate; print(curstate().uuid_to_server['\" + server_id + \"'].get_sessions()[0].document.roots[0]._id)\";\n      cell.notebook.kernel.execute(cmd_clean, {\n        iopub: {\n          output: function(msg) {\n            const id = msg.content.text.trim()\n            drop(id)\n          }\n        }\n      });\n      // Destroy server and session\n      const cmd_destroy = \"import bokeh.io.notebook as ion; ion.destroy_server('\" + server_id + \"')\";\n      cell.notebook.kernel.execute(cmd_destroy);\n    }\n  }\n\n  /**\n   * Handle when a new output is added\n   */\n  function handleAddOutput(event, handle) {\n    const output_area = handle.output_area;\n    const output = handle.output;\n\n    // limit handleAddOutput to display_data with EXEC_MIME_TYPE content only\n    if ((output.output_type != \"display_data\") || (!Object.prototype.hasOwnProperty.call(output.data, EXEC_MIME_TYPE))) {\n      return\n    }\n\n    const toinsert = output_area.element.find(\".\" + CLASS_NAME.split(' ')[0]);\n\n    if (output.metadata[EXEC_MIME_TYPE][\"id\"] !== undefined) {\n      toinsert[toinsert.length - 1].firstChild.textContent = output.data[JS_MIME_TYPE];\n      // store reference to embed id on output_area\n      output_area._bokeh_element_id = output.metadata[EXEC_MIME_TYPE][\"id\"];\n    }\n    if (output.metadata[EXEC_MIME_TYPE][\"server_id\"] !== undefined) {\n      const bk_div = document.createElement(\"div\");\n      bk_div.innerHTML = output.data[HTML_MIME_TYPE];\n      const script_attrs = bk_div.children[0].attributes;\n      for (let i = 0; i < script_attrs.length; i++) {\n        toinsert[toinsert.length - 1].firstChild.setAttribute(script_attrs[i].name, script_attrs[i].value);\n        toinsert[toinsert.length - 1].firstChild.textContent = bk_div.children[0].textContent\n      }\n      // store reference to server id on output_area\n      output_area._bokeh_server_id = output.metadata[EXEC_MIME_TYPE][\"server_id\"];\n    }\n  }\n\n  function register_renderer(events, OutputArea) {\n\n    function append_mime(data, metadata, element) {\n      // create a DOM node to render to\n      const toinsert = this.create_output_subarea(\n        metadata,\n        CLASS_NAME,\n        EXEC_MIME_TYPE\n      );\n      this.keyboard_manager.register_events(toinsert);\n      // Render to node\n      const props = {data: data, metadata: metadata[EXEC_MIME_TYPE]};\n      render(props, toinsert[toinsert.length - 1]);\n      element.append(toinsert);\n      return toinsert\n    }\n\n    /* Handle when an output is cleared or removed */\n    events.on('clear_output.CodeCell', handleClearOutput);\n    events.on('delete.Cell', handleClearOutput);\n\n    /* Handle when a new output is added */\n    events.on('output_added.OutputArea', handleAddOutput);\n\n    /**\n     * Register the mime type and append_mime function with output_area\n     */\n    OutputArea.prototype.register_mime_type(EXEC_MIME_TYPE, append_mime, {\n      /* Is output safe? */\n      safe: true,\n      /* Index of renderer in `output_area.display_order` */\n      index: 0\n    });\n  }\n\n  // register the mime type if in Jupyter Notebook environment and previously unregistered\n  if (root.Jupyter !== undefined) {\n    const events = require('base/js/events');\n    const OutputArea = require('notebook/js/outputarea').OutputArea;\n\n    if (OutputArea.prototype.mime_types().indexOf(EXEC_MIME_TYPE) == -1) {\n      register_renderer(events, OutputArea);\n    }\n  }\n  if (typeof (root._bokeh_timeout) === \"undefined\" || force === true) {\n    root._bokeh_timeout = Date.now() + 5000;\n    root._bokeh_failed_load = false;\n  }\n\n  const NB_LOAD_WARNING = {'data': {'text/html':\n     \"<div style='background-color: #fdd'>\\n\"+\n     \"<p>\\n\"+\n     \"BokehJS does not appear to have successfully loaded. If loading BokehJS from CDN, this \\n\"+\n     \"may be due to a slow or bad network connection. Possible fixes:\\n\"+\n     \"</p>\\n\"+\n     \"<ul>\\n\"+\n     \"<li>re-rerun `output_notebook()` to attempt to load from CDN again, or</li>\\n\"+\n     \"<li>use INLINE resources instead, as so:</li>\\n\"+\n     \"</ul>\\n\"+\n     \"<code>\\n\"+\n     \"from bokeh.resources import INLINE\\n\"+\n     \"output_notebook(resources=INLINE)\\n\"+\n     \"</code>\\n\"+\n     \"</div>\"}};\n\n  function display_loaded(error = null) {\n    const el = document.getElementById(\"af081823-35d3-41ec-b100-6005cd06da81\");\n    if (el != null) {\n      const html = (() => {\n        if (typeof root.Bokeh === \"undefined\") {\n          if (error == null) {\n            return \"BokehJS is loading ...\";\n          } else {\n            return \"BokehJS failed to load.\";\n          }\n        } else {\n          const prefix = `BokehJS ${root.Bokeh.version}`;\n          if (error == null) {\n            return `${prefix} successfully loaded.`;\n          } else {\n            return `${prefix} <b>encountered errors</b> while loading and may not function as expected.`;\n          }\n        }\n      })();\n      el.innerHTML = html;\n\n      if (error != null) {\n        const wrapper = document.createElement(\"div\");\n        wrapper.style.overflow = \"auto\";\n        wrapper.style.height = \"5em\";\n        wrapper.style.resize = \"vertical\";\n        const content = document.createElement(\"div\");\n        content.style.fontFamily = \"monospace\";\n        content.style.whiteSpace = \"pre-wrap\";\n        content.style.backgroundColor = \"rgb(255, 221, 221)\";\n        content.textContent = error.stack ?? error.toString();\n        wrapper.append(content);\n        el.append(wrapper);\n      }\n    } else if (Date.now() < root._bokeh_timeout) {\n      setTimeout(() => display_loaded(error), 100);\n    }\n  }\n\n  function run_callbacks() {\n    try {\n      root._bokeh_onload_callbacks.forEach(function(callback) {\n        if (callback != null)\n          callback();\n      });\n    } finally {\n      delete root._bokeh_onload_callbacks\n    }\n    console.debug(\"Bokeh: all callbacks have finished\");\n  }\n\n  function load_libs(css_urls, js_urls, callback) {\n    if (css_urls == null) css_urls = [];\n    if (js_urls == null) js_urls = [];\n\n    root._bokeh_onload_callbacks.push(callback);\n    if (root._bokeh_is_loading > 0) {\n      console.debug(\"Bokeh: BokehJS is being loaded, scheduling callback at\", now());\n      return null;\n    }\n    if (js_urls == null || js_urls.length === 0) {\n      run_callbacks();\n      return null;\n    }\n    console.debug(\"Bokeh: BokehJS not loaded, scheduling load and callback at\", now());\n    root._bokeh_is_loading = css_urls.length + js_urls.length;\n\n    function on_load() {\n      root._bokeh_is_loading--;\n      if (root._bokeh_is_loading === 0) {\n        console.debug(\"Bokeh: all BokehJS libraries/stylesheets loaded\");\n        run_callbacks()\n      }\n    }\n\n    function on_error(url) {\n      console.error(\"failed to load \" + url);\n    }\n\n    for (let i = 0; i < css_urls.length; i++) {\n      const url = css_urls[i];\n      const element = document.createElement(\"link\");\n      element.onload = on_load;\n      element.onerror = on_error.bind(null, url);\n      element.rel = \"stylesheet\";\n      element.type = \"text/css\";\n      element.href = url;\n      console.debug(\"Bokeh: injecting link tag for BokehJS stylesheet: \", url);\n      document.body.appendChild(element);\n    }\n\n    for (let i = 0; i < js_urls.length; i++) {\n      const url = js_urls[i];\n      const element = document.createElement('script');\n      element.onload = on_load;\n      element.onerror = on_error.bind(null, url);\n      element.async = false;\n      element.src = url;\n      console.debug(\"Bokeh: injecting script tag for BokehJS library: \", url);\n      document.head.appendChild(element);\n    }\n  };\n\n  function inject_raw_css(css) {\n    const element = document.createElement(\"style\");\n    element.appendChild(document.createTextNode(css));\n    document.body.appendChild(element);\n  }\n\n  const js_urls = [\"https://cdn.bokeh.org/bokeh/release/bokeh-3.4.1.min.js\", \"https://cdn.bokeh.org/bokeh/release/bokeh-gl-3.4.1.min.js\", \"https://cdn.bokeh.org/bokeh/release/bokeh-widgets-3.4.1.min.js\", \"https://cdn.bokeh.org/bokeh/release/bokeh-tables-3.4.1.min.js\", \"https://cdn.bokeh.org/bokeh/release/bokeh-mathjax-3.4.1.min.js\"];\n  const css_urls = [];\n\n  const inline_js = [    function(Bokeh) {\n      Bokeh.set_log_level(\"info\");\n    },\nfunction(Bokeh) {\n    }\n  ];\n\n  function run_inline_js() {\n    if (root.Bokeh !== undefined || force === true) {\n      try {\n            for (let i = 0; i < inline_js.length; i++) {\n      inline_js[i].call(root, root.Bokeh);\n    }\n\n      } catch (error) {display_loaded(error);throw error;\n      }if (force === true) {\n        display_loaded();\n      }} else if (Date.now() < root._bokeh_timeout) {\n      setTimeout(run_inline_js, 100);\n    } else if (!root._bokeh_failed_load) {\n      console.log(\"Bokeh: BokehJS failed to load within specified timeout.\");\n      root._bokeh_failed_load = true;\n    } else if (force !== true) {\n      const cell = $(document.getElementById(\"af081823-35d3-41ec-b100-6005cd06da81\")).parents('.cell').data().cell;\n      cell.output_area.append_execute_result(NB_LOAD_WARNING)\n    }\n  }\n\n  if (root._bokeh_is_loading === 0) {\n    console.debug(\"Bokeh: BokehJS loaded, going straight to plotting\");\n    run_inline_js();\n  } else {\n    load_libs(css_urls, js_urls, function() {\n      console.debug(\"Bokeh: BokehJS plotting callback run at\", now());\n      run_inline_js();\n    });\n  }\n}(window));",
      "application/vnd.bokehjs_load.v0+json": ""
     },
     "metadata": {},
     "output_type": "display_data"
    }
   ],
   "source": [
    "output_notebook()"
   ]
  },
  {
   "cell_type": "code",
   "execution_count": 107,
   "metadata": {},
   "outputs": [],
   "source": [
    "sample_size = 100"
   ]
  },
  {
   "cell_type": "code",
   "execution_count": 128,
   "metadata": {},
   "outputs": [
    {
     "data": {
      "text/html": [
       "\n",
       "  <div id=\"cb156c64-925f-4d7c-b370-72627f5d731b\" data-root-id=\"p2460\" style=\"display: contents;\"></div>\n"
      ]
     },
     "metadata": {},
     "output_type": "display_data"
    },
    {
     "data": {
      "application/javascript": "(function(root) {\n  function embed_document(root) {\n  const docs_json = {\"1b5b2949-b020-4890-938f-0fe660af8a86\":{\"version\":\"3.4.1\",\"title\":\"Bokeh Application\",\"roots\":[{\"type\":\"object\",\"name\":\"Figure\",\"id\":\"p2460\",\"attributes\":{\"width\":800,\"height\":800,\"x_range\":{\"type\":\"object\",\"name\":\"DataRange1d\",\"id\":\"p2461\"},\"y_range\":{\"type\":\"object\",\"name\":\"DataRange1d\",\"id\":\"p2462\"},\"x_scale\":{\"type\":\"object\",\"name\":\"LinearScale\",\"id\":\"p2469\"},\"y_scale\":{\"type\":\"object\",\"name\":\"LinearScale\",\"id\":\"p2470\"},\"title\":{\"type\":\"object\",\"name\":\"Title\",\"id\":\"p2467\",\"attributes\":{\"text\":\"Scatterplot of Average Word Count and Cached Count of 100 Fandoms\"}},\"renderers\":[{\"type\":\"object\",\"name\":\"GlyphRenderer\",\"id\":\"p2492\",\"attributes\":{\"data_source\":{\"type\":\"object\",\"name\":\"ColumnDataSource\",\"id\":\"p2457\",\"attributes\":{\"selected\":{\"type\":\"object\",\"name\":\"Selection\",\"id\":\"p2458\",\"attributes\":{\"indices\":[],\"line_indices\":[]}},\"selection_policy\":{\"type\":\"object\",\"name\":\"UnionRenderers\",\"id\":\"p2459\"},\"data\":{\"type\":\"map\",\"entries\":[[\"index\",{\"type\":\"ndarray\",\"array\":{\"type\":\"bytes\",\"data\":\"R2MAALZ+AABBCwIABtsAADdNAQD6PAEAAisAALbdAQDncQEAxpgBAIeqAQCqPAIA3zYBAAYNAQD1EAIAN28AAF42AgCg1QEALC0AAPEfAAAPrgAAWF8BAOMkAAAzWgAAW0MAAEVaAACUCgIAgWQAANZeAACPNAEAebgBAJ4+AACtlgAAE3wBAOJdAAA8GQAAg+8BALlkAAB6QgAAXwcAAFhDAAAVxwAAW0oAAKIdAAACGwAAnCUAAB+VAQC0YAAA1dgBADX6AAArKwAAvzwBAF2qAACLCgAAWIgAAOoiAADPagEAgZgBAP9OAAArvwAAgwACAEJ/AADHJQIA3z4AALJlAADIywEAuMMAAJBrAABlvgAAYREAAPhXAAC8LAEArl8BAKKGAQCM3QAA/icBANE+AACzMgAAXVoBAH0BAAAxKwAADz0AAHCMAABQrAAAiFwBAMnCAQBgYgAAGV8BAPOkAAAfJgAAjwMAAH6MAQAdDgEAkGoBAM9tAACxtQAAh4sAAL4FAgDrUgEAmRYBAA==\"},\"shape\":[100],\"dtype\":\"int32\",\"order\":\"little\"}],[\"id\",{\"type\":\"ndarray\",\"array\":{\"type\":\"bytes\",\"data\":\"FAsRAFRYJgCifrYCJC+zAAKpmgEgG3sB2rwDAJkRWgL87dABO/8DApEfHAL2ZicDnt5uAffQGAHsl8ICjRUVAEqPFwMi7lECuvsDAD8sAgBSn2YASQa3AT4UAwDEmA4AlpYIAOCcDgAMYbUCnDsRAAnXDwCPx2oByCAuAkBwBwDx3EUABqbdAVqEDwCOwQEAMKR7Au1GEQDJYAgAoWYAALiUCABTMY4AREQKAF4GAgAg0wEAaCcDAIEw/wFbdRAAqBxVAsuL8ADpvwMAAZV6AUp9YQA6ogAACOYxAFSqAgB+LccBVKEDArhHCwAoO4IATMWhAjQjJwCjbu8Cw38HABWREQDIwUcCMHiIAKSyEwCoLYEATO4AAETXDQCUd1wBoJO3AYUY7AEFbbYAtiJTAY19BwDMnAQA7/6uAdwSAAAUwAMAyh0HAD56NwCENGQAaIWyAd9/PAIP7RAAy5y2AU0oWQCKMQMAUTQAAKG+8wGmExsBeMTGAUuKFAAt9nEAXCo2AClIqwLJ1qQBTlwtAQ==\"},\"shape\":[100],\"dtype\":\"int32\",\"order\":\"little\"}],[\"average_word_count\",{\"type\":\"ndarray\",\"array\":{\"type\":\"bytes\",\"data\":\"CtT6lYJYxkDaS2gvoUWpQAAAAAAAxKhAzczMzMyKmECrqqqqqrKxQNELvdALRa5AVVVVVdV8yUAAAAAAAKB9QF100UUXtrBAAAAAAAAanEAAAAAAANasQLdt27Zt63JAkiRJkiQLqkCoZXISjfuzQAAAAAAApJ9Aw/UoXI+/vEBVVVVVVWuxQAAAAADgerBAjYyMjAyiwkAAAAAAgL6mQAAAAAAAUMFA9xLaS2j3skAiIiIiIqi5QFVVVVVVqbtAAAAAAOBJsUAAAAAAgGm2QAAAAAAAYptAdgs8cn3uw0BvetObHsHBQM+dO3fu4KpAbtu2bdt0r0AAAAAAbDLBQPJZN5giCsRAZmZmZkbs2kC0mM5iurrHQOto8z4F0NNAAAAAAAB4m0C7wRT5TKnDQJqZmZk5DcFAAAAAAADSr0Bu27Zt25u3QAAAAAAALKJAt23btm11rEDi4eHh4fWYQK5H4XqUP7NAkiRJkmST0kAAAAAAAIKoQAAAAAAATqRA27Zt27Y5s0Crqqqq6rjDQA3SIA3SBq1AQxaykAUduUAAAAAAQH2yQB4eHh4e9rpAAAAAAAD8j0CrqqqqqoqMQN7d3d1dkMFAAAAAAIAEr0AAAAAAAIiOQAAAAABAQr5AOY7jOI7jsUAAAAAAALe0QAAAAAAAuJpAP0xXhZpiyUBmZmZmJq7FQAYyKV4gK7tA2ktoL5nL0UCBUarJ4yDCQDaU11DebbVAo4suuui2u0B6O0Ni3oSyQKuqqqoqx7lAllqplVrAsEB29kVU63ivQDMzMzMzkJ5AZmZmZmafu0AAAAAAgCzTQAAAAABASddAJ3ZiJ/aptEDNzMzMzLaoQAAAAAAAcH9AjuM4juOfrUAAAAAAADzIQLrooosuDKRAq6qqqqpSYUCamZmZ+a7SQNu2bdu2rYZAbtu2bduIvkDbtm3bttiyQOmiiy66GI1AdNFFF12CsECrqqqqqv+yQFVVVVVV17NAwXgr+xw8oUBXonYl0q3IQAAAAAAAYq9Aq6qqqqpnskAAAAAAAOBzQAAAAABoIbNAAAAAAGDx5UA=\"},\"shape\":[100],\"dtype\":\"float64\",\"order\":\"little\"}],[\"cached_count\",{\"type\":\"ndarray\",\"array\":{\"type\":\"bytes\",\"data\":\"gwAAAB0AAAABAAAACgAAABIAAAA3AQAAAwAAAAIAAAALAAAAAwAAAAIAAAAHAAAACAAAACcYAAABAAAAGQAAAAQAAAAIAAAAOQAAAA8AAAABAAAAGwAAABAAAAADAAAAHgAAABAAAAACAAAAkQgAAGUAAABMAAAACQAAACAAAAAmAAAAFQAAADkAAACAAAAAAgAAAJwAAAAUAAAACQAAACoAAAABAAAAGAAAABMAAAAyAAAABwAAAAIAAAADAAAABwAAAAYAAAApAAAA+gAAACAAAABIAAAAAgAAAAMAAAAQAAAACAAAAAEAAAAMAAAAEgAAAAYAAAABAAAASAgAABYAAABfAAAA6QAAAPoAAABFAQAACwAAAGgAAAAGAAAAQgAAALgAAAAUAAAABQAAAAEAAAAFAAAAGgAAAAgAAAABAAAAJQAAAAEAAAALAAAAGAAAABQAAAAIAAAAHAAAAAcAAAALAAAADAAAAAkAAAAEAAAANQAAAJwCAAABAAAABgAAAAEAAAAgAAAAAQAAAA==\"},\"shape\":[100],\"dtype\":\"int32\",\"order\":\"little\"}],[\"name\",{\"type\":\"ndarray\",\"array\":[\"Brothers Conflict\",\"Bandoms\",\"Bloodsuckers (2005)\",\"Before I Fall - Lauren Oliver\",\"\\u9648\\u7acb\\u519c - Fandom\",\"The Dragon Prince\",\"Irish Comedian RPF\",\"The Great Silkie of Sule Skerry - Anonymous (Song)\",\"\\u9e4f\\u51e1 - Fandom\",\"Dragon Quest: \\u30c0\\u30a4\\u306e\\u5927\\u5192\\u967a | Adventure of Dai (Anime & Manga)\",\"Profession - Isaac Asimov\",\"\\u8c6a\\u708e\\u5bfa\\u4fee\\u4e5f\",\"Butlers: Chitose Momotose Monogatari\",\"Schitt's Creek\",\"I Love You Again (1940)\",\"The Riyria Revelations - Michael J. Sullivan\",\"Star Wars: Anakin & Obi-Wan (Comics)\",\"Taiyuu OCT\",\"Jaws (Movies)\",\"GARO\",\"Opportunities (Let's Make Lots Of Money) - Pet Shop Boys (Song)\",\"Jashi - Fandom\",\"Fringe RPF\",\"\\u7279\\u52d9\\u6226\\u968a\\u30b7\\u30e3\\u30a4\\u30f3\\u30ba\\u30de\\u30f3 | The Special Duty Combat Unit Shinesman\",\"ParaNorman\",\"Baby-Sitters Club - All Media Types\",\"Scooby-Doo! and the Legend of the Vampire (2003)\",\"The Blacklist (TV)\",\"Moon Knight (Comics)\",\"Battle for London in the Air (Roleplay)\",\"The Guild Codex: Demonized - Annette Marie\",\"Kari-gurashi no Arietti | The Secret World of Arrietty\",\"Breaking Bad & Related Fandoms\",\"The Dirt (2019) Actor RPF\",\"\\u30de\\u30af\\u30ed\\u30b9 Frontier | Macross Frontier\",\"Alpha and Omega - Patricia Briggs\",\"Wings Series - Aprilynne Pike\",\"Marvel Ultimate Universe\",\"The Hulk - Fandom\",\"Chalion Saga - Bujold\",\"Operation: Endgame (2010)\",\"Road to Singapore (1940)\",\"Unsounded\",\"Westing Game - Ellen Raskin\",\"Le Morte d'Arthur - Thomas Malory\",\"star wars: all media types\",\"24 Hour Party People (2002)\",\"Oobi\",\"Crows Explode\",\"Mass Effect: Paragon Lost\",\"Dark Harbor (1998)\",\"Ocean's Eleven Trilogy (Movies)\",\"Best Friends Whenever (TV)\",\"The Boondocks\",\"Stevie Ray Vaughan (Musician)\",\"HERO (Webcomic)\",\"Drew Gooden - Fandom\",\"\\u704c\\u7bee\\u9ad8\\u624b|SLAM DUNK(\\u30b9\\u30e9\\u30e0\\u30c0\\u30f3\\u30af)\",\"The Elephant Princess\",\"Vlogger\",\"Decembrist Revolt (1825) - Fandom\",\"LiEat\",\"Idle Champions of the Forgotten Realms (Video Game)\",\"Loki - Fandom\",\"l - Fandom\",\"\\u9b54\\u9032\\u6226\\u968a\\u30ad\\u30e9\\u30e1\\u30a4\\u30b8\\u30e3\\u30fc | Mashin Sentai Kiramager\",\"\\u3053\\u306e\\u7d20\\u6674\\u3089\\u3057\\u3044\\u4e16\\u754c\\u306b\\u795d\\u798f\\u3092! | KonoSuba: God's Blessing on this Wonderful World! - All Media Types\",\"Geography (Anthropomorphic)\",\"Carol (2015) RPF\",\"Special Unit 2\",\"Mars: War Logs\",\"Richard Ramirez - Fandom\",\"Our Skyy (TV)\",\"SPY x FAMILY (Manga)\",\"Greater Boston (Podcast)\",\"Ship to Wreck - Florence + the Machine (Song)\",\"Axanael\",\"Husbands (Web Series)\",\"\\u7f8e\\u5f3a - Fandom\",\"So You Think You Can Dance\",\"Pita-Ten\",\"Goon (2011)\",\"Celldweller (Band)\",\"Growing Pains (TV 1985)\",\"Siyah Beyaz A\\u015fk | Black and White Love (TV)\",\"b j y x\",\"Metropolis Suites - Janelle Mon\\u00e1e\",\"\\u540d\\u63a2\\u5075\\u30b3\\u30ca\\u30f3\",\"Lovecraft - Fandom\",\"Fallen (Album)\",\"Veronica Mars RPF\",\"\\u6d0b\\u7075/\\u6d0b\\u949e\",\"Mr. Smith Goes to Washington (1939)\",\"Roswell New Mexico (TV 2019) RPF\",\"Yu-Gi-Oh! Series\",\"The Searchers (1956)\",\"Fury - Fandom\",\"In One Person - John Irving\",\"\\u6c5f\\u6f84 - Fandom\",\"SEEART (Band)\"],\"shape\":[100],\"dtype\":\"object\",\"order\":\"little\"}]]}}},\"view\":{\"type\":\"object\",\"name\":\"CDSView\",\"id\":\"p2493\",\"attributes\":{\"filter\":{\"type\":\"object\",\"name\":\"AllIndices\",\"id\":\"p2494\"}}},\"glyph\":{\"type\":\"object\",\"name\":\"Scatter\",\"id\":\"p2489\",\"attributes\":{\"x\":{\"type\":\"field\",\"field\":\"cached_count\"},\"y\":{\"type\":\"field\",\"field\":\"average_word_count\"},\"size\":{\"type\":\"value\",\"value\":10},\"line_color\":{\"type\":\"value\",\"value\":\"#18323d\"},\"fill_color\":{\"type\":\"value\",\"value\":\"#18323d\"},\"fill_alpha\":{\"type\":\"value\",\"value\":0.5}}},\"nonselection_glyph\":{\"type\":\"object\",\"name\":\"Scatter\",\"id\":\"p2490\",\"attributes\":{\"x\":{\"type\":\"field\",\"field\":\"cached_count\"},\"y\":{\"type\":\"field\",\"field\":\"average_word_count\"},\"size\":{\"type\":\"value\",\"value\":10},\"line_color\":{\"type\":\"value\",\"value\":\"#18323d\"},\"line_alpha\":{\"type\":\"value\",\"value\":0.1},\"fill_color\":{\"type\":\"value\",\"value\":\"#18323d\"},\"fill_alpha\":{\"type\":\"value\",\"value\":0.1},\"hatch_alpha\":{\"type\":\"value\",\"value\":0.1}}},\"muted_glyph\":{\"type\":\"object\",\"name\":\"Scatter\",\"id\":\"p2491\",\"attributes\":{\"x\":{\"type\":\"field\",\"field\":\"cached_count\"},\"y\":{\"type\":\"field\",\"field\":\"average_word_count\"},\"size\":{\"type\":\"value\",\"value\":10},\"line_color\":{\"type\":\"value\",\"value\":\"#18323d\"},\"line_alpha\":{\"type\":\"value\",\"value\":0.2},\"fill_color\":{\"type\":\"value\",\"value\":\"#18323d\"},\"fill_alpha\":{\"type\":\"value\",\"value\":0.2},\"hatch_alpha\":{\"type\":\"value\",\"value\":0.2}}}}}],\"toolbar\":{\"type\":\"object\",\"name\":\"Toolbar\",\"id\":\"p2468\",\"attributes\":{\"tools\":[{\"type\":\"object\",\"name\":\"PanTool\",\"id\":\"p2481\"},{\"type\":\"object\",\"name\":\"WheelZoomTool\",\"id\":\"p2482\",\"attributes\":{\"renderers\":\"auto\"}},{\"type\":\"object\",\"name\":\"SaveTool\",\"id\":\"p2483\"},{\"type\":\"object\",\"name\":\"ResetTool\",\"id\":\"p2484\"},{\"type\":\"object\",\"name\":\"TapTool\",\"id\":\"p2485\",\"attributes\":{\"renderers\":\"auto\"}},{\"type\":\"object\",\"name\":\"HoverTool\",\"id\":\"p2495\",\"attributes\":{\"renderers\":\"auto\",\"tooltips\":[[\"Fandom\",\"@name\"],[\"#Fics\",\"@cached_count\"],[\"Avg Word Count\",\"@average_word_count\"]]}}],\"active_scroll\":{\"id\":\"p2482\"}}},\"left\":[{\"type\":\"object\",\"name\":\"LinearAxis\",\"id\":\"p2476\",\"attributes\":{\"ticker\":{\"type\":\"object\",\"name\":\"BasicTicker\",\"id\":\"p2477\",\"attributes\":{\"mantissas\":[1,2,5]}},\"formatter\":{\"type\":\"object\",\"name\":\"BasicTickFormatter\",\"id\":\"p2478\"},\"axis_label\":\"Average Word Count\",\"major_label_policy\":{\"type\":\"object\",\"name\":\"AllLabels\",\"id\":\"p2479\"}}}],\"below\":[{\"type\":\"object\",\"name\":\"LinearAxis\",\"id\":\"p2471\",\"attributes\":{\"ticker\":{\"type\":\"object\",\"name\":\"BasicTicker\",\"id\":\"p2472\",\"attributes\":{\"mantissas\":[1,2,5]}},\"formatter\":{\"type\":\"object\",\"name\":\"BasicTickFormatter\",\"id\":\"p2473\"},\"axis_label\":\"Number of Fics on AO3\",\"major_label_policy\":{\"type\":\"object\",\"name\":\"AllLabels\",\"id\":\"p2474\"}}}],\"center\":[{\"type\":\"object\",\"name\":\"Grid\",\"id\":\"p2475\",\"attributes\":{\"axis\":{\"id\":\"p2471\"}}},{\"type\":\"object\",\"name\":\"Grid\",\"id\":\"p2480\",\"attributes\":{\"dimension\":1,\"axis\":{\"id\":\"p2476\"}}}]}}]}};\n  const render_items = [{\"docid\":\"1b5b2949-b020-4890-938f-0fe660af8a86\",\"roots\":{\"p2460\":\"cb156c64-925f-4d7c-b370-72627f5d731b\"},\"root_ids\":[\"p2460\"]}];\n  void root.Bokeh.embed.embed_items_notebook(docs_json, render_items);\n  }\n  if (root.Bokeh !== undefined) {\n    embed_document(root);\n  } else {\n    let attempts = 0;\n    const timer = setInterval(function(root) {\n      if (root.Bokeh !== undefined) {\n        clearInterval(timer);\n        embed_document(root);\n      } else {\n        attempts++;\n        if (attempts > 100) {\n          clearInterval(timer);\n          console.log(\"Bokeh: ERROR: Unable to run BokehJS code because BokehJS library is missing\");\n        }\n      }\n    }, 10, root)\n  }\n})(window);",
      "application/vnd.bokehjs_exec.v0+json": ""
     },
     "metadata": {
      "application/vnd.bokehjs_exec.v0+json": {
       "id": "p2460"
      }
     },
     "output_type": "display_data"
    }
   ],
   "source": [
    "sample_df = word_cache_counts.sample(sample_size)\n",
    "source = ColumnDataSource(sample_df)\n",
    "\n",
    "p = figure(\n",
    "    tools=\"pan,wheel_zoom,save,reset, tap\", active_scroll='wheel_zoom',\n",
    "    width=800, height=800\n",
    ")\n",
    "p.scatter(x=\"cached_count\", y='average_word_count', \n",
    "         source = source,\n",
    "         size=10, fill_color='#18323d', line_color = '#18323d', fill_alpha=0.5)\n",
    "\n",
    "p.title.text = \"Scatterplot of Average Word Count and Cached Count of \"+str(sample_size)+\" Fandoms\"\n",
    "p.xaxis.axis_label = 'Number of Fics on AO3'\n",
    "p.yaxis.axis_label = 'Average Word Count'\n",
    "\n",
    "hover = HoverTool()\n",
    "hover.tooltips=[\n",
    "    ('Fandom', '@name'),\n",
    "    ('#Fics', '@cached_count'),\n",
    "    ('Avg Word Count', '@average_word_count')\n",
    "]\n",
    "p.add_tools(hover)\n",
    "\n",
    "show(p)"
   ]
  },
  {
   "cell_type": "markdown",
   "metadata": {},
   "source": [
    "### Try limiting to fandoms with more than 100 fic"
   ]
  },
  {
   "cell_type": "code",
   "execution_count": 120,
   "metadata": {},
   "outputs": [
    {
     "data": {
      "text/plain": [
       "5472"
      ]
     },
     "execution_count": 120,
     "metadata": {},
     "output_type": "execute_result"
    }
   ],
   "source": [
    "min_fics = 100\n",
    "word_cache_counts_min = word_cache_counts[word_cache_counts['cached_count'] > min_fics]\n",
    "len(word_cache_counts_min)"
   ]
  },
  {
   "cell_type": "code",
   "execution_count": 123,
   "metadata": {},
   "outputs": [
    {
     "data": {
      "text/html": [
       "\n",
       "  <div id=\"b99d49d9-cd16-4cab-ae4e-19e268cb32dd\" data-root-id=\"p2374\" style=\"display: contents;\"></div>\n"
      ]
     },
     "metadata": {},
     "output_type": "display_data"
    },
    {
     "data": {
      "application/javascript": "(function(root) {\n  function embed_document(root) {\n  const docs_json = {\"401c4691-1568-4f98-bde4-efb7c50a629d\":{\"version\":\"3.4.1\",\"title\":\"Bokeh Application\",\"roots\":[{\"type\":\"object\",\"name\":\"Figure\",\"id\":\"p2374\",\"attributes\":{\"width\":800,\"height\":800,\"x_range\":{\"type\":\"object\",\"name\":\"DataRange1d\",\"id\":\"p2375\"},\"y_range\":{\"type\":\"object\",\"name\":\"DataRange1d\",\"id\":\"p2376\"},\"x_scale\":{\"type\":\"object\",\"name\":\"LinearScale\",\"id\":\"p2383\"},\"y_scale\":{\"type\":\"object\",\"name\":\"LinearScale\",\"id\":\"p2384\"},\"title\":{\"type\":\"object\",\"name\":\"Title\",\"id\":\"p2381\",\"attributes\":{\"text\":\"Scatterplot of Average Word Count and Cached Count of 100 Fandoms (min 100 fics)\"}},\"renderers\":[{\"type\":\"object\",\"name\":\"GlyphRenderer\",\"id\":\"p2406\",\"attributes\":{\"data_source\":{\"type\":\"object\",\"name\":\"ColumnDataSource\",\"id\":\"p2371\",\"attributes\":{\"selected\":{\"type\":\"object\",\"name\":\"Selection\",\"id\":\"p2372\",\"attributes\":{\"indices\":[],\"line_indices\":[]}},\"selection_policy\":{\"type\":\"object\",\"name\":\"UnionRenderers\",\"id\":\"p2373\"},\"data\":{\"type\":\"map\",\"entries\":[[\"index\",{\"type\":\"ndarray\",\"array\":{\"type\":\"bytes\",\"data\":\"RR4AAK4TAAAdUAAAywIBAMkGAAB2AwAACgcAAGAEAABcMwAAh/MAAHNHAABJAgAA8CAAABwcAACOFAAABw8AABNfAAAXBgAAnwAAAGAcAAC3PQEAYwAAAFdfAAA93gEAvAUAAPY+AAC5RQAAZJsAAKtWAACiNwAAiNsAAE6DAAClWwAAxM8AAMPKAQArLAEAvFIBANAIAABZFAAA7AAAAGyAAQDwCQAAzTcAAMr7AABeMAAAZj8BAB00AQCSNwEAhFYAAAmaAACUzAEAFw0AAOcwAABQigEAFJABAC0cAQCn9wAAogIAAPiRAQCcBAAASgEAAKlaAACN5wEASQ4AAGbnAABWLAIAUAsAAPSAAQBlrAAAbwgAACkrAQDntQAAjA4AAMxUAAAdDgAARGIAAOMzAQCQMAAAsDsBAArLAAC6AAAASisAAA6DAQDaggEAswMAAIKDAAB+XAAAfqEBADgHAADoAwAAodAAAN8+AABWhAAA23EAALimAACl/AAACjoAAMgTAQCQdwAAxmkBAA==\"},\"shape\":[100],\"dtype\":\"int32\",\"order\":\"little\"}],[\"id\",{\"type\":\"ndarray\",\"array\":{\"type\":\"bytes\",\"data\":\"Kw4CAFMdAQAwjAsADuUCAZ5dAABaMwAAFmEAAGE8AABbqAQACsPjAGFfCQAjJAAAn0kCAF3sAQARMwEAeNQAAILmDwDPVAAAIwYAANnwAQBhYHwBjgMAAMX/DwDKeVoC208AANqCBwCGCwkAHIRLAHR3DQDMBgYAh8WzALGiLACa/A4A7IGeAGC+RgItUlsBgZ2kAfZ/AACeLgEAGQsAACqm4wHMmgAAmB0GAP/k8wCwWAQAbAyAAaMSagHyjnABemoNAMbbSQA60EgCEb0AAJdsBABSBPEBh2T4Acc0OQH6zesAGCkAAIbP+gFcPwAAWhAAAGGzDgCqWWoCvswAAHJHyACIw/0Cy6wAAKNW5AF2V2QA0XYAAO8lWQG8Y3IAi88AAND0DAAuywAAHOUQAAvGaQH6XQQAg2l4AS49lQDvBwAAGcIDABaw5wH/bOcBxjUAAAX3LADDMQ8Aj0YPAo5jAABoNwAAbh+gAMN/BwAhFi4AyqYXANy+WwBCwfUAyZ4GADTIJQFN0x0A/qjFAQ==\"},\"shape\":[100],\"dtype\":\"int32\",\"order\":\"little\"}],[\"average_word_count\",{\"type\":\"ndarray\",\"array\":{\"type\":\"bytes\",\"data\":\"rAFXrAGdwECCdJoBI4fGQOAP+AP+/rxAnbcY0nntqUB8+BqB9EHBQGnhDAglHb9AfgT3EdzoxECjiy666IyiQL2eJUGv9bFAbtu2bVsqwUBHteUqab2+QHNzc3Nzr89AaBnRB1SkuEAlnUMDRUHEQMq0c7DmmMFA9NHbdZPqtUBvZZ9DOk60QPvVhbRY8slAI0aMGLErxUAd3OwXoj3KQHqe53keRcJABLK0UJAosUDpoosuuni7QE+Fp8JTBLVAVVVVVdWZxEBY7mmEZQWwQGkRuaW7qLZAYvo4B0n3wUCuiUCuKd/SQDmO4zgON71AetXmGreVvEBkLUMHrJbCQLzeRn8odrBAh9QE460DtUAAAAAAAHqvQJtKmUumnbtA6wZT5LPaq0DU6XQ6HXLBQEa7h61vVMRAWhBgtENawEBmZmZm5o61QDNenb6M1aVAOF/sAgX2uECO4ziO456lQFVVVVU5G7RAS461oiYtt0C2ACdh38G8QBhXP+io2b9AAAAAAABgaUCev8VpzXXAQHf9bLEyE7pAh5O6L4/IxUBMIAF9c6fSQPirOCElk7JAnPV1SIR2tEBDsI42b/65QM7Q2n249rxAUKaYsTsFw0AAAAAAQPHJQHIcx3Ec8bVAZmZmZngJxECKUIQilPy7QKalpaUljsFAHESP78IroUBsB+baobS+QNwKxa1QRMRAKSborlLvukD+oqE2sUvDQKf9ZAlsFbdASzlRkFm8xEDvOqAb8w6/QHIcx3EcEqBAK7Lh+hCTxkAAAAAALFvCQCIiIiJi4NNA+XQvxyqJz0A+laU45GfXQF9Cewmtyr5AeedvcVpNsEDC05CtUbK7QKDwpxDqKsFA+fJzXjcVwUAAAAAAVcjBQIp/HiNyu8BAD+qgDioApUBln0NqggmPQDo1D3LXzbRA6aKLLrrqoEC79deBxje/QI5x9Cn7esJAB1Pks27hq0A/TFeFmmLJQNEi2/n+ycFAg7eIzeBWukAGgZVDCzbQQIU9YU/Y1bVAhl7ohT7ew0C3bdu27ZCxQCnOdYzi9qtAxB1xR1ylxUA=\"},\"shape\":[100],\"dtype\":\"float64\",\"order\":\"little\"}],[\"cached_count\",{\"type\":\"ndarray\",\"array\":{\"type\":\"bytes\",\"data\":\"uQAAAAgGAACDAAAArgAAAFQCAACRAAAAsAAAALAAAABOAQAAlwAAAHkBAACAAQAAzQAAAF4CAACyAAAA0AMAAGkDAABZAQAAIwIAADACAACSAAAALhcAAHEAAADaAAAAbwAAALMAAACoAQAAZwUAANwCAAChAAAALwEAABsBAADBAAAAIwIAAHAAAAC/CwAAbwAAAJkAAACXAAAA/QEAAIkAAACrBAAAZAIAADQCAACqAQAALwMAAN4CAABnAAAABwkAAKgAAABqAAAAYwIAAJYcAACFAAAA8wcAACUBAADLAgAAKQIAAJgAAABxAAAATQYAAGwBAACmAgAAbwAAAAUFAADGAAAAtAAAAIECAAB2AAAAjgEAALgAAABvAAAAFg4AAIAAAAB/AAAAgQEAABoBAACSAAAAYQEAANYTAABSXwAAkAEAAB8BAABZAwAAGwEAAHMAAABnAAAAjAAAAOglAADFEgAAMQEAAEgIAACAAAAAHwEAAIIAAABwDQAADAEAAHAAAACNAAAApAAAAA==\"},\"shape\":[100],\"dtype\":\"int32\",\"order\":\"little\"}],[\"name\",{\"type\":\"ndarray\",\"array\":[\"Mansfield Park - Jane Austen\",\"Yu-Gi-Oh! 5D's\",\"Nine Inch Nails (Band)\",\"Atomic Blonde (2017)\",\"Titans (Comics)\",\"Total Nonstop Action Wrestling\",\"Final Fantasy I\",\"Oz (1997)\",\"Dorohedoro\",\"Marvel Comics\",\"Marilyn Manson (Band)\",\"Yu-Gi-Oh\",\"Sherlock (BBC)\",\"The Mummy (1999)\",\"The Batman (Cartoon)\",\"Spooks | MI-5\",\"Cricket RPF\",\"seaQuest\",\"Dawson's Creek\",\"Jak and Daxter\",\"\\u8be1\\u79d8\\u4e4b\\u4e3b\",\"Battlestar Galactica (2003)\",\"Defenders\",\"Purple Hyacinth (Webcomic)\",\"Alien (1979)\",\"Brave Police J-Decker\",\"Wreck-It Ralph (2012)\",\"Bloodborne (Video Game)\",\"My Little Pony: Equestria Girls\",\"War Horse (2011)\",\"Quotidien (TV) RPF\",\"Gerard Way and the Hormones\",\"Despicable Me (Movies)\",\"The Grand Tour (TV) RPF\",\"ywy\",\"Killing Eve (TV 2018)\",\"Hunlay - Fandom\",\"Stardust (2007)\",\"Teen Titans Go!\",\"DCU Animated\",\"ArkNights\",\"Community\",\"Mozart l'Op\\u00e9ra Rock - Mozart/Baguian & Guirao\",\"The King's Avatar\",\"Tinker Tailor Soldier Spy (2011)\",\"\\u6731\\u4e00\\u9f99\\u6c34\\u4ed9\",\"Crooked Media RPF\",\"Fallout 76\",\"Dropped\",\"Spacedogs - Fandom\",\"actuallyoddplan\",\"DuckTales\",\"Twilight Series - All Media Types\",\"We Are The Tigers - Allen\",\"Dr. STONE (Anime)\",\"Dark (TV 2017)\",\"Chinese Comedian RPF\",\"Ai no Kusabi\",\"dr.stone\",\"Buffy: The Vampire Slayer\",\"Cardcaptor Sakura\",\"Hellblazer & Related Fandoms\",\"Motherland: Fort Salem (TV)\",\"Gunnerkrigg Court\",\"Super Sons (Comics)\",\"\\u68cb\\u9b42 | Hikaru no Go (Live Action TV)\",\"WALL-E (2008)\",\"The Society (TV 2019)\",\"SOMA (Video Game)\",\"Harry Potter RPF\",\"Nine Percent\",\"Code Black\",\"Teen Titans (Animated Series)\",\"The Music Man - All Media Types\",\"Kingdom\",\"olicity - Fandom\",\"Predator Original Series (1987-1990)\",\"Other - Fandom\",\"\\u5b87\\u9f99\",\"My Hero Academia\",\"Supernatural RPF\",\"Runaways (Comics)\",\"Hobbs & Shaw (2019)\",\"\\u82f1\\u96c4\\u4f1d\\u8aac \\u9583\\u306e\\u8ecc\\u8de1 | Sen no Kiseki | The Legend of Heroes: Trails of Cold Steel (Video Games)\",\"Shin Megami Tensei: Digital Devil Saga\",\"nonfandom\",\"Danish Actor RPF\",\"Kindergarten (Video Games 2017 2019)\",\"Actor RPF\",\"Soul Eater\",\"The Technomancer (Video Game)\",\"Loki - Fandom\",\"A Nightmare on Elm Street (2010)\",\"Motionless in White (Band)\",\"Teenage Mutant Ninja Turtles (IDW Comics)\",\"\\u5168\\u804c\\u9ad8\\u624b | The King's Avatar (Cartoon)\",\"Crash Bandicoot (Video Games)\",\"Black Survival (Video Game)\",\"The Maze Runner RPF\",\"tian guan ci fu\"],\"shape\":[100],\"dtype\":\"object\",\"order\":\"little\"}]]}}},\"view\":{\"type\":\"object\",\"name\":\"CDSView\",\"id\":\"p2407\",\"attributes\":{\"filter\":{\"type\":\"object\",\"name\":\"AllIndices\",\"id\":\"p2408\"}}},\"glyph\":{\"type\":\"object\",\"name\":\"Scatter\",\"id\":\"p2403\",\"attributes\":{\"x\":{\"type\":\"field\",\"field\":\"cached_count\"},\"y\":{\"type\":\"field\",\"field\":\"average_word_count\"},\"size\":{\"type\":\"value\",\"value\":10},\"line_color\":{\"type\":\"value\",\"value\":\"#18323d\"},\"fill_color\":{\"type\":\"value\",\"value\":\"#18323d\"},\"fill_alpha\":{\"type\":\"value\",\"value\":0.5}}},\"nonselection_glyph\":{\"type\":\"object\",\"name\":\"Scatter\",\"id\":\"p2404\",\"attributes\":{\"x\":{\"type\":\"field\",\"field\":\"cached_count\"},\"y\":{\"type\":\"field\",\"field\":\"average_word_count\"},\"size\":{\"type\":\"value\",\"value\":10},\"line_color\":{\"type\":\"value\",\"value\":\"#18323d\"},\"line_alpha\":{\"type\":\"value\",\"value\":0.1},\"fill_color\":{\"type\":\"value\",\"value\":\"#18323d\"},\"fill_alpha\":{\"type\":\"value\",\"value\":0.1},\"hatch_alpha\":{\"type\":\"value\",\"value\":0.1}}},\"muted_glyph\":{\"type\":\"object\",\"name\":\"Scatter\",\"id\":\"p2405\",\"attributes\":{\"x\":{\"type\":\"field\",\"field\":\"cached_count\"},\"y\":{\"type\":\"field\",\"field\":\"average_word_count\"},\"size\":{\"type\":\"value\",\"value\":10},\"line_color\":{\"type\":\"value\",\"value\":\"#18323d\"},\"line_alpha\":{\"type\":\"value\",\"value\":0.2},\"fill_color\":{\"type\":\"value\",\"value\":\"#18323d\"},\"fill_alpha\":{\"type\":\"value\",\"value\":0.2},\"hatch_alpha\":{\"type\":\"value\",\"value\":0.2}}}}}],\"toolbar\":{\"type\":\"object\",\"name\":\"Toolbar\",\"id\":\"p2382\",\"attributes\":{\"tools\":[{\"type\":\"object\",\"name\":\"PanTool\",\"id\":\"p2395\"},{\"type\":\"object\",\"name\":\"WheelZoomTool\",\"id\":\"p2396\",\"attributes\":{\"renderers\":\"auto\"}},{\"type\":\"object\",\"name\":\"SaveTool\",\"id\":\"p2397\"},{\"type\":\"object\",\"name\":\"ResetTool\",\"id\":\"p2398\"},{\"type\":\"object\",\"name\":\"TapTool\",\"id\":\"p2399\",\"attributes\":{\"renderers\":\"auto\"}},{\"type\":\"object\",\"name\":\"HoverTool\",\"id\":\"p2409\",\"attributes\":{\"renderers\":\"auto\",\"tooltips\":[[\"Fandom\",\"@name\"],[\"#Fics\",\"@cached_count\"],[\"Avg Word Count\",\"@average_word_count\"]]}}],\"active_scroll\":{\"id\":\"p2396\"}}},\"left\":[{\"type\":\"object\",\"name\":\"LinearAxis\",\"id\":\"p2390\",\"attributes\":{\"ticker\":{\"type\":\"object\",\"name\":\"BasicTicker\",\"id\":\"p2391\",\"attributes\":{\"mantissas\":[1,2,5]}},\"formatter\":{\"type\":\"object\",\"name\":\"BasicTickFormatter\",\"id\":\"p2392\"},\"axis_label\":\"Average Word Count\",\"major_label_policy\":{\"type\":\"object\",\"name\":\"AllLabels\",\"id\":\"p2393\"}}}],\"below\":[{\"type\":\"object\",\"name\":\"LinearAxis\",\"id\":\"p2385\",\"attributes\":{\"ticker\":{\"type\":\"object\",\"name\":\"BasicTicker\",\"id\":\"p2386\",\"attributes\":{\"mantissas\":[1,2,5]}},\"formatter\":{\"type\":\"object\",\"name\":\"BasicTickFormatter\",\"id\":\"p2387\"},\"axis_label\":\"Number of Fics on AO3\",\"major_label_policy\":{\"type\":\"object\",\"name\":\"AllLabels\",\"id\":\"p2388\"}}}],\"center\":[{\"type\":\"object\",\"name\":\"Grid\",\"id\":\"p2389\",\"attributes\":{\"axis\":{\"id\":\"p2385\"}}},{\"type\":\"object\",\"name\":\"Grid\",\"id\":\"p2394\",\"attributes\":{\"dimension\":1,\"axis\":{\"id\":\"p2390\"}}}]}}]}};\n  const render_items = [{\"docid\":\"401c4691-1568-4f98-bde4-efb7c50a629d\",\"roots\":{\"p2374\":\"b99d49d9-cd16-4cab-ae4e-19e268cb32dd\"},\"root_ids\":[\"p2374\"]}];\n  void root.Bokeh.embed.embed_items_notebook(docs_json, render_items);\n  }\n  if (root.Bokeh !== undefined) {\n    embed_document(root);\n  } else {\n    let attempts = 0;\n    const timer = setInterval(function(root) {\n      if (root.Bokeh !== undefined) {\n        clearInterval(timer);\n        embed_document(root);\n      } else {\n        attempts++;\n        if (attempts > 100) {\n          clearInterval(timer);\n          console.log(\"Bokeh: ERROR: Unable to run BokehJS code because BokehJS library is missing\");\n        }\n      }\n    }, 10, root)\n  }\n})(window);",
      "application/vnd.bokehjs_exec.v0+json": ""
     },
     "metadata": {
      "application/vnd.bokehjs_exec.v0+json": {
       "id": "p2374"
      }
     },
     "output_type": "display_data"
    }
   ],
   "source": [
    "sample_df_min = word_cache_counts_min.sample(sample_size)\n",
    "source_min = ColumnDataSource(sample_df_min)\n",
    "\n",
    "p = figure(\n",
    "    tools=\"pan,wheel_zoom,save,reset, tap\", active_scroll='wheel_zoom',\n",
    "    width=800, height=800\n",
    ")\n",
    "p.scatter(x=\"cached_count\", y='average_word_count', \n",
    "         source = source_min,\n",
    "         size=10, fill_color='#18323d', line_color = '#18323d', fill_alpha=0.5)\n",
    "\n",
    "p.title.text = \"Scatterplot of Average Word Count and Cached Count of \"+str(sample_size)+\" Fandoms (min \"+str(min_fics)+\" fics)\"\n",
    "p.xaxis.axis_label = 'Number of Fics on AO3'\n",
    "p.yaxis.axis_label = 'Average Word Count'\n",
    "\n",
    "hover = HoverTool()\n",
    "hover.tooltips=[\n",
    "    ('Fandom', '@name'),\n",
    "    ('#Fics', '@cached_count'),\n",
    "    ('Avg Word Count', '@average_word_count')\n",
    "]\n",
    "p.add_tools(hover)\n",
    "\n",
    "show(p)"
   ]
  },
  {
   "cell_type": "code",
   "execution_count": null,
   "metadata": {},
   "outputs": [],
   "source": []
  }
 ],
 "metadata": {
  "kernelspec": {
   "display_name": "Python 3",
   "language": "python",
   "name": "python3"
  },
  "language_info": {
   "codemirror_mode": {
    "name": "ipython",
    "version": 3
   },
   "file_extension": ".py",
   "mimetype": "text/x-python",
   "name": "python",
   "nbconvert_exporter": "python",
   "pygments_lexer": "ipython3",
   "version": "3.11.9"
  }
 },
 "nbformat": 4,
 "nbformat_minor": 2
}
